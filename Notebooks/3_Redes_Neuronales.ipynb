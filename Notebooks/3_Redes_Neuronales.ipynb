{
 "cells": [
  {
   "cell_type": "markdown",
   "metadata": {
    "id": "LgmwlCjnHzlV"
   },
   "source": [
    "# Redes Neuronales Artificiales\n",
    "\n"
   ]
  },
  {
   "cell_type": "code",
   "execution_count": 5,
   "metadata": {
    "executionInfo": {
     "elapsed": 4984,
     "status": "ok",
     "timestamp": 1696859144220,
     "user": {
      "displayName": "Fernán Agüero",
      "userId": "05031512799194115181"
     },
     "user_tz": 180
    },
    "id": "kedM1-rp-x__",
    "tags": []
   },
   "outputs": [],
   "source": [
    "import numpy as np\n",
    "from matplotlib import pyplot as plt\n",
    "\n",
    "# Nuestra estrella aquí es el TensorFlow\n",
    "import tensorflow as tf\n",
    "from tensorflow import keras\n",
    "from keras import layers, Model, Input\n"
   ]
  },
  {
   "cell_type": "code",
   "execution_count": 6,
   "metadata": {
    "colab": {
     "base_uri": "https://localhost:8080/"
    },
    "executionInfo": {
     "elapsed": 315,
     "status": "ok",
     "timestamp": 1696859606834,
     "user": {
      "displayName": "Fernán Agüero",
      "userId": "05031512799194115181"
     },
     "user_tz": 180
    },
    "id": "zsN2O79wsyFx",
    "outputId": "f13e64bf-e9fe-4eed-d73b-d0e172bba405",
    "tags": []
   },
   "outputs": [
    {
     "name": "stdout",
     "output_type": "stream",
     "text": [
      "2.10.0\n",
      "[PhysicalDevice(name='/physical_device:CPU:0', device_type='CPU'), PhysicalDevice(name='/physical_device:GPU:0', device_type='GPU')]\n"
     ]
    }
   ],
   "source": [
    "print(tf.__version__)\n",
    "print(tf.config.list_physical_devices())"
   ]
  },
  {
   "cell_type": "markdown",
   "metadata": {
    "id": "xzbk2jupsyFz"
   },
   "source": [
    "Vamos a explorar algunos usos básicos del paquete `keras` para construir y entrenar RNAs.\n",
    "\n",
    "Hay diferentes formas en las que `keras` puede construir modelos de RNA. En particular, veremos las APIs Secuencial y Funcional. Para las redes feed-forward totalmente conectadas, la API Secuencial es probablemente la más directa."
   ]
  },
  {
   "cell_type": "markdown",
   "metadata": {
    "id": "lOZl_hWlsyF0"
   },
   "source": [
    "## Redes neuronales como aproximadores"
   ]
  },
  {
   "cell_type": "markdown",
   "metadata": {
    "id": "CNCPH9ZOsyF0"
   },
   "source": [
    "Construiremos un modelo para realizar la sencilla tarea de aproximar una función real 1-D."
   ]
  },
  {
   "cell_type": "markdown",
   "metadata": {
    "id": "k9SmZQSxsyF0"
   },
   "source": [
    "### API secuencial y API funcional\n",
    "\n",
    "Keras ofrece dos estilos principales de API para construir modelos de aprendizaje profundo: la API Funcional y la API Secuencial. Ambas son útiles dependiendo de las necesidades del modelo y su complejidad.\n",
    "\n",
    "#### API secuencial\n",
    "\n",
    "La API Secuencial es la forma más simple de construir un modelo en Keras, las capas se apilan una tras otra  formando un flujo directo de entrada a salida. Por ejemplo:"
   ]
  },
  {
   "cell_type": "code",
   "execution_count": 8,
   "metadata": {
    "executionInfo": {
     "elapsed": 304,
     "status": "ok",
     "timestamp": 1696859628373,
     "user": {
      "displayName": "Fernán Agüero",
      "userId": "05031512799194115181"
     },
     "user_tz": 180
    },
    "id": "LknHQn1T-1W4",
    "tags": []
   },
   "outputs": [],
   "source": [
    "# Instancia modelo\n",
    "model_secu = keras.models.Sequential()\n",
    "\n",
    "# Usa el método add para añadir una capa de entrada (que también es una clase de keras)\n",
    "# En este caso la entrada es un único valor, pero siempre recibe una tupla\n",
    "model_secu.add(keras.layers.InputLayer(input_shape=(1,)))\n",
    "\n",
    "# Añade dos capas ocultas totalmente conectadas (también llamadas densas)\n",
    "# Se puede cambiar la función de activación\n",
    "model_secu.add(keras.layers.Dense(5, activation='tanh'))\n",
    "model_secu.add(keras.layers.Dense(4, activation='tanh'))\n",
    "\n",
    "# Añade la capa de salida. Como se trata de un problema de regresión, elegimos la activación lineal\n",
    "model_secu.add(keras.layers.Dense(1, activation='linear'))"
   ]
  },
  {
   "cell_type": "markdown",
   "metadata": {},
   "source": [
    "#### API funcional\n",
    "\n",
    "La API Funcional es más flexible y se utiliza para construir modelos complejos, como:\n",
    "\n",
    "- Modelos con múltiples entradas o salidas.\n",
    "- Redes con bifurcaciones.\n",
    "- Redes con capas compartidas.\n",
    "\n",
    "El modelo se define como un grafo de capas, en lugar de una simple secuencia. Esto permite personalizar completamente el flujo de datos entre las capas, por ejemplo:"
   ]
  },
  {
   "cell_type": "code",
   "execution_count": 14,
   "metadata": {
    "tags": []
   },
   "outputs": [],
   "source": [
    "# Definir la capa de entrada\n",
    "inputs = Input(shape=(1,))  # Capa de entrada con un único valor como entrada\n",
    "\n",
    "# Primera capa oculta\n",
    "x = layers.Dense(5, activation='tanh')(inputs)\n",
    "\n",
    "# Bifurcación \n",
    "branch_1 = layers.Dense(4, activation='relu')(x)  # Rama 1\n",
    "branch_2 = layers.Dense(4, activation='tanh')(x)  # Rama 2\n",
    "\n",
    "# Concatenación\n",
    "merged = layers.Concatenate()([branch_1, branch_2])\n",
    "\n",
    "final_hidden = layers.Dense(3, activation='relu')(merged)\n",
    "\n",
    "# Capa de salida\n",
    "outputs = layers.Dense(1, activation='linear')(final_hidden)\n",
    "\n",
    "# Crear el modelo\n",
    "model_func = Model(inputs=inputs, outputs=outputs)"
   ]
  },
  {
   "cell_type": "markdown",
   "metadata": {
    "id": "TKNPv3cvsyF1"
   },
   "source": [
    "### Instanciando el modelo\n",
    "Una vez que creamos el modelo (con cualquiera de las API) podemos ver algunas detalles usando el método `summary`."
   ]
  },
  {
   "cell_type": "code",
   "execution_count": 19,
   "metadata": {
    "colab": {
     "base_uri": "https://localhost:8080/"
    },
    "executionInfo": {
     "elapsed": 318,
     "status": "ok",
     "timestamp": 1696859640354,
     "user": {
      "displayName": "Fernán Agüero",
      "userId": "05031512799194115181"
     },
     "user_tz": 180
    },
    "id": "gnstVI2e_pIS",
    "outputId": "a0c1a1cd-3b49-4c2f-e78a-ff093d613fef",
    "tags": []
   },
   "outputs": [
    {
     "name": "stdout",
     "output_type": "stream",
     "text": [
      "Model: \"sequential_1\"\n",
      "_________________________________________________________________\n",
      " Layer (type)                Output Shape              Param #   \n",
      "=================================================================\n",
      " dense (Dense)               (None, 5)                 10        \n",
      "                                                                 \n",
      " dense_1 (Dense)             (None, 4)                 24        \n",
      "                                                                 \n",
      " dense_2 (Dense)             (None, 1)                 5         \n",
      "                                                                 \n",
      "=================================================================\n",
      "Total params: 39\n",
      "Trainable params: 39\n",
      "Non-trainable params: 0\n",
      "_________________________________________________________________\n"
     ]
    }
   ],
   "source": [
    "# El None en el \"Output Shape\" representa el tamaño del lote, a esta altura todavia no está definido en el modelo\n",
    "model_secu.summary()\n",
    "#model_func.summary()"
   ]
  },
  {
   "cell_type": "code",
   "execution_count": 21,
   "metadata": {
    "colab": {
     "base_uri": "https://localhost:8080/",
     "height": 422
    },
    "executionInfo": {
     "elapsed": 426,
     "status": "ok",
     "timestamp": 1696859645470,
     "user": {
      "displayName": "Fernán Agüero",
      "userId": "05031512799194115181"
     },
     "user_tz": 180
    },
    "id": "tRUopt6w_qc9",
    "outputId": "019ccf9b-9289-4035-e3f2-261c00c5d7bc",
    "tags": []
   },
   "outputs": [
    {
     "data": {
      "image/png": "[encoded data removed]",
      "text/plain": [
       "<IPython.core.display.Image object>"
      ]
     },
     "execution_count": 21,
     "metadata": {},
     "output_type": "execute_result"
    }
   ],
   "source": [
    "keras.utils.plot_model(model_secu, show_shapes=True)\n",
    "#keras.utils.plot_model(model_func, show_shapes=True)"
   ]
  },
  {
   "cell_type": "markdown",
   "metadata": {
    "id": "S-Zi2kWjsyF2"
   },
   "source": [
    "### Compilación"
   ]
  },
  {
   "cell_type": "markdown",
   "metadata": {
    "id": "FmjtRBaUsyF2"
   },
   "source": [
    "Una vez que el modelo es instanciado y definido, necesitamos \"Compilarlo\" antes de poder utilizarlo. En el paso de compilación, Keras creará el gráfico computacional del modelo en TensorFlow. En este paso, definimos todas las demás piezas importantes de nuestro modelo:\n",
    "\n",
    "* La **función de pérdida**, que la retropropagación tratará de minimizar (por ejemplo, MSE)\n",
    "* El **optimizador** que utilizaremos para minimizar la pérdida (por ejemplo, SGD)\n",
    "* Las **métricas** que querremos seguir a lo largo del entrenamiento"
   ]
  },
  {
   "cell_type": "code",
   "execution_count": 22,
   "metadata": {
    "executionInfo": {
     "elapsed": 406,
     "status": "ok",
     "timestamp": 1696860894804,
     "user": {
      "displayName": "Fernán Agüero",
      "userId": "05031512799194115181"
     },
     "user_tz": 180
    },
    "id": "ahC-JpkYAkK1",
    "tags": []
   },
   "outputs": [],
   "source": [
    "model_secu.compile(loss='mean_squared_error', \n",
    "               optimizer=keras.optimizers.SGD(learning_rate=0.1),\n",
    "               metrics=[\"mse\"])"
   ]
  },
  {
   "cell_type": "markdown",
   "metadata": {
    "id": "tP0dZ_eHsyF2"
   },
   "source": [
    "### Preparación de los datos"
   ]
  },
  {
   "cell_type": "markdown",
   "metadata": {
    "id": "1bLn7Pr7syF3"
   },
   "source": [
    "Pongamos a prueba nuestro modelo con una función sencilla."
   ]
  },
  {
   "cell_type": "code",
   "execution_count": 23,
   "metadata": {
    "colab": {
     "base_uri": "https://localhost:8080/",
     "height": 447
    },
    "executionInfo": {
     "elapsed": 588,
     "status": "ok",
     "timestamp": 1696860902859,
     "user": {
      "displayName": "Fernán Agüero",
      "userId": "05031512799194115181"
     },
     "user_tz": 180
    },
    "id": "534XPA2x_sCi",
    "outputId": "7b918c1a-db58-4c7c-a226-91a4bdcb885d",
    "tags": []
   },
   "outputs": [
    {
     "data": {
      "image/png": "[encoded data removed]",
      "text/plain": [
       "<Figure size 432x288 with 1 Axes>"
      ]
     },
     "metadata": {
      "needs_background": "light"
     },
     "output_type": "display_data"
    }
   ],
   "source": [
    "x = np.linspace(-1, 1, 100)\n",
    "\n",
    "# Modulo\n",
    "t = np.abs(x)\n",
    "\n",
    "# Heavyside\n",
    "# t = np.where(x > 0, 1, 0)\n",
    "\n",
    "plt.plot(x, t, '.')\n",
    "plt.show()"
   ]
  },
  {
   "cell_type": "markdown",
   "metadata": {
    "id": "oS3QR_8LsyF3"
   },
   "source": [
    "### Entrenamiento"
   ]
  },
  {
   "cell_type": "markdown",
   "metadata": {
    "id": "7a0osHO_syF3"
   },
   "source": [
    "Ahora estamos listos para ajustar el modelo.\n",
    "\n",
    "En su forma más simple, el método `fit` toma el vector de entrada `x` (aquí 1-d) y la etiqueta `t` (aquí 1-d). También necesita un número de `epochs` o pasos a realizar en la dirección del gradiente.\n",
    "\n",
    "**N.B.** De hecho, este es el número de veces que se evalúa el gradiente utilizando todos los puntos de datos, pero el Descenso Gradiente Estocástico realmente actualiza el vector de parámetros para cada lote (*batch*) de datos. Su tamaño también se puede proporcionar como un argumento para el método `fit`."
   ]
  },
  {
   "cell_type": "code",
   "execution_count": 24,
   "metadata": {
    "colab": {
     "base_uri": "https://localhost:8080/"
    },
    "executionInfo": {
     "elapsed": 11294,
     "status": "ok",
     "timestamp": 1696860917536,
     "user": {
      "displayName": "Fernán Agüero",
      "userId": "05031512799194115181"
     },
     "user_tz": 180
    },
    "id": "4Gskgy3NAzE-",
    "outputId": "ad7a944c-597f-4b24-a813-c381f23810d3",
    "tags": []
   },
   "outputs": [
    {
     "name": "stdout",
     "output_type": "stream",
     "text": [
      "Epoch 1/250\n",
      "4/4 [==============================] - 1s 3ms/step - loss: 0.1875 - mse: 0.1875\n",
      "Epoch 2/250\n",
      "4/4 [==============================] - 0s 4ms/step - loss: 0.0935 - mse: 0.0935\n",
      "Epoch 3/250\n",
      "4/4 [==============================] - 0s 2ms/step - loss: 0.0925 - mse: 0.0925\n",
      "Epoch 4/250\n",
      "4/4 [==============================] - 0s 4ms/step - loss: 0.0969 - mse: 0.0969\n",
      "Epoch 5/250\n",
      "4/4 [==============================] - 0s 4ms/step - loss: 0.0914 - mse: 0.0914\n",
      "Epoch 6/250\n",
      "4/4 [==============================] - 0s 3ms/step - loss: 0.0913 - mse: 0.0913\n",
      "Epoch 7/250\n",
      "4/4 [==============================] - 0s 3ms/step - loss: 0.0907 - mse: 0.0907\n",
      "Epoch 8/250\n",
      "4/4 [==============================] - 0s 3ms/step - loss: 0.0905 - mse: 0.0905\n",
      "Epoch 9/250\n",
      "4/4 [==============================] - 0s 3ms/step - loss: 0.0894 - mse: 0.0894\n",
      "Epoch 10/250\n",
      "4/4 [==============================] - 0s 3ms/step - loss: 0.0920 - mse: 0.0920\n",
      "Epoch 11/250\n",
      "4/4 [==============================] - 0s 3ms/step - loss: 0.0902 - mse: 0.0902\n",
      "Epoch 12/250\n",
      "4/4 [==============================] - 0s 3ms/step - loss: 0.0929 - mse: 0.0929\n",
      "Epoch 13/250\n",
      "4/4 [==============================] - 0s 3ms/step - loss: 0.0882 - mse: 0.0882\n",
      "Epoch 14/250\n",
      "4/4 [==============================] - 0s 3ms/step - loss: 0.0878 - mse: 0.0878\n",
      "Epoch 15/250\n",
      "4/4 [==============================] - 0s 3ms/step - loss: 0.0867 - mse: 0.0867\n",
      "Epoch 16/250\n",
      "4/4 [==============================] - 0s 3ms/step - loss: 0.0869 - mse: 0.0869\n",
      "Epoch 17/250\n",
      "4/4 [==============================] - 0s 3ms/step - loss: 0.0872 - mse: 0.0872\n",
      "Epoch 18/250\n",
      "4/4 [==============================] - 0s 3ms/step - loss: 0.0865 - mse: 0.0865\n",
      "Epoch 19/250\n",
      "4/4 [==============================] - 0s 3ms/step - loss: 0.0897 - mse: 0.0897\n",
      "Epoch 20/250\n",
      "4/4 [==============================] - 0s 3ms/step - loss: 0.0851 - mse: 0.0851\n",
      "Epoch 21/250\n",
      "4/4 [==============================] - 0s 2ms/step - loss: 0.0873 - mse: 0.0873\n",
      "Epoch 22/250\n",
      "4/4 [==============================] - 0s 3ms/step - loss: 0.0847 - mse: 0.0847\n",
      "Epoch 23/250\n",
      "4/4 [==============================] - 0s 2ms/step - loss: 0.0847 - mse: 0.0847\n",
      "Epoch 24/250\n",
      "4/4 [==============================] - 0s 3ms/step - loss: 0.0859 - mse: 0.0859\n",
      "Epoch 25/250\n",
      "4/4 [==============================] - 0s 3ms/step - loss: 0.0847 - mse: 0.0847\n",
      "Epoch 26/250\n",
      "4/4 [==============================] - 0s 3ms/step - loss: 0.0835 - mse: 0.0835\n",
      "Epoch 27/250\n",
      "4/4 [==============================] - 0s 3ms/step - loss: 0.0853 - mse: 0.0853\n",
      "Epoch 28/250\n",
      "4/4 [==============================] - 0s 2ms/step - loss: 0.0836 - mse: 0.0836\n",
      "Epoch 29/250\n",
      "4/4 [==============================] - 0s 3ms/step - loss: 0.0828 - mse: 0.0828\n",
      "Epoch 30/250\n",
      "4/4 [==============================] - 0s 3ms/step - loss: 0.0828 - mse: 0.0828\n",
      "Epoch 31/250\n",
      "4/4 [==============================] - 0s 3ms/step - loss: 0.0821 - mse: 0.0821\n",
      "Epoch 32/250\n",
      "4/4 [==============================] - 0s 3ms/step - loss: 0.0818 - mse: 0.0818\n",
      "Epoch 33/250\n",
      "4/4 [==============================] - 0s 3ms/step - loss: 0.0817 - mse: 0.0817\n",
      "Epoch 34/250\n",
      "4/4 [==============================] - 0s 3ms/step - loss: 0.0806 - mse: 0.0806\n",
      "Epoch 35/250\n",
      "4/4 [==============================] - 0s 3ms/step - loss: 0.0805 - mse: 0.0805\n",
      "Epoch 36/250\n",
      "4/4 [==============================] - 0s 3ms/step - loss: 0.0810 - mse: 0.0810\n",
      "Epoch 37/250\n",
      "4/4 [==============================] - 0s 2ms/step - loss: 0.0788 - mse: 0.0788\n",
      "Epoch 38/250\n",
      "4/4 [==============================] - 0s 3ms/step - loss: 0.0772 - mse: 0.0772\n",
      "Epoch 39/250\n",
      "4/4 [==============================] - 0s 4ms/step - loss: 0.0775 - mse: 0.0775\n",
      "Epoch 40/250\n",
      "4/4 [==============================] - 0s 3ms/step - loss: 0.0763 - mse: 0.0763\n",
      "Epoch 41/250\n",
      "4/4 [==============================] - 0s 3ms/step - loss: 0.0753 - mse: 0.0753\n",
      "Epoch 42/250\n",
      "4/4 [==============================] - 0s 3ms/step - loss: 0.0757 - mse: 0.0757\n",
      "Epoch 43/250\n",
      "4/4 [==============================] - 0s 4ms/step - loss: 0.0729 - mse: 0.0729\n",
      "Epoch 44/250\n",
      "4/4 [==============================] - 0s 3ms/step - loss: 0.0748 - mse: 0.0748\n",
      "Epoch 45/250\n",
      "4/4 [==============================] - 0s 4ms/step - loss: 0.0695 - mse: 0.0695\n",
      "Epoch 46/250\n",
      "4/4 [==============================] - 0s 4ms/step - loss: 0.0700 - mse: 0.0700\n",
      "Epoch 47/250\n",
      "4/4 [==============================] - 0s 3ms/step - loss: 0.0673 - mse: 0.0673\n",
      "Epoch 48/250\n",
      "4/4 [==============================] - 0s 3ms/step - loss: 0.0662 - mse: 0.0662\n",
      "Epoch 49/250\n",
      "4/4 [==============================] - 0s 3ms/step - loss: 0.0646 - mse: 0.0646\n",
      "Epoch 50/250\n",
      "4/4 [==============================] - 0s 3ms/step - loss: 0.0630 - mse: 0.0630\n",
      "Epoch 51/250\n",
      "4/4 [==============================] - 0s 3ms/step - loss: 0.0620 - mse: 0.0620\n",
      "Epoch 52/250\n",
      "4/4 [==============================] - 0s 3ms/step - loss: 0.0602 - mse: 0.0602\n",
      "Epoch 53/250\n",
      "4/4 [==============================] - 0s 2ms/step - loss: 0.0622 - mse: 0.0622\n",
      "Epoch 54/250\n",
      "4/4 [==============================] - 0s 2ms/step - loss: 0.0561 - mse: 0.0561\n",
      "Epoch 55/250\n",
      "4/4 [==============================] - 0s 3ms/step - loss: 0.0554 - mse: 0.0554\n",
      "Epoch 56/250\n",
      "4/4 [==============================] - 0s 3ms/step - loss: 0.0543 - mse: 0.0543\n",
      "Epoch 57/250\n",
      "4/4 [==============================] - 0s 3ms/step - loss: 0.0520 - mse: 0.0520\n",
      "Epoch 58/250\n",
      "4/4 [==============================] - 0s 3ms/step - loss: 0.0497 - mse: 0.0497\n",
      "Epoch 59/250\n",
      "4/4 [==============================] - 0s 3ms/step - loss: 0.0489 - mse: 0.0489\n",
      "Epoch 60/250\n",
      "4/4 [==============================] - 0s 3ms/step - loss: 0.0446 - mse: 0.0446\n",
      "Epoch 61/250\n",
      "4/4 [==============================] - 0s 3ms/step - loss: 0.0496 - mse: 0.0496\n",
      "Epoch 62/250\n",
      "4/4 [==============================] - 0s 3ms/step - loss: 0.0405 - mse: 0.0405\n",
      "Epoch 63/250\n",
      "4/4 [==============================] - 0s 3ms/step - loss: 0.0404 - mse: 0.0404\n",
      "Epoch 64/250\n",
      "4/4 [==============================] - 0s 2ms/step - loss: 0.0367 - mse: 0.0367\n",
      "Epoch 65/250\n",
      "4/4 [==============================] - 0s 3ms/step - loss: 0.0354 - mse: 0.0354\n",
      "Epoch 66/250\n",
      "4/4 [==============================] - 0s 2ms/step - loss: 0.0344 - mse: 0.0344\n",
      "Epoch 67/250\n",
      "4/4 [==============================] - 0s 3ms/step - loss: 0.0307 - mse: 0.0307\n",
      "Epoch 68/250\n",
      "4/4 [==============================] - 0s 3ms/step - loss: 0.0298 - mse: 0.0298\n",
      "Epoch 69/250\n",
      "4/4 [==============================] - 0s 3ms/step - loss: 0.0278 - mse: 0.0278\n",
      "Epoch 70/250\n",
      "4/4 [==============================] - 0s 3ms/step - loss: 0.0252 - mse: 0.0252\n",
      "Epoch 71/250\n",
      "4/4 [==============================] - 0s 3ms/step - loss: 0.0235 - mse: 0.0235\n",
      "Epoch 72/250\n",
      "4/4 [==============================] - 0s 3ms/step - loss: 0.0217 - mse: 0.0217\n",
      "Epoch 73/250\n",
      "4/4 [==============================] - 0s 3ms/step - loss: 0.0203 - mse: 0.0203\n",
      "Epoch 74/250\n",
      "4/4 [==============================] - 0s 3ms/step - loss: 0.0184 - mse: 0.0184\n",
      "Epoch 75/250\n",
      "4/4 [==============================] - 0s 2ms/step - loss: 0.0177 - mse: 0.0177\n",
      "Epoch 76/250\n",
      "4/4 [==============================] - 0s 2ms/step - loss: 0.0155 - mse: 0.0155\n",
      "Epoch 77/250\n",
      "4/4 [==============================] - 0s 3ms/step - loss: 0.0151 - mse: 0.0151\n",
      "Epoch 78/250\n",
      "4/4 [==============================] - 0s 3ms/step - loss: 0.0130 - mse: 0.0130\n",
      "Epoch 79/250\n",
      "4/4 [==============================] - 0s 3ms/step - loss: 0.0117 - mse: 0.0117\n",
      "Epoch 80/250\n",
      "4/4 [==============================] - 0s 3ms/step - loss: 0.0110 - mse: 0.0110\n",
      "Epoch 81/250\n",
      "4/4 [==============================] - 0s 3ms/step - loss: 0.0095 - mse: 0.0095\n",
      "Epoch 82/250\n",
      "4/4 [==============================] - 0s 3ms/step - loss: 0.0090 - mse: 0.0090\n",
      "Epoch 83/250\n",
      "4/4 [==============================] - 0s 4ms/step - loss: 0.0077 - mse: 0.0077\n",
      "Epoch 84/250\n",
      "4/4 [==============================] - 0s 4ms/step - loss: 0.0070 - mse: 0.0070\n",
      "Epoch 85/250\n",
      "4/4 [==============================] - 0s 4ms/step - loss: 0.0063 - mse: 0.0063\n",
      "Epoch 86/250\n",
      "4/4 [==============================] - 0s 3ms/step - loss: 0.0059 - mse: 0.0059\n",
      "Epoch 87/250\n",
      "4/4 [==============================] - 0s 3ms/step - loss: 0.0052 - mse: 0.0052\n",
      "Epoch 88/250\n",
      "4/4 [==============================] - 0s 3ms/step - loss: 0.0048 - mse: 0.0048\n",
      "Epoch 89/250\n",
      "4/4 [==============================] - 0s 3ms/step - loss: 0.0044 - mse: 0.0044\n",
      "Epoch 90/250\n",
      "4/4 [==============================] - 0s 3ms/step - loss: 0.0039 - mse: 0.0039\n",
      "Epoch 91/250\n",
      "4/4 [==============================] - 0s 3ms/step - loss: 0.0036 - mse: 0.0036\n",
      "Epoch 92/250\n",
      "4/4 [==============================] - 0s 4ms/step - loss: 0.0032 - mse: 0.0032\n",
      "Epoch 93/250\n",
      "4/4 [==============================] - 0s 2ms/step - loss: 0.0032 - mse: 0.0032\n",
      "Epoch 94/250\n",
      "4/4 [==============================] - 0s 2ms/step - loss: 0.0028 - mse: 0.0028\n",
      "Epoch 95/250\n",
      "4/4 [==============================] - 0s 2ms/step - loss: 0.0026 - mse: 0.0026\n",
      "Epoch 96/250\n",
      "4/4 [==============================] - 0s 3ms/step - loss: 0.0025 - mse: 0.0025\n",
      "Epoch 97/250\n",
      "4/4 [==============================] - 0s 2ms/step - loss: 0.0021 - mse: 0.0021\n",
      "Epoch 98/250\n",
      "4/4 [==============================] - 0s 3ms/step - loss: 0.0020 - mse: 0.0020\n",
      "Epoch 99/250\n",
      "4/4 [==============================] - 0s 2ms/step - loss: 0.0020 - mse: 0.0020\n",
      "Epoch 100/250\n",
      "4/4 [==============================] - 0s 2ms/step - loss: 0.0017 - mse: 0.0017\n",
      "Epoch 101/250\n",
      "4/4 [==============================] - 0s 2ms/step - loss: 0.0016 - mse: 0.0016\n",
      "Epoch 102/250\n",
      "4/4 [==============================] - 0s 3ms/step - loss: 0.0015 - mse: 0.0015\n",
      "Epoch 103/250\n",
      "4/4 [==============================] - 0s 3ms/step - loss: 0.0015 - mse: 0.0015\n",
      "Epoch 104/250\n",
      "4/4 [==============================] - 0s 3ms/step - loss: 0.0014 - mse: 0.0014\n",
      "Epoch 105/250\n",
      "4/4 [==============================] - 0s 2ms/step - loss: 0.0015 - mse: 0.0015    \n",
      "Epoch 106/250\n",
      "4/4 [==============================] - 0s 2ms/step - loss: 0.0013 - mse: 0.0013\n",
      "Epoch 107/250\n",
      "4/4 [==============================] - 0s 2ms/step - loss: 0.0012 - mse: 0.0012\n",
      "Epoch 108/250\n",
      "4/4 [==============================] - 0s 3ms/step - loss: 0.0012 - mse: 0.0012\n",
      "Epoch 109/250\n",
      "4/4 [==============================] - 0s 2ms/step - loss: 0.0011 - mse: 0.0011\n",
      "Epoch 110/250\n",
      "4/4 [==============================] - 0s 2ms/step - loss: 0.0011 - mse: 0.0011\n",
      "Epoch 111/250\n",
      "4/4 [==============================] - 0s 2ms/step - loss: 0.0011 - mse: 0.0011\n",
      "Epoch 112/250\n",
      "4/4 [==============================] - 0s 3ms/step - loss: 0.0011 - mse: 0.0011\n",
      "Epoch 113/250\n",
      "4/4 [==============================] - 0s 3ms/step - loss: 0.0011 - mse: 0.0011\n",
      "Epoch 114/250\n",
      "4/4 [==============================] - 0s 2ms/step - loss: 0.0011 - mse: 0.0011\n",
      "Epoch 115/250\n",
      "4/4 [==============================] - 0s 2ms/step - loss: 0.0011 - mse: 0.0011\n",
      "Epoch 116/250\n",
      "4/4 [==============================] - 0s 2ms/step - loss: 0.0010 - mse: 0.0010    \n",
      "Epoch 117/250\n",
      "4/4 [==============================] - 0s 3ms/step - loss: 0.0010 - mse: 0.0010    \n",
      "Epoch 118/250\n",
      "4/4 [==============================] - 0s 3ms/step - loss: 0.0011 - mse: 0.0011    \n",
      "Epoch 119/250\n",
      "4/4 [==============================] - 0s 3ms/step - loss: 9.5282e-04 - mse: 9.5282e-04\n",
      "Epoch 120/250\n",
      "4/4 [==============================] - 0s 3ms/step - loss: 9.6192e-04 - mse: 9.6192e-04\n",
      "Epoch 121/250\n",
      "4/4 [==============================] - 0s 3ms/step - loss: 0.0011 - mse: 0.0011    \n",
      "Epoch 122/250\n",
      "4/4 [==============================] - 0s 3ms/step - loss: 0.0010 - mse: 0.0010\n",
      "Epoch 123/250\n",
      "4/4 [==============================] - 0s 3ms/step - loss: 0.0011 - mse: 0.0011\n",
      "Epoch 124/250\n",
      "4/4 [==============================] - 0s 3ms/step - loss: 9.4063e-04 - mse: 9.4063e-04\n",
      "Epoch 125/250\n",
      "4/4 [==============================] - 0s 2ms/step - loss: 9.0479e-04 - mse: 9.0479e-04\n",
      "Epoch 126/250\n",
      "4/4 [==============================] - 0s 2ms/step - loss: 9.4066e-04 - mse: 9.4066e-04\n",
      "Epoch 127/250\n",
      "4/4 [==============================] - 0s 2ms/step - loss: 9.3120e-04 - mse: 9.3120e-04\n",
      "Epoch 128/250\n",
      "4/4 [==============================] - 0s 2ms/step - loss: 9.3549e-04 - mse: 9.3549e-04\n",
      "Epoch 129/250\n",
      "4/4 [==============================] - 0s 2ms/step - loss: 9.0755e-04 - mse: 9.0755e-04\n",
      "Epoch 130/250\n",
      "4/4 [==============================] - 0s 2ms/step - loss: 0.0010 - mse: 0.0010    \n",
      "Epoch 131/250\n",
      "4/4 [==============================] - 0s 2ms/step - loss: 8.8763e-04 - mse: 8.8763e-04\n",
      "Epoch 132/250\n",
      "4/4 [==============================] - 0s 3ms/step - loss: 9.7631e-04 - mse: 9.7631e-04\n",
      "Epoch 133/250\n",
      "4/4 [==============================] - 0s 3ms/step - loss: 9.0369e-04 - mse: 9.0369e-04\n",
      "Epoch 134/250\n",
      "4/4 [==============================] - 0s 4ms/step - loss: 9.4135e-04 - mse: 9.4135e-04\n",
      "Epoch 135/250\n",
      "4/4 [==============================] - 0s 3ms/step - loss: 8.7526e-04 - mse: 8.7526e-04\n",
      "Epoch 136/250\n",
      "4/4 [==============================] - 0s 3ms/step - loss: 8.9615e-04 - mse: 8.9615e-04\n",
      "Epoch 137/250\n",
      "4/4 [==============================] - 0s 2ms/step - loss: 8.8913e-04 - mse: 8.8913e-04\n",
      "Epoch 138/250\n",
      "4/4 [==============================] - 0s 2ms/step - loss: 9.1442e-04 - mse: 9.1442e-04\n",
      "Epoch 139/250\n",
      "4/4 [==============================] - 0s 2ms/step - loss: 9.5499e-04 - mse: 9.5499e-04\n",
      "Epoch 140/250\n",
      "4/4 [==============================] - 0s 3ms/step - loss: 9.5336e-04 - mse: 9.5336e-04\n",
      "Epoch 141/250\n",
      "4/4 [==============================] - 0s 3ms/step - loss: 8.6180e-04 - mse: 8.6180e-04\n",
      "Epoch 142/250\n",
      "4/4 [==============================] - 0s 2ms/step - loss: 9.3661e-04 - mse: 9.3661e-04\n",
      "Epoch 143/250\n",
      "4/4 [==============================] - 0s 3ms/step - loss: 8.9710e-04 - mse: 8.9710e-04\n",
      "Epoch 144/250\n",
      "4/4 [==============================] - 0s 2ms/step - loss: 8.6089e-04 - mse: 8.6089e-04\n",
      "Epoch 145/250\n",
      "4/4 [==============================] - 0s 2ms/step - loss: 8.8756e-04 - mse: 8.8756e-04\n",
      "Epoch 146/250\n",
      "4/4 [==============================] - 0s 3ms/step - loss: 9.2549e-04 - mse: 9.2549e-04\n",
      "Epoch 147/250\n",
      "4/4 [==============================] - 0s 3ms/step - loss: 9.4803e-04 - mse: 9.4803e-04\n",
      "Epoch 148/250\n",
      "4/4 [==============================] - 0s 4ms/step - loss: 8.5671e-04 - mse: 8.5671e-04\n",
      "Epoch 149/250\n",
      "4/4 [==============================] - 0s 3ms/step - loss: 8.5605e-04 - mse: 8.5605e-04\n",
      "Epoch 150/250\n",
      "4/4 [==============================] - 0s 3ms/step - loss: 9.0426e-04 - mse: 9.0426e-04\n",
      "Epoch 151/250\n",
      "4/4 [==============================] - 0s 2ms/step - loss: 8.6287e-04 - mse: 8.6287e-04\n",
      "Epoch 152/250\n",
      "4/4 [==============================] - 0s 3ms/step - loss: 9.3219e-04 - mse: 9.3219e-04\n",
      "Epoch 153/250\n",
      "4/4 [==============================] - 0s 2ms/step - loss: 8.6365e-04 - mse: 8.6365e-04\n",
      "Epoch 154/250\n",
      "4/4 [==============================] - 0s 3ms/step - loss: 8.6169e-04 - mse: 8.6169e-04\n",
      "Epoch 155/250\n",
      "4/4 [==============================] - 0s 2ms/step - loss: 9.1014e-04 - mse: 9.1014e-04\n",
      "Epoch 156/250\n",
      "4/4 [==============================] - 0s 2ms/step - loss: 9.2922e-04 - mse: 9.2922e-04\n",
      "Epoch 157/250\n",
      "4/4 [==============================] - 0s 2ms/step - loss: 8.5119e-04 - mse: 8.5119e-04\n",
      "Epoch 158/250\n",
      "4/4 [==============================] - 0s 2ms/step - loss: 8.6362e-04 - mse: 8.6362e-04\n",
      "Epoch 159/250\n",
      "4/4 [==============================] - 0s 2ms/step - loss: 8.6939e-04 - mse: 8.6939e-04\n",
      "Epoch 160/250\n",
      "4/4 [==============================] - 0s 3ms/step - loss: 9.0032e-04 - mse: 9.0032e-04\n",
      "Epoch 161/250\n",
      "4/4 [==============================] - 0s 3ms/step - loss: 9.4081e-04 - mse: 9.4081e-04\n",
      "Epoch 162/250\n",
      "4/4 [==============================] - 0s 3ms/step - loss: 8.4875e-04 - mse: 8.4875e-04\n",
      "Epoch 163/250\n",
      "4/4 [==============================] - 0s 3ms/step - loss: 8.6960e-04 - mse: 8.6960e-04\n",
      "Epoch 164/250\n",
      "4/4 [==============================] - 0s 3ms/step - loss: 8.6341e-04 - mse: 8.6341e-04\n",
      "Epoch 165/250\n",
      "4/4 [==============================] - 0s 3ms/step - loss: 8.6042e-04 - mse: 8.6042e-04\n",
      "Epoch 166/250\n",
      "4/4 [==============================] - 0s 3ms/step - loss: 9.2619e-04 - mse: 9.2619e-04\n",
      "Epoch 167/250\n",
      "4/4 [==============================] - 0s 2ms/step - loss: 0.0012 - mse: 0.0012    \n",
      "Epoch 168/250\n",
      "4/4 [==============================] - 0s 2ms/step - loss: 9.4233e-04 - mse: 9.4233e-04\n",
      "Epoch 169/250\n",
      "4/4 [==============================] - 0s 3ms/step - loss: 9.7618e-04 - mse: 9.7618e-04\n",
      "Epoch 170/250\n",
      "4/4 [==============================] - 0s 3ms/step - loss: 8.2797e-04 - mse: 8.2797e-04\n",
      "Epoch 171/250\n",
      "4/4 [==============================] - 0s 2ms/step - loss: 8.8238e-04 - mse: 8.8238e-04\n",
      "Epoch 172/250\n",
      "4/4 [==============================] - 0s 2ms/step - loss: 9.5300e-04 - mse: 9.5300e-04\n",
      "Epoch 173/250\n",
      "4/4 [==============================] - 0s 3ms/step - loss: 8.7562e-04 - mse: 8.7562e-04\n",
      "Epoch 174/250\n",
      "4/4 [==============================] - 0s 2ms/step - loss: 8.4961e-04 - mse: 8.4961e-04\n",
      "Epoch 175/250\n",
      "4/4 [==============================] - 0s 3ms/step - loss: 8.4410e-04 - mse: 8.4410e-04\n",
      "Epoch 176/250\n",
      "4/4 [==============================] - 0s 3ms/step - loss: 8.3884e-04 - mse: 8.3884e-04\n",
      "Epoch 177/250\n",
      "4/4 [==============================] - 0s 2ms/step - loss: 8.5615e-04 - mse: 8.5615e-04\n",
      "Epoch 178/250\n",
      "4/4 [==============================] - 0s 3ms/step - loss: 8.5369e-04 - mse: 8.5369e-04\n",
      "Epoch 179/250\n",
      "4/4 [==============================] - 0s 2ms/step - loss: 8.6091e-04 - mse: 8.6091e-04\n",
      "Epoch 180/250\n",
      "4/4 [==============================] - 0s 2ms/step - loss: 9.4313e-04 - mse: 9.4313e-04\n",
      "Epoch 181/250\n",
      "4/4 [==============================] - 0s 2ms/step - loss: 8.4217e-04 - mse: 8.4217e-04\n",
      "Epoch 182/250\n",
      "4/4 [==============================] - 0s 2ms/step - loss: 0.0012 - mse: 0.0012    \n",
      "Epoch 183/250\n",
      "4/4 [==============================] - 0s 2ms/step - loss: 8.4455e-04 - mse: 8.4455e-04\n",
      "Epoch 184/250\n",
      "4/4 [==============================] - 0s 3ms/step - loss: 8.2238e-04 - mse: 8.2238e-04\n",
      "Epoch 185/250\n",
      "4/4 [==============================] - 0s 3ms/step - loss: 8.7799e-04 - mse: 8.7799e-04\n",
      "Epoch 186/250\n",
      "4/4 [==============================] - 0s 2ms/step - loss: 8.9300e-04 - mse: 8.9300e-04\n",
      "Epoch 187/250\n",
      "4/4 [==============================] - 0s 2ms/step - loss: 8.4131e-04 - mse: 8.4131e-04\n",
      "Epoch 188/250\n",
      "4/4 [==============================] - 0s 2ms/step - loss: 8.4243e-04 - mse: 8.4243e-04\n",
      "Epoch 189/250\n",
      "4/4 [==============================] - 0s 2ms/step - loss: 8.6937e-04 - mse: 8.6937e-04\n",
      "Epoch 190/250\n",
      "4/4 [==============================] - 0s 2ms/step - loss: 8.5656e-04 - mse: 8.5656e-04\n",
      "Epoch 191/250\n",
      "4/4 [==============================] - 0s 3ms/step - loss: 8.7360e-04 - mse: 8.7360e-04\n",
      "Epoch 192/250\n",
      "4/4 [==============================] - 0s 3ms/step - loss: 8.3662e-04 - mse: 8.3662e-04\n",
      "Epoch 193/250\n",
      "4/4 [==============================] - 0s 2ms/step - loss: 9.7969e-04 - mse: 9.7969e-04\n",
      "Epoch 194/250\n",
      "4/4 [==============================] - 0s 3ms/step - loss: 8.2912e-04 - mse: 8.2912e-04\n",
      "Epoch 195/250\n",
      "4/4 [==============================] - 0s 3ms/step - loss: 8.3526e-04 - mse: 8.3526e-04\n",
      "Epoch 196/250\n",
      "4/4 [==============================] - 0s 3ms/step - loss: 8.4176e-04 - mse: 8.4176e-04\n",
      "Epoch 197/250\n",
      "4/4 [==============================] - 0s 3ms/step - loss: 8.5560e-04 - mse: 8.5560e-04\n",
      "Epoch 198/250\n",
      "4/4 [==============================] - 0s 3ms/step - loss: 8.3310e-04 - mse: 8.3310e-04\n",
      "Epoch 199/250\n",
      "4/4 [==============================] - 0s 2ms/step - loss: 8.4813e-04 - mse: 8.4813e-04\n",
      "Epoch 200/250\n",
      "4/4 [==============================] - 0s 2ms/step - loss: 0.0011 - mse: 0.0011    \n",
      "Epoch 201/250\n",
      "4/4 [==============================] - 0s 2ms/step - loss: 8.4568e-04 - mse: 8.4568e-04\n",
      "Epoch 202/250\n",
      "4/4 [==============================] - 0s 3ms/step - loss: 8.5251e-04 - mse: 8.5251e-04\n",
      "Epoch 203/250\n",
      "4/4 [==============================] - 0s 2ms/step - loss: 8.1747e-04 - mse: 8.1747e-04\n",
      "Epoch 204/250\n",
      "4/4 [==============================] - 0s 2ms/step - loss: 8.4812e-04 - mse: 8.4812e-04\n",
      "Epoch 205/250\n",
      "4/4 [==============================] - 0s 3ms/step - loss: 8.4258e-04 - mse: 8.4258e-04\n",
      "Epoch 206/250\n",
      "4/4 [==============================] - 0s 3ms/step - loss: 8.4766e-04 - mse: 8.4766e-04\n",
      "Epoch 207/250\n",
      "4/4 [==============================] - 0s 3ms/step - loss: 8.8195e-04 - mse: 8.8195e-04\n",
      "Epoch 208/250\n",
      "4/4 [==============================] - 0s 3ms/step - loss: 8.7556e-04 - mse: 8.7556e-04\n",
      "Epoch 209/250\n",
      "4/4 [==============================] - 0s 3ms/step - loss: 9.7760e-04 - mse: 9.7760e-04\n",
      "Epoch 210/250\n",
      "4/4 [==============================] - 0s 3ms/step - loss: 8.1820e-04 - mse: 8.1820e-04\n",
      "Epoch 211/250\n",
      "4/4 [==============================] - 0s 3ms/step - loss: 8.9535e-04 - mse: 8.9535e-04\n",
      "Epoch 212/250\n",
      "4/4 [==============================] - 0s 3ms/step - loss: 8.2987e-04 - mse: 8.2987e-04\n",
      "Epoch 213/250\n",
      "4/4 [==============================] - 0s 2ms/step - loss: 8.4662e-04 - mse: 8.4662e-04\n",
      "Epoch 214/250\n",
      "4/4 [==============================] - 0s 3ms/step - loss: 8.2510e-04 - mse: 8.2510e-04\n",
      "Epoch 215/250\n",
      "4/4 [==============================] - 0s 3ms/step - loss: 8.5039e-04 - mse: 8.5039e-04\n",
      "Epoch 216/250\n",
      "4/4 [==============================] - 0s 3ms/step - loss: 9.6712e-04 - mse: 9.6712e-04\n",
      "Epoch 217/250\n",
      "4/4 [==============================] - 0s 3ms/step - loss: 8.5881e-04 - mse: 8.5881e-04\n",
      "Epoch 218/250\n",
      "4/4 [==============================] - 0s 3ms/step - loss: 8.4114e-04 - mse: 8.4114e-04\n",
      "Epoch 219/250\n",
      "4/4 [==============================] - 0s 3ms/step - loss: 8.8482e-04 - mse: 8.8482e-04\n",
      "Epoch 220/250\n",
      "4/4 [==============================] - 0s 3ms/step - loss: 8.4133e-04 - mse: 8.4133e-04\n",
      "Epoch 221/250\n",
      "4/4 [==============================] - 0s 3ms/step - loss: 8.2143e-04 - mse: 8.2143e-04\n",
      "Epoch 222/250\n",
      "4/4 [==============================] - 0s 3ms/step - loss: 8.2807e-04 - mse: 8.2807e-04\n",
      "Epoch 223/250\n",
      "4/4 [==============================] - 0s 2ms/step - loss: 8.2227e-04 - mse: 8.2227e-04\n",
      "Epoch 224/250\n",
      "4/4 [==============================] - 0s 3ms/step - loss: 8.1781e-04 - mse: 8.1781e-04\n",
      "Epoch 225/250\n",
      "4/4 [==============================] - 0s 3ms/step - loss: 8.0203e-04 - mse: 8.0203e-04\n",
      "Epoch 226/250\n",
      "4/4 [==============================] - 0s 3ms/step - loss: 8.3250e-04 - mse: 8.3250e-04\n",
      "Epoch 227/250\n",
      "4/4 [==============================] - 0s 2ms/step - loss: 0.0010 - mse: 0.0010    \n",
      "Epoch 228/250\n",
      "4/4 [==============================] - 0s 2ms/step - loss: 9.1545e-04 - mse: 9.1545e-04\n",
      "Epoch 229/250\n",
      "4/4 [==============================] - 0s 2ms/step - loss: 8.4129e-04 - mse: 8.4129e-04\n",
      "Epoch 230/250\n",
      "4/4 [==============================] - 0s 2ms/step - loss: 9.2923e-04 - mse: 9.2923e-04\n",
      "Epoch 231/250\n",
      "4/4 [==============================] - 0s 2ms/step - loss: 8.1070e-04 - mse: 8.1070e-04\n",
      "Epoch 232/250\n",
      "4/4 [==============================] - 0s 2ms/step - loss: 8.4683e-04 - mse: 8.4683e-04\n",
      "Epoch 233/250\n",
      "4/4 [==============================] - 0s 2ms/step - loss: 9.4176e-04 - mse: 9.4176e-04\n",
      "Epoch 234/250\n",
      "4/4 [==============================] - 0s 3ms/step - loss: 8.3028e-04 - mse: 8.3028e-04\n",
      "Epoch 235/250\n",
      "4/4 [==============================] - 0s 3ms/step - loss: 8.4762e-04 - mse: 8.4762e-04\n",
      "Epoch 236/250\n",
      "4/4 [==============================] - 0s 3ms/step - loss: 8.3360e-04 - mse: 8.3360e-04\n",
      "Epoch 237/250\n",
      "4/4 [==============================] - 0s 3ms/step - loss: 8.1400e-04 - mse: 8.1400e-04\n",
      "Epoch 238/250\n",
      "4/4 [==============================] - 0s 4ms/step - loss: 8.0387e-04 - mse: 8.0387e-04\n",
      "Epoch 239/250\n",
      "4/4 [==============================] - 0s 4ms/step - loss: 8.1336e-04 - mse: 8.1336e-04\n",
      "Epoch 240/250\n",
      "4/4 [==============================] - 0s 3ms/step - loss: 8.0865e-04 - mse: 8.0865e-04\n",
      "Epoch 241/250\n",
      "4/4 [==============================] - 0s 3ms/step - loss: 8.5949e-04 - mse: 8.5949e-04\n",
      "Epoch 242/250\n",
      "4/4 [==============================] - 0s 3ms/step - loss: 8.3360e-04 - mse: 8.3360e-04\n",
      "Epoch 243/250\n",
      "4/4 [==============================] - 0s 3ms/step - loss: 9.0777e-04 - mse: 9.0777e-04\n",
      "Epoch 244/250\n",
      "4/4 [==============================] - 0s 2ms/step - loss: 8.0638e-04 - mse: 8.0638e-04\n",
      "Epoch 245/250\n",
      "4/4 [==============================] - 0s 2ms/step - loss: 8.1254e-04 - mse: 8.1254e-04\n",
      "Epoch 246/250\n",
      "4/4 [==============================] - 0s 2ms/step - loss: 7.8909e-04 - mse: 7.8909e-04\n",
      "Epoch 247/250\n",
      "4/4 [==============================] - 0s 2ms/step - loss: 9.1431e-04 - mse: 9.1431e-04\n",
      "Epoch 248/250\n",
      "4/4 [==============================] - 0s 2ms/step - loss: 7.9534e-04 - mse: 7.9534e-04\n",
      "Epoch 249/250\n",
      "4/4 [==============================] - 0s 3ms/step - loss: 8.5179e-04 - mse: 8.5179e-04\n",
      "Epoch 250/250\n",
      "4/4 [==============================] - 0s 3ms/step - loss: 8.7270e-04 - mse: 8.7270e-04\n"
     ]
    },
    {
     "data": {
      "text/plain": [
       "<keras.callbacks.History at 0x7f77fcc5f8b0>"
      ]
     },
     "execution_count": 24,
     "metadata": {},
     "output_type": "execute_result"
    }
   ],
   "source": [
    "model_secu.fit(x, t, batch_size=int(len(x)/4), epochs=250)"
   ]
  },
  {
   "cell_type": "markdown",
   "metadata": {
    "id": "K69McnIisyF3"
   },
   "source": [
    "### Predicción"
   ]
  },
  {
   "cell_type": "code",
   "execution_count": 25,
   "metadata": {
    "colab": {
     "base_uri": "https://localhost:8080/",
     "height": 465
    },
    "executionInfo": {
     "elapsed": 1628,
     "status": "ok",
     "timestamp": 1696863999152,
     "user": {
      "displayName": "Fernán Agüero",
      "userId": "05031512799194115181"
     },
     "user_tz": 180
    },
    "id": "sf0K-JzbA083",
    "outputId": "e5689a6e-c130-45f3-b60d-5d5ac5d8a469",
    "tags": []
   },
   "outputs": [
    {
     "name": "stdout",
     "output_type": "stream",
     "text": [
      "4/4 [==============================] - 0s 2ms/step\n"
     ]
    },
    {
     "data": {
      "text/plain": [
       "[<matplotlib.lines.Line2D at 0x7f77fca18ca0>]"
      ]
     },
     "execution_count": 25,
     "metadata": {},
     "output_type": "execute_result"
    },
    {
     "data": {
      "image/png": "[encoded data removed]",
      "text/plain": [
       "<Figure size 432x288 with 1 Axes>"
      ]
     },
     "metadata": {
      "needs_background": "light"
     },
     "output_type": "display_data"
    }
   ],
   "source": [
    "y = model_secu.predict(x)\n",
    "plt.plot(x, t)\n",
    "plt.plot(x, y, 'o')"
   ]
  },
  {
   "cell_type": "markdown",
   "metadata": {
    "id": "tsge_mUOsyF3"
   },
   "source": [
    "### Bajo el capot"
   ]
  },
  {
   "cell_type": "markdown",
   "metadata": {
    "id": "uUa0erOssyF3"
   },
   "source": [
    "En esta red simple, podemos ver cómo funcionan las cosas. Obtengamos los pesos de cada capa."
   ]
  },
  {
   "cell_type": "code",
   "execution_count": 26,
   "metadata": {
    "executionInfo": {
     "elapsed": 562,
     "status": "ok",
     "timestamp": 1696864004575,
     "user": {
      "displayName": "Fernán Agüero",
      "userId": "05031512799194115181"
     },
     "user_tz": 180
    },
    "id": "_SSTPEe8DnjR",
    "tags": []
   },
   "outputs": [],
   "source": [
    "w1, b1 = model_secu.layers[0].get_weights()\n",
    "w2, b2 = model_secu.layers[1].get_weights()\n",
    "w3, b3 = model_secu.layers[2].get_weights()"
   ]
  },
  {
   "cell_type": "markdown",
   "metadata": {
    "id": "eqJ_AyLCsyF3"
   },
   "source": [
    "Los pesos son matrices cuyo tamaño está relacionado con el tamaño de la capa y el número de unidades que conecta.\n",
    "El segundo argumento es un array con los pesos."
   ]
  },
  {
   "cell_type": "code",
   "execution_count": 27,
   "metadata": {
    "colab": {
     "base_uri": "https://localhost:8080/"
    },
    "executionInfo": {
     "elapsed": 325,
     "status": "ok",
     "timestamp": 1696864016301,
     "user": {
      "displayName": "Fernán Agüero",
      "userId": "05031512799194115181"
     },
     "user_tz": 180
    },
    "id": "YT3IK5-DGr-L",
    "outputId": "06c138b8-1d16-45f9-8dee-6281db57e8aa",
    "tags": []
   },
   "outputs": [
    {
     "name": "stdout",
     "output_type": "stream",
     "text": [
      "(5, 4) (4,)\n",
      "[[ 0.00558907  0.44447765  0.62211055  0.85797435]\n",
      " [ 0.5083242  -0.50095266 -0.03695852  0.01262756]\n",
      " [ 0.1041583   1.1532586   0.5341103  -0.5475834 ]\n",
      " [-0.2168865   0.34459424 -0.3460635  -0.16145693]\n",
      " [-0.5456167  -0.6997332  -0.7697679  -0.51594514]] [-0.21286474 -0.39703658  0.21292897 -0.39005032]\n"
     ]
    }
   ],
   "source": [
    "print(w2.shape, b2.shape)\n",
    "print(w2, b2)"
   ]
  },
  {
   "cell_type": "markdown",
   "metadata": {
    "id": "FEZSAnddsyF4"
   },
   "source": [
    "Con toda esta información, podemos calcular el resultado de la primera capa, para cada punto del conjunto de datos."
   ]
  },
  {
   "cell_type": "code",
   "execution_count": 29,
   "metadata": {
    "executionInfo": {
     "elapsed": 307,
     "status": "ok",
     "timestamp": 1696864034208,
     "user": {
      "displayName": "Fernán Agüero",
      "userId": "05031512799194115181"
     },
     "user_tz": 180
    },
    "id": "z0dKKMYisyF4",
    "tags": []
   },
   "outputs": [],
   "source": [
    "def acti(x):\n",
    "    return np.tanh(x)"
   ]
  },
  {
   "cell_type": "code",
   "execution_count": 30,
   "metadata": {
    "colab": {
     "base_uri": "https://localhost:8080/"
    },
    "executionInfo": {
     "elapsed": 293,
     "status": "ok",
     "timestamp": 1696864035897,
     "user": {
      "displayName": "Fernán Agüero",
      "userId": "05031512799194115181"
     },
     "user_tz": 180
    },
    "id": "oR7Ad2cjEvlU",
    "outputId": "1b086c01-5c14-48e2-d0ae-f60abccdacb2",
    "tags": []
   },
   "outputs": [
    {
     "name": "stdout",
     "output_type": "stream",
     "text": [
      "(100, 5)\n"
     ]
    }
   ],
   "source": [
    "zz = []\n",
    "for i in range(len(w1[0])):\n",
    "  zz.append(acti(w1[0][i] * x + b1[i]))\n",
    "\n",
    "    # xx = w1[0][i] * x + w0[i]\n",
    "  # yy.append(np.where(xx > 0, xx, 0))\n",
    "\n",
    "zz = np.array(zz).T\n",
    "print(zz.shape)"
   ]
  },
  {
   "cell_type": "code",
   "execution_count": 31,
   "metadata": {
    "id": "h-BzHgkGl5xN",
    "tags": []
   },
   "outputs": [],
   "source": [
    "# Calcula salida de la segunda capa\n",
    "yy = acti(np.dot(zz, w2) + b2)"
   ]
  },
  {
   "cell_type": "code",
   "execution_count": 32,
   "metadata": {
    "colab": {
     "base_uri": "https://localhost:8080/",
     "height": 540
    },
    "executionInfo": {
     "elapsed": 1462,
     "status": "ok",
     "timestamp": 1694453168843,
     "user": {
      "displayName": "Martin Makler",
      "userId": "14686016504460456268"
     },
     "user_tz": 180
    },
    "id": "E2_4-ZlEE7i_",
    "outputId": "0d136a2b-b026-4402-f6cc-e633171a70fd",
    "tags": []
   },
   "outputs": [
    {
     "data": {
      "text/plain": [
       "<matplotlib.legend.Legend at 0x7f77fc96d0a0>"
      ]
     },
     "execution_count": 32,
     "metadata": {},
     "output_type": "execute_result"
    },
    {
     "data": {
      "image/png": "[encoded data removed]",
      "text/plain": [
       "<Figure size 576x432 with 1 Axes>"
      ]
     },
     "metadata": {
      "needs_background": "light"
     },
     "output_type": "display_data"
    }
   ],
   "source": [
    "# El resultado final es la combinación de cada una de estas cuatro funciones, con un peso...\n",
    "fig = plt.figure(figsize=(8, 6))\n",
    "ax = fig.add_subplot(111)\n",
    "\n",
    "ax.plot(x, t, lw=3, label='Valor verdadero')\n",
    "for i, yi in enumerate(yy.T):\n",
    "  ax.plot(x, yi * w3[i] + b3, '--', label='Unidad {}'.format(i+1))\n",
    "\n",
    "ax.plot(x, np.dot(yy, w3) + b3, label='Resultado completo', lw=4, alpha=0.5)\n",
    "ax.legend(loc=0)"
   ]
  },
  {
   "cell_type": "markdown",
   "metadata": {
    "id": "70jpU79wB8ct"
   },
   "source": [
    "## MNIST a través de la lente de las RNAs"
   ]
  },
  {
   "cell_type": "markdown",
   "metadata": {
    "id": "xsrMCvaosyF4"
   },
   "source": [
    "Vamos a reutilizar el conjunto de datos MNIST de números escritos a mano y a entrenar una red neuronal sencilla para clasificarlos.\n",
    "\n",
    "El objetivo es entonces tratar de entender cómo funciona la red, por lo que vamos a elegir una arquitectura relativamente sencilla."
   ]
  },
  {
   "cell_type": "markdown",
   "metadata": {
    "id": "CP-RS_k0syF4"
   },
   "source": [
    "### Preparación de los datos"
   ]
  },
  {
   "cell_type": "code",
   "execution_count": 33,
   "metadata": {
    "colab": {
     "base_uri": "https://localhost:8080/"
    },
    "executionInfo": {
     "elapsed": 984,
     "status": "ok",
     "timestamp": 1694471634837,
     "user": {
      "displayName": "Martin Makler",
      "userId": "14686016504460456268"
     },
     "user_tz": 180
    },
    "id": "mrZACbJIB9k1",
    "outputId": "4f20dd71-f9f2-481c-c0f1-e89040f6bd71",
    "tags": []
   },
   "outputs": [],
   "source": [
    "(X_train, t_train), (X_test, t_test) = keras.datasets.mnist.load_data()"
   ]
  },
  {
   "cell_type": "markdown",
   "metadata": {
    "id": "-eqiCGinZ26Y"
   },
   "source": [
    "Se acuerdan de el tamaño deste dataset?"
   ]
  },
  {
   "cell_type": "code",
   "execution_count": 34,
   "metadata": {
    "colab": {
     "base_uri": "https://localhost:8080/"
    },
    "executionInfo": {
     "elapsed": 275,
     "status": "ok",
     "timestamp": 1694471643446,
     "user": {
      "displayName": "Martin Makler",
      "userId": "14686016504460456268"
     },
     "user_tz": 180
    },
    "id": "sopkQyCYZ6vk",
    "outputId": "7f2e11f0-b7da-4829-8cfa-cc6a4675525c",
    "tags": []
   },
   "outputs": [
    {
     "data": {
      "text/plain": [
       "((60000, 28, 28), (10000, 28, 28), (60000,), (10000,))"
      ]
     },
     "execution_count": 34,
     "metadata": {},
     "output_type": "execute_result"
    }
   ],
   "source": [
    "X_train.shape, X_test.shape, t_train.shape, t_test.shape"
   ]
  },
  {
   "cell_type": "markdown",
   "metadata": {
    "id": "2t3L7oKksyF4"
   },
   "source": [
    "Las etiquetas de `t_train` y `t_test` son números entre 0 y 9.\n",
    "\n",
    "Lo primero que hacemos es convertir las etiquetas de clase a la codificación 1-de-K. Para ello utilizamos la función `keras.utils.to_categorical` (similar al  `OneHotEncoder` de `sklearn`)."
   ]
  },
  {
   "cell_type": "code",
   "execution_count": 37,
   "metadata": {
    "colab": {
     "base_uri": "https://localhost:8080/"
    },
    "executionInfo": {
     "elapsed": 293,
     "status": "ok",
     "timestamp": 1694471694862,
     "user": {
      "displayName": "Martin Makler",
      "userId": "14686016504460456268"
     },
     "user_tz": 180
    },
    "id": "pQcZTfoSRnpF",
    "outputId": "08714c9b-c7b5-449f-8bd6-2ac3f827f78e"
   },
   "outputs": [
    {
     "name": "stdout",
     "output_type": "stream",
     "text": [
      "[[0. 0. 0. 0. 0. 1. 0. 0. 0. 0.]\n",
      " [1. 0. 0. 0. 0. 0. 0. 0. 0. 0.]\n",
      " [0. 0. 0. 0. 1. 0. 0. 0. 0. 0.]] [5 0 4]\n"
     ]
    }
   ],
   "source": [
    "t_train_ohe = keras.utils.to_categorical(t_train)\n",
    "t_test_ohe = keras.utils.to_categorical(t_test)\n",
    "print(t_train_ohe[:3], t_train[:3])"
   ]
  },
  {
   "cell_type": "markdown",
   "metadata": {
    "id": "QFkAXsIisyF5"
   },
   "source": [
    "A continuación, normalizamos las imágenes. Llevamos la escala de píxeles, originalmente entre 0 y 255 (o sea, 256 \"niveles de gris\"), al intervalo [0, 1)."
   ]
  },
  {
   "cell_type": "code",
   "execution_count": 38,
   "metadata": {
    "colab": {
     "base_uri": "https://localhost:8080/"
    },
    "executionInfo": {
     "elapsed": 436,
     "status": "ok",
     "timestamp": 1694471774671,
     "user": {
      "displayName": "Martin Makler",
      "userId": "14686016504460456268"
     },
     "user_tz": 180
    },
    "id": "P7z-g62esyF5",
    "outputId": "a8315713-7ffc-43d6-c67e-c660f7b289d1"
   },
   "outputs": [
    {
     "name": "stdout",
     "output_type": "stream",
     "text": [
      "0.0 1.0\n",
      "0.0 1.0\n",
      "0.0 0.00392156862745098\n",
      "0.0 0.00392156862745098\n"
     ]
    }
   ],
   "source": [
    "print(X_train.min(), X_train.max())\n",
    "print(X_test.min(), X_test.max())\n",
    "\n",
    "X_train = X_train/255.0\n",
    "X_test = X_test/255.0\n",
    "\n",
    "print(X_train.min(), X_train.max())\n",
    "print(X_test.min(), X_test.max())"
   ]
  },
  {
   "cell_type": "markdown",
   "metadata": {
    "id": "p5TcIXDosyF5"
   },
   "source": [
    "No hay mucho más que hacer en cuanto a la preparación de los datos, porque `keras` ya divide el conjunto en conjuntos de entrenamiento y de prueba (que usaremos como validación)."
   ]
  },
  {
   "cell_type": "markdown",
   "metadata": {
    "id": "EGx66WUEsyF5"
   },
   "source": [
    "Visualicemos simplemente a algunos individuos."
   ]
  },
  {
   "cell_type": "code",
   "execution_count": 39,
   "metadata": {
    "colab": {
     "base_uri": "https://localhost:8080/",
     "height": 730
    },
    "executionInfo": {
     "elapsed": 1303,
     "status": "ok",
     "timestamp": 1694471796115,
     "user": {
      "displayName": "Martin Makler",
      "userId": "14686016504460456268"
     },
     "user_tz": 180
    },
    "id": "atTHv8HhsyF5",
    "outputId": "b30f2551-de48-459f-a809-db7e41948ab2"
   },
   "outputs": [
    {
     "data": {
      "image/png": "[encoded data removed]",
      "text/plain": [
       "<Figure size 648x648 with 1 Axes>"
      ]
     },
     "metadata": {
      "needs_background": "light"
     },
     "output_type": "display_data"
    }
   ],
   "source": [
    "def plot_digits(instances, images_per_row=10, **options):\n",
    "    size = 28\n",
    "    images_per_row = min(len(instances), images_per_row)\n",
    "    images = [instance.reshape(size,size) for instance in instances]\n",
    "    n_rows = (len(instances) - 1) // images_per_row + 1\n",
    "    row_images = []\n",
    "    n_empty = n_rows * images_per_row - len(instances)\n",
    "    images.append(np.zeros((size, size * n_empty)))\n",
    "    for row in range(n_rows):\n",
    "        rimages = images[row * images_per_row : (row + 1) * images_per_row]\n",
    "        row_images.append(np.concatenate(rimages, axis=1))\n",
    "    image = np.concatenate(row_images, axis=0)\n",
    "    plt.imshow(image, cmap ='binary', **options)\n",
    "    plt.axis(\"off\")\n",
    "\n",
    "plt.figure(figsize=(9,9))\n",
    "plot_digits(X_train[10000:10100], images_per_row=10)"
   ]
  },
  {
   "cell_type": "markdown",
   "metadata": {
    "id": "NtrBzjE0syF5"
   },
   "source": [
    "### Definición del modelo."
   ]
  },
  {
   "cell_type": "markdown",
   "metadata": {
    "id": "P_b-KqO6syF6"
   },
   "source": [
    "¿Cómo empezamos a definir un modelo de este tipo? Tenemos que definir el número de capas, el número de unidades en cada capa, las funciones de activación, y varias cosas más.\n",
    "\n",
    "Una posibilidad es pensar como funcionaria el reconocimiento de las imágines, separándolo en etapas y pensando que cada _capa de neuronas_ podría corresponder a una _etapa_ y cada _conjunto de reuronas_ podría hacer _una tarea de cada etapa_. Eso se manifiesta en la respuesta de cada neurona a in tipo de dato de entrada, o sea, a su _activación_ para cada dato.\n",
    "\n",
    "Para ver después de la clase: un video de YouTube armando una red inspirada en ese tipo de razonamiento."
   ]
  },
  {
   "cell_type": "code",
   "execution_count": 40,
   "metadata": {
    "colab": {
     "base_uri": "https://localhost:8080/",
     "height": 621
    },
    "executionInfo": {
     "elapsed": 252,
     "status": "ok",
     "timestamp": 1694453434765,
     "user": {
      "displayName": "Martin Makler",
      "userId": "14686016504460456268"
     },
     "user_tz": 180
    },
    "id": "ZIla33RGsyF6",
    "outputId": "739e89a2-a831-42a8-cd5c-0483cae17714",
    "scrolled": true,
    "tags": []
   },
   "outputs": [
    {
     "data": {
      "text/html": [
       "\n",
       "        <iframe\n",
       "            width=\"900\"\n",
       "            height=\"600\"\n",
       "            src=\"https://www.youtube.com/embed/aircAruvnKk?start=332\"\n",
       "            frameborder=\"0\"\n",
       "            allowfullscreen\n",
       "            \n",
       "        ></iframe>\n",
       "        "
      ],
      "text/plain": [
       "<IPython.lib.display.YouTubeVideo at 0x7f77fc9cff70>"
      ]
     },
     "execution_count": 40,
     "metadata": {},
     "output_type": "execute_result"
    }
   ],
   "source": [
    "from IPython.display import YouTubeVideo\n",
    "YouTubeVideo('aircAruvnKk?start=332', width=900, height=600)"
   ]
  },
  {
   "cell_type": "markdown",
   "metadata": {
    "id": "xJLkHi7ZsyF6"
   },
   "source": [
    "Aqui vamos a implementar una red (completamente conectada) con 2 capas intermediarias, con 32 neruronas cada. El número de neuronas en las capas de entrada y de salida se define, respectivamente por los datos que queremos procesar (en este caso, imágenes de 28 x 28 pixeles) y por la salida de clasificación (1 valor para cada una de las 10 clases). Como es un problema de clasificación, usaremos la activación `softmax`."
   ]
  },
  {
   "cell_type": "code",
   "execution_count": 52,
   "metadata": {
    "id": "5k857OkhCDwp"
   },
   "outputs": [],
   "source": [
    "model = keras.models.Sequential()\n",
    "\n",
    "# Input layer\n",
    "model.add(keras.layers.Flatten(input_shape=(28,28)))\n",
    "\n",
    "# Dos capas ocultas con 32 neuronas cada una\n",
    "model.add(keras.layers.Dense(32, activation='relu'))\n",
    "model.add(keras.layers.Dense(32, activation='relu'))\n",
    "\n",
    "# Capa de salida. Como es una clasificación multi-clase, usamos K (acá 10) unidades.\n",
    "model.add(keras.layers.Dense(10, activation='softmax'))"
   ]
  },
  {
   "cell_type": "markdown",
   "metadata": {
    "id": "pZ2A-WN5syF6"
   },
   "source": [
    "### Compilación"
   ]
  },
  {
   "cell_type": "markdown",
   "metadata": {
    "id": "JDFF4QbXsyF6"
   },
   "source": [
    "Como ya mencionamos en las etiquetas para clasifcación usamos la codificación 1-de-K, esto es \"one-hot encoded\" donde las categorias están codificadas en formato binario. Supongamos que tenemos 3 clases posibles de salida (clase 1, clase 2 y clase 3) una etiqueta de un elemento perteneciente a la primera clase seria un vector (1,0,0), uno de la clase 2 (0,1,0) y (obviamente) uno de la clase 3 (0,0,1). Se hace esto para tratar de evitar relaciones artificiales entre las categorias, si usásemos enteros para codificar las clases (1, 2, 3) un modelo podría interpretar erróneamente que 3 es más parecido a 2 que a 1, lo cual no tiene sentido en datos categóricos. El one-hot encoding elimina esta jerarquía artificial. La función de pérdida correcta para este tipo de datos es la `categorical_crossentropy`. \n",
    "\n",
    "Si, en cambio, usamos dígitos como etiquetas la función adecuada es `sparse_categorical_crossentropy` (internamente convierte las etiquetas enteras en una representación one-hot de forma automática y luego calcula la pérdida de manera similar a `categorical_crossentropy`).\n",
    "\n",
    "\n",
    "También le decimos al modelo que reporte la Precisión (accuracy), pero podríamos proporcionar otras métricas aquí: `keras.metrics.Recall()`"
   ]
  },
  {
   "cell_type": "code",
   "execution_count": 53,
   "metadata": {
    "id": "boBes4cbCRqG",
    "tags": []
   },
   "outputs": [],
   "source": [
    "model.compile(loss='categorical_crossentropy', metrics=['accuracy', keras.metrics.Recall(class_id=5)])"
   ]
  },
  {
   "cell_type": "markdown",
   "metadata": {
    "id": "5vpNrG54syF6"
   },
   "source": [
    "***\n",
    "**Juego**: ¿Pueden calcular el número de parámetros que tiene este modelo?"
   ]
  },
  {
   "cell_type": "code",
   "execution_count": 44,
   "metadata": {
    "colab": {
     "base_uri": "https://localhost:8080/"
    },
    "executionInfo": {
     "elapsed": 263,
     "status": "ok",
     "timestamp": 1694472141587,
     "user": {
      "displayName": "Martin Makler",
      "userId": "14686016504460456268"
     },
     "user_tz": 180
    },
    "id": "3yIJkb_jVaCG",
    "outputId": "8a7ca729-8a9f-4c19-d300-71cadfbc38dd",
    "tags": []
   },
   "outputs": [
    {
     "data": {
      "text/plain": [
       "26506"
      ]
     },
     "execution_count": 44,
     "metadata": {},
     "output_type": "execute_result"
    }
   ],
   "source": [
    "((28*28)+1)*32 + 33*32 + 33*10"
   ]
  },
  {
   "cell_type": "code",
   "execution_count": 54,
   "metadata": {
    "colab": {
     "base_uri": "https://localhost:8080/"
    },
    "executionInfo": {
     "elapsed": 277,
     "status": "ok",
     "timestamp": 1694472148679,
     "user": {
      "displayName": "Martin Makler",
      "userId": "14686016504460456268"
     },
     "user_tz": 180
    },
    "id": "Ketw0YRzDbya",
    "outputId": "795bac88-05bf-427f-d80c-a9cb2f523f79"
   },
   "outputs": [
    {
     "name": "stdout",
     "output_type": "stream",
     "text": [
      "Model: \"sequential_6\"\n",
      "_________________________________________________________________\n",
      " Layer (type)                Output Shape              Param #   \n",
      "=================================================================\n",
      " flatten_3 (Flatten)         (None, 784)               0         \n",
      "                                                                 \n",
      " dense_20 (Dense)            (None, 32)                25120     \n",
      "                                                                 \n",
      " dense_21 (Dense)            (None, 32)                1056      \n",
      "                                                                 \n",
      " dense_22 (Dense)            (None, 10)                330       \n",
      "                                                                 \n",
      "=================================================================\n",
      "Total params: 26,506\n",
      "Trainable params: 26,506\n",
      "Non-trainable params: 0\n",
      "_________________________________________________________________\n"
     ]
    }
   ],
   "source": [
    "model.summary()"
   ]
  },
  {
   "cell_type": "markdown",
   "metadata": {
    "id": "63WUGjwqsyF6"
   },
   "source": [
    "### Entrenamiento"
   ]
  },
  {
   "cell_type": "markdown",
   "metadata": {
    "id": "XlzwEU0LsyF6"
   },
   "source": [
    "El entrenamiento puede ser complicado y/o costoso, incluso para una red pequeña como ésta.\n",
    "\n",
    "Para acelerar el proceso, y comprobar que la red no está sobreajustada, añadiremos un paso adicional en el proceso de ajuste. Un _callback_ que puede detener el entrenamiento antes de tiempo si no se ve ninguna mejora en la pérdida de validación.\n",
    "\n",
    "Esto se implementa en `EarlyStopping`. Volveremos sobre esto la semana que viene."
   ]
  },
  {
   "cell_type": "code",
   "execution_count": 55,
   "metadata": {
    "id": "0lgHhxhfsyF7"
   },
   "outputs": [],
   "source": [
    "early = keras.callbacks.EarlyStopping(patience=15, monitor='val_loss',\n",
    "                                      restore_best_weights=True)"
   ]
  },
  {
   "cell_type": "markdown",
   "metadata": {
    "id": "x7olhBV6syF7"
   },
   "source": [
    "En este caso, esperamos 15 épocas para ver una mejora. Si no se ve ninguna, el ajuste vuelve a los valores óptimos y se detiene el entrenamiento. Esto es _muy_ útil."
   ]
  },
  {
   "cell_type": "markdown",
   "metadata": {
    "id": "2XZ2YuKqsyF7"
   },
   "source": [
    "Sabemos que se ajusta al modelo, pero fíjate en los siguientes cambios:\n",
    "\n",
    "1. La salida del método se almacena en una variable `ajuste` que contiene la evolución del proceso de traning.\n",
    "2. Añadimos el argumento `validation_data` para definir qué conjunto de datos utilizar para la validación.\n",
    "3. Incluimos un callback (podría haber una legión; ver `keras.callbacks` y [documentación](https://keras.io/api/callbacks/)."
   ]
  },
  {
   "cell_type": "code",
   "execution_count": 63,
   "metadata": {
    "colab": {
     "base_uri": "https://localhost:8080/"
    },
    "executionInfo": {
     "elapsed": 123784,
     "status": "ok",
     "timestamp": 1694472362563,
     "user": {
      "displayName": "Martin Makler",
      "userId": "14686016504460456268"
     },
     "user_tz": 180
    },
    "id": "bpzbw3cBDdUg",
    "outputId": "070ddd35-deb4-45af-c5d2-1a2c189b0786"
   },
   "outputs": [
    {
     "name": "stdout",
     "output_type": "stream",
     "text": [
      "Epoch 1/100\n",
      "1875/1875 [==============================] - 8s 4ms/step - loss: 0.7142 - accuracy: 0.7775 - recall_1: 0.3099 - val_loss: 0.5988 - val_accuracy: 0.8126 - val_recall_1: 0.5191\n",
      "Epoch 2/100\n",
      "1875/1875 [==============================] - 7s 4ms/step - loss: 0.5553 - accuracy: 0.8313 - recall_1: 0.5897 - val_loss: 0.5052 - val_accuracy: 0.8471 - val_recall_1: 0.6267\n",
      "Epoch 3/100\n",
      "1875/1875 [==============================] - 9s 5ms/step - loss: 0.4756 - accuracy: 0.8599 - recall_1: 0.6859 - val_loss: 0.4265 - val_accuracy: 0.8745 - val_recall_1: 0.6300\n",
      "Epoch 4/100\n",
      "1875/1875 [==============================] - 7s 4ms/step - loss: 0.4084 - accuracy: 0.8802 - recall_1: 0.7523 - val_loss: 0.3761 - val_accuracy: 0.8897 - val_recall_1: 0.7534\n",
      "Epoch 5/100\n",
      "1875/1875 [==============================] - 7s 4ms/step - loss: 0.3645 - accuracy: 0.8936 - recall_1: 0.7939 - val_loss: 0.3369 - val_accuracy: 0.9002 - val_recall_1: 0.8027\n",
      "Epoch 6/100\n",
      "1875/1875 [==============================] - 7s 4ms/step - loss: 0.3347 - accuracy: 0.9018 - recall_1: 0.8109 - val_loss: 0.3196 - val_accuracy: 0.9063 - val_recall_1: 0.8061\n",
      "Epoch 7/100\n",
      "1875/1875 [==============================] - 7s 4ms/step - loss: 0.3118 - accuracy: 0.9086 - recall_1: 0.8273 - val_loss: 0.2966 - val_accuracy: 0.9120 - val_recall_1: 0.8341\n",
      "Epoch 8/100\n",
      "1875/1875 [==============================] - 8s 4ms/step - loss: 0.2938 - accuracy: 0.9147 - recall_1: 0.8454 - val_loss: 0.2795 - val_accuracy: 0.9167 - val_recall_1: 0.8453\n",
      "Epoch 9/100\n",
      "1875/1875 [==============================] - 7s 4ms/step - loss: 0.2781 - accuracy: 0.9187 - recall_1: 0.8543 - val_loss: 0.2648 - val_accuracy: 0.9218 - val_recall_1: 0.8408\n",
      "Epoch 10/100\n",
      "1875/1875 [==============================] - 7s 4ms/step - loss: 0.2648 - accuracy: 0.9231 - recall_1: 0.8663 - val_loss: 0.2590 - val_accuracy: 0.9250 - val_recall_1: 0.8778\n",
      "Epoch 11/100\n",
      "1875/1875 [==============================] - 7s 4ms/step - loss: 0.2530 - accuracy: 0.9259 - recall_1: 0.8700 - val_loss: 0.2445 - val_accuracy: 0.9255 - val_recall_1: 0.8453\n",
      "Epoch 12/100\n",
      "1875/1875 [==============================] - 8s 4ms/step - loss: 0.2427 - accuracy: 0.9301 - recall_1: 0.8770 - val_loss: 0.2419 - val_accuracy: 0.9291 - val_recall_1: 0.9092\n",
      "Epoch 13/100\n",
      "1875/1875 [==============================] - 8s 4ms/step - loss: 0.2331 - accuracy: 0.9322 - recall_1: 0.8836 - val_loss: 0.2288 - val_accuracy: 0.9353 - val_recall_1: 0.8924\n",
      "Epoch 14/100\n",
      "1875/1875 [==============================] - 7s 4ms/step - loss: 0.2252 - accuracy: 0.9345 - recall_1: 0.8856 - val_loss: 0.2222 - val_accuracy: 0.9347 - val_recall_1: 0.8924\n",
      "Epoch 15/100\n",
      "1875/1875 [==============================] - 7s 4ms/step - loss: 0.2171 - accuracy: 0.9366 - recall_1: 0.8919 - val_loss: 0.2152 - val_accuracy: 0.9383 - val_recall_1: 0.9036\n",
      "Epoch 16/100\n",
      "1875/1875 [==============================] - 7s 4ms/step - loss: 0.2097 - accuracy: 0.9386 - recall_1: 0.8934 - val_loss: 0.2078 - val_accuracy: 0.9394 - val_recall_1: 0.9013\n",
      "Epoch 17/100\n",
      "1875/1875 [==============================] - 7s 4ms/step - loss: 0.2031 - accuracy: 0.9407 - recall_1: 0.9008 - val_loss: 0.2010 - val_accuracy: 0.9409 - val_recall_1: 0.9002\n",
      "Epoch 18/100\n",
      "1875/1875 [==============================] - 7s 4ms/step - loss: 0.1963 - accuracy: 0.9426 - recall_1: 0.9019 - val_loss: 0.2007 - val_accuracy: 0.9413 - val_recall_1: 0.9025\n",
      "Epoch 19/100\n",
      "1875/1875 [==============================] - 7s 4ms/step - loss: 0.1907 - accuracy: 0.9440 - recall_1: 0.9063 - val_loss: 0.1947 - val_accuracy: 0.9436 - val_recall_1: 0.9182\n",
      "Epoch 20/100\n",
      "1875/1875 [==============================] - 7s 4ms/step - loss: 0.1852 - accuracy: 0.9457 - recall_1: 0.9085 - val_loss: 0.1875 - val_accuracy: 0.9440 - val_recall_1: 0.8700\n",
      "Epoch 21/100\n",
      "1875/1875 [==============================] - 7s 4ms/step - loss: 0.1800 - accuracy: 0.9471 - recall_1: 0.9122 - val_loss: 0.1887 - val_accuracy: 0.9434 - val_recall_1: 0.9238\n",
      "Epoch 22/100\n",
      "1875/1875 [==============================] - 7s 4ms/step - loss: 0.1754 - accuracy: 0.9484 - recall_1: 0.9120 - val_loss: 0.1819 - val_accuracy: 0.9457 - val_recall_1: 0.9159\n",
      "Epoch 23/100\n",
      "1875/1875 [==============================] - 7s 4ms/step - loss: 0.1706 - accuracy: 0.9499 - recall_1: 0.9151 - val_loss: 0.1758 - val_accuracy: 0.9473 - val_recall_1: 0.9215\n",
      "Epoch 24/100\n",
      "1875/1875 [==============================] - 7s 4ms/step - loss: 0.1664 - accuracy: 0.9512 - recall_1: 0.9186 - val_loss: 0.1719 - val_accuracy: 0.9493 - val_recall_1: 0.8924\n",
      "Epoch 25/100\n",
      "1875/1875 [==============================] - 7s 4ms/step - loss: 0.1621 - accuracy: 0.9528 - recall_1: 0.9205 - val_loss: 0.1741 - val_accuracy: 0.9483 - val_recall_1: 0.9372\n",
      "Epoch 26/100\n",
      "1875/1875 [==============================] - 7s 4ms/step - loss: 0.1585 - accuracy: 0.9536 - recall_1: 0.9216 - val_loss: 0.1696 - val_accuracy: 0.9500 - val_recall_1: 0.9372\n",
      "Epoch 27/100\n",
      "1875/1875 [==============================] - 7s 4ms/step - loss: 0.1546 - accuracy: 0.9543 - recall_1: 0.9247 - val_loss: 0.1655 - val_accuracy: 0.9521 - val_recall_1: 0.9238\n",
      "Epoch 28/100\n",
      "1875/1875 [==============================] - 7s 4ms/step - loss: 0.1514 - accuracy: 0.9553 - recall_1: 0.9253 - val_loss: 0.1702 - val_accuracy: 0.9494 - val_recall_1: 0.9361\n",
      "Epoch 29/100\n",
      "1875/1875 [==============================] - 7s 4ms/step - loss: 0.1482 - accuracy: 0.9566 - recall_1: 0.9290 - val_loss: 0.1617 - val_accuracy: 0.9516 - val_recall_1: 0.9159\n",
      "Epoch 30/100\n",
      "1875/1875 [==============================] - 7s 4ms/step - loss: 0.1453 - accuracy: 0.9578 - recall_1: 0.9299 - val_loss: 0.1637 - val_accuracy: 0.9518 - val_recall_1: 0.9395\n",
      "Epoch 31/100\n",
      "1875/1875 [==============================] - 7s 4ms/step - loss: 0.1427 - accuracy: 0.9587 - recall_1: 0.9338 - val_loss: 0.1571 - val_accuracy: 0.9547 - val_recall_1: 0.9137\n",
      "Epoch 32/100\n",
      "1875/1875 [==============================] - 7s 4ms/step - loss: 0.1403 - accuracy: 0.9594 - recall_1: 0.9345 - val_loss: 0.1591 - val_accuracy: 0.9542 - val_recall_1: 0.9170\n",
      "Epoch 33/100\n",
      "1875/1875 [==============================] - 7s 4ms/step - loss: 0.1379 - accuracy: 0.9596 - recall_1: 0.9336 - val_loss: 0.1559 - val_accuracy: 0.9535 - val_recall_1: 0.9215\n",
      "Epoch 34/100\n",
      "1875/1875 [==============================] - 7s 4ms/step - loss: 0.1358 - accuracy: 0.9608 - recall_1: 0.9358 - val_loss: 0.1574 - val_accuracy: 0.9534 - val_recall_1: 0.9372\n",
      "Epoch 35/100\n",
      "1875/1875 [==============================] - 7s 4ms/step - loss: 0.1337 - accuracy: 0.9608 - recall_1: 0.9362 - val_loss: 0.1521 - val_accuracy: 0.9554 - val_recall_1: 0.9126\n",
      "Epoch 36/100\n",
      "1875/1875 [==============================] - 7s 4ms/step - loss: 0.1315 - accuracy: 0.9621 - recall_1: 0.9395 - val_loss: 0.1496 - val_accuracy: 0.9560 - val_recall_1: 0.9305\n",
      "Epoch 37/100\n",
      "1875/1875 [==============================] - 7s 4ms/step - loss: 0.1299 - accuracy: 0.9624 - recall_1: 0.9400 - val_loss: 0.1469 - val_accuracy: 0.9578 - val_recall_1: 0.9249\n",
      "Epoch 38/100\n",
      "1875/1875 [==============================] - 7s 4ms/step - loss: 0.1277 - accuracy: 0.9631 - recall_1: 0.9400 - val_loss: 0.1574 - val_accuracy: 0.9555 - val_recall_1: 0.9249\n",
      "Epoch 39/100\n",
      "1875/1875 [==============================] - 7s 4ms/step - loss: 0.1259 - accuracy: 0.9638 - recall_1: 0.9419 - val_loss: 0.1535 - val_accuracy: 0.9544 - val_recall_1: 0.9294\n",
      "Epoch 40/100\n",
      "1875/1875 [==============================] - 7s 4ms/step - loss: 0.1245 - accuracy: 0.9643 - recall_1: 0.9421 - val_loss: 0.1484 - val_accuracy: 0.9576 - val_recall_1: 0.9148\n",
      "Epoch 41/100\n",
      "1875/1875 [==============================] - 7s 4ms/step - loss: 0.1226 - accuracy: 0.9648 - recall_1: 0.9426 - val_loss: 0.1483 - val_accuracy: 0.9571 - val_recall_1: 0.9137\n",
      "Epoch 42/100\n",
      "1875/1875 [==============================] - 7s 4ms/step - loss: 0.1213 - accuracy: 0.9658 - recall_1: 0.9448 - val_loss: 0.1481 - val_accuracy: 0.9573 - val_recall_1: 0.9451\n",
      "Epoch 43/100\n",
      "1875/1875 [==============================] - 8s 4ms/step - loss: 0.1202 - accuracy: 0.9655 - recall_1: 0.9458 - val_loss: 0.1509 - val_accuracy: 0.9566 - val_recall_1: 0.9451\n",
      "Epoch 44/100\n",
      "1875/1875 [==============================] - 7s 4ms/step - loss: 0.1188 - accuracy: 0.9666 - recall_1: 0.9456 - val_loss: 0.1443 - val_accuracy: 0.9594 - val_recall_1: 0.9271\n",
      "Epoch 45/100\n",
      "1875/1875 [==============================] - 7s 4ms/step - loss: 0.1173 - accuracy: 0.9665 - recall_1: 0.9450 - val_loss: 0.1512 - val_accuracy: 0.9559 - val_recall_1: 0.9316\n",
      "Epoch 46/100\n",
      "1875/1875 [==============================] - 8s 4ms/step - loss: 0.1162 - accuracy: 0.9669 - recall_1: 0.9465 - val_loss: 0.1463 - val_accuracy: 0.9591 - val_recall_1: 0.9070\n",
      "Epoch 47/100\n",
      "1875/1875 [==============================] - 7s 4ms/step - loss: 0.1145 - accuracy: 0.9675 - recall_1: 0.9476 - val_loss: 0.1460 - val_accuracy: 0.9589 - val_recall_1: 0.9361\n",
      "Epoch 48/100\n",
      "1875/1875 [==============================] - 7s 4ms/step - loss: 0.1137 - accuracy: 0.9677 - recall_1: 0.9489 - val_loss: 0.1420 - val_accuracy: 0.9607 - val_recall_1: 0.9271\n",
      "Epoch 49/100\n",
      "1875/1875 [==============================] - 7s 4ms/step - loss: 0.1125 - accuracy: 0.9679 - recall_1: 0.9524 - val_loss: 0.1477 - val_accuracy: 0.9579 - val_recall_1: 0.9383\n",
      "Epoch 50/100\n",
      "1875/1875 [==============================] - 7s 4ms/step - loss: 0.1118 - accuracy: 0.9686 - recall_1: 0.9472 - val_loss: 0.1460 - val_accuracy: 0.9587 - val_recall_1: 0.9339\n",
      "Epoch 51/100\n",
      "1875/1875 [==============================] - 8s 4ms/step - loss: 0.1104 - accuracy: 0.9691 - recall_1: 0.9515 - val_loss: 0.1430 - val_accuracy: 0.9592 - val_recall_1: 0.9439\n",
      "Epoch 52/100\n",
      "1875/1875 [==============================] - 8s 4ms/step - loss: 0.1095 - accuracy: 0.9688 - recall_1: 0.9509 - val_loss: 0.1441 - val_accuracy: 0.9603 - val_recall_1: 0.9294\n",
      "Epoch 53/100\n",
      "1875/1875 [==============================] - 9s 5ms/step - loss: 0.1083 - accuracy: 0.9689 - recall_1: 0.9506 - val_loss: 0.1436 - val_accuracy: 0.9588 - val_recall_1: 0.9428\n",
      "Epoch 54/100\n",
      "1875/1875 [==============================] - 7s 4ms/step - loss: 0.1073 - accuracy: 0.9695 - recall_1: 0.9528 - val_loss: 0.1412 - val_accuracy: 0.9609 - val_recall_1: 0.9305\n",
      "Epoch 55/100\n",
      "1875/1875 [==============================] - 7s 4ms/step - loss: 0.1060 - accuracy: 0.9700 - recall_1: 0.9543 - val_loss: 0.1415 - val_accuracy: 0.9604 - val_recall_1: 0.9305\n",
      "Epoch 56/100\n",
      "1875/1875 [==============================] - 8s 4ms/step - loss: 0.1047 - accuracy: 0.9708 - recall_1: 0.9557 - val_loss: 0.1395 - val_accuracy: 0.9607 - val_recall_1: 0.9339\n",
      "Epoch 57/100\n",
      "1875/1875 [==============================] - 7s 4ms/step - loss: 0.1041 - accuracy: 0.9704 - recall_1: 0.9565 - val_loss: 0.1394 - val_accuracy: 0.9612 - val_recall_1: 0.9383\n",
      "Epoch 58/100\n",
      "1875/1875 [==============================] - 7s 4ms/step - loss: 0.1037 - accuracy: 0.9709 - recall_1: 0.9554 - val_loss: 0.1381 - val_accuracy: 0.9619 - val_recall_1: 0.9316\n",
      "Epoch 59/100\n",
      "1875/1875 [==============================] - 8s 4ms/step - loss: 0.1027 - accuracy: 0.9716 - recall_1: 0.9568 - val_loss: 0.1399 - val_accuracy: 0.9615 - val_recall_1: 0.9215\n",
      "Epoch 60/100\n",
      "1875/1875 [==============================] - 8s 4ms/step - loss: 0.1021 - accuracy: 0.9714 - recall_1: 0.9550 - val_loss: 0.1411 - val_accuracy: 0.9611 - val_recall_1: 0.9372\n",
      "Epoch 61/100\n",
      "1875/1875 [==============================] - 8s 4ms/step - loss: 0.1011 - accuracy: 0.9711 - recall_1: 0.9539 - val_loss: 0.1397 - val_accuracy: 0.9612 - val_recall_1: 0.9249\n",
      "Epoch 62/100\n",
      "1875/1875 [==============================] - 7s 4ms/step - loss: 0.1004 - accuracy: 0.9722 - recall_1: 0.9572 - val_loss: 0.1407 - val_accuracy: 0.9619 - val_recall_1: 0.9350\n",
      "Epoch 63/100\n",
      "1875/1875 [==============================] - 7s 4ms/step - loss: 0.0996 - accuracy: 0.9721 - recall_1: 0.9563 - val_loss: 0.1451 - val_accuracy: 0.9595 - val_recall_1: 0.9238\n",
      "Epoch 64/100\n",
      "1875/1875 [==============================] - 7s 4ms/step - loss: 0.0985 - accuracy: 0.9721 - recall_1: 0.9568 - val_loss: 0.1390 - val_accuracy: 0.9616 - val_recall_1: 0.9417\n",
      "Epoch 65/100\n",
      "1875/1875 [==============================] - 7s 4ms/step - loss: 0.0979 - accuracy: 0.9728 - recall_1: 0.9561 - val_loss: 0.1385 - val_accuracy: 0.9613 - val_recall_1: 0.9395\n",
      "Epoch 66/100\n",
      "1875/1875 [==============================] - 7s 4ms/step - loss: 0.0969 - accuracy: 0.9728 - recall_1: 0.9574 - val_loss: 0.1465 - val_accuracy: 0.9608 - val_recall_1: 0.9271\n",
      "Epoch 67/100\n",
      "1875/1875 [==============================] - 7s 4ms/step - loss: 0.0966 - accuracy: 0.9731 - recall_1: 0.9583 - val_loss: 0.1386 - val_accuracy: 0.9615 - val_recall_1: 0.9462\n",
      "Epoch 68/100\n",
      "1875/1875 [==============================] - 7s 4ms/step - loss: 0.0959 - accuracy: 0.9731 - recall_1: 0.9594 - val_loss: 0.1427 - val_accuracy: 0.9614 - val_recall_1: 0.9496\n",
      "Epoch 69/100\n",
      "1875/1875 [==============================] - 7s 4ms/step - loss: 0.0954 - accuracy: 0.9737 - recall_1: 0.9587 - val_loss: 0.1437 - val_accuracy: 0.9605 - val_recall_1: 0.9238\n",
      "Epoch 70/100\n",
      "1875/1875 [==============================] - 7s 4ms/step - loss: 0.0944 - accuracy: 0.9740 - recall_1: 0.9605 - val_loss: 0.1414 - val_accuracy: 0.9625 - val_recall_1: 0.9406\n",
      "Epoch 71/100\n",
      "1875/1875 [==============================] - 8s 4ms/step - loss: 0.0936 - accuracy: 0.9745 - recall_1: 0.9594 - val_loss: 0.1404 - val_accuracy: 0.9627 - val_recall_1: 0.9316\n",
      "Epoch 72/100\n",
      "1875/1875 [==============================] - 7s 4ms/step - loss: 0.0927 - accuracy: 0.9746 - recall_1: 0.9583 - val_loss: 0.1405 - val_accuracy: 0.9623 - val_recall_1: 0.9294\n",
      "Epoch 73/100\n",
      "1875/1875 [==============================] - 8s 4ms/step - loss: 0.0927 - accuracy: 0.9740 - recall_1: 0.9590 - val_loss: 0.1427 - val_accuracy: 0.9622 - val_recall_1: 0.9563\n"
     ]
    }
   ],
   "source": [
    "ajuste = model.fit(epochs=100, x=X_train, y=t_train_ohe, validation_data=(X_test, t_test_ohe),\n",
    "                    callbacks=[early,])"
   ]
  },
  {
   "cell_type": "markdown",
   "metadata": {
    "id": "HYdyzbAisyF7"
   },
   "source": [
    "Nos gustaría ver un gráfico de la evolución del ajuste. De esto se trata la variable `ajuste`."
   ]
  },
  {
   "cell_type": "code",
   "execution_count": 64,
   "metadata": {
    "colab": {
     "base_uri": "https://localhost:8080/"
    },
    "executionInfo": {
     "elapsed": 265,
     "status": "ok",
     "timestamp": 1694454494606,
     "user": {
      "displayName": "Martin Makler",
      "userId": "14686016504460456268"
     },
     "user_tz": 180
    },
    "id": "-55rLcS2syF7",
    "outputId": "e900c4dd-bd7b-4a91-d771-7dca173d8169"
   },
   "outputs": [
    {
     "data": {
      "text/plain": [
       "{'loss': [0.7142264246940613,\n",
       "  0.5553267598152161,\n",
       "  0.47561800479888916,\n",
       "  0.40841835737228394,\n",
       "  0.36452001333236694,\n",
       "  0.33468854427337646,\n",
       "  0.31175461411476135,\n",
       "  0.2938462495803833,\n",
       "  0.27810364961624146,\n",
       "  0.2647559344768524,\n",
       "  0.2529693841934204,\n",
       "  0.24271416664123535,\n",
       "  0.23313555121421814,\n",
       "  0.2251996099948883,\n",
       "  0.21707631647586823,\n",
       "  0.2097221314907074,\n",
       "  0.20314384996891022,\n",
       "  0.19628514349460602,\n",
       "  0.19068990647792816,\n",
       "  0.18522411584854126,\n",
       "  0.18000668287277222,\n",
       "  0.17537325620651245,\n",
       "  0.1706153303384781,\n",
       "  0.16640403866767883,\n",
       "  0.16211384534835815,\n",
       "  0.15847797691822052,\n",
       "  0.15457594394683838,\n",
       "  0.1514216810464859,\n",
       "  0.1482420563697815,\n",
       "  0.14531119167804718,\n",
       "  0.14272889494895935,\n",
       "  0.14032761752605438,\n",
       "  0.13792523741722107,\n",
       "  0.1357688456773758,\n",
       "  0.13368955254554749,\n",
       "  0.13152365386486053,\n",
       "  0.12985806167125702,\n",
       "  0.12768684327602386,\n",
       "  0.12594905495643616,\n",
       "  0.12445508688688278,\n",
       "  0.12256837636232376,\n",
       "  0.1212637722492218,\n",
       "  0.12019479274749756,\n",
       "  0.11879254877567291,\n",
       "  0.11730239540338516,\n",
       "  0.1162395253777504,\n",
       "  0.1145276427268982,\n",
       "  0.11369110643863678,\n",
       "  0.11253100633621216,\n",
       "  0.11181466281414032,\n",
       "  0.11040874570608139,\n",
       "  0.10949555039405823,\n",
       "  0.10827015340328217,\n",
       "  0.1072811707854271,\n",
       "  0.10601316392421722,\n",
       "  0.10470931231975555,\n",
       "  0.10405454784631729,\n",
       "  0.10368841886520386,\n",
       "  0.10269392281770706,\n",
       "  0.10211920738220215,\n",
       "  0.10109580308198929,\n",
       "  0.10042086243629456,\n",
       "  0.09961447864770889,\n",
       "  0.09853791445493698,\n",
       "  0.09794062376022339,\n",
       "  0.09690394252538681,\n",
       "  0.09657090902328491,\n",
       "  0.09587731957435608,\n",
       "  0.09543152153491974,\n",
       "  0.09435564279556274,\n",
       "  0.09355428814888,\n",
       "  0.09271227568387985,\n",
       "  0.0927160307765007],\n",
       " 'accuracy': [0.7774500250816345,\n",
       "  0.8312666416168213,\n",
       "  0.8599166870117188,\n",
       "  0.8801833391189575,\n",
       "  0.893583357334137,\n",
       "  0.9017999768257141,\n",
       "  0.9085999727249146,\n",
       "  0.9147499799728394,\n",
       "  0.9186999797821045,\n",
       "  0.9230666756629944,\n",
       "  0.9259499907493591,\n",
       "  0.9300500154495239,\n",
       "  0.932200014591217,\n",
       "  0.9344833493232727,\n",
       "  0.9365666508674622,\n",
       "  0.9386333227157593,\n",
       "  0.9407166838645935,\n",
       "  0.9426166415214539,\n",
       "  0.9439666867256165,\n",
       "  0.9457499980926514,\n",
       "  0.9471166729927063,\n",
       "  0.9484333395957947,\n",
       "  0.9499333500862122,\n",
       "  0.9511666893959045,\n",
       "  0.9527999758720398,\n",
       "  0.9536499977111816,\n",
       "  0.9542999863624573,\n",
       "  0.9552833437919617,\n",
       "  0.9566333293914795,\n",
       "  0.9577999711036682,\n",
       "  0.9586833119392395,\n",
       "  0.9594166874885559,\n",
       "  0.9595500230789185,\n",
       "  0.9607666730880737,\n",
       "  0.9608333110809326,\n",
       "  0.9621166586875916,\n",
       "  0.9624333381652832,\n",
       "  0.9631333351135254,\n",
       "  0.963783323764801,\n",
       "  0.9642999768257141,\n",
       "  0.9647666811943054,\n",
       "  0.9657833576202393,\n",
       "  0.9655166864395142,\n",
       "  0.966616690158844,\n",
       "  0.9665499925613403,\n",
       "  0.9669166803359985,\n",
       "  0.9674999713897705,\n",
       "  0.9677000045776367,\n",
       "  0.9679166674613953,\n",
       "  0.9685500264167786,\n",
       "  0.9691166877746582,\n",
       "  0.9688166379928589,\n",
       "  0.9688833355903625,\n",
       "  0.9695333242416382,\n",
       "  0.9700000286102295,\n",
       "  0.9707833528518677,\n",
       "  0.9703666567802429,\n",
       "  0.9708999991416931,\n",
       "  0.9715666770935059,\n",
       "  0.9714333415031433,\n",
       "  0.9710666537284851,\n",
       "  0.9721666574478149,\n",
       "  0.9720500111579895,\n",
       "  0.972100019454956,\n",
       "  0.9727833271026611,\n",
       "  0.9727500081062317,\n",
       "  0.9730666875839233,\n",
       "  0.9730833172798157,\n",
       "  0.973716676235199,\n",
       "  0.9740333557128906,\n",
       "  0.9744833111763,\n",
       "  0.9745833277702332,\n",
       "  0.9739500284194946],\n",
       " 'recall_1': [0.30990591645240784,\n",
       "  0.5897436141967773,\n",
       "  0.6858513355255127,\n",
       "  0.7522597312927246,\n",
       "  0.7939494848251343,\n",
       "  0.8109204769134521,\n",
       "  0.8273381590843201,\n",
       "  0.8454159498214722,\n",
       "  0.8542704582214355,\n",
       "  0.866260826587677,\n",
       "  0.8699501752853394,\n",
       "  0.8769599795341492,\n",
       "  0.8836008310317993,\n",
       "  0.8856299519538879,\n",
       "  0.8919018507003784,\n",
       "  0.8933776021003723,\n",
       "  0.900756299495697,\n",
       "  0.9018630981445312,\n",
       "  0.9062903523445129,\n",
       "  0.9085039496421814,\n",
       "  0.9121932983398438,\n",
       "  0.9120088815689087,\n",
       "  0.9151448011398315,\n",
       "  0.9186496734619141,\n",
       "  0.9204943776130676,\n",
       "  0.9216011762619019,\n",
       "  0.9247371554374695,\n",
       "  0.9252905249595642,\n",
       "  0.9289798736572266,\n",
       "  0.9299022555351257,\n",
       "  0.9337760806083679,\n",
       "  0.9345139265060425,\n",
       "  0.9335916042327881,\n",
       "  0.9358052015304565,\n",
       "  0.9361741542816162,\n",
       "  0.9394945502281189,\n",
       "  0.9400479793548584,\n",
       "  0.9400479793548584,\n",
       "  0.9418926239013672,\n",
       "  0.942077100276947,\n",
       "  0.9426305294036865,\n",
       "  0.944844126701355,\n",
       "  0.9457664489746094,\n",
       "  0.9455819725990295,\n",
       "  0.9450286030769348,\n",
       "  0.9465043544769287,\n",
       "  0.9476111531257629,\n",
       "  0.948902428150177,\n",
       "  0.9524073004722595,\n",
       "  0.9472422003746033,\n",
       "  0.9514849781990051,\n",
       "  0.9509315490722656,\n",
       "  0.9505626559257507,\n",
       "  0.9527762532234192,\n",
       "  0.9542520046234131,\n",
       "  0.9557276964187622,\n",
       "  0.9564656019210815,\n",
       "  0.9553588032722473,\n",
       "  0.9568345546722412,\n",
       "  0.9549898505210876,\n",
       "  0.9538830518722534,\n",
       "  0.9572034478187561,\n",
       "  0.9562811255455017,\n",
       "  0.9568345546722412,\n",
       "  0.9560966491699219,\n",
       "  0.9573879241943359,\n",
       "  0.9583102464675903,\n",
       "  0.9594171047210693,\n",
       "  0.95867919921875,\n",
       "  0.9605239033699036,\n",
       "  0.9594171047210693,\n",
       "  0.9583102464675903,\n",
       "  0.9590481519699097],\n",
       " 'val_loss': [0.5988486409187317,\n",
       "  0.5052065849304199,\n",
       "  0.4264954626560211,\n",
       "  0.37611982226371765,\n",
       "  0.33692482113838196,\n",
       "  0.3195652365684509,\n",
       "  0.296583354473114,\n",
       "  0.2794748544692993,\n",
       "  0.26478058099746704,\n",
       "  0.258976012468338,\n",
       "  0.24452348053455353,\n",
       "  0.2418961226940155,\n",
       "  0.2288108617067337,\n",
       "  0.22215041518211365,\n",
       "  0.2152000218629837,\n",
       "  0.2077982872724533,\n",
       "  0.20096662640571594,\n",
       "  0.20065394043922424,\n",
       "  0.19474337995052338,\n",
       "  0.18745553493499756,\n",
       "  0.18871013820171356,\n",
       "  0.18185752630233765,\n",
       "  0.17584234476089478,\n",
       "  0.17190882563591003,\n",
       "  0.17410653829574585,\n",
       "  0.16960076987743378,\n",
       "  0.1655004471540451,\n",
       "  0.17022383213043213,\n",
       "  0.16172029078006744,\n",
       "  0.16372792422771454,\n",
       "  0.15705780684947968,\n",
       "  0.1591014415025711,\n",
       "  0.15594810247421265,\n",
       "  0.1574152559041977,\n",
       "  0.1521456241607666,\n",
       "  0.1495741754770279,\n",
       "  0.14685891568660736,\n",
       "  0.1574498414993286,\n",
       "  0.1534699648618698,\n",
       "  0.14835584163665771,\n",
       "  0.14831660687923431,\n",
       "  0.14806491136550903,\n",
       "  0.15087252855300903,\n",
       "  0.14431944489479065,\n",
       "  0.15115274488925934,\n",
       "  0.1463005542755127,\n",
       "  0.1460203379392624,\n",
       "  0.14201074838638306,\n",
       "  0.14772342145442963,\n",
       "  0.14597347378730774,\n",
       "  0.14298568665981293,\n",
       "  0.14412106573581696,\n",
       "  0.14362740516662598,\n",
       "  0.141238734126091,\n",
       "  0.14153353869915009,\n",
       "  0.13949161767959595,\n",
       "  0.13944268226623535,\n",
       "  0.1380910575389862,\n",
       "  0.13991904258728027,\n",
       "  0.14111502468585968,\n",
       "  0.13969039916992188,\n",
       "  0.14070767164230347,\n",
       "  0.14510545134544373,\n",
       "  0.138983815908432,\n",
       "  0.13848523795604706,\n",
       "  0.1465488076210022,\n",
       "  0.13857001066207886,\n",
       "  0.1426941603422165,\n",
       "  0.14372974634170532,\n",
       "  0.14143233001232147,\n",
       "  0.1403651088476181,\n",
       "  0.1405051350593567,\n",
       "  0.14272508025169373],\n",
       " 'val_accuracy': [0.8126000165939331,\n",
       "  0.847100019454956,\n",
       "  0.8744999766349792,\n",
       "  0.8896999955177307,\n",
       "  0.9002000093460083,\n",
       "  0.9063000082969666,\n",
       "  0.9120000004768372,\n",
       "  0.916700005531311,\n",
       "  0.9218000173568726,\n",
       "  0.925000011920929,\n",
       "  0.9254999756813049,\n",
       "  0.929099977016449,\n",
       "  0.9352999925613403,\n",
       "  0.9347000122070312,\n",
       "  0.9383000135421753,\n",
       "  0.9394000172615051,\n",
       "  0.9409000277519226,\n",
       "  0.9412999749183655,\n",
       "  0.9435999989509583,\n",
       "  0.9440000057220459,\n",
       "  0.9434000253677368,\n",
       "  0.9456999897956848,\n",
       "  0.9473000168800354,\n",
       "  0.9492999911308289,\n",
       "  0.9483000040054321,\n",
       "  0.949999988079071,\n",
       "  0.9520999789237976,\n",
       "  0.949400007724762,\n",
       "  0.9516000151634216,\n",
       "  0.9517999887466431,\n",
       "  0.9546999931335449,\n",
       "  0.954200029373169,\n",
       "  0.953499972820282,\n",
       "  0.9534000158309937,\n",
       "  0.9553999900817871,\n",
       "  0.9559999704360962,\n",
       "  0.9577999711036682,\n",
       "  0.9555000066757202,\n",
       "  0.9544000029563904,\n",
       "  0.9575999975204468,\n",
       "  0.957099974155426,\n",
       "  0.9573000073432922,\n",
       "  0.95660001039505,\n",
       "  0.9593999981880188,\n",
       "  0.9559000134468079,\n",
       "  0.9591000080108643,\n",
       "  0.958899974822998,\n",
       "  0.9606999754905701,\n",
       "  0.9578999876976013,\n",
       "  0.9587000012397766,\n",
       "  0.9592000246047974,\n",
       "  0.9603000283241272,\n",
       "  0.9588000178337097,\n",
       "  0.9609000086784363,\n",
       "  0.9603999853134155,\n",
       "  0.9606999754905701,\n",
       "  0.9611999988555908,\n",
       "  0.961899995803833,\n",
       "  0.9614999890327454,\n",
       "  0.9610999822616577,\n",
       "  0.9611999988555908,\n",
       "  0.961899995803833,\n",
       "  0.9595000147819519,\n",
       "  0.9616000056266785,\n",
       "  0.9613000154495239,\n",
       "  0.9607999920845032,\n",
       "  0.9614999890327454,\n",
       "  0.9613999724388123,\n",
       "  0.9605000019073486,\n",
       "  0.9624999761581421,\n",
       "  0.9627000093460083,\n",
       "  0.9623000025749207,\n",
       "  0.9621999859809875],\n",
       " 'val_recall_1': [0.5190582871437073,\n",
       "  0.6266816258430481,\n",
       "  0.6300448179244995,\n",
       "  0.7533632516860962,\n",
       "  0.8026905655860901,\n",
       "  0.8060538172721863,\n",
       "  0.834080696105957,\n",
       "  0.8452914953231812,\n",
       "  0.8408071994781494,\n",
       "  0.8778026700019836,\n",
       "  0.8452914953231812,\n",
       "  0.9091928005218506,\n",
       "  0.8923766613006592,\n",
       "  0.8923766613006592,\n",
       "  0.9035874605178833,\n",
       "  0.9013453125953674,\n",
       "  0.9002242088317871,\n",
       "  0.902466356754303,\n",
       "  0.9181614518165588,\n",
       "  0.8699551820755005,\n",
       "  0.9237667918205261,\n",
       "  0.915919303894043,\n",
       "  0.9215246438980103,\n",
       "  0.8923766613006592,\n",
       "  0.9372197389602661,\n",
       "  0.9372197389602661,\n",
       "  0.9237667918205261,\n",
       "  0.9360986351966858,\n",
       "  0.915919303894043,\n",
       "  0.939461886882782,\n",
       "  0.9136771559715271,\n",
       "  0.9170403480529785,\n",
       "  0.9215246438980103,\n",
       "  0.9372197389602661,\n",
       "  0.9125560522079468,\n",
       "  0.9304932951927185,\n",
       "  0.9248878955841064,\n",
       "  0.9248878955841064,\n",
       "  0.9293721914291382,\n",
       "  0.9147982001304626,\n",
       "  0.9136771559715271,\n",
       "  0.945067286491394,\n",
       "  0.945067286491394,\n",
       "  0.9271300435066223,\n",
       "  0.931614339351654,\n",
       "  0.9069506525993347,\n",
       "  0.9360986351966858,\n",
       "  0.9271300435066223,\n",
       "  0.9383407831192017,\n",
       "  0.9338564872741699,\n",
       "  0.9439461827278137,\n",
       "  0.9293721914291382,\n",
       "  0.9428251385688782,\n",
       "  0.9304932951927185,\n",
       "  0.9304932951927185,\n",
       "  0.9338564872741699,\n",
       "  0.9383407831192017,\n",
       "  0.931614339351654,\n",
       "  0.9215246438980103,\n",
       "  0.9372197389602661,\n",
       "  0.9248878955841064,\n",
       "  0.9349775910377502,\n",
       "  0.9237667918205261,\n",
       "  0.9417040348052979,\n",
       "  0.939461886882782,\n",
       "  0.9271300435066223,\n",
       "  0.9461883306503296,\n",
       "  0.9495515823364258,\n",
       "  0.9237667918205261,\n",
       "  0.9405829310417175,\n",
       "  0.931614339351654,\n",
       "  0.9293721914291382,\n",
       "  0.9562780261039734]}"
      ]
     },
     "execution_count": 64,
     "metadata": {},
     "output_type": "execute_result"
    }
   ],
   "source": [
    "ajuste.history"
   ]
  },
  {
   "cell_type": "code",
   "execution_count": 65,
   "metadata": {
    "colab": {
     "base_uri": "https://localhost:8080/",
     "height": 540
    },
    "executionInfo": {
     "elapsed": 38813,
     "status": "ok",
     "timestamp": 1694472743819,
     "user": {
      "displayName": "Martin Makler",
      "userId": "14686016504460456268"
     },
     "user_tz": 180
    },
    "id": "-GOxGU5ZEw1b",
    "outputId": "89d83afb-050c-45fd-fca2-957893178b67"
   },
   "outputs": [
    {
     "data": {
      "text/plain": [
       "<matplotlib.legend.Legend at 0x7f7690ac5880>"
      ]
     },
     "execution_count": 65,
     "metadata": {},
     "output_type": "execute_result"
    },
    {
     "data": {
      "image/png": "[encoded data removed]",
      "text/plain": [
       "<Figure size 720x432 with 2 Axes>"
      ]
     },
     "metadata": {
      "needs_background": "light"
     },
     "output_type": "display_data"
    }
   ],
   "source": [
    "fig = plt.figure(figsize=(10, 6))\n",
    "ax = fig.add_subplot(111)\n",
    "\n",
    "kw = {'marker': '.', 'lw': 2, 'alpha': 0.5}\n",
    "l0, = ax.plot(ajuste.history['accuracy'], label='Train Accuracy', **kw)\n",
    "l1, = ax.plot(ajuste.history['val_accuracy'], label='Validation Accuracy', **kw)\n",
    "\n",
    "ax2 = ax.twinx()\n",
    "ll0, = ax2.plot(ajuste.history['loss'], ls=':', color='C0', label='Train Loss', **kw)\n",
    "ll1, = ax2.plot(ajuste.history['val_loss'], ls=':', color='C1', label='Validation Loss', **kw)\n",
    "\n",
    "ax.set_ylabel('Accuracy', fontsize=16)\n",
    "ax2.set_ylabel('Loss', fontsize=16)\n",
    "\n",
    "ax.legend(handles=[l0, l1, ll0, ll1], loc='center', fontsize=14)\n",
    "# plt.legend(loc=0)\n",
    "\n",
    "# Otra formas más estandar para plotear \n",
    "\n",
    "#pd.DataFrame(ajuste.history).plot(figsize=(8, 5))\n",
    "#plt.grid(True)\n",
    "#plt.gca().set_ylim(0, 1)\n",
    "#plt.show()\n"
   ]
  },
  {
   "cell_type": "markdown",
   "metadata": {},
   "source": [
    "## Persistencia: Guardar y cargar modelos\n",
    "\n",
    "Para guardar nuestros modelos ajustados necesitamos guardar tanto la estructura de la red como los pesos. Esto es más eficiente que guardar toda la clase. Keras proporciona métodos transparentes para guardar y cargar modelos utilizando un formato H5."
   ]
  },
  {
   "cell_type": "code",
   "execution_count": null,
   "metadata": {},
   "outputs": [],
   "source": [
    "model.save(\"my_keras_model.h5\")\n",
    "# o se puede salvar en un formato específico de keras\n",
    "model.save('my_model.keras')"
   ]
  },
  {
   "cell_type": "markdown",
   "metadata": {},
   "source": [
    "Y para cargar..."
   ]
  },
  {
   "cell_type": "code",
   "execution_count": null,
   "metadata": {
    "tags": []
   },
   "outputs": [],
   "source": [
    "model = keras.models.load_model(\"my_keras_model.h5\")"
   ]
  },
  {
   "cell_type": "markdown",
   "metadata": {},
   "source": [
    "Una opción más liviana es sólo guardar los pesos de cada capa:"
   ]
  },
  {
   "cell_type": "code",
   "execution_count": null,
   "metadata": {},
   "outputs": [],
   "source": [
    "model.save_weights(\"my_keras_weights.ckpt\")"
   ]
  },
  {
   "cell_type": "markdown",
   "metadata": {},
   "source": [
    "Y antes de cargar los pesos, tendremos que definir la arquitectura del modelo, y tiene que ser idéntica a la que utilizamos para guardarla. Sólo entonces, podemos cargar diferentes pesos."
   ]
  },
  {
   "cell_type": "code",
   "execution_count": null,
   "metadata": {},
   "outputs": [],
   "source": [
    "model.load_weights(\"my_keras_weights.ckpt\")"
   ]
  },
  {
   "cell_type": "markdown",
   "metadata": {},
   "source": [
    "## Otras técnicas de regularización"
   ]
  },
  {
   "cell_type": "markdown",
   "metadata": {},
   "source": [
    "### Reducción de pesos / _Weight Decay_"
   ]
  },
  {
   "cell_type": "markdown",
   "metadata": {},
   "source": [
    "Sabemos que podemos flexibilizar nuestra red añadiendo más neuronas o capas. Pero, ¿cómo podemos regularizarla para evitar el sobreajuste? A continuación, hablaremos de algunas técnicas comunes."
   ]
  },
  {
   "cell_type": "markdown",
   "metadata": {},
   "source": [
    "La idea por detrás de la reducción de pesos es la misma que la de los métodos de regularización Ridge y Lasso para modelos lineales: Cuanto más pequeños sean los pesos, menores serán los *grados de libertad efectivos* de nuestro modelo. Además, al evitar que los pesos sean grandes, obligamos a nuestra red a no ser demasiado dependiente de una característica determinada, y por tanto de su ruido.\n",
    "\n",
    "Podemos especificar el método de regularización en la instatiación de la capa, utilizando el método `kernel_regularizer`. Podemos entonces utilizar un Ridge (`keras.regularizers.l2()`), Lasso (`keras.regularizers.l1()`) o una red elástica (`keras.regularizers.l1_l2()`)."
   ]
  },
  {
   "cell_type": "code",
   "execution_count": 18,
   "metadata": {
    "tags": []
   },
   "outputs": [],
   "source": [
    "#Por ejemplo, para definir una capa densa con una función de activación ReLU, 100 neuronas y una regularización l2 (~Ridge) con un factor alfa de 0,01:\n",
    "layer = keras.layers.Dense(100,\n",
    "                          activation='relu',\n",
    "                          kernel_regularizer=keras.regularizers.l2(0.01))"
   ]
  },
  {
   "cell_type": "markdown",
   "metadata": {},
   "source": [
    "Para ahorrar en la escritura, podemos definir nuestras capas regularizadas utilizando la herramienta `parcial`:"
   ]
  },
  {
   "cell_type": "code",
   "execution_count": 19,
   "metadata": {
    "tags": []
   },
   "outputs": [
    {
     "name": "stderr",
     "output_type": "stream",
     "text": [
      "/home/agus/anaconda3/envs/data_science/lib/python3.11/site-packages/keras/src/layers/reshaping/flatten.py:37: UserWarning: Do not pass an `input_shape`/`input_dim` argument to a layer. When using Sequential models, prefer using an `Input(shape)` object as the first layer in the model instead.\n",
      "  super().__init__(**kwargs)\n"
     ]
    }
   ],
   "source": [
    "from functools import partial\n",
    "\n",
    "RegularizedDense = partial(keras.layers.Dense,\n",
    "                          activation='relu',\n",
    "                          kernel_regularizer=keras.regularizers.l2(0.01))\n",
    "\n",
    "model_part = keras.models.Sequential([\n",
    "    keras.layers.Flatten(input_shape=[28, 28]),\n",
    "    RegularizedDense(300),\n",
    "    RegularizedDense(100),\n",
    "    RegularizedDense(10, activation=\"softmax\")\n",
    "])"
   ]
  },
  {
   "cell_type": "markdown",
   "metadata": {
    "id": "ivJd5XRxW79J"
   },
   "source": [
    "### _Dropout Layer_"
   ]
  },
  {
   "cell_type": "markdown",
   "metadata": {
    "id": "U9vl2pMLW79J"
   },
   "source": [
    "Una forma popular de regularizar las redes neuronales profundas se propuso en dos artículos de 2012 y 2014: En cada paso de entrenamiento, algunas de las neuronas tienen una probabilidad $p$ de \"apagarse\" (sus salidas se ponen a cero). Esto se hace sólo durante el entrenamiento, y para la predicción todas las neuronas están encendidas (y sus pesos debidamente reponderados para tener en cuenta el aumento de $1/p$ en la señal).\n",
    "\n",
    "La idea principal detrás de esto es forzar a la red a no depender demasiado de una neurona en particular, forzándola a entregar *buenos* resultados incluso cuando esa neurona está apagada. Existen también algunas variantes de este modelo, como `Alpha-Dropout` y `MCDropout`.\n",
    "\n",
    "En Keras, este tipo de regularización se ha implementado como una capa, por lo que sólo tenemos que importarla e instanciarla. La probabilidad de desactivación $p$ se establece a través del parámetro `rate`, y la Capa se encarga de retropropagar adecuadamente la señal así como de ajustar los pesos para la evaluación y predicción."
   ]
  },
  {
   "cell_type": "code",
   "execution_count": 50,
   "metadata": {
    "executionInfo": {
     "elapsed": 397,
     "status": "ok",
     "timestamp": 1694644054898,
     "user": {
      "displayName": "Martin Makler",
      "userId": "14686016504460456268"
     },
     "user_tz": 180
    },
    "id": "H7Hw_r8wW79J"
   },
   "outputs": [],
   "source": [
    "#Por ejemplo en el modelo para MNIST agregamos dropout después de cada capa:\n",
    "model_drop = keras.models.Sequential([\n",
    "    keras.layers.Flatten(input_shape=[28, 28]),\n",
    "    keras.layers.Dropout(rate=0.2), #equivale a apagar algunos pixeles de la imagen\n",
    "    keras.layers.Dense(300, activation=\"relu\"),\n",
    "    keras.layers.Dropout(rate=0.2),\n",
    "    keras.layers.Dense(100, activation=\"relu\"),\n",
    "    keras.layers.Dropout(rate=0.2),\n",
    "    keras.layers.Dense(10, activation=\"softmax\")\n",
    "])"
   ]
  },
  {
   "cell_type": "markdown",
   "metadata": {
    "id": "9mZu1Doa3WyS"
   },
   "source": [
    "## Análisis"
   ]
  },
  {
   "cell_type": "markdown",
   "metadata": {
    "id": "LWWKKUeisyF7"
   },
   "source": [
    "Exploremos ahora un poco más los errores de la red. Para eso, trabajaremos con el conjunto de test (esto no es del todo correcto porque usamos el mismo conjunto para hacer la validación)."
   ]
  },
  {
   "cell_type": "code",
   "execution_count": 66,
   "metadata": {
    "colab": {
     "base_uri": "https://localhost:8080/"
    },
    "executionInfo": {
     "elapsed": 1201,
     "status": "ok",
     "timestamp": 1694472932941,
     "user": {
      "displayName": "Martin Makler",
      "userId": "14686016504460456268"
     },
     "user_tz": 180
    },
    "id": "AR5P_wJ-syF7",
    "outputId": "5bc9a432-ce12-42b1-84c6-b9a40e123aa5"
   },
   "outputs": [
    {
     "name": "stdout",
     "output_type": "stream",
     "text": [
      "313/313 [==============================] - 1s 3ms/step - loss: 0.1381 - accuracy: 0.9619 - recall_1: 0.9316\n"
     ]
    },
    {
     "data": {
      "text/plain": [
       "[0.1380910575389862, 0.961899995803833, 0.931614339351654]"
      ]
     },
     "execution_count": 66,
     "metadata": {},
     "output_type": "execute_result"
    }
   ],
   "source": [
    "model.evaluate(X_test, t_test_ohe)"
   ]
  },
  {
   "cell_type": "markdown",
   "metadata": {
    "id": "k-oXIfZisyF7"
   },
   "source": [
    "Veamos con más detalle los casos en los que la red cometió errores"
   ]
  },
  {
   "cell_type": "code",
   "execution_count": 67,
   "metadata": {
    "colab": {
     "base_uri": "https://localhost:8080/"
    },
    "executionInfo": {
     "elapsed": 1598,
     "status": "ok",
     "timestamp": 1694472953694,
     "user": {
      "displayName": "Martin Makler",
      "userId": "14686016504460456268"
     },
     "user_tz": 180
    },
    "id": "doDTcrZxsyF7",
    "outputId": "ef71a10a-4dfc-44eb-d837-26bc433e8c04"
   },
   "outputs": [
    {
     "name": "stdout",
     "output_type": "stream",
     "text": [
      "313/313 [==============================] - 1s 2ms/step\n"
     ]
    },
    {
     "data": {
      "text/plain": [
       "(10000, 10)"
      ]
     },
     "execution_count": 67,
     "metadata": {},
     "output_type": "execute_result"
    }
   ],
   "source": [
    "model.predict(X_test).shape"
   ]
  },
  {
   "cell_type": "code",
   "execution_count": 68,
   "metadata": {
    "colab": {
     "base_uri": "https://localhost:8080/"
    },
    "executionInfo": {
     "elapsed": 868,
     "status": "ok",
     "timestamp": 1694472994850,
     "user": {
      "displayName": "Martin Makler",
      "userId": "14686016504460456268"
     },
     "user_tz": 180
    },
    "id": "3Ri5dGJm0GOU",
    "outputId": "50a280d4-d70d-4f1c-df35-e3db188a16e5"
   },
   "outputs": [
    {
     "name": "stdout",
     "output_type": "stream",
     "text": [
      "313/313 [==============================] - 1s 2ms/step\n",
      "Hay 381 errores en el conjunto de validación\n"
     ]
    }
   ],
   "source": [
    "# Calcular las predicciones y encontrar los casos con error\n",
    "y_test = np.argmax(model.predict(X_test), axis=1)\n",
    "\n",
    "ierror = (y_test - t_test != 0)\n",
    "\n",
    "# Cuántos hay\n",
    "print('Hay {} errores en el conjunto de validación'.format(np.sum(ierror)))"
   ]
  },
  {
   "cell_type": "code",
   "execution_count": 69,
   "metadata": {
    "colab": {
     "base_uri": "https://localhost:8080/",
     "height": 523
    },
    "executionInfo": {
     "elapsed": 1975,
     "status": "ok",
     "timestamp": 1694473030505,
     "user": {
      "displayName": "Martin Makler",
      "userId": "14686016504460456268"
     },
     "user_tz": 180
    },
    "id": "Stfm0aes022Y",
    "outputId": "adb6eec5-808f-47b2-ec72-bce5ac8cbd73"
   },
   "outputs": [
    {
     "data": {
      "image/png": "[encoded data removed]",
      "text/plain": [
       "<Figure size 864x432 with 24 Axes>"
      ]
     },
     "metadata": {
      "needs_background": "light"
     },
     "output_type": "display_data"
    }
   ],
   "source": [
    "n_images = 18\n",
    "n_columns = 8\n",
    "\n",
    "n_rows = int(n_images / n_columns)\n",
    "\n",
    "if n_images % n_columns != 0:\n",
    "    n_rows += 1\n",
    "\n",
    "fig, axs = plt.subplots(ncols=n_columns, nrows=n_rows, figsize=(12, 2*n_rows))\n",
    "\n",
    "# Veamos algunos ejemplos de los datos en los que se equivocó\n",
    "for i, ax in zip(range(n_images), axs.flatten()):\n",
    "    ax.imshow(X_test[ierror][i], interpolation='None', cmap='binary')\n",
    "    ax.set_title('Predicción: {}\\nValor real: {}'.format(y_test[ierror][i], t_test[ierror][i]))\n",
    "\n",
    "for ax in axs.flatten():\n",
    "    ax.axis('off')"
   ]
  },
  {
   "cell_type": "markdown",
   "metadata": {
    "id": "tO9aq05w35Mp"
   },
   "source": [
    "Bien, esto parece razonable, ¿verdad? Miren esos números. Algunos son realmente difíciles...."
   ]
  },
  {
   "cell_type": "markdown",
   "metadata": {
    "id": "GYz1fvEGsyF8"
   },
   "source": [
    "Veamos la distribución de probabilidades. Usa la probabilidad de la clase que fue elegida por la red, tanto en el caso de los errores como de los que no lo fueron."
   ]
  },
  {
   "cell_type": "code",
   "execution_count": 70,
   "metadata": {
    "colab": {
     "base_uri": "https://localhost:8080/"
    },
    "executionInfo": {
     "elapsed": 3354,
     "status": "ok",
     "timestamp": 1694473176693,
     "user": {
      "displayName": "Martin Makler",
      "userId": "14686016504460456268"
     },
     "user_tz": 180
    },
    "id": "xf4nKE6wwCRz",
    "outputId": "3de8fc08-8db9-4f7e-d154-3ac5a5c43986"
   },
   "outputs": [
    {
     "name": "stdout",
     "output_type": "stream",
     "text": [
      "313/313 [==============================] - 1s 2ms/step\n",
      "301/301 [==============================] - 1s 2ms/step\n",
      "12/12 [==============================] - 0s 2ms/step\n"
     ]
    }
   ],
   "source": [
    "pred_proba_all = np.max(model.predict(X_test), axis=1)\n",
    "\n",
    "pred_proba = np.max(model.predict(X_test[~ierror]), axis=1)\n",
    "pred_proba_err = np.max(model.predict(X_test[ierror]), axis=1)"
   ]
  },
  {
   "cell_type": "code",
   "execution_count": 71,
   "metadata": {
    "colab": {
     "base_uri": "https://localhost:8080/",
     "height": 570
    },
    "executionInfo": {
     "elapsed": 722,
     "status": "ok",
     "timestamp": 1694473249933,
     "user": {
      "displayName": "Martin Makler",
      "userId": "14686016504460456268"
     },
     "user_tz": 180
    },
    "id": "F1Py7c7CsyF8",
    "outputId": "8faeec22-ee08-4278-b342-bd0bf5f9582b"
   },
   "outputs": [
    {
     "data": {
      "text/plain": [
       "<matplotlib.legend.Legend at 0x7f7690a593a0>"
      ]
     },
     "execution_count": 71,
     "metadata": {},
     "output_type": "execute_result"
    },
    {
     "data": {
      "image/png": "[encoded data removed]",
      "text/plain": [
       "<Figure size 648x432 with 1 Axes>"
      ]
     },
     "metadata": {
      "needs_background": "light"
     },
     "output_type": "display_data"
    }
   ],
   "source": [
    "# Veamos la distribución\n",
    "fig = plt.figure(figsize=(9,6))\n",
    "\n",
    "bins = np.linspace(0, 1, 50)\n",
    "plt.hist(pred_proba, bins=bins, histtype='step', label='Correct', density=True, log=True)\n",
    "plt.hist(pred_proba_err, bins=bins, histtype='step', label='Error', density=True)\n",
    "\n",
    "# Labels and ticks\n",
    "plt.xlabel('Probability', size=14)\n",
    "plt.gca().tick_params(axis='both', which='major', labelsize=14)\n",
    "\n",
    "plt.legend(loc=2)"
   ]
  },
  {
   "cell_type": "markdown",
   "metadata": {
    "id": "xWp83_ggsyF8"
   },
   "source": [
    "Esto es bueno. La red parece estar menos segura cuando comete errores. Esto significa que podríamos ajustar un poco el umbral de decisión para mejorar el rendimiento.\n",
    "\n",
    "Pero parece estar bastante segura de algunos casos en los que se equivoca. Vamos a verlos."
   ]
  },
  {
   "cell_type": "code",
   "execution_count": 72,
   "metadata": {
    "colab": {
     "base_uri": "https://localhost:8080/"
    },
    "executionInfo": {
     "elapsed": 290,
     "status": "ok",
     "timestamp": 1694473363169,
     "user": {
      "displayName": "Martin Makler",
      "userId": "14686016504460456268"
     },
     "user_tz": 180
    },
    "id": "2lspRXtdsyF8",
    "outputId": "00e0e7aa-bfcd-4314-a549-41054da582d2"
   },
   "outputs": [
    {
     "name": "stdout",
     "output_type": "stream",
     "text": [
      "Hay 77 imágenes erróneamente clasificadas y con prbabilidad por encima del 95%\n"
     ]
    }
   ],
   "source": [
    "ii = (pred_proba_all > 0.95) * (y_test - t_test != 0)\n",
    "\n",
    "print('Hay {} imágenes erróneamente clasificadas y con prbabilidad por encima del 95%'.format(sum(ii)))"
   ]
  },
  {
   "cell_type": "code",
   "execution_count": 73,
   "metadata": {
    "colab": {
     "base_uri": "https://localhost:8080/",
     "height": 523
    },
    "executionInfo": {
     "elapsed": 1757,
     "status": "ok",
     "timestamp": 1694473394381,
     "user": {
      "displayName": "Martin Makler",
      "userId": "14686016504460456268"
     },
     "user_tz": 180
    },
    "id": "cUrBk5pDsyF8",
    "outputId": "837a1b23-672a-48c1-f16a-fbf47a9b1343"
   },
   "outputs": [
    {
     "data": {
      "image/png": "[encoded data removed]",
      "text/plain": [
       "<Figure size 864x432 with 24 Axes>"
      ]
     },
     "metadata": {
      "needs_background": "light"
     },
     "output_type": "display_data"
    }
   ],
   "source": [
    "n_images = 18\n",
    "n_columns = 8\n",
    "\n",
    "n_rows = int(n_images / n_columns)\n",
    "\n",
    "if n_images % n_columns != 0:\n",
    "    n_rows += 1\n",
    "\n",
    "fig, axs = plt.subplots(ncols=n_columns, nrows=n_rows, figsize=(12, 2*n_rows))\n",
    "# Veamos algunos ejemplos de los datos en los que se equivocó\n",
    "\n",
    "for i, ax in zip(range(n_images), axs.flatten()):\n",
    "    ax.imshow(X_test[ii][i], interpolation='None', cmap='binary')\n",
    "    ax.set_title('Predicción: {}\\nValor real: {}'.format(y_test[ii][i],\n",
    "                                                    t_test[ii][i]))\n",
    "\n",
    "for ax in axs.flatten():\n",
    "    ax.axis('off')"
   ]
  },
  {
   "cell_type": "markdown",
   "metadata": {
    "id": "I3566MxtsyF8"
   },
   "source": [
    "#### Cómo aprende la red."
   ]
  },
  {
   "cell_type": "markdown",
   "metadata": {
    "id": "Fdtxg4W6syF8"
   },
   "source": [
    "Intentemos mirar dentro de la red para entender si entendió algo sobre cómo son los números o no. Hay muchos parámetros, pero tenemos la esperanza de que al menos la primera capa sea algo razonable, como un detector de bordes. Veamos.\n",
    "\n",
    "Leamos los pesos y el sesgo de la primera capa oculta y veamos las formas."
   ]
  },
  {
   "cell_type": "code",
   "execution_count": 74,
   "metadata": {
    "colab": {
     "base_uri": "https://localhost:8080/"
    },
    "executionInfo": {
     "elapsed": 274,
     "status": "ok",
     "timestamp": 1694473464215,
     "user": {
      "displayName": "Martin Makler",
      "userId": "14686016504460456268"
     },
     "user_tz": 180
    },
    "id": "fvJjmOQ6VJ3B",
    "outputId": "dcdd1dec-8835-4e4f-a870-9ea619af38b8"
   },
   "outputs": [
    {
     "name": "stdout",
     "output_type": "stream",
     "text": [
      "(784, 32) (32,)\n"
     ]
    }
   ],
   "source": [
    "# Tengan en cuenta que aquí la capa relevante es la capa[1], ya que la capa[0] es una capa de aplanamiento.\n",
    "W, b = model.layers[1].get_weights()\n",
    "print(W.shape, b.shape)"
   ]
  },
  {
   "cell_type": "code",
   "execution_count": 75,
   "metadata": {
    "colab": {
     "base_uri": "https://localhost:8080/",
     "height": 807
    },
    "executionInfo": {
     "elapsed": 1677,
     "status": "ok",
     "timestamp": 1694473473191,
     "user": {
      "displayName": "Martin Makler",
      "userId": "14686016504460456268"
     },
     "user_tz": 180
    },
    "id": "X4WcRMSGpulN",
    "outputId": "d0fde06b-42e9-4f8d-f190-317b352fc492"
   },
   "outputs": [
    {
     "data": {
      "image/png": "[encoded data removed]",
      "text/plain": [
       "<Figure size 720x720 with 32 Axes>"
      ]
     },
     "metadata": {
      "needs_background": "light"
     },
     "output_type": "display_data"
    }
   ],
   "source": [
    "WW = W.reshape([28,28,32])\n",
    "\n",
    "# Encontrar límites relevantes para los valores de los píxeles\n",
    "Wmin = WW[3:-3, 3:-3].min()\n",
    "Wmax = WW[3:-3, 3:-3].max()\n",
    "\n",
    "fig = plt.figure(figsize=(10,10))\n",
    "for i in range(WW.shape[-1]):\n",
    "    ax = fig.add_subplot(6, 6, i+1)\n",
    "    #  ax.imshow(WW[2:-2, 2:-2, i], interpolation='None')\n",
    "    # Fixed limits in Z axis\n",
    "\n",
    "    ax.imshow(WW[:, :, i], interpolation='None', vmin=Wmin, vmax=Wmax)\n",
    "    ax.axis('off')"
   ]
  },
  {
   "cell_type": "markdown",
   "metadata": {
    "id": "nPXukGz6syF9"
   },
   "source": [
    "Los pesos de la primera capa no parecen en absoluto detectores de fronteras, ni nada parecido.\n",
    "\n",
    "Parece que la red encuentra una forma mucho más extraña de generalizar de lo que haríamos nosotros. Veremos que las CNN hacen algo mucho más cercano a lo que uno esperaría.\n",
    "\n",
    "**¿Tiene esto sentido?**\n",
    "\n",
    "* Nunca proporcionamos una idea de la vecindad entre las características. ¿Cómo podría saberlo la red?\n",
    "* ¿Cómo podemos generar una red neuronal que reconozca las imágenes de forma más parecida a como lo hacen los humanos?"
   ]
  }
 ],
 "metadata": {
  "colab": {
   "provenance": [
    {
     "file_id": "18yGcpO20q62eNumouL8xhTy-uEDwkbjX",
     "timestamp": 1694443724733
    }
   ]
  },
  "kernelspec": {
   "display_name": "Python 3",
   "language": "python",
   "name": "python3"
  },
  "language_info": {
   "codemirror_mode": {
    "name": "ipython",
    "version": 3
   },
   "file_extension": ".py",
   "mimetype": "text/x-python",
   "name": "python",
   "nbconvert_exporter": "python",
   "pygments_lexer": "ipython3",
   "version": "3.9.17"
  },
  "toc": {
   "base_numbering": 1,
   "nav_menu": {},
   "number_sections": true,
   "sideBar": true,
   "skip_h1_title": false,
   "title_cell": "Table of Contents",
   "title_sidebar": "Contents",
   "toc_cell": false,
   "toc_position": {},
   "toc_section_display": true,
   "toc_window_display": false
  },
  "vscode": {
   "interpreter": {
    "hash": "4429596bedd85f688e336e8a01a74242a6d6b6670eb5e2611048f4288ded3d4d"
   }
  }
 },
 "nbformat": 4,
 "nbformat_minor": 4
}
