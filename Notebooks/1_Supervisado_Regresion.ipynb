{
  "cells": [
    {
      "cell_type": "markdown",
      "metadata": {
        "id": "vI5ISYpGVYz6"
      },
      "source": [
        "Notebook adaptado del curso “Diplomatura en Inteligencia Artificial y Ciencia de Datos” dictado por la ECyT-UNSAM en el marco del plan Argentina Programa 4.0"
      ]
    },
    {
      "cell_type": "markdown",
      "metadata": {
        "id": "ciGAcc9annjJ"
      },
      "source": [
        " # Modelos lineales de regresión"
      ]
    },
    {
      "cell_type": "markdown",
      "metadata": {
        "id": "iYdgGT_LZLaj"
      },
      "source": [
        "Los modelos son expresiones matemáticas más o menos simples (depende de la familia de modelos que se elija utilizar), que describen algún aspecto de los datos.\n",
        "La más conocida y sencilla de modelos, pero a la vez muy poderosa y versatil: los modelos lineales de regresión.\n",
        "- Los modelos lineales:\n",
        "  - Entre los modelos más simples que podemos imaginar, pero extremadamente comunes y útiles.\n",
        "  - Fáciles de entrenar e interpretar.\n",
        "  - En la versión múltiple, son poderosos y versátiles.\n",
        "  \n",
        "Un modelo de regresión es aquel en el que se busca:\n",
        "- Describir el comportamiento de una variable (o un conjunto de variables) contínua a partir de otras variables del dataset.\n",
        " - La variable que se busca describir (o predecir) se suele llamar variable objetivo (target).\n",
        "   - Las variables a partir de las cuales se busca hacer esto se llaman covariables, o variables predictora, o variables independientes, regresores, features (características), etc. Como muchas cosas importantes, tiene muchos nombres."
      ]
    },
    {
      "cell_type": "markdown",
      "metadata": {
        "id": "RMZg4R-2mmor"
      },
      "source": [
        "## El rol de los modelos y las familias de modelos\n",
        " El modelado de datos tiene varios objetivos:\n",
        "1. **Cuantificar** una relación (como la que vimos arriba). Es decir, ponerle números a eso: \"el precio de las casas es de X USD por metro cuadrado\")\n",
        "2. **Explorar** los datos. Muchas veces, necesitamos quitar los patrones más obvios para poder detectar cosas más sutiles. En este caso, el patrón obvio es la dependencia con la superficie. ¿Habrá algún efecto secundario con, por ejemplo, el estado de la casa, o la cantidad de baños?\n",
        "3. **Resumir** la información para transmitirla mejor. Dar los números de los parámetros (ver abajo), resultan una descripción compacta de los datos.\n",
        "4. **Predecir** el valor de la variable target para una propiedad que no hemos observado.\n"
      ]
    },
    {
      "cell_type": "code",
      "execution_count": 2,
      "metadata": {
        "id": "CH64poDvnc2E"
      },
      "outputs": [],
      "source": [
        "#IMPORTO LAS DISTINTAS LIBRERIAS:\n",
        "\n",
        "#Para ABRIR los archivos necesarios:\n",
        "import os #Para manipular archivos y directorios.\n",
        "\n",
        "#pandas para manipulacion y analisis de datos:\n",
        "import pandas as pd\n",
        "\n",
        "#Se requiere si o si una version mayor a Python 3.5\n",
        "import sys   #es parte de la biblioteca de Python, proporciona acceso a variables\n",
        "# y funciones que interactúan con el intérprete/terminal de Python. Se puede usar\n",
        "#por ej. p/ obtener información sobre  el sistema operativo, entre otras cosas.\n",
        "assert sys.version_info >= (3,5) #si version <, assert manda mensaje de error\n",
        "\n",
        "# Scikit-Learn ≥0.20 is required\n",
        "import sklearn #biblioteca de python proporciona herramientas eficientes para el\n",
        "#análisis de datos y modelado predictivo, con algoritmos como regresión,\n",
        "#clasificación, clustering, etc.\n",
        "assert sklearn.__version__ >=\"0.20\" #si version <, assert manda mensaje de error\n",
        "\n",
        "#comunes:\n",
        "import numpy as np    #permite trabajar con Matrices de N dimensiones\n",
        "\n",
        "#SciPy se basa en NumPy para ofrecer un conjunto más avanzado y completo de herramientas,\n",
        "# y funciones p/ la computación científica, permite resolver problemas matemáticos\n",
        "#y de ingeniería más complejos\n",
        "from scipy import stats as st  #SciPy contiene funciones matemáticas y científicas:\n",
        "# muchas fórmulas y métodos q ayudan a estadísticas, optimiz., álgebra lineal, entre otros.\n",
        "\n",
        "#Para hacer gráficos lindo:\n",
        "#%matplotlib inline #comando mágico de JupyterNotebook,etc. Le dice al cuaderno q\n",
        "#muestre los gráficos en la misma celda de salida (en lugar de abrir una ventana externa)\n",
        "import matplotlib as mpl\n",
        "import matplotlib.pyplot as plt  #el modulo mas usado de matplotlib sirve para graficar\n",
        "\n",
        "#rc: \"runtime configuration\" (configuración en tiempo de ejecución) función dentro\n",
        "# de matplotlib p/ config. parámetros globales de los gráficos, estilos, tamaños de fuente, colores, etc.\n",
        "mpl.rc('axes', labelsize=14)\n",
        "mpl.rc('xtick', labelsize=12)\n",
        "mpl.rc('ytick', labelsize=12)"
      ]
    },
    {
      "cell_type": "markdown",
      "metadata": {
        "id": "RMb8T_rsjOYj"
      },
      "source": [
        "### Obtención y preparación de los datos.\n",
        "Ejemplo: entender cómo depende el valor de venta de casas en la Ciudad de Buenos Aires de su superficie.\n",
        "Vamos a trabajar con un conjunto de datos de un portal inmobiliario Properati, que hasta hace un tiempo era público. Esta versión del dataset viene de la página web Kaggle, se modificó para hacerlo más simple.\n",
        "\n",
        "El dataset es muy grande, así que se va a hacer limpieza y filtrado antes de pasar al modelado."
      ]
    },
    {
      "cell_type": "markdown",
      "metadata": {
        "id": "MhmMCRlQBl6p"
      },
      "source": [
        "### Obtención de los datos:"
      ]
    },
    {
      "cell_type": "markdown",
      "metadata": {
        "id": "NP24eicM8rfl"
      },
      "source": [
        "### Si estás local, se usa directamente: read_csv()"
      ]
    },
    {
      "cell_type": "code",
      "execution_count": null,
      "metadata": {
        "id": "XsIDh3YeBWGh"
      },
      "outputs": [],
      "source": [
        "#Desde un directorio solo si este notebok lo abris en tu compu, si no No sirve!\n",
        "df = pd.read_csv(\"/Users/user/Desktop/AANuclear/properati_urquiza.csv\")"
      ]
    },
    {
      "cell_type": "markdown",
      "metadata": {
        "id": "90RyU4kE8rfl",
        "jp-MarkdownHeadingCollapsed": true
      },
      "source": [
        "### Si estás en google colab"
      ]
    },
    {
      "cell_type": "code",
      "execution_count": null,
      "metadata": {
        "id": "TlX3-5hj8rfm"
      },
      "outputs": [],
      "source": [
        "#p/traer archivos desde nuestra página local o desde un drive:\n",
        "from google.colab import files\n",
        "\n",
        "# SUBIMOS Y CARGAMOS EL DATASET\n",
        "files.upload() #codigo para cargar abrir archivo (da la opcion de abrir un archivo de la compu)\n",
        "#libreria de colab\n",
        "\n",
        "#podemos pedirle que nos muestre qué hay en ese directorio. El list.dir(ruta) de\n",
        "# os nos devuelve una lista con todos los entradas en el directorio especificado\n",
        "# por ruta. Si no le pasamos nada, usa el directorio actual de trabajo:\n",
        "print(os.listdir())\n"
      ]
    },
    {
      "cell_type": "code",
      "execution_count": null,
      "metadata": {
        "id": "oVKYeXz4jtRV"
      },
      "outputs": [],
      "source": [
        "#DESDE EL DRIVE, ideal si uso colab\n",
        "#from google.colab import auth #para autenticar el acceso a los recursos de Google\n",
        "from google.colab import drive\n",
        "\n",
        "#auth.authenticate_user() #Autentica al usuario para que Colab pueda acceder a recursos protegidos como Google Drive.\n",
        "drive.mount(\"/content/drive\") #Monta Google Drive en el entorno de Colab para que puedas acceder a tus archivos de Drive.\n",
        "!ls \"/content/drive/My Drive\" #Muestra los archivos y carpetas dentro de tu Google Drive usando un comando de terminal de Linux."
      ]
    },
    {
      "cell_type": "code",
      "execution_count": null,
      "metadata": {
        "id": "5q2Rw942q5Z2"
      },
      "outputs": [],
      "source": [
        "#abro el dataset y lo guardo en una variable\n",
        "#al usar pandas ahora el archivo url es un dataframe que es un formato de Pandas\n",
        "df = pd.read_csv('/content/drive/My Drive/Colab Notebooks/Practica_Curso_ML_pDR/clases/properati_urquiza.csv')\n",
        "\n",
        "#ejemplo para extraer dataset de github:\n",
        "#df1 = pd.read_csv('https://github.com/palasatenea66/DATASETS/raw/refs/heads/main/credito.csv')"
      ]
    },
    {
      "cell_type": "markdown",
      "metadata": {
        "id": "kIHT1nie8rfm"
      },
      "source": [
        "### Información del archivo"
      ]
    },
    {
      "cell_type": "code",
      "execution_count": null,
      "metadata": {
        "id": "VbbwrePdZhac"
      },
      "outputs": [],
      "source": [
        "#para obtener información del dataframe\n",
        "df.info()"
      ]
    },
    {
      "cell_type": "code",
      "execution_count": null,
      "metadata": {
        "id": "chJS6kLEKZ0K"
      },
      "outputs": [],
      "source": [
        "#forma de ver lo que tiene el dataset\n",
        "print(f'Forma: {df.shape}') #forma del dataframe\n",
        "print(f'Columnas: {df.columns}') #columnas del dataframe\n",
        "df.head() #muestra las primeras 5 filas del dataframe"
      ]
    },
    {
      "cell_type": "code",
      "execution_count": null,
      "metadata": {
        "id": "MKLV7QIpRwe_"
      },
      "outputs": [],
      "source": [
        "# Ejemplo Ver las primeras 5 filas y las primeras 15 columnas\n",
        "df.iloc[:5, :15]"
      ]
    },
    {
      "cell_type": "code",
      "execution_count": null,
      "metadata": {
        "id": "sZdEwZ0A8rfn"
      },
      "outputs": [],
      "source": [
        "#Quitemos algunas columnas con pocos datos o que no nos interesen\n",
        "df = df.drop(['Unnamed: 0','lat','start_date', 'end_date', 'created_on', 'lon','price_period', 'id', 'l4','l5', 'l6'], axis=1)"
      ]
    },
    {
      "cell_type": "code",
      "execution_count": null,
      "metadata": {
        "id": "DnvIiDRuZ-pM"
      },
      "outputs": [],
      "source": [
        "# 1ERO, de las variables que nos interesan vamos a sacar los valores faltantes\n",
        "df = df.dropna(subset=['precio', 'sup_total', 'sup_cubierta']) #elimina las filas en el DataFrame\n",
        "# df q tienen valores faltantes (NaN) en al menos 1 de las columnas especificadas\n",
        "df.info()"
      ]
    },
    {
      "cell_type": "markdown",
      "metadata": {
        "id": "QQ_QShnQ8rfn"
      },
      "source": [
        "Algunos filtros:\n",
        "\n",
        "1. Nos quedamos solo con las casas.\n",
        "2. Además, solo utilizaremos las propiedades en venta.\n"
      ]
    },
    {
      "cell_type": "code",
      "execution_count": null,
      "metadata": {
        "id": "7LYqXJhBTdy3"
      },
      "outputs": [],
      "source": [
        "df.columns\n",
        "df_filtro = df[(df.tipo_propiedad == 'Casa') &\n",
        "               (df.tipo_operac == 'Venta')]\n",
        "\n",
        "#null NO va a graficar va a tirar error\n",
        "#representación gráfica de las relaciones entre las variables numéricas.\n",
        "#Genera una matriz de gráficos de dispersión (scatter plots) de todas las combinaciones\n",
        "# de columnas numéricas en el DataFrame df_filtro.\n",
        "#muestra la relación entre dos variables.\n"
      ]
    },
    {
      "cell_type": "markdown",
      "metadata": {
        "id": "2sjN4qQOJh1_"
      },
      "source": [
        "Hay unas propiedades con superficie total que parecen medio ouliers, los sacamos para simplificar el ejemplo."
      ]
    },
    {
      "cell_type": "code",
      "execution_count": null,
      "metadata": {
        "id": "D1MRVUTbMfcQ"
      },
      "outputs": [],
      "source": [
        "df.columns\n",
        "df_filtro = df_filtro[(df_filtro.sup_total < 350)]\n",
        "\n",
        "df_filtro.info()\n",
        "\n",
        "#_ = pd.plotting.scatter_matrix(df_filtro, figsize=(12, 12))"
      ]
    },
    {
      "cell_type": "markdown",
      "metadata": {
        "id": "0zYvvbz9pfgI"
      },
      "source": [
        "Ahora tenemos un dataset mucho más manejable, ideal para mostrar el funcionamiento de los modelos lineales.\n",
        "\n",
        "Chequeamos que los precios de la casas esten expresados de manera consistente."
      ]
    },
    {
      "cell_type": "code",
      "execution_count": null,
      "metadata": {
        "id": "9TPGPXukpu5t"
      },
      "outputs": [],
      "source": [
        "print(df_filtro.moneda.value_counts())\n",
        "#print(df_filtro.moneda.unique()) #otra forma"
      ]
    },
    {
      "cell_type": "markdown",
      "metadata": {
        "id": "pYa2cghiVY0F"
      },
      "source": [
        "Se puede observar como el tipo de moneda es único y por lo tanto está correctamente colocado para todos los valores"
      ]
    },
    {
      "cell_type": "markdown",
      "metadata": {
        "id": "FVdYwuyLgGb2"
      },
      "source": [
        "#### Ahora calculemos el coeficiente de Correlación de Pearson entre la variable target y el resto de las variables numéricas. Para eso utilizamos corr() que es un método de Pandas.\n",
        "\n",
        "NOTA: El ***coeficiente de correlación de Pearson*** (también llamado r de Pearson o simplemente correlación de Pearson) es una medida estadística que indica la fuerza y dirección de la relación lineal entre dos variables numéricas. Es uno de los métodos más utilizados para cuantificar la correlación entre variables.\n",
        "\n",
        "\n",
        "![Captura.PNG](data:image/png;base64,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)\n",
        "\n"
      ]
    },
    {
      "cell_type": "markdown",
      "metadata": {
        "id": "nY5SjZ2MVY0H"
      },
      "source": [
        "**Interpretación de los valores del coeficiente de Pearson:**\n",
        "El valor del coeficiente de Pearson varía entre -1 y 1.\n",
        "- r ≈ 1: Correlación positiva fuerte. A medida que una variable aumenta, la otra también aumenta.\n",
        "- r ≈ -1: Correlación negativa fuerte. A medida que una variable aumenta, la otra disminuye.\n",
        "- r ≈ 0: No hay correlación lineal entre las variables. Pueden estar relacionadas de forma no lineal.\n",
        "\n",
        "**Limitaciones del coeficiente de Pearson:**\n",
        "- Solo mide relaciones lineales: Si las variables están relacionadas de manera no lineal, el coeficiente de Pearson puede ser bajo, incluso si existe una relación fuerte entre las variables. Para correlaciones no lineales existe el coeficiente de correlación de Spearman (es lo mismo que Pearson pero usa rangos en lugar de valores iniciales)\n",
        "- Sensibilidad a los valores atípicos: El coeficiente de Pearson puede ser influenciado por outliers o valores extremos, lo que podría distorsionar los resultados."
      ]
    },
    {
      "cell_type": "code",
      "execution_count": null,
      "metadata": {
        "id": "bs1gkA3VvLmX"
      },
      "outputs": [],
      "source": [
        "df_filtro.corr(numeric_only=True)\n",
        "\n",
        "''' numeric_only=True asegura que solo se consideren las columnas que contienen\n",
        "datos numéricos para calcular la correlación'''\n",
        "\n",
        "#Si queremos directamente ver las correlaciones con el precio:\n",
        "df_filtro.corr(numeric_only=True).precio.sort_values()\n",
        "\n",
        "#.sort_values():ordena los valores de la Serie en orden ascendente."
      ]
    },
    {
      "cell_type": "markdown",
      "metadata": {
        "id": "e2E84kC7VY0H"
      },
      "source": [
        "Otra forma de ver la correlacion es usando la funcion de pandas \"scatter_matrix\" para graficar."
      ]
    },
    {
      "cell_type": "code",
      "execution_count": null,
      "metadata": {
        "id": "VHwfjyEIVY0I"
      },
      "outputs": [],
      "source": [
        "_ = pd.plotting.scatter_matrix(df_filtro, figsize=(15,15))\n",
        "\n",
        "# scatter_matrix(def_filtro, figsize=(15,15))\n",
        "\n",
        "#el _ se usa como variable \"deshechable\" o temporal. Se usa para evitar que el valor\n",
        "#de retorno del método (que sería una lista de ejes de gráficos, por ejemplo)\n",
        "# se muestre en la salida. El objetivo es ejecutar la función para mostrar el gráfico."
      ]
    },
    {
      "cell_type": "markdown",
      "metadata": {
        "id": "BpBgGKv1q4qi"
      },
      "source": [
        " Vemos que *existe una importante correlación entre el precio de venta y la superficie cubierta*, como era esperable."
      ]
    },
    {
      "cell_type": "markdown",
      "metadata": {
        "id": "83uTy_7erGGt"
      },
      "source": [
        "### Visualización\n",
        "superficie cubierta vs Precio"
      ]
    },
    {
      "cell_type": "code",
      "execution_count": null,
      "metadata": {
        "id": "_Ary5H8-rNEE"
      },
      "outputs": [],
      "source": [
        "df_filtro.plot(kind='scatter', x='sup_cubierta', y='precio',c='red',\n",
        "               xlabel='superficie cubierta [m^2]',ylabel='Precio [USD]')\n",
        "\n",
        "'''gráfico tipo dispersión (scatter plot), otros: 'line','bar','barh','hist', etc.\n",
        "notar que los valores en el eje x deben multiplicarse por 1e^6'''"
      ]
    },
    {
      "cell_type": "markdown",
      "metadata": {
        "id": "L49obPq7zoMc"
      },
      "source": [
        "## Regresión lineal simple\n",
        "Como se describió al comienzo, para modelar los datos, podemos elegir una familia de modelos. Acá vamos a elegir a los modelos lineales (simples: con una única variable predictora).\n",
        "El modelo de regresión lineal más sencillo relaciona una variable *target* (en este caso el precio de las casas) con la covariable (en este caso, la superficie cubierta), *x_1*, utilizando esta fórmula:\n",
        "\n",
        "$$\n",
        "\\text{precio [USD]} = \\omega_0 + \\omega_1 \\cdot \\text{sup. cubierta}\\;\\;\n",
        "$$\n",
        "\n",
        "donde $\\boldsymbol{\\omega} = (\\omega_0, \\omega_1)$ es el **vector de parámetros del modelo**.\n",
        "\n",
        "Esta fórmula define una **familia de modelos**. Todos los modelos de esta familia se ven como rectas en el gráfico de arriba, pero dependiendo del valor del vector de parámetros, pueden verse muy diferentes."
      ]
    },
    {
      "cell_type": "markdown",
      "metadata": {
        "id": "zx4tHX3iAnOx"
      },
      "source": [
        "De forma general los modelos lineales se escriben como\n",
        "\n",
        "$$\\vec y = X \\cdot \\vec \\omega$$\n",
        "donde $$X = \\begin{pmatrix}\n",
        "1&\\; x_1^{(1)}&\\; \\dots&\\;x_M^{(1)} \\\\\n",
        "1&\\; x_1^{(2)}&\\; \\dots&\\;x_M^{(2)} \\\\\n",
        "\\vdots&\\;\\vdots&\\;\\ddots&\\;\\vdots \\\\\n",
        "1&\\; x_1^{(N)}&\\; \\dots&\\;x_M^{(N)}\n",
        "\\end{pmatrix}$$ es la _matriz de diseño_, o, simplemente, el conjunto de datos con el que estamos entrenando. Cada fila representa una muestra, y cada columna una característica.\n",
        "\n",
        "Para un vector de datos $x$ la función lineal es:\n",
        "\n",
        "$$y = \\omega_0 + \\omega_1 x_1 + \\omega_2 x_2 + \\dots + \\omega_M x_M$$\n",
        "\n",
        "Ejemplo: si tenemos 3 _features_/características que queremos usar para modelizar (_predecir_) la variable target y, y tenemos _N_ datos (por ejemplo, una tabla de valores con _N_ líneas) la matriz de diseño es\n",
        "\n",
        "$$X = \\begin{pmatrix}\n",
        "1&\\; x_1^{(1)}&\\; x_2^{(1)}&\\; x_3^{(1)}\\\\\n",
        "1&\\; x_1^{(2)}&\\; x_2^{(2)}&\\;x_3^{(2)} \\\\\n",
        "\\vdots&\\;\\vdots&\\;\\vdots&\\;\\vdots \\\\\n",
        "1&\\; x_1^{(N)}&\\; x_2^{(N)}&\\;x_3^{(N)}\n",
        "\\end{pmatrix}$$\n",
        "\n",
        "Ejemplo: predecir el precio de un inmueble en función de su superfície, edad y distancia al centro\n",
        "\n",
        "precio [USD]=𝜔0+𝜔1⋅sup. cubierta.+ 𝜔2⋅edad + 𝜔3⋅distancia\n",
        "\n",
        "Los modelos son lineales **en los pesos** $\\omega_i$\n"
      ]
    },
    {
      "cell_type": "code",
      "execution_count": null,
      "metadata": {
        "id": "ysTC6mJ_zm7O"
      },
      "outputs": [],
      "source": [
        "#Nuevamente para dibujar los puntos del dataframe:\n",
        "df_filtro.plot(kind='scatter', x='sup_cubierta', y='precio', c='black',\n",
        "               ylabel='Precio [USD]',\n",
        "               xlabel='Superficie Cubierta [m^2]')\n",
        "\n",
        "# Defino una serie de valores de los parámetros al azar\n",
        "np.random.seed(42)\n",
        "w0 = st.uniform(loc=-5e5, scale=2e6).rvs(100)\n",
        "w1 = st.uniform(loc=-3000, scale=6000).rvs(100)\n",
        "\n",
        "# Creo un arreglo con dos valores (suficiente para una recta, entre el máximo y el mínimo de los valores de sup_cubierta)\n",
        "x = np.linspace(df_filtro.sup_cubierta.min(), df_filtro.sup_cubierta.max(), 2)\n",
        "#np.linspace: función de NumPy q genera una cantidad específica de valores equiespaciados dentro de un rango dado.\n",
        "\n",
        "# Para cada par de parámetros w0 y w1, grafico una recta:\n",
        "\n",
        "'''zip: C/iteración del bucle toma un par (ww0, ww1) y los usa para graficar\n",
        "una recta. Se utiliza p combinar 2 o + iterables (como listas, tuplas o arreglos)\n",
        "en pares(o tuplas) de elementos, tomándolos uno a uno de cada iterable en paralelo.\n",
        "alpha: Controla la transparencia de la línea.'''\n",
        "\n",
        "for ww0, ww1 in zip(w0, w1):\n",
        "    plt.plot(x, ww0 + ww1 * x, '-', color='0.6', lw=0.5, alpha=0.5)"
      ]
    },
    {
      "cell_type": "markdown",
      "metadata": {
        "id": "nSdBB6Vw-x5R"
      },
      "source": [
        "De todas estas rectas, muy pocas tienen una similitud con los datos, para encontrar una recta que describa correctamente los datos, entonces tenemos que encontrar el valor adecuado de los parámetros. La buena noticia es que existe una manera analítica (es decir, exacta) de encontrar el valor de los parámetros que hacen que la curva se ajuste lo mejor posible a los datos. Pero antes de llegar a eso....\n",
        "\n",
        "**Pensemos**\n",
        "\n",
        " - ¿Qué características nos gustaría que tuviera la curva que describa a los datos?"
      ]
    },
    {
      "cell_type": "markdown",
      "metadata": {
        "id": "s0o_DZy1_NpT"
      },
      "source": [
        "### Los residuos\n",
        "Para una recta cualquiera, podemos **graficar la distancia entre los puntos y la recta como segmentos**."
      ]
    },
    {
      "cell_type": "code",
      "execution_count": null,
      "metadata": {
        "id": "_YMlOW7SbBy_"
      },
      "outputs": [],
      "source": [
        "#Definimos la función plot_data para gráficar los datos:\n",
        "def plot_data(data, xvar='sup_cubierta', yvar='precio', **kwargs):\n",
        "    color = kwargs.pop('c', 'black')\n",
        "    mietiqueta_y = kwargs.pop('ylabel', 'Precio [en USD]')\n",
        "    mietiqueta_x = kwargs.pop('xlabel', 'Superficie Cubierta [m^2]')\n",
        "\n",
        "    # Define el tamaño de la figura\n",
        "    fig, ax = plt.subplots(figsize=(10, 8))  # Ajusta el tamaño aquí\n",
        "\n",
        "    # Genera el scatter plot en el mismo axis\n",
        "    ax.scatter(data[xvar], data[yvar], c=color)\n",
        "    ax.set_xlabel(mietiqueta_x)\n",
        "    ax.set_ylabel(mietiqueta_y)\n",
        "\n",
        "plot_data(df_filtro)\n",
        "\n",
        "#kwargs: keyword arguments\n",
        "\n",
        "# Genero un número al azar entre 0 y 100\n",
        "irandom = np.random.randint(100)\n",
        "\n",
        "# Grafico la curva correspondiente a ese número al azar\n",
        "plt.plot(x, w0[irandom] + w1[irandom] * x, '-', color='0.6', lw=0.5)\n",
        "\n",
        "# Predicciones del modelo para ese numero random\n",
        "pred = w0[irandom] + w1[irandom] * df_filtro.sup_cubierta\n",
        "\n",
        "# Grafico líneas verticales que representan los residuos\n",
        "plt.vlines(x=df_filtro.sup_cubierta.values,\n",
        "            ymin=df_filtro.precio.values,\n",
        "            ymax=pred.values, color='0.5', lw=0.5)\n",
        "\n",
        "# Agrego los puntos sobre la recta\n",
        "plt.plot(df_filtro.sup_cubierta, pred, marker='o', color='red', mfc='None', ms=6)\n",
        "plt.show()\n"
      ]
    },
    {
      "cell_type": "markdown",
      "metadata": {
        "id": "TUX0WaARXknu"
      },
      "source": [
        "A estas distancias, se las llama **residuos** de la recta. Pueden ser positivos, si los puntos negros están por encima de la recta, o negativos, si están por debajo.\n",
        "\n",
        "Matemáticamente, para el punto $i$, podemos escribir que el residuo $r_i$ es:\n",
        "\n",
        "$r_i = \\text{precio}_i - (\\omega_0 + \\omega_1 \\cdot \\text{sup. cubierta}_i)\\;\\; .$\n",
        "\n",
        "Con esta definición, podemos aventurar:\n",
        "\n",
        "> El mejor conjunto de parámetros será el que haga que **los valores absolutos** de los residuos sean lo más chicos posibles.\n",
        "\n",
        "¿Los residuos de qué puntos? La idea es que sea lo más chico posible \"para todos\" los puntos... Lo más parecido que podemos hacer a esto es:\n",
        "\n",
        "> El mejor conjunto de parámetros será el que haga que **el promedio de los valores absolutos** de los residuos sean lo más chicos posibles.\n",
        "\n",
        "Con esto llegamos a la definición del **error absoluto promedio (o medio)**, MAE, por sus siglas en inglés, que matemáticamente se escribe:\n",
        "\n",
        "$$\n",
        "\\text{MAE} = \\frac{1}{N} \\left(|r_1| + |r_2| + \\cdots + |r_N|\\right) = \\frac{1}{N} \\sum_{i=1}^N \\left| r_i \\right |\\;\\;.\n",
        "$$\n",
        "\n",
        "Muchas veces se buscan los parámetros que minimizan el promedio de los residuos al cuadrado. Como el cuadrado es una función creciente, cuando se minimice uno, se minimiza el otro. Esto define el **error cuadrático promedio**, MSE:\n",
        "\n",
        "$$\n",
        "\\text{MSE} = \\frac{1}{N} \\left(r_1^2 + r_2^2 + \\cdots + r_N^2\\right) = \\frac{1}{N} \\sum_{i=1}^N \\left( r_i \\right )^2\\;\\;.\n",
        "$$\n",
        "\n",
        "Existe una manera matemática exacta de encontrar los valores de los parámetros que minimizan estas funciones\n"
      ]
    },
    {
      "cell_type": "markdown",
      "metadata": {
        "id": "ZBPGAF9lZi1U"
      },
      "source": [
        "### Uso de las funciones de `scikit-learn`\n",
        "Tomemos ahora un **modelo de regresión lineal de sklearn** y lo utilizamos para ajustar estos datos. Para simplificar, cambiaremos primero los nombres de las variables relevantes.\n",
        "\n",
        "la variable predictora (o variable independiente) es la variable de entrada que usamos para hacer predicciones.\n",
        "\n",
        "Además, las variables predictoras tienen que ir en formato matricial: los datos en cada fila y las covariables en cada columna. Esa matriz es la matriz de diseño."
      ]
    },
    {
      "cell_type": "code",
      "execution_count": null,
      "metadata": {
        "id": "i4dGLiWZZ1Wx"
      },
      "outputs": [],
      "source": [
        "#Variables predictoras (en una matriz, por eso la linea al final del nombre)\n",
        "\n",
        "X_ = df_filtro.sup_cubierta.values.reshape(-1, 1)\n",
        "t = df_filtro.precio.values\n",
        "\n",
        "#Cambia X_ de un arreglo 1D con 188 elementos a un arreglo 2D con 188 filas y 1 columna. -1: permite que numpy calcule automáticamente cuántas filas son necesarias, manteniendo el total de elementos =.\n",
        "#se hace porque sklearn espera que la variable predictora este en formato de matriz de diseño (2d)\n",
        "\n",
        "print(X_.shape, t.shape)\n",
        "\n",
        "'''En este caso, X_ es la variable predictora porque contiene los datos que\n",
        "queremos utilizar para predecir otra variable (por ejemplo, el precio de una propiedad).'''"
      ]
    },
    {
      "cell_type": "code",
      "execution_count": null,
      "metadata": {
        "id": "BahDvMuffrRF"
      },
      "outputs": [],
      "source": [
        "#Instanciemos el regresor lineal y ajustemos los datos.\n",
        "from sklearn.linear_model import LinearRegression\n",
        "\n",
        "#instanciamos el modelo\n",
        "lr= LinearRegression(fit_intercept=True)\n",
        "\n",
        "# crea una instancia del modelo de regresión lineal.\n",
        "# La opción fit_intercept=True le indica que ajuste un término independiente"
      ]
    },
    {
      "cell_type": "code",
      "execution_count": null,
      "metadata": {
        "id": "TR1yByMz8rfw"
      },
      "outputs": [],
      "source": [
        "#Ajustamos (con el metodo fit)\n",
        "lr.fit(X_, t)"
      ]
    },
    {
      "cell_type": "markdown",
      "metadata": {
        "id": "Uo0AumM68rfw"
      },
      "source": [
        "¿Qué hace el `.fit`?\n",
        "* El método `.fit` fitea (ajusta) el modelo a los datos.\n",
        "   * Para eso, *minimiza* el error en función de los parámetros.\n",
        "   * En general se minimiza lo que se llama _figura de mérito_ o _métrica_, que en este caso fue el MSE.\n",
        "   * En otras palabras, el resultado del `fit` es determinar los parámetros del modelo que mejor ajustan esos datos.\n",
        "   * Podemos decir que con eso **entrenamos** el modelo, o que el modelo ha \"aprendido\" de los datos.\n",
        "   * En el caso particular de la regresión linear, esa solución para los parámetros del modelo es muy simple, tiene una expresión matemáica que se puede calcular en un par de líneas de código\n",
        "   * En general, _fitear_ requiere métodos sofisticados de minimización, especialmente si hay muchos parámetros y/o si *cambiamos la figura de mérito/métrica* del error"
      ]
    },
    {
      "cell_type": "markdown",
      "metadata": {
        "id": "HJpkcDoO8rfw"
      },
      "source": [
        "### Los parámetros"
      ]
    },
    {
      "cell_type": "markdown",
      "metadata": {
        "id": "dnu7IRsR8rfw"
      },
      "source": [
        "Podemos ver el valor de los parámetros encontrados. El parámetro que no acompaña a ninguna variable ($\\omega_0$) está en el atributo `intercept_`. El resto (en este caso solo $\\omega_1$) están en el atributo `coef_`."
      ]
    },
    {
      "cell_type": "code",
      "execution_count": null,
      "metadata": {
        "id": "XYGV6KNk8rfx"
      },
      "outputs": [],
      "source": [
        "print('omega_0 = {:.3f}\\n omega_1 = {:.3f}'.format(lr.intercept_, lr.coef_[0]))"
      ]
    },
    {
      "cell_type": "markdown",
      "metadata": {
        "id": "rrcpH1et8rfx"
      },
      "source": [
        "**Interpretemos estos números...**"
      ]
    },
    {
      "cell_type": "markdown",
      "metadata": {
        "id": "O_3AFLT_pX97"
      },
      "source": [
        "### Evaluación del modelo.\n",
        "Ahora que el modelo está ajustado, se va analizar si las cosas han funcionado como se esperaba...y si no obtendremos algunas ideas de cómo mejorarlo."
      ]
    },
    {
      "cell_type": "markdown",
      "metadata": {
        "id": "QvjcuFd8rfgz"
      },
      "source": [
        "Antes de empezar, vamos a representar el modelo obtenido junto con los datos.\n",
        "Para ello, necesitamos obtener las predicciones que hace el modelo en una serie de puntos. Para calcular las predicciones, todos los estimadores en `sklearn` usan el método `predict`."
      ]
    },
    {
      "cell_type": "markdown",
      "metadata": {
        "id": "FNAUm3x28rfx"
      },
      "source": [
        "¿Qué hace el `.predict`?\n",
        "\n",
        "* Una vez entrenado un dado modelo con un conjunto de datos (con `.fit`) se puede usar ese método para obtener las _predicciones_ del modelo.\n",
        "* O sea, para cualquier conjunto de x, nos va a dar el _resultado del modelo_ (la función), usando los parámetros obtenidos a partir del entrenamiento.\n",
        "* Las predicciones se hacen para cada dato en particular (cada x)\n",
        "* En el `.fit` se varian los parámetros del modelo. El conjunto de datos es fijo.\n",
        "* En el `.predict`, los parámetros están fijos y se puede calcular para cualquier dato."
      ]
    },
    {
      "cell_type": "code",
      "execution_count": null,
      "metadata": {
        "id": "SkUNjYOhrm7E"
      },
      "outputs": [],
      "source": [
        "#Plot de los datos (llamo a la funcion)\n",
        "plot_data(df_filtro)\n",
        "\n",
        "# Calculamos la recta como antes, pero usando los parámetros del ajuste\n",
        "y = lr.intercept_ + lr.coef_[0] * x\n",
        "# Otra forma es con el método predict:\n",
        "y = lr.predict(x.reshape(-1, 1))\n",
        "\n",
        "# Graficamos:\n",
        "plt.gcf().axes[0].plot(x,y,'r-', lw=1) #gcf significa \"Get Current Figure\"\n",
        "\n",
        "#(obtener la figura actual). 'r-': línea roja ('r', rojo) y continua ('-', sólida).\n",
        "#lw=1: grosor de la línea (en este caso, 1 punto de grosor).\n",
        "\n",
        "## Agregamos residuos\n",
        "\n",
        "# predicciones del modelo en los puntos conocidos\n",
        "pred=lr.predict(X_)\n",
        "\n",
        "#Grafico lineas verticales\n",
        "plt.vlines(x=df_filtro.sup_cubierta.values,\n",
        "           ymin=df_filtro.precio.values,\n",
        "           ymax=pred, color='0.5', lw=0.5)\n",
        "plt.show()"
      ]
    },
    {
      "cell_type": "markdown",
      "metadata": {
        "id": "h7EeMloXEyEg"
      },
      "source": [
        "### Métricas\n",
        "1era forma de evaluar un modelo: calcular la métrica que se utilizaron para ajustar los parámetros del modelo, la MAE y MSE.\n",
        "\n",
        "Ambas están implementadas en `sklearn`, en el paquete `metrics`, y se usan de manera idéntica: se les pasa el valor de la variable target y lo que el modelo predice para esos datos."
      ]
    },
    {
      "cell_type": "code",
      "execution_count": null,
      "metadata": {
        "id": "ThprAJmwFUIh"
      },
      "outputs": [],
      "source": [
        "from sklearn.metrics import mean_squared_error, mean_absolute_error\n",
        "\n",
        "print('MAE [K$] = {:.2f}'.format(mean_absolute_error(t, pred)/1e3)) #error absoluto promedio (o medio)\n",
        "print('MSE [$^2]= {:.2f}'.format(mean_squared_error(t,pred)/1e3)) #error cuadrático promedio\n",
        "\n",
        "'''Como las unidades del MSE son dólares al cuadrado, muchas veces se reporta la\n",
        "#raíz del error cuadrático medio, RMSE:'''\n",
        "print('RMSE [K$]= {:.2f}'.format(np.sqrt(mean_squared_error(t,pred))/1e3))"
      ]
    },
    {
      "cell_type": "markdown",
      "metadata": {
        "id": "OCYXSqT98rfy"
      },
      "source": [
        "Vemos que las métricas no dan el mismo número, pero sí estamos seguros de que son mínimas."
      ]
    },
    {
      "cell_type": "markdown",
      "metadata": {
        "id": "1Hc2CnN38rfy"
      },
      "source": [
        "##### Coeficiente de determinación\n",
        "\n",
        "Otra métrica muy usada para evaluar un modelo es el coeficiente de determinación:\n",
        "\n",
        "$$\n",
        "R^2 = \\frac{SC_\\mathrm{tot} - SC_\\mathrm{res}}{SC_\\mathrm{tot}}\\;\\;,\n",
        "$$\n",
        "\n",
        "Que refleja la parte de la varianza de los datos que el modelo alcanza a explicar. $SC_\\mathrm{tot}$ es la suma de los cuadrados de los residuos.\n",
        "$SC_\\mathrm{res}$ es la variación de los valores reales respecto al valor medio. Esto se puede ver de la expresión (no obvia):\n",
        "$$\n",
        "\\underbrace{\\sum_{i=1}^N\\left(t - \\bar{t}\\right)^2}_{SC_\\mathrm{tot}} = \\underbrace{\\sum_{i=1}^N\\left(t - y\\right)^2}_{SC_\\mathrm{res}} + \\underbrace{\\sum_{i=1}^N\\left(y - \\bar{t}\\right)^2}_{SC_\\mathrm{reg}}\\;\\;.\n",
        "$$\n",
        "\n",
        "\n",
        "Se puede ver que $R^2$ toma valores entre cero y uno. El paquete `sklearn.metrics` tiene una implementación de esta métrica: `r2_score`. Además, es la métrica por defecto de muchos algoritmos de regresión, bajo el método `score`."
      ]
    },
    {
      "cell_type": "code",
      "execution_count": null,
      "metadata": {
        "id": "kSDg9Q5O8rfz"
      },
      "outputs": [],
      "source": [
        "from sklearn.metrics import r2_score\n",
        "print('R^2 (conjunto de entrenamiento) = {:.3f}'.format(r2_score(t, pred)))"
      ]
    },
    {
      "cell_type": "markdown",
      "metadata": {
        "id": "WHfJKd6c8rfz"
      },
      "source": [
        "Esto significa que el modelo explica el 68\\% de la varianza de los datos."
      ]
    },
    {
      "cell_type": "markdown",
      "metadata": {
        "id": "hCxVIzHf8rfz"
      },
      "source": [
        "***\n",
        "\n",
        "## **Ejercicio**\n"
      ]
    },
    {
      "cell_type": "markdown",
      "metadata": {
        "id": "8hYoQFnj8rfz"
      },
      "source": [
        "* Hagan un análisis similar eligiendo una variable predictora diferente."
      ]
    },
    {
      "cell_type": "code",
      "execution_count": null,
      "metadata": {
        "id": "PrtIPpAE8rfz"
      },
      "outputs": [],
      "source": []
    },
    {
      "cell_type": "markdown",
      "metadata": {
        "id": "kSYcJXUo8rfz"
      },
      "source": [
        "* Compare el rendimiento del modelo lineal simple que utiliza \"sup_cubierta\" con el que han elegido."
      ]
    },
    {
      "cell_type": "code",
      "execution_count": null,
      "metadata": {
        "id": "oa1I7-vv8rfz"
      },
      "outputs": [],
      "source": []
    },
    {
      "cell_type": "markdown",
      "metadata": {
        "id": "3v8Nfu9S8rfz"
      },
      "source": [
        "* Ahora viene la parte bonita. Incluya en la matriz X una nueva columna, de modo que combine la \"sup_cubierta\" con su nueva variable, y realice un análisis similar para este \"modelo lineal múltiple\". ¿Qué gráficos puedes hacer todavía? **Tip**: tal vez se pueda crear una variable `sup_fondo`..."
      ]
    },
    {
      "cell_type": "markdown",
      "metadata": {
        "id": "g7pw69Ai8rf0"
      },
      "source": [
        "**Tip**: Para incluir una nueva variable predictora en X (la matriz de diseño); cambien YOUR_FEATURE por el nombre de la columna que desean incluir."
      ]
    },
    {
      "cell_type": "code",
      "execution_count": null,
      "metadata": {
        "id": "rmKLKj4pVY0T"
      },
      "outputs": [],
      "source": [
        "X = df_filtro.loc[:, ['sup_cubierta', 'YOUR_FEATURE1', 'YOUR_FEATURE2', 'YOUR_FEATURE3', ...]].values\n",
        "..."
      ]
    },
    {
      "cell_type": "markdown",
      "metadata": {
        "id": "eziuUjKw4MDh"
      },
      "source": [
        "# Regresion Polinomial\n",
        "Para esta sección vamos a generar nuestros propios datos, así:\n",
        "* Tenemos una forma de comparar/evaluar los resultados: sabemos cual es la función real subyaciente que queremos aprender (en otras palabras sabemos la \"verdad\" y queremos ver que tan bien la recuperamos).\n",
        "* Podemos generar tantos datos cuanto querramos, cuantas veces querramos\n",
        "* Podemos _controlar_ los datos, probando diferentes formas funcionales de la función que queremos predecir/reproducir\n",
        "* Podemos agregar ruído (dispersión) y también controlar como lo hacemos\n",
        "* Podemos elegir modelos muy simples o tan complejos como querramos"
      ]
    },
    {
      "cell_type": "code",
      "execution_count": null,
      "metadata": {
        "id": "NBAzhwMD6TY5"
      },
      "outputs": [],
      "source": [
        "import numpy as np\n",
        "import matplotlib.pyplot as plt\n",
        "\n",
        "\n",
        "N_SAMPLES = 15 #Cantidad de datos que se van a generar (cuantos pares {t,x},\n",
        "#líneas de una base de datos, etc.)\n",
        "\n",
        "x=np.linspace(0,1,num=N_SAMPLES).reshape(-1,1)\n",
        "#np.linspace: función de NumPy que genera una cantidad específica de valores equiespaciados dentro de un rango dado.\n",
        "#reshape(-1, 1) transforma X_ en una matriz de 2D con una única columna y tantas\n",
        "#filas como sea necesario (automáticamente determinando el número de filas).\n",
        "\n",
        "# Fijamos la semilla aleatoria por si queremos reproducir exactamente los mismos\n",
        "# resultados en otro momento:\n",
        "\n",
        "np.random.seed(42)\n",
        "\n",
        "#Ahora la que queremos modelizar no es más lineal en la variable. Generamos puntos a partir de ella\n",
        "\n",
        "def ground_truth(x):\n",
        "  return 4*x + 2*np.sin(x*6)\n",
        "\n",
        "#Agregamos ruido a los datos simulados para hacerlos más realistas.\n",
        "t = ground_truth(x) + 0.5*np.random.randn(N_SAMPLES, 1)\n",
        "\n",
        "\n",
        "# ground_truth(x): Evalúa la función ground_truth en un conjunto de valores x, lo\n",
        "# que da los valores \"verdaderos\" (sin ruido) que sigan el patrón de la función que definiste.\n",
        "# np.random.randn(N_SAMPLES, 1): Genera un array de números aleatorios que siguen\n",
        "# una distribución normal estándar (media 0 y desviación estándar 1). Aquí se generan\n",
        "#  N_SAMPLES valores con una sola columna (1). 0.5*np.random.randn(N_SAMPLES, 1):\n",
        "# Multiplica los números aleatorios por 0.5, lo que reduce la dispersión o varianza\n",
        "# del ruido. Esto genera un ruido q tiene una desviación estándar de 0.5 en lugar de 1.\n"
      ]
    },
    {
      "cell_type": "markdown",
      "metadata": {
        "id": "EY_qxExwU0Qv"
      },
      "source": [
        "Observación: cuando queremos aprender a predecir valores a partir de un modelo, se suele llamar: **a** y la variable target **t**."
      ]
    },
    {
      "cell_type": "code",
      "execution_count": null,
      "metadata": {
        "colab": {
          "base_uri": "https://localhost:8080/",
          "height": 552
        },
        "id": "Fyt9UBdFU2tZ",
        "outputId": "fff12e58-03ad-40bb-ab18-2f49ad109a43"
      },
      "outputs": [
        {
          "data": {
            "image/png": "[encoded data removed]",
            "text/plain": [
              "<Figure size 1000x600 with 1 Axes>"
            ]
          },
          "metadata": {},
          "output_type": "display_data"
        }
      ],
      "source": [
        "#Graficamos:\n",
        "fig=plt.figure(figsize=(10,6))\n",
        "ax=fig.add_subplot(111)\n",
        "\n",
        "x_= np.linspace(0,1,100).reshape(-1,1)\n",
        "ax.plot(x,t,'o',ms=10, mfc='None', label='Datos ficticios')\n",
        "ax.legend(loc=2, fontsize=15)\n",
        "\n",
        "plt.xlabel('x',fontsize=16)\n",
        "plt.ylabel('y',fontsize=16)\n",
        "plt.show()\n"
      ]
    },
    {
      "cell_type": "markdown",
      "metadata": {
        "id": "sHNIj9F6abWs"
      },
      "source": [
        "Un polinómio de una única variable se puede escribir como:\n",
        "\n",
        "$$y = \\omega_0 + \\omega_1 x + \\omega_2 x^2 + \\dots + \\omega_M x^M$$\n",
        "\n",
        "Por ejemplo, una función cúbica:\n",
        "\n",
        "$$y = \\omega_0 + \\omega_1 x + \\omega_2 x^2 + \\omega_3 x^3$$\n",
        "\n",
        "En nuestro ejemplo sería algo así:\n",
        "$$\n",
        "\\text{precio [USD]} = \\omega_0+ \\omega_1 \\cdot \\text{sup. cubierta}\\  + \\omega_2\\cdot \\text{sup. cubierta}^2\\ + \\omega_3 \\cdot \\text{sup. cubierta}^3\\;\\;\n",
        "$$\n",
        "\n",
        "Vean la semejanza con una función _lineal_ de varias variables.\n",
        "\n",
        "En la regresión polinomial, generamos nuevas columnas usando potencias de la variable original. De forma que la función sigue siendo lineal en los *parámetros* $\\omega_i$.\n",
        "\n",
        "La matriz de diseño es\n",
        "$$\\vec y = X \\cdot \\vec \\omega$$\n",
        "donde $$X = \\begin{pmatrix}\n",
        "1&\\; x^{(1)}&\\; \\dots&\\;\\left(x^{(1)}\\right)^M \\\\\n",
        "1&\\; x^{(2)}&\\; \\dots&\\;\\left(x^{(2)}\\right)^M \\\\\n",
        "\\vdots&\\;\\vdots&\\;\\ddots&\\;\\vdots \\\\\n",
        "1&\\; x^{(N)}&\\; \\dots&\\;\\left(x^{(N)}\\right)^M\n",
        "\\end{pmatrix}$$\n",
        "\n",
        "Para generar esa matriz podemos usar `PolynomialFeatures` de `sklearn`:"
      ]
    },
    {
      "cell_type": "code",
      "execution_count": null,
      "metadata": {
        "id": "8ugcPJoWVCkA"
      },
      "outputs": [],
      "source": [
        "from sklearn.preprocessing import PolynomialFeatures\n",
        "M = 3\n",
        "\n",
        "#generamos la matriz de diseño para regresión polinomial de tercer orden (función cúbica)\n",
        "poly = PolynomialFeatures(M)\n",
        "x_poly = poly.fit_transform(x)\n",
        "\n",
        "# poly.fit_transform(x): toma el vector x de entrada\n",
        "# y crea una \"matriz de diseño\" que contiene todos los términos polinómicos hasta\n",
        "# el grado M. Si x es un vector de características, x_poly contendrá las columnas\n",
        "# [1,𝑥,𝑥2,𝑥3]. Esto permite que el modelo considere términos cuadráticos y cúbicos de x para ajustar una función cúbica."
      ]
    },
    {
      "cell_type": "code",
      "execution_count": null,
      "metadata": {
        "id": "wWgZ3mw38rf1"
      },
      "outputs": [],
      "source": [
        "# si todavia tienen dudas que hace PolynomialFeatures vean el primer elemento de X y su correspondiente versión polinómica de grado 3\n",
        "\n",
        "print(x[0])\n",
        "print(x_poly[0])"
      ]
    },
    {
      "cell_type": "markdown",
      "metadata": {
        "id": "N3gTLx9Jnlvj"
      },
      "source": [
        "Ahora hacemos el **ajuste** usando la **regresión lineal**:"
      ]
    },
    {
      "cell_type": "code",
      "execution_count": null,
      "metadata": {
        "colab": {
          "base_uri": "https://localhost:8080/",
          "height": 80
        },
        "id": "7EX2UFFbtT51",
        "outputId": "a3660f12-c37a-4bf4-ab77-1cbfabe98c2d"
      },
      "outputs": [
        {
          "data": {
            "text/html": [
              "<style>#sk-container-id-2 {\n",
              "  /* Definition of color scheme common for light and dark mode */\n",
              "  --sklearn-color-text: black;\n",
              "  --sklearn-color-line: gray;\n",
              "  /* Definition of color scheme for unfitted estimators */\n",
              "  --sklearn-color-unfitted-level-0: #fff5e6;\n",
              "  --sklearn-color-unfitted-level-1: #f6e4d2;\n",
              "  --sklearn-color-unfitted-level-2: #ffe0b3;\n",
              "  --sklearn-color-unfitted-level-3: chocolate;\n",
              "  /* Definition of color scheme for fitted estimators */\n",
              "  --sklearn-color-fitted-level-0: #f0f8ff;\n",
              "  --sklearn-color-fitted-level-1: #d4ebff;\n",
              "  --sklearn-color-fitted-level-2: #b3dbfd;\n",
              "  --sklearn-color-fitted-level-3: cornflowerblue;\n",
              "\n",
              "  /* Specific color for light theme */\n",
              "  --sklearn-color-text-on-default-background: var(--sg-text-color, var(--theme-code-foreground, var(--jp-content-font-color1, black)));\n",
              "  --sklearn-color-background: var(--sg-background-color, var(--theme-background, var(--jp-layout-color0, white)));\n",
              "  --sklearn-color-border-box: var(--sg-text-color, var(--theme-code-foreground, var(--jp-content-font-color1, black)));\n",
              "  --sklearn-color-icon: #696969;\n",
              "\n",
              "  @media (prefers-color-scheme: dark) {\n",
              "    /* Redefinition of color scheme for dark theme */\n",
              "    --sklearn-color-text-on-default-background: var(--sg-text-color, var(--theme-code-foreground, var(--jp-content-font-color1, white)));\n",
              "    --sklearn-color-background: var(--sg-background-color, var(--theme-background, var(--jp-layout-color0, #111)));\n",
              "    --sklearn-color-border-box: var(--sg-text-color, var(--theme-code-foreground, var(--jp-content-font-color1, white)));\n",
              "    --sklearn-color-icon: #878787;\n",
              "  }\n",
              "}\n",
              "\n",
              "#sk-container-id-2 {\n",
              "  color: var(--sklearn-color-text);\n",
              "}\n",
              "\n",
              "#sk-container-id-2 pre {\n",
              "  padding: 0;\n",
              "}\n",
              "\n",
              "#sk-container-id-2 input.sk-hidden--visually {\n",
              "  border: 0;\n",
              "  clip: rect(1px 1px 1px 1px);\n",
              "  clip: rect(1px, 1px, 1px, 1px);\n",
              "  height: 1px;\n",
              "  margin: -1px;\n",
              "  overflow: hidden;\n",
              "  padding: 0;\n",
              "  position: absolute;\n",
              "  width: 1px;\n",
              "}\n",
              "\n",
              "#sk-container-id-2 div.sk-dashed-wrapped {\n",
              "  border: 1px dashed var(--sklearn-color-line);\n",
              "  margin: 0 0.4em 0.5em 0.4em;\n",
              "  box-sizing: border-box;\n",
              "  padding-bottom: 0.4em;\n",
              "  background-color: var(--sklearn-color-background);\n",
              "}\n",
              "\n",
              "#sk-container-id-2 div.sk-container {\n",
              "  /* jupyter's `normalize.less` sets `[hidden] { display: none; }`\n",
              "     but bootstrap.min.css set `[hidden] { display: none !important; }`\n",
              "     so we also need the `!important` here to be able to override the\n",
              "     default hidden behavior on the sphinx rendered scikit-learn.org.\n",
              "     See: https://github.com/scikit-learn/scikit-learn/issues/21755 */\n",
              "  display: inline-block !important;\n",
              "  position: relative;\n",
              "}\n",
              "\n",
              "#sk-container-id-2 div.sk-text-repr-fallback {\n",
              "  display: none;\n",
              "}\n",
              "\n",
              "div.sk-parallel-item,\n",
              "div.sk-serial,\n",
              "div.sk-item {\n",
              "  /* draw centered vertical line to link estimators */\n",
              "  background-image: linear-gradient(var(--sklearn-color-text-on-default-background), var(--sklearn-color-text-on-default-background));\n",
              "  background-size: 2px 100%;\n",
              "  background-repeat: no-repeat;\n",
              "  background-position: center center;\n",
              "}\n",
              "\n",
              "/* Parallel-specific style estimator block */\n",
              "\n",
              "#sk-container-id-2 div.sk-parallel-item::after {\n",
              "  content: \"\";\n",
              "  width: 100%;\n",
              "  border-bottom: 2px solid var(--sklearn-color-text-on-default-background);\n",
              "  flex-grow: 1;\n",
              "}\n",
              "\n",
              "#sk-container-id-2 div.sk-parallel {\n",
              "  display: flex;\n",
              "  align-items: stretch;\n",
              "  justify-content: center;\n",
              "  background-color: var(--sklearn-color-background);\n",
              "  position: relative;\n",
              "}\n",
              "\n",
              "#sk-container-id-2 div.sk-parallel-item {\n",
              "  display: flex;\n",
              "  flex-direction: column;\n",
              "}\n",
              "\n",
              "#sk-container-id-2 div.sk-parallel-item:first-child::after {\n",
              "  align-self: flex-end;\n",
              "  width: 50%;\n",
              "}\n",
              "\n",
              "#sk-container-id-2 div.sk-parallel-item:last-child::after {\n",
              "  align-self: flex-start;\n",
              "  width: 50%;\n",
              "}\n",
              "\n",
              "#sk-container-id-2 div.sk-parallel-item:only-child::after {\n",
              "  width: 0;\n",
              "}\n",
              "\n",
              "/* Serial-specific style estimator block */\n",
              "\n",
              "#sk-container-id-2 div.sk-serial {\n",
              "  display: flex;\n",
              "  flex-direction: column;\n",
              "  align-items: center;\n",
              "  background-color: var(--sklearn-color-background);\n",
              "  padding-right: 1em;\n",
              "  padding-left: 1em;\n",
              "}\n",
              "\n",
              "\n",
              "/* Toggleable style: style used for estimator/Pipeline/ColumnTransformer box that is\n",
              "clickable and can be expanded/collapsed.\n",
              "- Pipeline and ColumnTransformer use this feature and define the default style\n",
              "- Estimators will overwrite some part of the style using the `sk-estimator` class\n",
              "*/\n",
              "\n",
              "/* Pipeline and ColumnTransformer style (default) */\n",
              "\n",
              "#sk-container-id-2 div.sk-toggleable {\n",
              "  /* Default theme specific background. It is overwritten whether we have a\n",
              "  specific estimator or a Pipeline/ColumnTransformer */\n",
              "  background-color: var(--sklearn-color-background);\n",
              "}\n",
              "\n",
              "/* Toggleable label */\n",
              "#sk-container-id-2 label.sk-toggleable__label {\n",
              "  cursor: pointer;\n",
              "  display: block;\n",
              "  width: 100%;\n",
              "  margin-bottom: 0;\n",
              "  padding: 0.5em;\n",
              "  box-sizing: border-box;\n",
              "  text-align: center;\n",
              "}\n",
              "\n",
              "#sk-container-id-2 label.sk-toggleable__label-arrow:before {\n",
              "  /* Arrow on the left of the label */\n",
              "  content: \"▸\";\n",
              "  float: left;\n",
              "  margin-right: 0.25em;\n",
              "  color: var(--sklearn-color-icon);\n",
              "}\n",
              "\n",
              "#sk-container-id-2 label.sk-toggleable__label-arrow:hover:before {\n",
              "  color: var(--sklearn-color-text);\n",
              "}\n",
              "\n",
              "/* Toggleable content - dropdown */\n",
              "\n",
              "#sk-container-id-2 div.sk-toggleable__content {\n",
              "  max-height: 0;\n",
              "  max-width: 0;\n",
              "  overflow: hidden;\n",
              "  text-align: left;\n",
              "  /* unfitted */\n",
              "  background-color: var(--sklearn-color-unfitted-level-0);\n",
              "}\n",
              "\n",
              "#sk-container-id-2 div.sk-toggleable__content.fitted {\n",
              "  /* fitted */\n",
              "  background-color: var(--sklearn-color-fitted-level-0);\n",
              "}\n",
              "\n",
              "#sk-container-id-2 div.sk-toggleable__content pre {\n",
              "  margin: 0.2em;\n",
              "  border-radius: 0.25em;\n",
              "  color: var(--sklearn-color-text);\n",
              "  /* unfitted */\n",
              "  background-color: var(--sklearn-color-unfitted-level-0);\n",
              "}\n",
              "\n",
              "#sk-container-id-2 div.sk-toggleable__content.fitted pre {\n",
              "  /* unfitted */\n",
              "  background-color: var(--sklearn-color-fitted-level-0);\n",
              "}\n",
              "\n",
              "#sk-container-id-2 input.sk-toggleable__control:checked~div.sk-toggleable__content {\n",
              "  /* Expand drop-down */\n",
              "  max-height: 200px;\n",
              "  max-width: 100%;\n",
              "  overflow: auto;\n",
              "}\n",
              "\n",
              "#sk-container-id-2 input.sk-toggleable__control:checked~label.sk-toggleable__label-arrow:before {\n",
              "  content: \"▾\";\n",
              "}\n",
              "\n",
              "/* Pipeline/ColumnTransformer-specific style */\n",
              "\n",
              "#sk-container-id-2 div.sk-label input.sk-toggleable__control:checked~label.sk-toggleable__label {\n",
              "  color: var(--sklearn-color-text);\n",
              "  background-color: var(--sklearn-color-unfitted-level-2);\n",
              "}\n",
              "\n",
              "#sk-container-id-2 div.sk-label.fitted input.sk-toggleable__control:checked~label.sk-toggleable__label {\n",
              "  background-color: var(--sklearn-color-fitted-level-2);\n",
              "}\n",
              "\n",
              "/* Estimator-specific style */\n",
              "\n",
              "/* Colorize estimator box */\n",
              "#sk-container-id-2 div.sk-estimator input.sk-toggleable__control:checked~label.sk-toggleable__label {\n",
              "  /* unfitted */\n",
              "  background-color: var(--sklearn-color-unfitted-level-2);\n",
              "}\n",
              "\n",
              "#sk-container-id-2 div.sk-estimator.fitted input.sk-toggleable__control:checked~label.sk-toggleable__label {\n",
              "  /* fitted */\n",
              "  background-color: var(--sklearn-color-fitted-level-2);\n",
              "}\n",
              "\n",
              "#sk-container-id-2 div.sk-label label.sk-toggleable__label,\n",
              "#sk-container-id-2 div.sk-label label {\n",
              "  /* The background is the default theme color */\n",
              "  color: var(--sklearn-color-text-on-default-background);\n",
              "}\n",
              "\n",
              "/* On hover, darken the color of the background */\n",
              "#sk-container-id-2 div.sk-label:hover label.sk-toggleable__label {\n",
              "  color: var(--sklearn-color-text);\n",
              "  background-color: var(--sklearn-color-unfitted-level-2);\n",
              "}\n",
              "\n",
              "/* Label box, darken color on hover, fitted */\n",
              "#sk-container-id-2 div.sk-label.fitted:hover label.sk-toggleable__label.fitted {\n",
              "  color: var(--sklearn-color-text);\n",
              "  background-color: var(--sklearn-color-fitted-level-2);\n",
              "}\n",
              "\n",
              "/* Estimator label */\n",
              "\n",
              "#sk-container-id-2 div.sk-label label {\n",
              "  font-family: monospace;\n",
              "  font-weight: bold;\n",
              "  display: inline-block;\n",
              "  line-height: 1.2em;\n",
              "}\n",
              "\n",
              "#sk-container-id-2 div.sk-label-container {\n",
              "  text-align: center;\n",
              "}\n",
              "\n",
              "/* Estimator-specific */\n",
              "#sk-container-id-2 div.sk-estimator {\n",
              "  font-family: monospace;\n",
              "  border: 1px dotted var(--sklearn-color-border-box);\n",
              "  border-radius: 0.25em;\n",
              "  box-sizing: border-box;\n",
              "  margin-bottom: 0.5em;\n",
              "  /* unfitted */\n",
              "  background-color: var(--sklearn-color-unfitted-level-0);\n",
              "}\n",
              "\n",
              "#sk-container-id-2 div.sk-estimator.fitted {\n",
              "  /* fitted */\n",
              "  background-color: var(--sklearn-color-fitted-level-0);\n",
              "}\n",
              "\n",
              "/* on hover */\n",
              "#sk-container-id-2 div.sk-estimator:hover {\n",
              "  /* unfitted */\n",
              "  background-color: var(--sklearn-color-unfitted-level-2);\n",
              "}\n",
              "\n",
              "#sk-container-id-2 div.sk-estimator.fitted:hover {\n",
              "  /* fitted */\n",
              "  background-color: var(--sklearn-color-fitted-level-2);\n",
              "}\n",
              "\n",
              "/* Specification for estimator info (e.g. \"i\" and \"?\") */\n",
              "\n",
              "/* Common style for \"i\" and \"?\" */\n",
              "\n",
              ".sk-estimator-doc-link,\n",
              "a:link.sk-estimator-doc-link,\n",
              "a:visited.sk-estimator-doc-link {\n",
              "  float: right;\n",
              "  font-size: smaller;\n",
              "  line-height: 1em;\n",
              "  font-family: monospace;\n",
              "  background-color: var(--sklearn-color-background);\n",
              "  border-radius: 1em;\n",
              "  height: 1em;\n",
              "  width: 1em;\n",
              "  text-decoration: none !important;\n",
              "  margin-left: 1ex;\n",
              "  /* unfitted */\n",
              "  border: var(--sklearn-color-unfitted-level-1) 1pt solid;\n",
              "  color: var(--sklearn-color-unfitted-level-1);\n",
              "}\n",
              "\n",
              ".sk-estimator-doc-link.fitted,\n",
              "a:link.sk-estimator-doc-link.fitted,\n",
              "a:visited.sk-estimator-doc-link.fitted {\n",
              "  /* fitted */\n",
              "  border: var(--sklearn-color-fitted-level-1) 1pt solid;\n",
              "  color: var(--sklearn-color-fitted-level-1);\n",
              "}\n",
              "\n",
              "/* On hover */\n",
              "div.sk-estimator:hover .sk-estimator-doc-link:hover,\n",
              ".sk-estimator-doc-link:hover,\n",
              "div.sk-label-container:hover .sk-estimator-doc-link:hover,\n",
              ".sk-estimator-doc-link:hover {\n",
              "  /* unfitted */\n",
              "  background-color: var(--sklearn-color-unfitted-level-3);\n",
              "  color: var(--sklearn-color-background);\n",
              "  text-decoration: none;\n",
              "}\n",
              "\n",
              "div.sk-estimator.fitted:hover .sk-estimator-doc-link.fitted:hover,\n",
              ".sk-estimator-doc-link.fitted:hover,\n",
              "div.sk-label-container:hover .sk-estimator-doc-link.fitted:hover,\n",
              ".sk-estimator-doc-link.fitted:hover {\n",
              "  /* fitted */\n",
              "  background-color: var(--sklearn-color-fitted-level-3);\n",
              "  color: var(--sklearn-color-background);\n",
              "  text-decoration: none;\n",
              "}\n",
              "\n",
              "/* Span, style for the box shown on hovering the info icon */\n",
              ".sk-estimator-doc-link span {\n",
              "  display: none;\n",
              "  z-index: 9999;\n",
              "  position: relative;\n",
              "  font-weight: normal;\n",
              "  right: .2ex;\n",
              "  padding: .5ex;\n",
              "  margin: .5ex;\n",
              "  width: min-content;\n",
              "  min-width: 20ex;\n",
              "  max-width: 50ex;\n",
              "  color: var(--sklearn-color-text);\n",
              "  box-shadow: 2pt 2pt 4pt #999;\n",
              "  /* unfitted */\n",
              "  background: var(--sklearn-color-unfitted-level-0);\n",
              "  border: .5pt solid var(--sklearn-color-unfitted-level-3);\n",
              "}\n",
              "\n",
              ".sk-estimator-doc-link.fitted span {\n",
              "  /* fitted */\n",
              "  background: var(--sklearn-color-fitted-level-0);\n",
              "  border: var(--sklearn-color-fitted-level-3);\n",
              "}\n",
              "\n",
              ".sk-estimator-doc-link:hover span {\n",
              "  display: block;\n",
              "}\n",
              "\n",
              "/* \"?\"-specific style due to the `<a>` HTML tag */\n",
              "\n",
              "#sk-container-id-2 a.estimator_doc_link {\n",
              "  float: right;\n",
              "  font-size: 1rem;\n",
              "  line-height: 1em;\n",
              "  font-family: monospace;\n",
              "  background-color: var(--sklearn-color-background);\n",
              "  border-radius: 1rem;\n",
              "  height: 1rem;\n",
              "  width: 1rem;\n",
              "  text-decoration: none;\n",
              "  /* unfitted */\n",
              "  color: var(--sklearn-color-unfitted-level-1);\n",
              "  border: var(--sklearn-color-unfitted-level-1) 1pt solid;\n",
              "}\n",
              "\n",
              "#sk-container-id-2 a.estimator_doc_link.fitted {\n",
              "  /* fitted */\n",
              "  border: var(--sklearn-color-fitted-level-1) 1pt solid;\n",
              "  color: var(--sklearn-color-fitted-level-1);\n",
              "}\n",
              "\n",
              "/* On hover */\n",
              "#sk-container-id-2 a.estimator_doc_link:hover {\n",
              "  /* unfitted */\n",
              "  background-color: var(--sklearn-color-unfitted-level-3);\n",
              "  color: var(--sklearn-color-background);\n",
              "  text-decoration: none;\n",
              "}\n",
              "\n",
              "#sk-container-id-2 a.estimator_doc_link.fitted:hover {\n",
              "  /* fitted */\n",
              "  background-color: var(--sklearn-color-fitted-level-3);\n",
              "}\n",
              "</style><div id=\"sk-container-id-2\" class=\"sk-top-container\"><div class=\"sk-text-repr-fallback\"><pre>LinearRegression(fit_intercept=False)</pre><b>In a Jupyter environment, please rerun this cell to show the HTML representation or trust the notebook. <br />On GitHub, the HTML representation is unable to render, please try loading this page with nbviewer.org.</b></div><div class=\"sk-container\" hidden><div class=\"sk-item\"><div class=\"sk-estimator fitted sk-toggleable\"><input class=\"sk-toggleable__control sk-hidden--visually\" id=\"sk-estimator-id-2\" type=\"checkbox\" checked><label for=\"sk-estimator-id-2\" class=\"sk-toggleable__label fitted sk-toggleable__label-arrow fitted\">&nbsp;&nbsp;LinearRegression<a class=\"sk-estimator-doc-link fitted\" rel=\"noreferrer\" target=\"_blank\" href=\"https://scikit-learn.org/1.5/modules/generated/sklearn.linear_model.LinearRegression.html\">?<span>Documentation for LinearRegression</span></a><span class=\"sk-estimator-doc-link fitted\">i<span>Fitted</span></span></label><div class=\"sk-toggleable__content fitted\"><pre>LinearRegression(fit_intercept=False)</pre></div> </div></div></div></div>"
            ],
            "text/plain": [
              "LinearRegression(fit_intercept=False)"
            ]
          },
          "execution_count": 26,
          "metadata": {},
          "output_type": "execute_result"
        }
      ],
      "source": [
        "from sklearn.linear_model import LinearRegression\n",
        "\n",
        "lr=LinearRegression(fit_intercept=False)\n",
        "\n",
        "# Ahora usamos fit_intercept=False para que no ajuste un término independiente,\n",
        "# ya que este ya está incluido en los términos generados por PolynomialFeatures\n",
        "# (la primera columna de x_poly es una columna de unos, que representa el intercepto).\n",
        "\n",
        "lr.fit(x_poly,t)\n",
        "\n",
        "# ajusta el modelo de regresión lineal como antes pero ahora usando la matriz x_poly\n",
        "# (con los términos polinómicos de x) para predecir t, que es el vector de valores objetivo."
      ]
    },
    {
      "cell_type": "code",
      "execution_count": null,
      "metadata": {
        "id": "SV_QDtSkpSbq"
      },
      "outputs": [],
      "source": [
        "# Miramos los coeficientes (ahora recordemos que tenemos más de dos)\n",
        "\n",
        "print(*lr.coef_)\n",
        "\n",
        "#contiene los coeficientes de los términos de la regresión polinómica\n",
        "# ajustada. Cada valor en lr.coef_ corresponde a un término en el polinomio ajustado.\n",
        "#Si M = 3, entonces lr.coef_ tendrá cuatro valores que corresponden a los coeficientes de\n",
        "#[1,𝑥,𝑥2,𝑥3]. el * es para que salga sin []"
      ]
    },
    {
      "cell_type": "code",
      "execution_count": null,
      "metadata": {
        "id": "4sCN8dJhqMuA"
      },
      "outputs": [],
      "source": [
        "from sklearn.metrics import mean_squared_error\n",
        "\n",
        "predictions=lr.predict(poly.transform(x_))\n",
        "\n",
        "# poly.transform(x_): Aplica la misma\n",
        "# transformación polinómica que se usó para el conjunto de datos original x, pero\n",
        "# para a x_. Esto convierte el nuevo conjunto x_ en una \"matriz de diseño\" de\n",
        "# características polinómicas, incluyendo los términos [1,𝑥,𝑥2,𝑥3] (si es un polinomio\n",
        "# de 3er orden). x_ queda en el mismo formato que x_poly, que el modelo espera.\n",
        "# lr.predict(...): Llama al método predict del modelo regresión lineal (lr), el\n",
        "# argumento son  las características transformadas poly.transform(x_).\n",
        "# Esto produce las predicciones para los valores de x_.\n",
        "# En resumen, predictions contiene los valores predichos por el modelo de regresión\n",
        "# polinomial para el conjunto x_, con cada valor predicho calculado en función de\n",
        "# los términos polinómicos de x_.\n",
        "\n",
        "fig=plt.figure(figsize=(10,6))\n",
        "ax=fig.add_subplot(111)\n",
        "\n",
        "x_=np.linspace(0,1,100).reshape(-1,1)\n",
        "ax.plot(x,t,'o',ms=10,mfc='None',label='datos')\n",
        "ax.plot(x_, ground_truth(x_), 'k-', lw=3, alpha=0.5, label='Función real')\n",
        "ax.plot(x_, predictions, 'r-', lw=3, alpha=0.8, label='Función ajustada')\n",
        "ax.legend(loc=2,fontsize=15)\n",
        "\n",
        "plt.xlabel('x', fontsize=16)\n",
        "plt.ylabel('t', fontsize=16)\n",
        "plt.show()\n",
        "\n",
        "error = mean_squared_error(t, lr.predict(x_poly))\n",
        "\n",
        "print(f\"\"\"El MSE es: {round(error,2)}\"\"\")\n"
      ]
    },
    {
      "cell_type": "markdown",
      "metadata": {
        "id": "ZQRh8-qlwhiA"
      },
      "source": [
        "## Hyper-parámetros y Pipelines\n",
        "Ahora podemos ver que nuestro modelo tiene un **hiperparámetro**: el grado del polinomio $M$. Podemos variar este hiperparámetro, y por lo tanto variar nuestro modelo, para ver cómo se comporta.\n",
        "\n",
        "Para ello, vamos a poner todo junto en un Pipeline. Un pipeline es una lista de tuplas `(nombre, modelo)`, en la que cada modelo tiene un método `fit` que se alimenta de la salida del modelo anterior. La entrada del primer modelo son las variables de entrada, y la salida de todos los modelos menos el último se obtiene a través del método `transform`. Esto nos permite armar una cadena de modelos que _transforman_ los datos de entrada, los cuales son alimentados en el último modelo que se llama _estimador_ y tiene un método `predict` que arroja la predicción de toda la tubería (pipe).\n",
        "\n",
        "Forma en la que se construye esto:"
      ]
    },
    {
      "cell_type": "code",
      "execution_count": null,
      "metadata": {
        "id": "sBL6FWpnwr58"
      },
      "outputs": [],
      "source": [
        "from sklearn.pipeline import Pipeline\n",
        "from sklearn.preprocessing import StandardScaler\n",
        "from sklearn.preprocessing import PolynomialFeatures\n",
        "from sklearn.linear_model import LinearRegression\n",
        "\n",
        "# Definimos el pipeline\n",
        "def polynomial_regressor(M): #M: grado del polinomio\n",
        "  return Pipeline([('scaler', StandardScaler()), #siempre es buena idea escalear los datos para que todos tengan valores de 0 a 1\n",
        "                    ('poly_features', PolynomialFeatures(M)),\n",
        "                    ('regressor', LinearRegression(fit_intercept=False))])"
      ]
    },
    {
      "cell_type": "code",
      "execution_count": null,
      "metadata": {
        "colab": {
          "base_uri": "https://localhost:8080/",
          "height": 183
        },
        "id": "DzJjO5M4kcMb",
        "outputId": "cbbd99d2-e5fa-4597-c825-ec940cc9a3a2"
      },
      "outputs": [
        {
          "data": {
            "text/html": [
              "<style>#sk-container-id-3 {\n",
              "  /* Definition of color scheme common for light and dark mode */\n",
              "  --sklearn-color-text: black;\n",
              "  --sklearn-color-line: gray;\n",
              "  /* Definition of color scheme for unfitted estimators */\n",
              "  --sklearn-color-unfitted-level-0: #fff5e6;\n",
              "  --sklearn-color-unfitted-level-1: #f6e4d2;\n",
              "  --sklearn-color-unfitted-level-2: #ffe0b3;\n",
              "  --sklearn-color-unfitted-level-3: chocolate;\n",
              "  /* Definition of color scheme for fitted estimators */\n",
              "  --sklearn-color-fitted-level-0: #f0f8ff;\n",
              "  --sklearn-color-fitted-level-1: #d4ebff;\n",
              "  --sklearn-color-fitted-level-2: #b3dbfd;\n",
              "  --sklearn-color-fitted-level-3: cornflowerblue;\n",
              "\n",
              "  /* Specific color for light theme */\n",
              "  --sklearn-color-text-on-default-background: var(--sg-text-color, var(--theme-code-foreground, var(--jp-content-font-color1, black)));\n",
              "  --sklearn-color-background: var(--sg-background-color, var(--theme-background, var(--jp-layout-color0, white)));\n",
              "  --sklearn-color-border-box: var(--sg-text-color, var(--theme-code-foreground, var(--jp-content-font-color1, black)));\n",
              "  --sklearn-color-icon: #696969;\n",
              "\n",
              "  @media (prefers-color-scheme: dark) {\n",
              "    /* Redefinition of color scheme for dark theme */\n",
              "    --sklearn-color-text-on-default-background: var(--sg-text-color, var(--theme-code-foreground, var(--jp-content-font-color1, white)));\n",
              "    --sklearn-color-background: var(--sg-background-color, var(--theme-background, var(--jp-layout-color0, #111)));\n",
              "    --sklearn-color-border-box: var(--sg-text-color, var(--theme-code-foreground, var(--jp-content-font-color1, white)));\n",
              "    --sklearn-color-icon: #878787;\n",
              "  }\n",
              "}\n",
              "\n",
              "#sk-container-id-3 {\n",
              "  color: var(--sklearn-color-text);\n",
              "}\n",
              "\n",
              "#sk-container-id-3 pre {\n",
              "  padding: 0;\n",
              "}\n",
              "\n",
              "#sk-container-id-3 input.sk-hidden--visually {\n",
              "  border: 0;\n",
              "  clip: rect(1px 1px 1px 1px);\n",
              "  clip: rect(1px, 1px, 1px, 1px);\n",
              "  height: 1px;\n",
              "  margin: -1px;\n",
              "  overflow: hidden;\n",
              "  padding: 0;\n",
              "  position: absolute;\n",
              "  width: 1px;\n",
              "}\n",
              "\n",
              "#sk-container-id-3 div.sk-dashed-wrapped {\n",
              "  border: 1px dashed var(--sklearn-color-line);\n",
              "  margin: 0 0.4em 0.5em 0.4em;\n",
              "  box-sizing: border-box;\n",
              "  padding-bottom: 0.4em;\n",
              "  background-color: var(--sklearn-color-background);\n",
              "}\n",
              "\n",
              "#sk-container-id-3 div.sk-container {\n",
              "  /* jupyter's `normalize.less` sets `[hidden] { display: none; }`\n",
              "     but bootstrap.min.css set `[hidden] { display: none !important; }`\n",
              "     so we also need the `!important` here to be able to override the\n",
              "     default hidden behavior on the sphinx rendered scikit-learn.org.\n",
              "     See: https://github.com/scikit-learn/scikit-learn/issues/21755 */\n",
              "  display: inline-block !important;\n",
              "  position: relative;\n",
              "}\n",
              "\n",
              "#sk-container-id-3 div.sk-text-repr-fallback {\n",
              "  display: none;\n",
              "}\n",
              "\n",
              "div.sk-parallel-item,\n",
              "div.sk-serial,\n",
              "div.sk-item {\n",
              "  /* draw centered vertical line to link estimators */\n",
              "  background-image: linear-gradient(var(--sklearn-color-text-on-default-background), var(--sklearn-color-text-on-default-background));\n",
              "  background-size: 2px 100%;\n",
              "  background-repeat: no-repeat;\n",
              "  background-position: center center;\n",
              "}\n",
              "\n",
              "/* Parallel-specific style estimator block */\n",
              "\n",
              "#sk-container-id-3 div.sk-parallel-item::after {\n",
              "  content: \"\";\n",
              "  width: 100%;\n",
              "  border-bottom: 2px solid var(--sklearn-color-text-on-default-background);\n",
              "  flex-grow: 1;\n",
              "}\n",
              "\n",
              "#sk-container-id-3 div.sk-parallel {\n",
              "  display: flex;\n",
              "  align-items: stretch;\n",
              "  justify-content: center;\n",
              "  background-color: var(--sklearn-color-background);\n",
              "  position: relative;\n",
              "}\n",
              "\n",
              "#sk-container-id-3 div.sk-parallel-item {\n",
              "  display: flex;\n",
              "  flex-direction: column;\n",
              "}\n",
              "\n",
              "#sk-container-id-3 div.sk-parallel-item:first-child::after {\n",
              "  align-self: flex-end;\n",
              "  width: 50%;\n",
              "}\n",
              "\n",
              "#sk-container-id-3 div.sk-parallel-item:last-child::after {\n",
              "  align-self: flex-start;\n",
              "  width: 50%;\n",
              "}\n",
              "\n",
              "#sk-container-id-3 div.sk-parallel-item:only-child::after {\n",
              "  width: 0;\n",
              "}\n",
              "\n",
              "/* Serial-specific style estimator block */\n",
              "\n",
              "#sk-container-id-3 div.sk-serial {\n",
              "  display: flex;\n",
              "  flex-direction: column;\n",
              "  align-items: center;\n",
              "  background-color: var(--sklearn-color-background);\n",
              "  padding-right: 1em;\n",
              "  padding-left: 1em;\n",
              "}\n",
              "\n",
              "\n",
              "/* Toggleable style: style used for estimator/Pipeline/ColumnTransformer box that is\n",
              "clickable and can be expanded/collapsed.\n",
              "- Pipeline and ColumnTransformer use this feature and define the default style\n",
              "- Estimators will overwrite some part of the style using the `sk-estimator` class\n",
              "*/\n",
              "\n",
              "/* Pipeline and ColumnTransformer style (default) */\n",
              "\n",
              "#sk-container-id-3 div.sk-toggleable {\n",
              "  /* Default theme specific background. It is overwritten whether we have a\n",
              "  specific estimator or a Pipeline/ColumnTransformer */\n",
              "  background-color: var(--sklearn-color-background);\n",
              "}\n",
              "\n",
              "/* Toggleable label */\n",
              "#sk-container-id-3 label.sk-toggleable__label {\n",
              "  cursor: pointer;\n",
              "  display: block;\n",
              "  width: 100%;\n",
              "  margin-bottom: 0;\n",
              "  padding: 0.5em;\n",
              "  box-sizing: border-box;\n",
              "  text-align: center;\n",
              "}\n",
              "\n",
              "#sk-container-id-3 label.sk-toggleable__label-arrow:before {\n",
              "  /* Arrow on the left of the label */\n",
              "  content: \"▸\";\n",
              "  float: left;\n",
              "  margin-right: 0.25em;\n",
              "  color: var(--sklearn-color-icon);\n",
              "}\n",
              "\n",
              "#sk-container-id-3 label.sk-toggleable__label-arrow:hover:before {\n",
              "  color: var(--sklearn-color-text);\n",
              "}\n",
              "\n",
              "/* Toggleable content - dropdown */\n",
              "\n",
              "#sk-container-id-3 div.sk-toggleable__content {\n",
              "  max-height: 0;\n",
              "  max-width: 0;\n",
              "  overflow: hidden;\n",
              "  text-align: left;\n",
              "  /* unfitted */\n",
              "  background-color: var(--sklearn-color-unfitted-level-0);\n",
              "}\n",
              "\n",
              "#sk-container-id-3 div.sk-toggleable__content.fitted {\n",
              "  /* fitted */\n",
              "  background-color: var(--sklearn-color-fitted-level-0);\n",
              "}\n",
              "\n",
              "#sk-container-id-3 div.sk-toggleable__content pre {\n",
              "  margin: 0.2em;\n",
              "  border-radius: 0.25em;\n",
              "  color: var(--sklearn-color-text);\n",
              "  /* unfitted */\n",
              "  background-color: var(--sklearn-color-unfitted-level-0);\n",
              "}\n",
              "\n",
              "#sk-container-id-3 div.sk-toggleable__content.fitted pre {\n",
              "  /* unfitted */\n",
              "  background-color: var(--sklearn-color-fitted-level-0);\n",
              "}\n",
              "\n",
              "#sk-container-id-3 input.sk-toggleable__control:checked~div.sk-toggleable__content {\n",
              "  /* Expand drop-down */\n",
              "  max-height: 200px;\n",
              "  max-width: 100%;\n",
              "  overflow: auto;\n",
              "}\n",
              "\n",
              "#sk-container-id-3 input.sk-toggleable__control:checked~label.sk-toggleable__label-arrow:before {\n",
              "  content: \"▾\";\n",
              "}\n",
              "\n",
              "/* Pipeline/ColumnTransformer-specific style */\n",
              "\n",
              "#sk-container-id-3 div.sk-label input.sk-toggleable__control:checked~label.sk-toggleable__label {\n",
              "  color: var(--sklearn-color-text);\n",
              "  background-color: var(--sklearn-color-unfitted-level-2);\n",
              "}\n",
              "\n",
              "#sk-container-id-3 div.sk-label.fitted input.sk-toggleable__control:checked~label.sk-toggleable__label {\n",
              "  background-color: var(--sklearn-color-fitted-level-2);\n",
              "}\n",
              "\n",
              "/* Estimator-specific style */\n",
              "\n",
              "/* Colorize estimator box */\n",
              "#sk-container-id-3 div.sk-estimator input.sk-toggleable__control:checked~label.sk-toggleable__label {\n",
              "  /* unfitted */\n",
              "  background-color: var(--sklearn-color-unfitted-level-2);\n",
              "}\n",
              "\n",
              "#sk-container-id-3 div.sk-estimator.fitted input.sk-toggleable__control:checked~label.sk-toggleable__label {\n",
              "  /* fitted */\n",
              "  background-color: var(--sklearn-color-fitted-level-2);\n",
              "}\n",
              "\n",
              "#sk-container-id-3 div.sk-label label.sk-toggleable__label,\n",
              "#sk-container-id-3 div.sk-label label {\n",
              "  /* The background is the default theme color */\n",
              "  color: var(--sklearn-color-text-on-default-background);\n",
              "}\n",
              "\n",
              "/* On hover, darken the color of the background */\n",
              "#sk-container-id-3 div.sk-label:hover label.sk-toggleable__label {\n",
              "  color: var(--sklearn-color-text);\n",
              "  background-color: var(--sklearn-color-unfitted-level-2);\n",
              "}\n",
              "\n",
              "/* Label box, darken color on hover, fitted */\n",
              "#sk-container-id-3 div.sk-label.fitted:hover label.sk-toggleable__label.fitted {\n",
              "  color: var(--sklearn-color-text);\n",
              "  background-color: var(--sklearn-color-fitted-level-2);\n",
              "}\n",
              "\n",
              "/* Estimator label */\n",
              "\n",
              "#sk-container-id-3 div.sk-label label {\n",
              "  font-family: monospace;\n",
              "  font-weight: bold;\n",
              "  display: inline-block;\n",
              "  line-height: 1.2em;\n",
              "}\n",
              "\n",
              "#sk-container-id-3 div.sk-label-container {\n",
              "  text-align: center;\n",
              "}\n",
              "\n",
              "/* Estimator-specific */\n",
              "#sk-container-id-3 div.sk-estimator {\n",
              "  font-family: monospace;\n",
              "  border: 1px dotted var(--sklearn-color-border-box);\n",
              "  border-radius: 0.25em;\n",
              "  box-sizing: border-box;\n",
              "  margin-bottom: 0.5em;\n",
              "  /* unfitted */\n",
              "  background-color: var(--sklearn-color-unfitted-level-0);\n",
              "}\n",
              "\n",
              "#sk-container-id-3 div.sk-estimator.fitted {\n",
              "  /* fitted */\n",
              "  background-color: var(--sklearn-color-fitted-level-0);\n",
              "}\n",
              "\n",
              "/* on hover */\n",
              "#sk-container-id-3 div.sk-estimator:hover {\n",
              "  /* unfitted */\n",
              "  background-color: var(--sklearn-color-unfitted-level-2);\n",
              "}\n",
              "\n",
              "#sk-container-id-3 div.sk-estimator.fitted:hover {\n",
              "  /* fitted */\n",
              "  background-color: var(--sklearn-color-fitted-level-2);\n",
              "}\n",
              "\n",
              "/* Specification for estimator info (e.g. \"i\" and \"?\") */\n",
              "\n",
              "/* Common style for \"i\" and \"?\" */\n",
              "\n",
              ".sk-estimator-doc-link,\n",
              "a:link.sk-estimator-doc-link,\n",
              "a:visited.sk-estimator-doc-link {\n",
              "  float: right;\n",
              "  font-size: smaller;\n",
              "  line-height: 1em;\n",
              "  font-family: monospace;\n",
              "  background-color: var(--sklearn-color-background);\n",
              "  border-radius: 1em;\n",
              "  height: 1em;\n",
              "  width: 1em;\n",
              "  text-decoration: none !important;\n",
              "  margin-left: 1ex;\n",
              "  /* unfitted */\n",
              "  border: var(--sklearn-color-unfitted-level-1) 1pt solid;\n",
              "  color: var(--sklearn-color-unfitted-level-1);\n",
              "}\n",
              "\n",
              ".sk-estimator-doc-link.fitted,\n",
              "a:link.sk-estimator-doc-link.fitted,\n",
              "a:visited.sk-estimator-doc-link.fitted {\n",
              "  /* fitted */\n",
              "  border: var(--sklearn-color-fitted-level-1) 1pt solid;\n",
              "  color: var(--sklearn-color-fitted-level-1);\n",
              "}\n",
              "\n",
              "/* On hover */\n",
              "div.sk-estimator:hover .sk-estimator-doc-link:hover,\n",
              ".sk-estimator-doc-link:hover,\n",
              "div.sk-label-container:hover .sk-estimator-doc-link:hover,\n",
              ".sk-estimator-doc-link:hover {\n",
              "  /* unfitted */\n",
              "  background-color: var(--sklearn-color-unfitted-level-3);\n",
              "  color: var(--sklearn-color-background);\n",
              "  text-decoration: none;\n",
              "}\n",
              "\n",
              "div.sk-estimator.fitted:hover .sk-estimator-doc-link.fitted:hover,\n",
              ".sk-estimator-doc-link.fitted:hover,\n",
              "div.sk-label-container:hover .sk-estimator-doc-link.fitted:hover,\n",
              ".sk-estimator-doc-link.fitted:hover {\n",
              "  /* fitted */\n",
              "  background-color: var(--sklearn-color-fitted-level-3);\n",
              "  color: var(--sklearn-color-background);\n",
              "  text-decoration: none;\n",
              "}\n",
              "\n",
              "/* Span, style for the box shown on hovering the info icon */\n",
              ".sk-estimator-doc-link span {\n",
              "  display: none;\n",
              "  z-index: 9999;\n",
              "  position: relative;\n",
              "  font-weight: normal;\n",
              "  right: .2ex;\n",
              "  padding: .5ex;\n",
              "  margin: .5ex;\n",
              "  width: min-content;\n",
              "  min-width: 20ex;\n",
              "  max-width: 50ex;\n",
              "  color: var(--sklearn-color-text);\n",
              "  box-shadow: 2pt 2pt 4pt #999;\n",
              "  /* unfitted */\n",
              "  background: var(--sklearn-color-unfitted-level-0);\n",
              "  border: .5pt solid var(--sklearn-color-unfitted-level-3);\n",
              "}\n",
              "\n",
              ".sk-estimator-doc-link.fitted span {\n",
              "  /* fitted */\n",
              "  background: var(--sklearn-color-fitted-level-0);\n",
              "  border: var(--sklearn-color-fitted-level-3);\n",
              "}\n",
              "\n",
              ".sk-estimator-doc-link:hover span {\n",
              "  display: block;\n",
              "}\n",
              "\n",
              "/* \"?\"-specific style due to the `<a>` HTML tag */\n",
              "\n",
              "#sk-container-id-3 a.estimator_doc_link {\n",
              "  float: right;\n",
              "  font-size: 1rem;\n",
              "  line-height: 1em;\n",
              "  font-family: monospace;\n",
              "  background-color: var(--sklearn-color-background);\n",
              "  border-radius: 1rem;\n",
              "  height: 1rem;\n",
              "  width: 1rem;\n",
              "  text-decoration: none;\n",
              "  /* unfitted */\n",
              "  color: var(--sklearn-color-unfitted-level-1);\n",
              "  border: var(--sklearn-color-unfitted-level-1) 1pt solid;\n",
              "}\n",
              "\n",
              "#sk-container-id-3 a.estimator_doc_link.fitted {\n",
              "  /* fitted */\n",
              "  border: var(--sklearn-color-fitted-level-1) 1pt solid;\n",
              "  color: var(--sklearn-color-fitted-level-1);\n",
              "}\n",
              "\n",
              "/* On hover */\n",
              "#sk-container-id-3 a.estimator_doc_link:hover {\n",
              "  /* unfitted */\n",
              "  background-color: var(--sklearn-color-unfitted-level-3);\n",
              "  color: var(--sklearn-color-background);\n",
              "  text-decoration: none;\n",
              "}\n",
              "\n",
              "#sk-container-id-3 a.estimator_doc_link.fitted:hover {\n",
              "  /* fitted */\n",
              "  background-color: var(--sklearn-color-fitted-level-3);\n",
              "}\n",
              "</style><div id=\"sk-container-id-3\" class=\"sk-top-container\"><div class=\"sk-text-repr-fallback\"><pre>Pipeline(steps=[(&#x27;scaler&#x27;, StandardScaler()),\n",
              "                (&#x27;poly_features&#x27;, PolynomialFeatures(degree=3)),\n",
              "                (&#x27;regressor&#x27;, LinearRegression(fit_intercept=False))])</pre><b>In a Jupyter environment, please rerun this cell to show the HTML representation or trust the notebook. <br />On GitHub, the HTML representation is unable to render, please try loading this page with nbviewer.org.</b></div><div class=\"sk-container\" hidden><div class=\"sk-item sk-dashed-wrapped\"><div class=\"sk-label-container\"><div class=\"sk-label fitted sk-toggleable\"><input class=\"sk-toggleable__control sk-hidden--visually\" id=\"sk-estimator-id-3\" type=\"checkbox\" ><label for=\"sk-estimator-id-3\" class=\"sk-toggleable__label fitted sk-toggleable__label-arrow fitted\">&nbsp;&nbsp;Pipeline<a class=\"sk-estimator-doc-link fitted\" rel=\"noreferrer\" target=\"_blank\" href=\"https://scikit-learn.org/1.5/modules/generated/sklearn.pipeline.Pipeline.html\">?<span>Documentation for Pipeline</span></a><span class=\"sk-estimator-doc-link fitted\">i<span>Fitted</span></span></label><div class=\"sk-toggleable__content fitted\"><pre>Pipeline(steps=[(&#x27;scaler&#x27;, StandardScaler()),\n",
              "                (&#x27;poly_features&#x27;, PolynomialFeatures(degree=3)),\n",
              "                (&#x27;regressor&#x27;, LinearRegression(fit_intercept=False))])</pre></div> </div></div><div class=\"sk-serial\"><div class=\"sk-item\"><div class=\"sk-estimator fitted sk-toggleable\"><input class=\"sk-toggleable__control sk-hidden--visually\" id=\"sk-estimator-id-4\" type=\"checkbox\" ><label for=\"sk-estimator-id-4\" class=\"sk-toggleable__label fitted sk-toggleable__label-arrow fitted\">&nbsp;StandardScaler<a class=\"sk-estimator-doc-link fitted\" rel=\"noreferrer\" target=\"_blank\" href=\"https://scikit-learn.org/1.5/modules/generated/sklearn.preprocessing.StandardScaler.html\">?<span>Documentation for StandardScaler</span></a></label><div class=\"sk-toggleable__content fitted\"><pre>StandardScaler()</pre></div> </div></div><div class=\"sk-item\"><div class=\"sk-estimator fitted sk-toggleable\"><input class=\"sk-toggleable__control sk-hidden--visually\" id=\"sk-estimator-id-5\" type=\"checkbox\" ><label for=\"sk-estimator-id-5\" class=\"sk-toggleable__label fitted sk-toggleable__label-arrow fitted\">&nbsp;PolynomialFeatures<a class=\"sk-estimator-doc-link fitted\" rel=\"noreferrer\" target=\"_blank\" href=\"https://scikit-learn.org/1.5/modules/generated/sklearn.preprocessing.PolynomialFeatures.html\">?<span>Documentation for PolynomialFeatures</span></a></label><div class=\"sk-toggleable__content fitted\"><pre>PolynomialFeatures(degree=3)</pre></div> </div></div><div class=\"sk-item\"><div class=\"sk-estimator fitted sk-toggleable\"><input class=\"sk-toggleable__control sk-hidden--visually\" id=\"sk-estimator-id-6\" type=\"checkbox\" ><label for=\"sk-estimator-id-6\" class=\"sk-toggleable__label fitted sk-toggleable__label-arrow fitted\">&nbsp;LinearRegression<a class=\"sk-estimator-doc-link fitted\" rel=\"noreferrer\" target=\"_blank\" href=\"https://scikit-learn.org/1.5/modules/generated/sklearn.linear_model.LinearRegression.html\">?<span>Documentation for LinearRegression</span></a></label><div class=\"sk-toggleable__content fitted\"><pre>LinearRegression(fit_intercept=False)</pre></div> </div></div></div></div></div></div>"
            ],
            "text/plain": [
              "Pipeline(steps=[('scaler', StandardScaler()),\n",
              "                ('poly_features', PolynomialFeatures(degree=3)),\n",
              "                ('regressor', LinearRegression(fit_intercept=False))])"
            ]
          },
          "execution_count": 30,
          "metadata": {},
          "output_type": "execute_result"
        }
      ],
      "source": [
        "#AHORA SE PUEDE HACER EL AJUSTE CUADRATICO EN UN SOLO PASO\n",
        "pr=polynomial_regressor(3) #grado del polinomio\n",
        "pr.fit(x,t)"
      ]
    },
    {
      "cell_type": "markdown",
      "metadata": {
        "id": "zurjmC4toFUT"
      },
      "source": [
        "Se puede usar las funciones que definimos al principio para el cálculo del error."
      ]
    },
    {
      "cell_type": "code",
      "execution_count": null,
      "metadata": {
        "id": "IFdmic-ToJjQ"
      },
      "outputs": [],
      "source": [
        "error=mean_squared_error(t, pr.predict(x))\n",
        "print(f'El MSE: {round(error,2)}')"
      ]
    },
    {
      "cell_type": "markdown",
      "metadata": {
        "id": "4jgthwBOoVkU"
      },
      "source": [
        "Los nombres de cada tupla se utilizan como clave para acceder a cada uno de los _pasos_ del pipeline en el diccionario `named_steps`:"
      ]
    },
    {
      "cell_type": "code",
      "execution_count": null,
      "metadata": {
        "id": "zL2Sko2-oYeQ"
      },
      "outputs": [],
      "source": [
        "pr.named_steps\n",
        "#muestro los nombres da cada pipeline:"
      ]
    },
    {
      "cell_type": "markdown",
      "metadata": {
        "id": "4PJyfh-Wo7oh"
      },
      "source": [
        "Esto puede usarse, por ejemplo, para obtener los valores de los parámetros ajustados."
      ]
    },
    {
      "cell_type": "code",
      "execution_count": null,
      "metadata": {
        "id": "7KD2JTXHo7Nf"
      },
      "outputs": [],
      "source": [
        "pr.named_steps['regressor'].coef_\n",
        "\n",
        "#pr: Esta es la instancia del pipeline\n",
        "#named_steps: diccionario de los pasos en el pipeline, donde c/paso está asociado\n",
        "# a un nombre de clave: es el q se dio al modelo/transformación al crear el pipeline.\n",
        "#['regressor']: nombre de un paso, LinearRegression, .coef_: Este atributo obtiene\n",
        "# los coefic. del modelo de regresión lineal ajustado en el pipeline.\n",
        "# coef_ contiene los valores que representan el impacto de cada característica\n",
        "# en la predicción del modelo."
      ]
    },
    {
      "cell_type": "markdown",
      "metadata": {
        "id": "X1WDpAFfqqoW"
      },
      "source": [
        "## Aumentando el grado del polinomio y sobreajuste\n",
        "Ahora, podemos iterar sobre ciertos grados del polinomio y ver cómo se comporta"
      ]
    },
    {
      "cell_type": "code",
      "execution_count": null,
      "metadata": {
        "id": "Y2RRyQmJqrb5"
      },
      "outputs": [],
      "source": [
        "#Creo una lista de grado\n",
        "degrees=range(1,15) #lista de 1 a 14\n",
        "\n",
        "#Inicializamos las listas\n",
        "errors=[]\n",
        "models=[]\n",
        "\n",
        "#Itera en todos los grados\n",
        "for M in degrees:\n",
        "  print(f'Grado del polinomio: {M}')\n",
        "\n",
        "  #Creo el modelo del polinimio\n",
        "  pr=polynomial_regressor(M)\n",
        "  #entrenar\n",
        "  pr.fit(x,t)\n",
        "\n",
        "  #Evaluar los errores\n",
        "  error=mean_squared_error(t, pr.predict(x))\n",
        "  print(f'El MSE: {round(error,2)}')\n",
        "  #guarda el resultado en listas\n",
        "  errors.append(error)\n",
        "  models.append(pr)\n",
        "#"
      ]
    },
    {
      "cell_type": "markdown",
      "metadata": {
        "id": "jyGh8GA5sXS2"
      },
      "source": [
        "Vemos que aumentar el grado del polinomio: **¡mejora el ajuste!**.\n",
        "\n",
        "Veamos graficamente todos estos modelos"
      ]
    },
    {
      "cell_type": "code",
      "execution_count": null,
      "metadata": {
        "id": "TEhQyx5IsWhO"
      },
      "outputs": [],
      "source": [
        "#Para hacer múltiples gráficas:\n",
        "ncolumns=4 #establece que la cuadrícula de gráficos tendrá 3 columnas\n",
        "\n",
        "fig=plt.figure(figsize=(15,18)) #Se crea 1 figura, donde se ponen los subgráficos\n",
        "\n",
        "# El código de abajo comprueba si el núm de modelos (M) es divisible por el número\n",
        "# de columnas (ncolumns). Si no lo es, necesita una fila adicional (extrarow=1)\n",
        "# para acomodar los gráficos restantes.\n",
        "\n",
        "if M % ncolumns==0: #len(models)\n",
        "  extrarow=0\n",
        "else:\n",
        "  extrarow=1\n",
        "\n",
        "axs=fig.subplots(ncols=ncolumns,nrows=int(np.floor(len(models)/ncolumns)+extrarow))\n",
        "# genera una cuadrícula de subgráficos (axs) con el núm de columnas (ncolumns)\n",
        "# y el número de filas calculadas en base al núm total de modelos (len(models)).\n",
        "\n",
        "x_=np.linspace(0,1,100).reshape(-1,1)\n",
        "\n",
        "# genera un conjunto de valores x_ entre 0 y 1 con 100 puntos uniformemente espaciados.\n",
        "# Se usan para trazar las predicciones de cada modelo de regresión polinomial.\n",
        "# reshape(-1, 1) convierte x_ en un arreglo de una sola columna.\n",
        "\n",
        "# itera sobre cada modelo i en models y su subgráfico correspondiente ax.\n",
        "# axs.flatten() convierte la cuadrícula en una lista de subgráficos:\n",
        "\n",
        "for i,ax in zip(range(len(models)),axs.flatten()):\n",
        "  ax.plot(x,t,'o',ms=10,mfc='None',label='datos')\n",
        "  ax.plot(x_, models[i].predict(x_), 'r-', lw=3, alpha=0.8, label='Curva modelo')\n",
        "  ax.plot(x_, ground_truth(x_), 'k-', lw=3, alpha=0.5, label='Función subyacente')\n",
        "\n",
        "  ax.set_title(f'Grado: {degrees[i]}', fontsize=10)\n",
        "  ax.set_ylim(0,3.9)\n",
        "\n",
        "# La función zip agrupa estos elementos en pares (i, ax) que luego se pueden usar\n",
        "# para recorrer simultáneamente los modelos (i) y los subgráficos (ax).\n",
        "\n",
        "# Hacemos la leyenda :\n",
        "handles, labels=ax.get_legend_handles_labels()\n",
        "fig.legend(handles,labels,loc='upper center',fontsize=14,ncol=len(handles),\n",
        "           borderaxespad=0.5)\n",
        "plt.show()"
      ]
    },
    {
      "cell_type": "markdown",
      "metadata": {
        "id": "JVM0xPHhGevz"
      },
      "source": [
        "¿Conviene aumentar el grado del polinómio? ¿Que pasaría si tuviéramos menos puntos? o ¿Qué pasa si se agregan más puntos?"
      ]
    },
    {
      "cell_type": "markdown",
      "metadata": {
        "id": "O2Xbszs2Gvjz"
      },
      "source": [
        "## Separando los datos en **entrenamiento** y **testeo**\n",
        "Para atacar el problema del sobreajuste, separaremos los datos aleatoriamente en un _conjunto de entrenamiento_ y en un _conjunto de testeo_.\n",
        "\n",
        "Para eso usareremos la función `train_test_split`de `sklearn`."
      ]
    },
    {
      "cell_type": "code",
      "execution_count": null,
      "metadata": {
        "id": "BnbD-UaA5hvc"
      },
      "outputs": [],
      "source": [
        "from sklearn.model_selection import train_test_split\n",
        "\n",
        "#Separamos los datos en entrenamiento y testeo\n",
        "x_train, x_test, et_train, et_test=train_test_split(x,t,random_state=42) #42 semilla\n"
      ]
    },
    {
      "cell_type": "markdown",
      "metadata": {
        "id": "LDIUCpSBJEjz"
      },
      "source": [
        "Visualizamos el dataset con `matplotlib`. Usamos colores diferentes para los datos del conjunto de testeo y los de entrenamiento. Además, agregamos la función de la que provienen los datos."
      ]
    },
    {
      "cell_type": "code",
      "execution_count": null,
      "metadata": {
        "id": "Vu61ssjOJHQX"
      },
      "outputs": [],
      "source": [
        "fig=plt.figure(figsize=(10,6))\n",
        "ax=fig.add_subplot(111)\n",
        "\n",
        "x_=np.linspace(0,1,100).reshape(-1,1)\n",
        "ax.plot(x_train,et_train,'o',ms=10,mfc='None',label='Datos de entrenamiento')\n",
        "ax.plot(x_test,et_test,'o',ms=10,mfc='None',label='Datos de testeo')\n",
        "ax.plot(x_, ground_truth(x_), 'k-', lw=3, alpha=0.5, label='Función subyacente')\n",
        "ax.legend(loc=2,fontsize=15)\n",
        "\n",
        "plt.xlabel('x', fontsize=16)\n",
        "plt.ylabel('y', fontsize=16)\n",
        "plt.show()\n",
        "#"
      ]
    },
    {
      "cell_type": "markdown",
      "metadata": {
        "id": "yN5h8tTVKXja"
      },
      "source": [
        "Definimos un par de funciones útiles que se van a utilizar durante el resto del notebook.\n",
        "\n",
        "- La *primera* se usa para *graficar los datos y las predicciones de modelos*.\n",
        "- La *segunda calcula los errores de un modelo* sobre los datos de entrenamiento y de testeo."
      ]
    },
    {
      "cell_type": "code",
      "execution_count": null,
      "metadata": {
        "id": "e5HmMw18KqdQ"
      },
      "outputs": [],
      "source": [
        "#Para graficar los datos y las predicciones de modelos:\n",
        "def plot_data(model, x, y, x_test=[], y_test=[], gt=False):\n",
        "  fig=plt.figure(figsize=(10,6))\n",
        "  ax=fig.add_subplot(111)\n",
        "\n",
        "  #Dibuja los datos de entrenamiento\n",
        "  ax.plot(x_train,y_train,'o',ms=10,mfc='None',label='Datos')\n",
        "\n",
        "  #Chequea si el conjunto de prueba esta presente\n",
        "  if len(x_test)>0:\n",
        "    assert len(x_test) == len(y_test), \"El tamaño del dataset es incompatible\"\n",
        "    #Dibuja los datos de testeo\n",
        "    ax.plot(x_test,y_test,'o',ms=10,mfc='None',label='Datos de testeo')\n",
        "\n",
        "  #Define arreglo sobremuestreado (para que se vea la línea contínua)\n",
        "  x_=np.linspace(0,1,100).reshape(-1,1)\n",
        "\n",
        "  #Hace las predicciones sobre un arreglo sobre muestreado\n",
        "  predictions=model.predict(x_)\n",
        "\n",
        "  #Dibuja la predicción\n",
        "  ax.plot(x_, predictions, 'r-', lw=4, alpha=0.8, label='Curva predicha')\n",
        "\n",
        "  #Dibuja la real\n",
        "  if gt:\n",
        "    ax.plot(x_, ground_truth(x_), 'k-', lw=3, alpha=0.5, label='Función real')\n",
        "\n",
        "  ax.legend(loc=2,fontsize=15)\n",
        "  plt.xlabel('x', fontsize=16)\n",
        "  plt.ylabel('t', fontsize=16)\n",
        "  plt.show()\n",
        "  #return\n",
        "\n",
        "# Para calcular los errores de un modelo sobre los datos de entrenamiento y de testeo.\n",
        "# print si es True, se imprimen los resultados de los errores\n",
        "\n",
        "def compute_errors(model, x_train, y_train, x_test=None, y_test=None, print_result=True):\n",
        "  training_error=mean_squared_error(y_train, model.predict(x_train))\n",
        "  if print_result:\n",
        "    print(f'El MSE en el entrenamiento es: {round(training_error,2)}')\n",
        "\n",
        "  if x_test is not None and y_test is not None:\n",
        "        test_error = mean_squared_error(y_test, model.predict(x_test))\n",
        "        if print_result: print(f\"El MSE en el testeo es: {round(test_error,2)}\")\n",
        "        return training_error, test_error\n",
        "  else:\n",
        "        return training_error\n",
        "\n",
        "  #model.predict(x_train): realiza predicciones en el conjunto de entrenamiento.\n",
        "  #mean_squared_error(y_train, model.predict(x_train)): calcula el MSE entre las\n",
        "  # predicciones del modelo y los valores reales y_train.\n",
        "\n",
        "  # PARA USAR LA FUNCION SEGUN MI INTERES:\n",
        "  # Supongamos que llamas a compute_errors de dos maneras diferentes:\n",
        "  # Con print_result=True como print_result es True, la función imprimirá el MSE\n",
        "  # de entrenamiento (y de prueba si están disponibles x_test y y_test).\n",
        "  # Con print_result=False: Ej: compute_errors(model, x_train, y_train, x_test,\n",
        "  # y_test, print_result=False), al pasar explícitamente print_result=False, la\n",
        "  # función no imprimirá los errores, pero los seguirá calculando y devolviendo,\n",
        "  # lo cual puede ser útil si se quiere usar estos valores de error en otros cálculos\n",
        "  # o funciones sin mostrarlos en pantalla."
      ]
    },
    {
      "cell_type": "markdown",
      "metadata": {
        "id": "6J4FUTL84j9_"
      },
      "source": [
        "## Dependencia en _M_\n",
        "Vamos a usar todo lo que está arriba para explorar la dependencia de las metricas con el grado _M_ del polinomio."
      ]
    },
    {
      "cell_type": "code",
      "execution_count": null,
      "metadata": {
        "id": "gkNS-lz95wX2"
      },
      "outputs": [],
      "source": [
        "#Crea una lista de grados del polinomio\n",
        "degrees=range(1,10)\n",
        "\n",
        "#Inicializa las listas\n",
        "train_errors = []\n",
        "test_errors = []\n",
        "models=[]\n",
        "\n",
        "#itera sobre todos los grados\n",
        "for M in degrees:\n",
        "  print(f'Grado del polinomio: {M}')\n",
        "\n",
        "  #Crea el modelo del polinomio\n",
        "  pr=polynomial_regressor(M)\n",
        "\n",
        "  #Entrena (hace el fit)\n",
        "  pr.fit(x_train,et_train)\n",
        "\n",
        "  #Evalua los errores, uso la función creada arriba\n",
        "  train_e,test_e=compute_errors(pr, x_train, et_train, x_test, et_test)\n",
        "\n",
        "  #plot_data(pr,x_train,y_train, x_test, y_test)\n",
        "\n",
        "  #Guarda/agrega los resultados en las listas\n",
        "  train_errors.append(train_e)\n",
        "  test_errors.append(test_e)\n",
        "  models.append(pr)"
      ]
    },
    {
      "cell_type": "markdown",
      "metadata": {
        "id": "pr21AUHW8f4g"
      },
      "source": [
        "Veamos como queda gráficamente"
      ]
    },
    {
      "cell_type": "code",
      "execution_count": null,
      "metadata": {
        "id": "mPsILqHp8fEO"
      },
      "outputs": [],
      "source": [
        "fig=plt.figure(figsize=(10,6))\n",
        "ax=fig.add_subplot(111)\n",
        "\n",
        "#Grafico rojo: error en la muestra de prueba\n",
        "ax.plot(range(1,len(test_errors)+1), test_errors, '-or', mfc='None',ms=10,label='Error en la muestra de prueba')\n",
        "#Grafico azul: error en la muestra de entrenamiento\n",
        "ax.plot(range(1,len(train_errors)+1), train_errors, '-ob', mfc='None',ms=10,label='Error en la muestra de entrenamiento')\n",
        "_ = ax.legend(loc=0, fontsize=16)\n",
        "_ = ax.set_xlabel('Grado del polinomio', size=16)\n",
        "_ = ax.set_ylabel('Error cuadrático medio (MSE)', size=16)"
      ]
    },
    {
      "cell_type": "markdown",
      "metadata": {
        "id": "uM0LvovX98zr"
      },
      "source": [
        "Es útil hacer gráficas de esos valores en una escala lograrítmica, porque pueden variar mucho.\n",
        "\n",
        "La función semilogy en matplotlib se utiliza para crear un gráfico donde el eje y es logarítmico, mientras que el eje x es lineal. Esto es útil para visualizar datos que varían en órdenes de magnitud, ya que una escala logarítmica en el eje y ayuda a mostrar patrones en valores pequeños y grandes al mism"
      ]
    },
    {
      "cell_type": "code",
      "execution_count": null,
      "metadata": {
        "id": "76R56yuT9-zg"
      },
      "outputs": [],
      "source": [
        "fig = plt.figure(figsize=(9,6))\n",
        "ax = fig.add_subplot(111)\n",
        "\n",
        "ax.semilogy(range(1, len(test_errors)+1), test_errors, '-or', mfc='None', ms=10, label='Error en la muestra de prueba')\n",
        "ax.semilogy(range(1, len(train_errors)+1), train_errors, '-ob', mfc='None', ms=10, label='Error en la muestra de entrenamiento')\n",
        "_ = ax.legend(loc=0, fontsize=16)\n",
        "_ = ax.set_xlabel('Grado del polinomio', size=16)\n",
        "_ = ax.set_ylabel('Error cuadrático medio (MSE)', size=16)"
      ]
    },
    {
      "cell_type": "markdown",
      "metadata": {
        "id": "5pVgR-iH_3X4"
      },
      "source": [
        "## Gráficas de los modelos\n",
        "También es muy ilustrativo ver esos modelos. Sin embargo, hay que tener en cuenta que esto no se puede reproducir facilmente cuando hay más de dos dimensiones."
      ]
    },
    {
      "cell_type": "code",
      "execution_count": null,
      "metadata": {
        "id": "3tzZPyB9_-TN"
      },
      "outputs": [],
      "source": [
        "# Hace multiples gráficas para los vários valores del orden del polinomio,\n",
        "#con los valores de entrenamiento y los de testeo\n",
        "ncolumns = 3\n",
        "\n",
        "fig = plt.figure(figsize=(14, 14))\n",
        "\n",
        "if len(models) % ncolumns == 0:\n",
        "    extrarow = 0\n",
        "else:\n",
        "    extrarow = 1\n",
        "\n",
        "axs = fig.subplots(ncols=ncolumns, nrows=int(np.floor(len(models)/ncolumns) + extrarow))\n",
        "\n",
        "x_ = np.linspace(0,1, 100).reshape(-1,1)\n",
        "for i, ax in zip(range(len(models)), axs.flatten()):\n",
        "    ax.plot(x_train, et_train, 'o', ms=10, mfc='None', label='Entrenamiento')\n",
        "    ax.plot(x_test, et_test, 'or', ms=10, mfc='None', label='Prueba')\n",
        "    ax.plot(x_, models[i].predict(x_), 'r-', lw=3, alpha=0.8, label='Curva predicha')\n",
        "    ax.plot(x_, ground_truth(x_), 'k-', lw=3, alpha=0.5, label='Modelo real')\n",
        "    #\n",
        "    ax.set_title('Grado: {}'.format(models[i]['poly_features'].degree), fontsize=14)\n",
        "    #\n",
        "    ax.set_ylim(0, 3.9)\n",
        "\n",
        "# Misma leyenda para todos\n",
        "handles, labels = ax.get_legend_handles_labels()\n",
        "_ = fig.legend(handles, labels, loc='upper center', ncol=len(handles),\n",
        "               fontsize=16, borderaxespad=2.5)"
      ]
    },
    {
      "cell_type": "markdown",
      "metadata": {
        "id": "DYtj4m4YAfbi"
      },
      "source": [
        "## Conclusión y pregunta\n",
        "Vimos que el polinomio de menor error de prueba (o sea, menor error cuando el modelo ajustado con el conjunto de entrenamiento se usa para realizar predicciones sobre el conjunto de prueba) era el de grado cinco. Mirando a las curvas, parece ser el que mejor se aproxima del processo verdadero.\n",
        "\n",
        "Ahora, en este caso *sabemos* que el proceso real no puede ser completamente representado por un polinomio con grado finito. Habrá una forma de dar más flexibilidad al algoritmo y todavía evitar el sobreajuste (_overfitting_)? Para llevar eso a cabo necesitamos agregar información al modelo (teorema \"no hay almuerzo grátis\").\n",
        "\n",
        "**De eso se trata la regularización:** agregar uno o más hiperparámetro(s) que eviten el sobreajuste, manteniendo los grados de libertad del modelo."
      ]
    },
    {
      "cell_type": "markdown",
      "metadata": {
        "id": "7kq1Sx2RfSma"
      },
      "source": [
        "# Regularización"
      ]
    },
    {
      "cell_type": "markdown",
      "metadata": {
        "id": "SzE7XfJpdUh4"
      },
      "source": [
        "## Motivación empírica"
      ]
    },
    {
      "cell_type": "markdown",
      "metadata": {
        "id": "TzJ0OTRDdUh4"
      },
      "source": [
        "El sobreajuste (_overfitting_) es una consecuencia de intentar minimizar la función error usando modelos muy flexible. Parece claro que un camino para mejorar sería modificando de alguna forma la función error.\n",
        "\n",
        "Escribamos:\n",
        "\n",
        "$$\n",
        "MSE(\\boldsymbol{\\omega}) = \\frac{1}{2} \\sum_{i=1}^{N} \\left\\{y(x_i, \\boldsymbol{\\omega}) - t_i\\right\\}^2\\;\\;.\n",
        "$$\n",
        "\n",
        "**¿Como deberíamos modificar esa expresión?**\n",
        "Algunos indicios pueden ser obtenidos al mirar los valores de los parámetros de la regresión polinomial."
      ]
    },
    {
      "cell_type": "code",
      "execution_count": null,
      "metadata": {
        "colab": {
          "base_uri": "https://localhost:8080/",
          "height": 363
        },
        "id": "GUgPF5NhdUh5",
        "outputId": "955ff479-8da5-4a5f-a7e9-901750ba4f51"
      },
      "outputs": [
        {
          "data": {
            "text/html": [
              "<div>\n",
              "<style scoped>\n",
              "    .dataframe tbody tr th:only-of-type {\n",
              "        vertical-align: middle;\n",
              "    }\n",
              "\n",
              "    .dataframe tbody tr th {\n",
              "        vertical-align: top;\n",
              "    }\n",
              "\n",
              "    .dataframe thead th {\n",
              "        text-align: right;\n",
              "    }\n",
              "</style>\n",
              "<table border=\"1\" class=\"dataframe\">\n",
              "  <thead>\n",
              "    <tr style=\"text-align: right;\">\n",
              "      <th></th>\n",
              "      <th>1</th>\n",
              "      <th>2</th>\n",
              "      <th>3</th>\n",
              "      <th>4</th>\n",
              "      <th>5</th>\n",
              "      <th>6</th>\n",
              "      <th>7</th>\n",
              "      <th>8</th>\n",
              "      <th>9</th>\n",
              "    </tr>\n",
              "  </thead>\n",
              "  <tbody>\n",
              "    <tr>\n",
              "      <th>0</th>\n",
              "      <td>2.349173</td>\n",
              "      <td>2.530699</td>\n",
              "      <td>2.733948</td>\n",
              "      <td>2.611936</td>\n",
              "      <td>2.680840</td>\n",
              "      <td>2.847963</td>\n",
              "      <td>2.880707</td>\n",
              "      <td>3.261468</td>\n",
              "      <td>3.208102</td>\n",
              "    </tr>\n",
              "    <tr>\n",
              "      <th>1</th>\n",
              "      <td>-0.199672</td>\n",
              "      <td>-0.122344</td>\n",
              "      <td>-1.891045</td>\n",
              "      <td>-2.074940</td>\n",
              "      <td>-2.572736</td>\n",
              "      <td>-2.093753</td>\n",
              "      <td>-2.402616</td>\n",
              "      <td>-2.052577</td>\n",
              "      <td>-3.165373</td>\n",
              "    </tr>\n",
              "    <tr>\n",
              "      <th>2</th>\n",
              "      <td>NaN</td>\n",
              "      <td>-0.181526</td>\n",
              "      <td>-0.796496</td>\n",
              "      <td>-0.359546</td>\n",
              "      <td>-0.850741</td>\n",
              "      <td>-2.306907</td>\n",
              "      <td>-2.774415</td>\n",
              "      <td>-10.014646</td>\n",
              "      <td>-9.028619</td>\n",
              "    </tr>\n",
              "    <tr>\n",
              "      <th>3</th>\n",
              "      <td>NaN</td>\n",
              "      <td>NaN</td>\n",
              "      <td>0.966508</td>\n",
              "      <td>1.131844</td>\n",
              "      <td>1.927967</td>\n",
              "      <td>0.662378</td>\n",
              "      <td>1.731268</td>\n",
              "      <td>-2.722915</td>\n",
              "      <td>7.973772</td>\n",
              "    </tr>\n",
              "    <tr>\n",
              "      <th>4</th>\n",
              "      <td>NaN</td>\n",
              "      <td>NaN</td>\n",
              "      <td>NaN</td>\n",
              "      <td>-0.183419</td>\n",
              "      <td>0.098223</td>\n",
              "      <td>1.757417</td>\n",
              "      <td>2.511221</td>\n",
              "      <td>19.313115</td>\n",
              "      <td>19.932867</td>\n",
              "    </tr>\n",
              "    <tr>\n",
              "      <th>5</th>\n",
              "      <td>NaN</td>\n",
              "      <td>NaN</td>\n",
              "      <td>NaN</td>\n",
              "      <td>NaN</td>\n",
              "      <td>-0.266819</td>\n",
              "      <td>0.287517</td>\n",
              "      <td>-0.638983</td>\n",
              "      <td>6.140175</td>\n",
              "      <td>-14.402005</td>\n",
              "    </tr>\n",
              "    <tr>\n",
              "      <th>6</th>\n",
              "      <td>NaN</td>\n",
              "      <td>NaN</td>\n",
              "      <td>NaN</td>\n",
              "      <td>NaN</td>\n",
              "      <td>NaN</td>\n",
              "      <td>-0.482053</td>\n",
              "      <td>-0.753889</td>\n",
              "      <td>-12.606694</td>\n",
              "      <td>-16.091781</td>\n",
              "    </tr>\n",
              "    <tr>\n",
              "      <th>7</th>\n",
              "      <td>NaN</td>\n",
              "      <td>NaN</td>\n",
              "      <td>NaN</td>\n",
              "      <td>NaN</td>\n",
              "      <td>NaN</td>\n",
              "      <td>NaN</td>\n",
              "      <td>0.234181</td>\n",
              "      <td>-2.136439</td>\n",
              "      <td>10.742246</td>\n",
              "    </tr>\n",
              "    <tr>\n",
              "      <th>8</th>\n",
              "      <td>NaN</td>\n",
              "      <td>NaN</td>\n",
              "      <td>NaN</td>\n",
              "      <td>NaN</td>\n",
              "      <td>NaN</td>\n",
              "      <td>NaN</td>\n",
              "      <td>NaN</td>\n",
              "      <td>2.595368</td>\n",
              "      <td>4.108910</td>\n",
              "    </tr>\n",
              "    <tr>\n",
              "      <th>9</th>\n",
              "      <td>NaN</td>\n",
              "      <td>NaN</td>\n",
              "      <td>NaN</td>\n",
              "      <td>NaN</td>\n",
              "      <td>NaN</td>\n",
              "      <td>NaN</td>\n",
              "      <td>NaN</td>\n",
              "      <td>NaN</td>\n",
              "      <td>-2.552192</td>\n",
              "    </tr>\n",
              "  </tbody>\n",
              "</table>\n",
              "</div>"
            ],
            "text/plain": [
              "          1         2         3         4         5         6         7  \\\n",
              "0  2.349173  2.530699  2.733948  2.611936  2.680840  2.847963  2.880707   \n",
              "1 -0.199672 -0.122344 -1.891045 -2.074940 -2.572736 -2.093753 -2.402616   \n",
              "2       NaN -0.181526 -0.796496 -0.359546 -0.850741 -2.306907 -2.774415   \n",
              "3       NaN       NaN  0.966508  1.131844  1.927967  0.662378  1.731268   \n",
              "4       NaN       NaN       NaN -0.183419  0.098223  1.757417  2.511221   \n",
              "5       NaN       NaN       NaN       NaN -0.266819  0.287517 -0.638983   \n",
              "6       NaN       NaN       NaN       NaN       NaN -0.482053 -0.753889   \n",
              "7       NaN       NaN       NaN       NaN       NaN       NaN  0.234181   \n",
              "8       NaN       NaN       NaN       NaN       NaN       NaN       NaN   \n",
              "9       NaN       NaN       NaN       NaN       NaN       NaN       NaN   \n",
              "\n",
              "           8          9  \n",
              "0   3.261468   3.208102  \n",
              "1  -2.052577  -3.165373  \n",
              "2 -10.014646  -9.028619  \n",
              "3  -2.722915   7.973772  \n",
              "4  19.313115  19.932867  \n",
              "5   6.140175 -14.402005  \n",
              "6 -12.606694 -16.091781  \n",
              "7  -2.136439  10.742246  \n",
              "8   2.595368   4.108910  \n",
              "9        NaN  -2.552192  "
            ]
          },
          "execution_count": 46,
          "metadata": {},
          "output_type": "execute_result"
        }
      ],
      "source": [
        "import pandas as pd\n",
        "coef = np.full((len(models)+1, len(models)), np.nan)\n",
        "for i in range(len(models)):\n",
        "    coef[:i+2, i] = models[i]['regressor'].coef_[0]\n",
        "\n",
        "coef_df = pd.DataFrame(coef, columns=range(1, len(models)+1))\n",
        "coef_df"
      ]
    },
    {
      "cell_type": "markdown",
      "metadata": {
        "id": "mUAou8KYdUh6"
      },
      "source": [
        "***\n",
        "**Preguntas**\n",
        "\n",
        "* ¿Qué vemos aquí? ¿Cómo cambia la magnitud de los coeficientes a medida que aumentamos el grado del polinomio?"
      ]
    },
    {
      "cell_type": "markdown",
      "metadata": {
        "id": "5ezNbUY6dUh6"
      },
      "source": [
        "Podemos ver los 10 términos del polinomio de grado 9 con distintos colores:"
      ]
    },
    {
      "cell_type": "code",
      "execution_count": null,
      "metadata": {
        "colab": {
          "base_uri": "https://localhost:8080/",
          "height": 860
        },
        "id": "3SoUDKxcdUh6",
        "outputId": "9f62274b-6186-4484-f46a-e536e7b138bd"
      },
      "outputs": [
        {
          "data": {
            "image/png": "[encoded data removed]",
            "text/plain": [
              "<Figure size 1000x1000 with 1 Axes>"
            ]
          },
          "metadata": {},
          "output_type": "display_data"
        }
      ],
      "source": [
        "# Perform multi-plot\n",
        "\n",
        "fig = plt.figure(figsize=(10, 10))\n",
        "ax = fig.add_subplot(111)\n",
        "xplot = np.linspace(0, 1, 100, endpoint = True)\n",
        "for i  in range(10):\n",
        "    plt.plot(xplot, models[8]['regressor'].coef_[0][i]*xplot**i, label='$y = c_{i}x^{i}$'.format(i=i))\n",
        "plt.legend(loc='best')\n",
        "\n",
        "plt.xlabel('x', fontsize=16)\n",
        "\n",
        "\n",
        "plt.show()\n"
      ]
    },
    {
      "cell_type": "markdown",
      "metadata": {
        "id": "sw5lm44wdUh7"
      },
      "source": [
        "## Regresión contraída (_Ridge regression_)"
      ]
    },
    {
      "cell_type": "markdown",
      "metadata": {
        "id": "MGk6lJ4fdUh8"
      },
      "source": [
        "### Función de error modificada"
      ]
    },
    {
      "cell_type": "markdown",
      "metadata": {
        "id": "jddR0C27dUh8"
      },
      "source": [
        "El hecho de que los coeficientes aumentan abruptamente cuando empezamos a sobreajustar nos da una idea de incluir una penalización para valores grandes de los parámetros. Una forma de implementar eso es agregar un nuevo término a la función error:\n",
        "\n",
        "$$\n",
        "E_\\text{ridge}(\\boldsymbol{\\omega}; \\lambda) = \\frac{1}{2} \\sum_{i=1}^{N} \\left\\{y(x_i, \\boldsymbol{\\omega}) - t_i\\right\\}^2\n",
        " + \\frac{\\lambda}{2} \\sum_{i=1}^M \\omega_i^2\\;\\;.\n",
        "$$\n",
        "El nuevo término es llamado de término de regularización (o penalización). La parte que multiplica $\\lambda/2$ es el cuadrado de la normal del vector de parámetros,\n",
        "\n",
        "$$\n",
        "||\\boldsymbol{\\omega}||^2 = \\boldsymbol{\\omega}^T \\boldsymbol{\\omega} = \\left(\\omega_1 \\ldots \\omega_M\\right)\\begin{pmatrix}\\omega_1 \\\\ \\vdots \\\\ \\omega_M\\end{pmatrix} = \\sum_{i=1}^M \\omega_i^2\\;\\;.\n",
        "$$\n",
        "\n",
        "**El parámetro de regularización $\\lambda$ constituye un *nuevo hiperparámetro del modelo.***"
      ]
    },
    {
      "cell_type": "markdown",
      "metadata": {
        "id": "KapNi8vYdUh8"
      },
      "source": [
        "Con ese nuevo término, vemos que valores muy grandes de los parámetros serán penalizados (acuérdense que tenemos que minimizar _E_). Una de las grandes ventajas matemáticas de esa regresión, que se conoce por **regresión contraída** (o *Ridge regression*), es que todavía se puede encontrar una solución analítica para encontrar los parámetros que minimizan el error modificado.\n",
        "\n",
        "Eso es una consecuencia directa del uso de la norma $L2$, que no es nada más que la suma de los cuadrados de los parámetros del modelo.\n",
        "\n",
        "Veamos cómo funciona en la práctica."
      ]
    },
    {
      "cell_type": "markdown",
      "metadata": {
        "id": "g-WK-Gc-dUh8"
      },
      "source": [
        "**Vamos a ajustar nuevamente un polinomio de grado 9 a los mismos datos, pero ahora usando un regresor regularizado**.\n",
        "\n",
        "* exploren la documentación de `Ridge` llamando `Ridge?` o `help(Ridge)`. Vean que la API para ese estimador es __exactamente la misma__ que para la regresión lineal `LinearRegression`\n"
      ]
    },
    {
      "cell_type": "code",
      "execution_count": null,
      "metadata": {
        "id": "jxWUM2JWdUh9"
      },
      "outputs": [],
      "source": [
        "from sklearn.linear_model import Ridge"
      ]
    },
    {
      "cell_type": "markdown",
      "metadata": {
        "id": "rYJ6UbdodUh9"
      },
      "source": [
        "* creamos la función `ridge` que genera un objeto `Pipeline` análogo al regresor polinómico  (`polynomial_regressor`) anterior, pero implementando la regresión de ridge."
      ]
    },
    {
      "cell_type": "code",
      "execution_count": null,
      "metadata": {
        "id": "EKMevXcldUh9"
      },
      "outputs": [],
      "source": [
        "def ridge(m, lam):\n",
        "    \"\"\"\n",
        "    Construye un pipeline para la regresión contraída\n",
        "\n",
        "    :param int m: grado del polinomio de las características\n",
        "    :param float ll: coeficiente de regularización lambda\n",
        "\n",
        "    atención: la función ridge toma como argumento alpha = lambda/2\n",
        "    \"\"\"\n",
        "    return Pipeline([('poly_features', PolynomialFeatures(degree=m)),\n",
        "                     ('regressor', Ridge(alpha=lam/2.0,fit_intercept=False))])"
      ]
    },
    {
      "cell_type": "markdown",
      "metadata": {
        "id": "n4YHzzJidUh-"
      },
      "source": [
        "* instancia el pipeline para ejecutar una regesión con polinomio de grado 9 con lambda = 0.001 y la usa para a ajustar los datos del ejemplo."
      ]
    },
    {
      "cell_type": "code",
      "execution_count": null,
      "metadata": {
        "colab": {
          "base_uri": "https://localhost:8080/",
          "height": 142
        },
        "id": "0AQxKyq1dUh-",
        "outputId": "06e1b8ae-d2a2-435e-8a5f-826c45473578"
      },
      "outputs": [
        {
          "data": {
            "text/html": [
              "<style>#sk-container-id-4 {\n",
              "  /* Definition of color scheme common for light and dark mode */\n",
              "  --sklearn-color-text: black;\n",
              "  --sklearn-color-line: gray;\n",
              "  /* Definition of color scheme for unfitted estimators */\n",
              "  --sklearn-color-unfitted-level-0: #fff5e6;\n",
              "  --sklearn-color-unfitted-level-1: #f6e4d2;\n",
              "  --sklearn-color-unfitted-level-2: #ffe0b3;\n",
              "  --sklearn-color-unfitted-level-3: chocolate;\n",
              "  /* Definition of color scheme for fitted estimators */\n",
              "  --sklearn-color-fitted-level-0: #f0f8ff;\n",
              "  --sklearn-color-fitted-level-1: #d4ebff;\n",
              "  --sklearn-color-fitted-level-2: #b3dbfd;\n",
              "  --sklearn-color-fitted-level-3: cornflowerblue;\n",
              "\n",
              "  /* Specific color for light theme */\n",
              "  --sklearn-color-text-on-default-background: var(--sg-text-color, var(--theme-code-foreground, var(--jp-content-font-color1, black)));\n",
              "  --sklearn-color-background: var(--sg-background-color, var(--theme-background, var(--jp-layout-color0, white)));\n",
              "  --sklearn-color-border-box: var(--sg-text-color, var(--theme-code-foreground, var(--jp-content-font-color1, black)));\n",
              "  --sklearn-color-icon: #696969;\n",
              "\n",
              "  @media (prefers-color-scheme: dark) {\n",
              "    /* Redefinition of color scheme for dark theme */\n",
              "    --sklearn-color-text-on-default-background: var(--sg-text-color, var(--theme-code-foreground, var(--jp-content-font-color1, white)));\n",
              "    --sklearn-color-background: var(--sg-background-color, var(--theme-background, var(--jp-layout-color0, #111)));\n",
              "    --sklearn-color-border-box: var(--sg-text-color, var(--theme-code-foreground, var(--jp-content-font-color1, white)));\n",
              "    --sklearn-color-icon: #878787;\n",
              "  }\n",
              "}\n",
              "\n",
              "#sk-container-id-4 {\n",
              "  color: var(--sklearn-color-text);\n",
              "}\n",
              "\n",
              "#sk-container-id-4 pre {\n",
              "  padding: 0;\n",
              "}\n",
              "\n",
              "#sk-container-id-4 input.sk-hidden--visually {\n",
              "  border: 0;\n",
              "  clip: rect(1px 1px 1px 1px);\n",
              "  clip: rect(1px, 1px, 1px, 1px);\n",
              "  height: 1px;\n",
              "  margin: -1px;\n",
              "  overflow: hidden;\n",
              "  padding: 0;\n",
              "  position: absolute;\n",
              "  width: 1px;\n",
              "}\n",
              "\n",
              "#sk-container-id-4 div.sk-dashed-wrapped {\n",
              "  border: 1px dashed var(--sklearn-color-line);\n",
              "  margin: 0 0.4em 0.5em 0.4em;\n",
              "  box-sizing: border-box;\n",
              "  padding-bottom: 0.4em;\n",
              "  background-color: var(--sklearn-color-background);\n",
              "}\n",
              "\n",
              "#sk-container-id-4 div.sk-container {\n",
              "  /* jupyter's `normalize.less` sets `[hidden] { display: none; }`\n",
              "     but bootstrap.min.css set `[hidden] { display: none !important; }`\n",
              "     so we also need the `!important` here to be able to override the\n",
              "     default hidden behavior on the sphinx rendered scikit-learn.org.\n",
              "     See: https://github.com/scikit-learn/scikit-learn/issues/21755 */\n",
              "  display: inline-block !important;\n",
              "  position: relative;\n",
              "}\n",
              "\n",
              "#sk-container-id-4 div.sk-text-repr-fallback {\n",
              "  display: none;\n",
              "}\n",
              "\n",
              "div.sk-parallel-item,\n",
              "div.sk-serial,\n",
              "div.sk-item {\n",
              "  /* draw centered vertical line to link estimators */\n",
              "  background-image: linear-gradient(var(--sklearn-color-text-on-default-background), var(--sklearn-color-text-on-default-background));\n",
              "  background-size: 2px 100%;\n",
              "  background-repeat: no-repeat;\n",
              "  background-position: center center;\n",
              "}\n",
              "\n",
              "/* Parallel-specific style estimator block */\n",
              "\n",
              "#sk-container-id-4 div.sk-parallel-item::after {\n",
              "  content: \"\";\n",
              "  width: 100%;\n",
              "  border-bottom: 2px solid var(--sklearn-color-text-on-default-background);\n",
              "  flex-grow: 1;\n",
              "}\n",
              "\n",
              "#sk-container-id-4 div.sk-parallel {\n",
              "  display: flex;\n",
              "  align-items: stretch;\n",
              "  justify-content: center;\n",
              "  background-color: var(--sklearn-color-background);\n",
              "  position: relative;\n",
              "}\n",
              "\n",
              "#sk-container-id-4 div.sk-parallel-item {\n",
              "  display: flex;\n",
              "  flex-direction: column;\n",
              "}\n",
              "\n",
              "#sk-container-id-4 div.sk-parallel-item:first-child::after {\n",
              "  align-self: flex-end;\n",
              "  width: 50%;\n",
              "}\n",
              "\n",
              "#sk-container-id-4 div.sk-parallel-item:last-child::after {\n",
              "  align-self: flex-start;\n",
              "  width: 50%;\n",
              "}\n",
              "\n",
              "#sk-container-id-4 div.sk-parallel-item:only-child::after {\n",
              "  width: 0;\n",
              "}\n",
              "\n",
              "/* Serial-specific style estimator block */\n",
              "\n",
              "#sk-container-id-4 div.sk-serial {\n",
              "  display: flex;\n",
              "  flex-direction: column;\n",
              "  align-items: center;\n",
              "  background-color: var(--sklearn-color-background);\n",
              "  padding-right: 1em;\n",
              "  padding-left: 1em;\n",
              "}\n",
              "\n",
              "\n",
              "/* Toggleable style: style used for estimator/Pipeline/ColumnTransformer box that is\n",
              "clickable and can be expanded/collapsed.\n",
              "- Pipeline and ColumnTransformer use this feature and define the default style\n",
              "- Estimators will overwrite some part of the style using the `sk-estimator` class\n",
              "*/\n",
              "\n",
              "/* Pipeline and ColumnTransformer style (default) */\n",
              "\n",
              "#sk-container-id-4 div.sk-toggleable {\n",
              "  /* Default theme specific background. It is overwritten whether we have a\n",
              "  specific estimator or a Pipeline/ColumnTransformer */\n",
              "  background-color: var(--sklearn-color-background);\n",
              "}\n",
              "\n",
              "/* Toggleable label */\n",
              "#sk-container-id-4 label.sk-toggleable__label {\n",
              "  cursor: pointer;\n",
              "  display: block;\n",
              "  width: 100%;\n",
              "  margin-bottom: 0;\n",
              "  padding: 0.5em;\n",
              "  box-sizing: border-box;\n",
              "  text-align: center;\n",
              "}\n",
              "\n",
              "#sk-container-id-4 label.sk-toggleable__label-arrow:before {\n",
              "  /* Arrow on the left of the label */\n",
              "  content: \"▸\";\n",
              "  float: left;\n",
              "  margin-right: 0.25em;\n",
              "  color: var(--sklearn-color-icon);\n",
              "}\n",
              "\n",
              "#sk-container-id-4 label.sk-toggleable__label-arrow:hover:before {\n",
              "  color: var(--sklearn-color-text);\n",
              "}\n",
              "\n",
              "/* Toggleable content - dropdown */\n",
              "\n",
              "#sk-container-id-4 div.sk-toggleable__content {\n",
              "  max-height: 0;\n",
              "  max-width: 0;\n",
              "  overflow: hidden;\n",
              "  text-align: left;\n",
              "  /* unfitted */\n",
              "  background-color: var(--sklearn-color-unfitted-level-0);\n",
              "}\n",
              "\n",
              "#sk-container-id-4 div.sk-toggleable__content.fitted {\n",
              "  /* fitted */\n",
              "  background-color: var(--sklearn-color-fitted-level-0);\n",
              "}\n",
              "\n",
              "#sk-container-id-4 div.sk-toggleable__content pre {\n",
              "  margin: 0.2em;\n",
              "  border-radius: 0.25em;\n",
              "  color: var(--sklearn-color-text);\n",
              "  /* unfitted */\n",
              "  background-color: var(--sklearn-color-unfitted-level-0);\n",
              "}\n",
              "\n",
              "#sk-container-id-4 div.sk-toggleable__content.fitted pre {\n",
              "  /* unfitted */\n",
              "  background-color: var(--sklearn-color-fitted-level-0);\n",
              "}\n",
              "\n",
              "#sk-container-id-4 input.sk-toggleable__control:checked~div.sk-toggleable__content {\n",
              "  /* Expand drop-down */\n",
              "  max-height: 200px;\n",
              "  max-width: 100%;\n",
              "  overflow: auto;\n",
              "}\n",
              "\n",
              "#sk-container-id-4 input.sk-toggleable__control:checked~label.sk-toggleable__label-arrow:before {\n",
              "  content: \"▾\";\n",
              "}\n",
              "\n",
              "/* Pipeline/ColumnTransformer-specific style */\n",
              "\n",
              "#sk-container-id-4 div.sk-label input.sk-toggleable__control:checked~label.sk-toggleable__label {\n",
              "  color: var(--sklearn-color-text);\n",
              "  background-color: var(--sklearn-color-unfitted-level-2);\n",
              "}\n",
              "\n",
              "#sk-container-id-4 div.sk-label.fitted input.sk-toggleable__control:checked~label.sk-toggleable__label {\n",
              "  background-color: var(--sklearn-color-fitted-level-2);\n",
              "}\n",
              "\n",
              "/* Estimator-specific style */\n",
              "\n",
              "/* Colorize estimator box */\n",
              "#sk-container-id-4 div.sk-estimator input.sk-toggleable__control:checked~label.sk-toggleable__label {\n",
              "  /* unfitted */\n",
              "  background-color: var(--sklearn-color-unfitted-level-2);\n",
              "}\n",
              "\n",
              "#sk-container-id-4 div.sk-estimator.fitted input.sk-toggleable__control:checked~label.sk-toggleable__label {\n",
              "  /* fitted */\n",
              "  background-color: var(--sklearn-color-fitted-level-2);\n",
              "}\n",
              "\n",
              "#sk-container-id-4 div.sk-label label.sk-toggleable__label,\n",
              "#sk-container-id-4 div.sk-label label {\n",
              "  /* The background is the default theme color */\n",
              "  color: var(--sklearn-color-text-on-default-background);\n",
              "}\n",
              "\n",
              "/* On hover, darken the color of the background */\n",
              "#sk-container-id-4 div.sk-label:hover label.sk-toggleable__label {\n",
              "  color: var(--sklearn-color-text);\n",
              "  background-color: var(--sklearn-color-unfitted-level-2);\n",
              "}\n",
              "\n",
              "/* Label box, darken color on hover, fitted */\n",
              "#sk-container-id-4 div.sk-label.fitted:hover label.sk-toggleable__label.fitted {\n",
              "  color: var(--sklearn-color-text);\n",
              "  background-color: var(--sklearn-color-fitted-level-2);\n",
              "}\n",
              "\n",
              "/* Estimator label */\n",
              "\n",
              "#sk-container-id-4 div.sk-label label {\n",
              "  font-family: monospace;\n",
              "  font-weight: bold;\n",
              "  display: inline-block;\n",
              "  line-height: 1.2em;\n",
              "}\n",
              "\n",
              "#sk-container-id-4 div.sk-label-container {\n",
              "  text-align: center;\n",
              "}\n",
              "\n",
              "/* Estimator-specific */\n",
              "#sk-container-id-4 div.sk-estimator {\n",
              "  font-family: monospace;\n",
              "  border: 1px dotted var(--sklearn-color-border-box);\n",
              "  border-radius: 0.25em;\n",
              "  box-sizing: border-box;\n",
              "  margin-bottom: 0.5em;\n",
              "  /* unfitted */\n",
              "  background-color: var(--sklearn-color-unfitted-level-0);\n",
              "}\n",
              "\n",
              "#sk-container-id-4 div.sk-estimator.fitted {\n",
              "  /* fitted */\n",
              "  background-color: var(--sklearn-color-fitted-level-0);\n",
              "}\n",
              "\n",
              "/* on hover */\n",
              "#sk-container-id-4 div.sk-estimator:hover {\n",
              "  /* unfitted */\n",
              "  background-color: var(--sklearn-color-unfitted-level-2);\n",
              "}\n",
              "\n",
              "#sk-container-id-4 div.sk-estimator.fitted:hover {\n",
              "  /* fitted */\n",
              "  background-color: var(--sklearn-color-fitted-level-2);\n",
              "}\n",
              "\n",
              "/* Specification for estimator info (e.g. \"i\" and \"?\") */\n",
              "\n",
              "/* Common style for \"i\" and \"?\" */\n",
              "\n",
              ".sk-estimator-doc-link,\n",
              "a:link.sk-estimator-doc-link,\n",
              "a:visited.sk-estimator-doc-link {\n",
              "  float: right;\n",
              "  font-size: smaller;\n",
              "  line-height: 1em;\n",
              "  font-family: monospace;\n",
              "  background-color: var(--sklearn-color-background);\n",
              "  border-radius: 1em;\n",
              "  height: 1em;\n",
              "  width: 1em;\n",
              "  text-decoration: none !important;\n",
              "  margin-left: 1ex;\n",
              "  /* unfitted */\n",
              "  border: var(--sklearn-color-unfitted-level-1) 1pt solid;\n",
              "  color: var(--sklearn-color-unfitted-level-1);\n",
              "}\n",
              "\n",
              ".sk-estimator-doc-link.fitted,\n",
              "a:link.sk-estimator-doc-link.fitted,\n",
              "a:visited.sk-estimator-doc-link.fitted {\n",
              "  /* fitted */\n",
              "  border: var(--sklearn-color-fitted-level-1) 1pt solid;\n",
              "  color: var(--sklearn-color-fitted-level-1);\n",
              "}\n",
              "\n",
              "/* On hover */\n",
              "div.sk-estimator:hover .sk-estimator-doc-link:hover,\n",
              ".sk-estimator-doc-link:hover,\n",
              "div.sk-label-container:hover .sk-estimator-doc-link:hover,\n",
              ".sk-estimator-doc-link:hover {\n",
              "  /* unfitted */\n",
              "  background-color: var(--sklearn-color-unfitted-level-3);\n",
              "  color: var(--sklearn-color-background);\n",
              "  text-decoration: none;\n",
              "}\n",
              "\n",
              "div.sk-estimator.fitted:hover .sk-estimator-doc-link.fitted:hover,\n",
              ".sk-estimator-doc-link.fitted:hover,\n",
              "div.sk-label-container:hover .sk-estimator-doc-link.fitted:hover,\n",
              ".sk-estimator-doc-link.fitted:hover {\n",
              "  /* fitted */\n",
              "  background-color: var(--sklearn-color-fitted-level-3);\n",
              "  color: var(--sklearn-color-background);\n",
              "  text-decoration: none;\n",
              "}\n",
              "\n",
              "/* Span, style for the box shown on hovering the info icon */\n",
              ".sk-estimator-doc-link span {\n",
              "  display: none;\n",
              "  z-index: 9999;\n",
              "  position: relative;\n",
              "  font-weight: normal;\n",
              "  right: .2ex;\n",
              "  padding: .5ex;\n",
              "  margin: .5ex;\n",
              "  width: min-content;\n",
              "  min-width: 20ex;\n",
              "  max-width: 50ex;\n",
              "  color: var(--sklearn-color-text);\n",
              "  box-shadow: 2pt 2pt 4pt #999;\n",
              "  /* unfitted */\n",
              "  background: var(--sklearn-color-unfitted-level-0);\n",
              "  border: .5pt solid var(--sklearn-color-unfitted-level-3);\n",
              "}\n",
              "\n",
              ".sk-estimator-doc-link.fitted span {\n",
              "  /* fitted */\n",
              "  background: var(--sklearn-color-fitted-level-0);\n",
              "  border: var(--sklearn-color-fitted-level-3);\n",
              "}\n",
              "\n",
              ".sk-estimator-doc-link:hover span {\n",
              "  display: block;\n",
              "}\n",
              "\n",
              "/* \"?\"-specific style due to the `<a>` HTML tag */\n",
              "\n",
              "#sk-container-id-4 a.estimator_doc_link {\n",
              "  float: right;\n",
              "  font-size: 1rem;\n",
              "  line-height: 1em;\n",
              "  font-family: monospace;\n",
              "  background-color: var(--sklearn-color-background);\n",
              "  border-radius: 1rem;\n",
              "  height: 1rem;\n",
              "  width: 1rem;\n",
              "  text-decoration: none;\n",
              "  /* unfitted */\n",
              "  color: var(--sklearn-color-unfitted-level-1);\n",
              "  border: var(--sklearn-color-unfitted-level-1) 1pt solid;\n",
              "}\n",
              "\n",
              "#sk-container-id-4 a.estimator_doc_link.fitted {\n",
              "  /* fitted */\n",
              "  border: var(--sklearn-color-fitted-level-1) 1pt solid;\n",
              "  color: var(--sklearn-color-fitted-level-1);\n",
              "}\n",
              "\n",
              "/* On hover */\n",
              "#sk-container-id-4 a.estimator_doc_link:hover {\n",
              "  /* unfitted */\n",
              "  background-color: var(--sklearn-color-unfitted-level-3);\n",
              "  color: var(--sklearn-color-background);\n",
              "  text-decoration: none;\n",
              "}\n",
              "\n",
              "#sk-container-id-4 a.estimator_doc_link.fitted:hover {\n",
              "  /* fitted */\n",
              "  background-color: var(--sklearn-color-fitted-level-3);\n",
              "}\n",
              "</style><div id=\"sk-container-id-4\" class=\"sk-top-container\"><div class=\"sk-text-repr-fallback\"><pre>Pipeline(steps=[(&#x27;poly_features&#x27;, PolynomialFeatures(degree=9)),\n",
              "                (&#x27;regressor&#x27;, Ridge(alpha=0.0005, fit_intercept=False))])</pre><b>In a Jupyter environment, please rerun this cell to show the HTML representation or trust the notebook. <br />On GitHub, the HTML representation is unable to render, please try loading this page with nbviewer.org.</b></div><div class=\"sk-container\" hidden><div class=\"sk-item sk-dashed-wrapped\"><div class=\"sk-label-container\"><div class=\"sk-label fitted sk-toggleable\"><input class=\"sk-toggleable__control sk-hidden--visually\" id=\"sk-estimator-id-7\" type=\"checkbox\" ><label for=\"sk-estimator-id-7\" class=\"sk-toggleable__label fitted sk-toggleable__label-arrow fitted\">&nbsp;&nbsp;Pipeline<a class=\"sk-estimator-doc-link fitted\" rel=\"noreferrer\" target=\"_blank\" href=\"https://scikit-learn.org/1.5/modules/generated/sklearn.pipeline.Pipeline.html\">?<span>Documentation for Pipeline</span></a><span class=\"sk-estimator-doc-link fitted\">i<span>Fitted</span></span></label><div class=\"sk-toggleable__content fitted\"><pre>Pipeline(steps=[(&#x27;poly_features&#x27;, PolynomialFeatures(degree=9)),\n",
              "                (&#x27;regressor&#x27;, Ridge(alpha=0.0005, fit_intercept=False))])</pre></div> </div></div><div class=\"sk-serial\"><div class=\"sk-item\"><div class=\"sk-estimator fitted sk-toggleable\"><input class=\"sk-toggleable__control sk-hidden--visually\" id=\"sk-estimator-id-8\" type=\"checkbox\" ><label for=\"sk-estimator-id-8\" class=\"sk-toggleable__label fitted sk-toggleable__label-arrow fitted\">&nbsp;PolynomialFeatures<a class=\"sk-estimator-doc-link fitted\" rel=\"noreferrer\" target=\"_blank\" href=\"https://scikit-learn.org/1.5/modules/generated/sklearn.preprocessing.PolynomialFeatures.html\">?<span>Documentation for PolynomialFeatures</span></a></label><div class=\"sk-toggleable__content fitted\"><pre>PolynomialFeatures(degree=9)</pre></div> </div></div><div class=\"sk-item\"><div class=\"sk-estimator fitted sk-toggleable\"><input class=\"sk-toggleable__control sk-hidden--visually\" id=\"sk-estimator-id-9\" type=\"checkbox\" ><label for=\"sk-estimator-id-9\" class=\"sk-toggleable__label fitted sk-toggleable__label-arrow fitted\">&nbsp;Ridge<a class=\"sk-estimator-doc-link fitted\" rel=\"noreferrer\" target=\"_blank\" href=\"https://scikit-learn.org/1.5/modules/generated/sklearn.linear_model.Ridge.html\">?<span>Documentation for Ridge</span></a></label><div class=\"sk-toggleable__content fitted\"><pre>Ridge(alpha=0.0005, fit_intercept=False)</pre></div> </div></div></div></div></div></div>"
            ],
            "text/plain": [
              "Pipeline(steps=[('poly_features', PolynomialFeatures(degree=9)),\n",
              "                ('regressor', Ridge(alpha=0.0005, fit_intercept=False))])"
            ]
          },
          "execution_count": 51,
          "metadata": {},
          "output_type": "execute_result"
        }
      ],
      "source": [
        "ridge_pipe = ridge(9,0.001)\n",
        "ridge_pipe.fit(x_train,et_train)"
      ]
    },
    {
      "cell_type": "markdown",
      "metadata": {
        "id": "dKsY2rICdUh-"
      },
      "source": [
        "* Hace la gráfica de los resultados: datos, predicción del modelo, modelo subyacente\n",
        "(_ground truth_)"
      ]
    },
    {
      "cell_type": "code",
      "execution_count": null,
      "metadata": {
        "colab": {
          "base_uri": "https://localhost:8080/",
          "height": 725
        },
        "id": "b2AIVR2wdUh_",
        "outputId": "92995489-7401-4336-f069-88b0fd83f4cf"
      },
      "outputs": [
        {
          "data": {
            "text/plain": [
              "<matplotlib.legend.Legend at 0x1e922d4c250>"
            ]
          },
          "execution_count": 53,
          "metadata": {},
          "output_type": "execute_result"
        },
        {
          "data": {
            "image/png": "[encoded data removed]",
            "text/plain": [
              "<Figure size 800x800 with 1 Axes>"
            ]
          },
          "metadata": {},
          "output_type": "display_data"
        }
      ],
      "source": [
        "fig = plt.figure(figsize=(8, 8))\n",
        "ax = fig.add_subplot(111)\n",
        "\n",
        "ax.plot(x_train, et_train, 'o', ms=10, mfc='None', label='Entrenamiento')\n",
        "ax.plot(x_, ridge_pipe.predict(x_), 'r-', lw=3, alpha=0.8, label='Curva predicha')\n",
        "ax.plot(x_, ground_truth(x_), 'k-', lw=3, alpha=0.5, label='Modelo real')\n",
        "    #\n",
        "ax.set_title('Grado: {}; $\\lambda$: {:.2e}'.format(ridge_pipe['poly_features'].degree,\n",
        "                                                    ridge_pipe['regressor'].alpha *2), fontsize=16)\n",
        "    #\n",
        "ax.set_ylim(0, 3.9)\n",
        "ax.legend(loc=0, fontsize=15)"
      ]
    },
    {
      "cell_type": "markdown",
      "metadata": {
        "id": "EWIw46D2dUh_"
      },
      "source": [
        "**Pregunta**: compare el modelo ajustado con el modelo correspondiente sin regularización (ver las gráficas de arriba)."
      ]
    },
    {
      "cell_type": "markdown",
      "metadata": {
        "id": "_c2_uYsFdUiA"
      },
      "source": [
        "Gracias al término de regularización, la curva es mucho menos oscilatoria y nos da una impresión de una generalización mejor.\n",
        "Esto puede ser cuantificado usando el error cuadrático medio (MSE) en el conjunto de prueba."
      ]
    },
    {
      "cell_type": "code",
      "execution_count": null,
      "metadata": {
        "id": "yq4Qgb3FdUiA"
      },
      "outputs": [],
      "source": [
        "print('OLS; grado 9')\n",
        "print('El MSE del entrenamiento es: {:.2f}'.format(train_errors[-1]))\n",
        "print('El MSE del conjunto de prueba es: {:.2f}'.format(test_errors[-1]))\n",
        "print('####')\n",
        "print('Regresión contraída; grado {}, lambda = {}'.format(ridge_pipe['poly_features'].degree,\n",
        "                                                        ridge_pipe['regressor'].alpha *2))\n",
        "train_e, test_e = compute_errors(ridge_pipe, x_train, et_train, x_test, et_test, print_result=True)"
      ]
    },
    {
      "cell_type": "markdown",
      "metadata": {
        "id": "rxe-0zNsdUiA"
      },
      "source": [
        "**Pregunta**. ¿Eso significa que estamos efectivamente usando un polinonio con menor grado?\n",
        "\n",
        "Trate de responder a esa pregunta mostrando en la pantalla los coeficientes de este ajuste.\n"
      ]
    },
    {
      "cell_type": "code",
      "execution_count": null,
      "metadata": {
        "colab": {
          "base_uri": "https://localhost:8080/"
        },
        "id": "ALcZejHUdUiA",
        "outputId": "c657ca3b-1023-4432-9b05-c60c00966c91",
        "scrolled": true
      },
      "outputs": [
        {
          "data": {
            "text/plain": [
              "array([  0.23204218,  18.63914663, -25.18517056, -13.00389175,\n",
              "         4.06644509,  12.87128758,  13.17678319,   7.38919283,\n",
              "        -2.09463452, -13.4466989 ])"
            ]
          },
          "execution_count": 56,
          "metadata": {},
          "output_type": "execute_result"
        }
      ],
      "source": [
        "ridge_pipe['regressor'].coef_[0]"
      ]
    },
    {
      "cell_type": "markdown",
      "metadata": {
        "id": "R6AMk_xAdUiA"
      },
      "source": [
        "### Contracción (_Shrinkage_)"
      ]
    },
    {
      "cell_type": "markdown",
      "metadata": {
        "id": "x9Odz8G_dUiB"
      },
      "source": [
        "Estas técnicas a veces son referidas como de **contracctión** (_Shrinkage_), porque hacen que los parámetros del modelo disminuyan en la medida que el parámetro de regularización aumenta.\n",
        "En términos más técnicos, eso hace que el modelo intercambie algo de varianza por algo de sesgo.\n",
        "\n",
        "**Ejectue código abajo** para ver como queda la evolución de los valores de los parámetros de un modelo polinómico de grado 9 cuando vamos de valores bajos a valores altos del término de penalización."
      ]
    },
    {
      "cell_type": "code",
      "execution_count": null,
      "metadata": {
        "id": "GSflZgRKdUiB"
      },
      "outputs": [],
      "source": [
        "# conjunto de valores de lambda (espaciados de forma logarítmica entre -5 y 0)\n",
        "lls = np.logspace(-5, 0, 100)\n",
        "\n",
        "cc = []\n",
        "\n",
        "# Itera sobre los valores, ajusta y graba los valores de los coeficientes\n",
        "for ll in lls:\n",
        "    # Create model\n",
        "    ridge_pipe = ridge(9, ll)\n",
        "    ridge_pipe.fit(x_train,et_train)\n",
        "\n",
        "    # Recupera los valores de los coeficientes y agrega a la lista cc\n",
        "    cc.append(ridge_pipe['regressor'].coef_)\n",
        "\n",
        "cc = np.array(cc)"
      ]
    },
    {
      "cell_type": "markdown",
      "metadata": {
        "id": "-1aAB-SmdUiB"
      },
      "source": [
        "Exploren los valores de los parámetros. Pueden imprimirlos o hacer gráficos con la ayuda del código abajo."
      ]
    },
    {
      "cell_type": "code",
      "execution_count": null,
      "metadata": {
        "colab": {
          "base_uri": "https://localhost:8080/",
          "height": 648
        },
        "id": "A0z9A1PedUiB",
        "outputId": "f31d4ab0-3462-4ea3-c173-7c4e83ec7b39"
      },
      "outputs": [
        {
          "data": {
            "text/plain": [
              "Text(0, 0.5, 'Valor del parámetro')"
            ]
          },
          "execution_count": 59,
          "metadata": {},
          "output_type": "execute_result"
        },
        {
          "data": {
            "image/png": "[encoded data removed]",
            "text/plain": [
              "<Figure size 800x700 with 1 Axes>"
            ]
          },
          "metadata": {},
          "output_type": "display_data"
        }
      ],
      "source": [
        "# Valores de los coeficintes versus el parámetro de renormalización.\n",
        "fig = plt.figure(figsize=(8,7))\n",
        "ax = fig.add_subplot(111)\n",
        "\n",
        "for i in range(len(cc[0])):\n",
        "    ax.semilogx(lls, cc[:, i], label='$\\omega_{{{}}}$'.format(i), lw=3, alpha=0.6)\n",
        "ax.legend(ncol=3, fontsize=16)\n",
        "ax.set_xlabel('$\\lambda$')\n",
        "ax.set_ylabel('Valor del parámetro')"
      ]
    },
    {
      "cell_type": "markdown",
      "metadata": {
        "id": "m_xiQ-t8dUiC"
      },
      "source": [
        "***"
      ]
    },
    {
      "cell_type": "markdown",
      "metadata": {
        "id": "Ie2zV3qOdUiC"
      },
      "source": [
        "## Lasso"
      ]
    },
    {
      "cell_type": "markdown",
      "metadata": {
        "id": "xAOhuZsjdUiC"
      },
      "source": [
        "Otra regresión regularizada que se utiliza a menudo es la regresión **LASSO (_least absolute shrinkage and selection operator_ / operador de reducción y selección mínima absoluta)**, que selecciona de forma natural las variables más relevantes y produce modelos más parsimoniosos.\n",
        "\n",
        "En lugar de penalizar la función de error utilizando la suma de los cuadrados de los parámetros del modelo, como en el caso anterior, **LASSO** explota la norma $l1$, que es simplemente la suma de los *valores absolutos* de los parámetros del modelo.\n",
        "\n",
        "En otras palabras, la norma $l1$ de un vector es, simplemente:\n",
        "\n",
        "$$\n",
        "||\\boldsymbol{\\omega}||_1 = \\sum_i |\\omega_i|\\;\\;.\n",
        "$$\n",
        "\n",
        "La función de error modificada es, por lo tanto,\n",
        "$$\n",
        "E_\\text{lasso}(\\boldsymbol{\\omega}; \\lambda) = \\frac{1}{2} \\sum_{i=1}^{N} \\left\\{y(x_i, \\boldsymbol{\\omega}) - t_i\\right\\}^2\n",
        " + \\frac{\\lambda}{2} \\sum_{i=1}^M |\\omega_i|\\;\\;,\n",
        "$$\n",
        "donde nuevamente introducimos el hiperparámetro $\\lambda$ para controlar el nivel de penalización."
      ]
    },
    {
      "cell_type": "markdown",
      "metadata": {
        "id": "D0KPfXhAdUiC"
      },
      "source": [
        "### Adiós soluciones analíticas"
      ]
    },
    {
      "cell_type": "markdown",
      "metadata": {
        "id": "cz90zzHNdUiD"
      },
      "source": [
        "La primera consecuencia de esta elección de la penalización es que la función de error ya no puede optimizarse (minimizarse) analíticamente. Es necesario recurrir, entonces, a diferentes algoritmos iterativos.\n",
        "\n",
        "En `sklearn`, hay dos implementaciones:\n",
        "\n",
        "* `linear_model.Lasso` usa *descenso por coordenadas* para encontrar el mínimo de la función de error.\n",
        "\n",
        "<img src=\"https://upload.wikimedia.org/wikipedia/commons/thumb/e/e3/Coordinate_descent.svg/500px-Coordinate_descent.svg.png\" width=500px></img>\n",
        "\n",
        "* `linear_model.LassoLars` utiliza LARS (regresión de ángulo mínimo / _least angle regression_), estrechamente relacionado con _forward stepwise regression_ (es decir, todos los coeficientes comienzan en cero, $\\boldsymbol{\\omega} = 0$, y se incrementan progresivamente). Pueden leer más en la [documentación de scikit-learn](https://scikit-learn.org/stable/modules/linear_model.html#least-angle-regression)\n"
      ]
    },
    {
      "cell_type": "markdown",
      "metadata": {
        "id": "PEjg2nn8dUiD"
      },
      "source": [
        "### Implementación"
      ]
    },
    {
      "cell_type": "markdown",
      "metadata": {
        "id": "7haoQJVGdUiD"
      },
      "source": [
        "Importen `Lasso` y `LassoLars` y exploren su documentación y argumentos. ¿Cuáles son los parámetros que están asociados al procedimiento de optimización?"
      ]
    },
    {
      "cell_type": "code",
      "execution_count": null,
      "metadata": {
        "id": "spNPt770dUiD"
      },
      "outputs": [],
      "source": [
        "from sklearn.linear_model import Lasso, LassoLars"
      ]
    },
    {
      "cell_type": "markdown",
      "metadata": {
        "id": "etlrJXmFdUiE"
      },
      "source": [
        "Creen una función `lasso` tal y como hicimos para la regresión de _ridge_. Elijan una implementación de LASSO. Pueden ver los parámetros de Lasso utilizando `Lasso?`."
      ]
    },
    {
      "cell_type": "code",
      "execution_count": null,
      "metadata": {
        "id": "h5jTnK4udUiE",
        "outputId": "0d7800a0-c995-49bf-c072-626132f753aa"
      },
      "outputs": [
        {
          "data": {
            "text/plain": [
              "\u001b[1;31mInit signature:\u001b[0m\n",
              "\u001b[0mLasso\u001b[0m\u001b[1;33m(\u001b[0m\u001b[1;33m\n",
              "\u001b[0m    \u001b[0malpha\u001b[0m\u001b[1;33m=\u001b[0m\u001b[1;36m1.0\u001b[0m\u001b[1;33m,\u001b[0m\u001b[1;33m\n",
              "\u001b[0m    \u001b[1;33m*\u001b[0m\u001b[1;33m,\u001b[0m\u001b[1;33m\n",
              "\u001b[0m    \u001b[0mfit_intercept\u001b[0m\u001b[1;33m=\u001b[0m\u001b[1;32mTrue\u001b[0m\u001b[1;33m,\u001b[0m\u001b[1;33m\n",
              "\u001b[0m    \u001b[0mprecompute\u001b[0m\u001b[1;33m=\u001b[0m\u001b[1;32mFalse\u001b[0m\u001b[1;33m,\u001b[0m\u001b[1;33m\n",
              "\u001b[0m    \u001b[0mcopy_X\u001b[0m\u001b[1;33m=\u001b[0m\u001b[1;32mTrue\u001b[0m\u001b[1;33m,\u001b[0m\u001b[1;33m\n",
              "\u001b[0m    \u001b[0mmax_iter\u001b[0m\u001b[1;33m=\u001b[0m\u001b[1;36m1000\u001b[0m\u001b[1;33m,\u001b[0m\u001b[1;33m\n",
              "\u001b[0m    \u001b[0mtol\u001b[0m\u001b[1;33m=\u001b[0m\u001b[1;36m0.0001\u001b[0m\u001b[1;33m,\u001b[0m\u001b[1;33m\n",
              "\u001b[0m    \u001b[0mwarm_start\u001b[0m\u001b[1;33m=\u001b[0m\u001b[1;32mFalse\u001b[0m\u001b[1;33m,\u001b[0m\u001b[1;33m\n",
              "\u001b[0m    \u001b[0mpositive\u001b[0m\u001b[1;33m=\u001b[0m\u001b[1;32mFalse\u001b[0m\u001b[1;33m,\u001b[0m\u001b[1;33m\n",
              "\u001b[0m    \u001b[0mrandom_state\u001b[0m\u001b[1;33m=\u001b[0m\u001b[1;32mNone\u001b[0m\u001b[1;33m,\u001b[0m\u001b[1;33m\n",
              "\u001b[0m    \u001b[0mselection\u001b[0m\u001b[1;33m=\u001b[0m\u001b[1;34m'cyclic'\u001b[0m\u001b[1;33m,\u001b[0m\u001b[1;33m\n",
              "\u001b[0m\u001b[1;33m)\u001b[0m\u001b[1;33m\u001b[0m\u001b[1;33m\u001b[0m\u001b[0m\n",
              "\u001b[1;31mDocstring:\u001b[0m     \n",
              "Linear Model trained with L1 prior as regularizer (aka the Lasso).\n",
              "\n",
              "The optimization objective for Lasso is::\n",
              "\n",
              "    (1 / (2 * n_samples)) * ||y - Xw||^2_2 + alpha * ||w||_1\n",
              "\n",
              "Technically the Lasso model is optimizing the same objective function as\n",
              "the Elastic Net with ``l1_ratio=1.0`` (no L2 penalty).\n",
              "\n",
              "Read more in the :ref:`User Guide <lasso>`.\n",
              "\n",
              "Parameters\n",
              "----------\n",
              "alpha : float, default=1.0\n",
              "    Constant that multiplies the L1 term, controlling regularization\n",
              "    strength. `alpha` must be a non-negative float i.e. in `[0, inf)`.\n",
              "\n",
              "    When `alpha = 0`, the objective is equivalent to ordinary least\n",
              "    squares, solved by the :class:`LinearRegression` object. For numerical\n",
              "    reasons, using `alpha = 0` with the `Lasso` object is not advised.\n",
              "    Instead, you should use the :class:`LinearRegression` object.\n",
              "\n",
              "fit_intercept : bool, default=True\n",
              "    Whether to calculate the intercept for this model. If set\n",
              "    to False, no intercept will be used in calculations\n",
              "    (i.e. data is expected to be centered).\n",
              "\n",
              "precompute : bool or array-like of shape (n_features, n_features),                 default=False\n",
              "    Whether to use a precomputed Gram matrix to speed up\n",
              "    calculations. The Gram matrix can also be passed as argument.\n",
              "    For sparse input this option is always ``False`` to preserve sparsity.\n",
              "\n",
              "copy_X : bool, default=True\n",
              "    If ``True``, X will be copied; else, it may be overwritten.\n",
              "\n",
              "max_iter : int, default=1000\n",
              "    The maximum number of iterations.\n",
              "\n",
              "tol : float, default=1e-4\n",
              "    The tolerance for the optimization: if the updates are\n",
              "    smaller than ``tol``, the optimization code checks the\n",
              "    dual gap for optimality and continues until it is smaller\n",
              "    than ``tol``, see Notes below.\n",
              "\n",
              "warm_start : bool, default=False\n",
              "    When set to True, reuse the solution of the previous call to fit as\n",
              "    initialization, otherwise, just erase the previous solution.\n",
              "    See :term:`the Glossary <warm_start>`.\n",
              "\n",
              "positive : bool, default=False\n",
              "    When set to ``True``, forces the coefficients to be positive.\n",
              "\n",
              "random_state : int, RandomState instance, default=None\n",
              "    The seed of the pseudo random number generator that selects a random\n",
              "    feature to update. Used when ``selection`` == 'random'.\n",
              "    Pass an int for reproducible output across multiple function calls.\n",
              "    See :term:`Glossary <random_state>`.\n",
              "\n",
              "selection : {'cyclic', 'random'}, default='cyclic'\n",
              "    If set to 'random', a random coefficient is updated every iteration\n",
              "    rather than looping over features sequentially by default. This\n",
              "    (setting to 'random') often leads to significantly faster convergence\n",
              "    especially when tol is higher than 1e-4.\n",
              "\n",
              "Attributes\n",
              "----------\n",
              "coef_ : ndarray of shape (n_features,) or (n_targets, n_features)\n",
              "    Parameter vector (w in the cost function formula).\n",
              "\n",
              "dual_gap_ : float or ndarray of shape (n_targets,)\n",
              "    Given param alpha, the dual gaps at the end of the optimization,\n",
              "    same shape as each observation of y.\n",
              "\n",
              "sparse_coef_ : sparse matrix of shape (n_features, 1) or             (n_targets, n_features)\n",
              "    Readonly property derived from ``coef_``.\n",
              "\n",
              "intercept_ : float or ndarray of shape (n_targets,)\n",
              "    Independent term in decision function.\n",
              "\n",
              "n_iter_ : int or list of int\n",
              "    Number of iterations run by the coordinate descent solver to reach\n",
              "    the specified tolerance.\n",
              "\n",
              "n_features_in_ : int\n",
              "    Number of features seen during :term:`fit`.\n",
              "\n",
              "    .. versionadded:: 0.24\n",
              "\n",
              "feature_names_in_ : ndarray of shape (`n_features_in_`,)\n",
              "    Names of features seen during :term:`fit`. Defined only when `X`\n",
              "    has feature names that are all strings.\n",
              "\n",
              "    .. versionadded:: 1.0\n",
              "\n",
              "See Also\n",
              "--------\n",
              "lars_path : Regularization path using LARS.\n",
              "lasso_path : Regularization path using Lasso.\n",
              "LassoLars : Lasso Path along the regularization parameter using LARS algorithm.\n",
              "LassoCV : Lasso alpha parameter by cross-validation.\n",
              "LassoLarsCV : Lasso least angle parameter algorithm by cross-validation.\n",
              "sklearn.decomposition.sparse_encode : Sparse coding array estimator.\n",
              "\n",
              "Notes\n",
              "-----\n",
              "The algorithm used to fit the model is coordinate descent.\n",
              "\n",
              "To avoid unnecessary memory duplication the X argument of the fit method\n",
              "should be directly passed as a Fortran-contiguous numpy array.\n",
              "\n",
              "Regularization improves the conditioning of the problem and\n",
              "reduces the variance of the estimates. Larger values specify stronger\n",
              "regularization. Alpha corresponds to `1 / (2C)` in other linear\n",
              "models such as :class:`~sklearn.linear_model.LogisticRegression` or\n",
              ":class:`~sklearn.svm.LinearSVC`. If an array is passed, penalties are\n",
              "assumed to be specific to the targets. Hence they must correspond in\n",
              "number.\n",
              "\n",
              "The precise stopping criteria based on `tol` are the following: First, check that\n",
              "that maximum coordinate update, i.e. :math:`\\max_j |w_j^{new} - w_j^{old}|`\n",
              "is smaller than `tol` times the maximum absolute coefficient, :math:`\\max_j |w_j|`.\n",
              "If so, then additionally check whether the dual gap is smaller than `tol` times\n",
              ":math:`||y||_2^2 / n_{\\text{samples}}`.\n",
              "\n",
              "The target can be a 2-dimensional array, resulting in the optimization of the\n",
              "following objective::\n",
              "\n",
              "    (1 / (2 * n_samples)) * ||Y - XW||^2_F + alpha * ||W||_11\n",
              "\n",
              "where :math:`||W||_{1,1}` is the sum of the magnitude of the matrix coefficients.\n",
              "It should not be confused with :class:`~sklearn.linear_model.MultiTaskLasso` which\n",
              "instead penalizes the :math:`L_{2,1}` norm of the coefficients, yielding row-wise\n",
              "sparsity in the coefficients.\n",
              "\n",
              "Examples\n",
              "--------\n",
              ">>> from sklearn import linear_model\n",
              ">>> clf = linear_model.Lasso(alpha=0.1)\n",
              ">>> clf.fit([[0,0], [1, 1], [2, 2]], [0, 1, 2])\n",
              "Lasso(alpha=0.1)\n",
              ">>> print(clf.coef_)\n",
              "[0.85 0.  ]\n",
              ">>> print(clf.intercept_)\n",
              "0.15...\n",
              "\u001b[1;31mFile:\u001b[0m           c:\\users\\user\\.conda\\envs\\virenv\\lib\\site-packages\\sklearn\\linear_model\\_coordinate_descent.py\n",
              "\u001b[1;31mType:\u001b[0m           ABCMeta\n",
              "\u001b[1;31mSubclasses:\u001b[0m     MultiTaskElasticNet"
            ]
          },
          "metadata": {},
          "output_type": "display_data"
        }
      ],
      "source": [
        "Lasso?"
      ]
    },
    {
      "cell_type": "code",
      "execution_count": null,
      "metadata": {
        "id": "LFNCNCQkdUiE"
      },
      "outputs": [],
      "source": [
        "def lasso(m, ll):\n",
        "    return Pipeline([('poly_features', PolynomialFeatures(degree=m)),\n",
        "                     ('regressor', Lasso(alpha=ll/2.0, fit_intercept=False, max_iter=500000))])"
      ]
    },
    {
      "cell_type": "markdown",
      "metadata": {
        "id": "WVrRrgB_dUiE"
      },
      "source": [
        "Utilicen esto para ajustar los datos con *features* polinomiales de grado nueve. Utilicen el mismo parámetro de regularización que el anterior: 0.001."
      ]
    },
    {
      "cell_type": "code",
      "execution_count": null,
      "metadata": {
        "colab": {
          "base_uri": "https://localhost:8080/",
          "height": 142
        },
        "id": "1ImCloi_dUiJ",
        "outputId": "283a91db-08e5-42af-b116-7bfe28a63124"
      },
      "outputs": [
        {
          "data": {
            "text/html": [
              "<style>#sk-container-id-6 {\n",
              "  /* Definition of color scheme common for light and dark mode */\n",
              "  --sklearn-color-text: black;\n",
              "  --sklearn-color-line: gray;\n",
              "  /* Definition of color scheme for unfitted estimators */\n",
              "  --sklearn-color-unfitted-level-0: #fff5e6;\n",
              "  --sklearn-color-unfitted-level-1: #f6e4d2;\n",
              "  --sklearn-color-unfitted-level-2: #ffe0b3;\n",
              "  --sklearn-color-unfitted-level-3: chocolate;\n",
              "  /* Definition of color scheme for fitted estimators */\n",
              "  --sklearn-color-fitted-level-0: #f0f8ff;\n",
              "  --sklearn-color-fitted-level-1: #d4ebff;\n",
              "  --sklearn-color-fitted-level-2: #b3dbfd;\n",
              "  --sklearn-color-fitted-level-3: cornflowerblue;\n",
              "\n",
              "  /* Specific color for light theme */\n",
              "  --sklearn-color-text-on-default-background: var(--sg-text-color, var(--theme-code-foreground, var(--jp-content-font-color1, black)));\n",
              "  --sklearn-color-background: var(--sg-background-color, var(--theme-background, var(--jp-layout-color0, white)));\n",
              "  --sklearn-color-border-box: var(--sg-text-color, var(--theme-code-foreground, var(--jp-content-font-color1, black)));\n",
              "  --sklearn-color-icon: #696969;\n",
              "\n",
              "  @media (prefers-color-scheme: dark) {\n",
              "    /* Redefinition of color scheme for dark theme */\n",
              "    --sklearn-color-text-on-default-background: var(--sg-text-color, var(--theme-code-foreground, var(--jp-content-font-color1, white)));\n",
              "    --sklearn-color-background: var(--sg-background-color, var(--theme-background, var(--jp-layout-color0, #111)));\n",
              "    --sklearn-color-border-box: var(--sg-text-color, var(--theme-code-foreground, var(--jp-content-font-color1, white)));\n",
              "    --sklearn-color-icon: #878787;\n",
              "  }\n",
              "}\n",
              "\n",
              "#sk-container-id-6 {\n",
              "  color: var(--sklearn-color-text);\n",
              "}\n",
              "\n",
              "#sk-container-id-6 pre {\n",
              "  padding: 0;\n",
              "}\n",
              "\n",
              "#sk-container-id-6 input.sk-hidden--visually {\n",
              "  border: 0;\n",
              "  clip: rect(1px 1px 1px 1px);\n",
              "  clip: rect(1px, 1px, 1px, 1px);\n",
              "  height: 1px;\n",
              "  margin: -1px;\n",
              "  overflow: hidden;\n",
              "  padding: 0;\n",
              "  position: absolute;\n",
              "  width: 1px;\n",
              "}\n",
              "\n",
              "#sk-container-id-6 div.sk-dashed-wrapped {\n",
              "  border: 1px dashed var(--sklearn-color-line);\n",
              "  margin: 0 0.4em 0.5em 0.4em;\n",
              "  box-sizing: border-box;\n",
              "  padding-bottom: 0.4em;\n",
              "  background-color: var(--sklearn-color-background);\n",
              "}\n",
              "\n",
              "#sk-container-id-6 div.sk-container {\n",
              "  /* jupyter's `normalize.less` sets `[hidden] { display: none; }`\n",
              "     but bootstrap.min.css set `[hidden] { display: none !important; }`\n",
              "     so we also need the `!important` here to be able to override the\n",
              "     default hidden behavior on the sphinx rendered scikit-learn.org.\n",
              "     See: https://github.com/scikit-learn/scikit-learn/issues/21755 */\n",
              "  display: inline-block !important;\n",
              "  position: relative;\n",
              "}\n",
              "\n",
              "#sk-container-id-6 div.sk-text-repr-fallback {\n",
              "  display: none;\n",
              "}\n",
              "\n",
              "div.sk-parallel-item,\n",
              "div.sk-serial,\n",
              "div.sk-item {\n",
              "  /* draw centered vertical line to link estimators */\n",
              "  background-image: linear-gradient(var(--sklearn-color-text-on-default-background), var(--sklearn-color-text-on-default-background));\n",
              "  background-size: 2px 100%;\n",
              "  background-repeat: no-repeat;\n",
              "  background-position: center center;\n",
              "}\n",
              "\n",
              "/* Parallel-specific style estimator block */\n",
              "\n",
              "#sk-container-id-6 div.sk-parallel-item::after {\n",
              "  content: \"\";\n",
              "  width: 100%;\n",
              "  border-bottom: 2px solid var(--sklearn-color-text-on-default-background);\n",
              "  flex-grow: 1;\n",
              "}\n",
              "\n",
              "#sk-container-id-6 div.sk-parallel {\n",
              "  display: flex;\n",
              "  align-items: stretch;\n",
              "  justify-content: center;\n",
              "  background-color: var(--sklearn-color-background);\n",
              "  position: relative;\n",
              "}\n",
              "\n",
              "#sk-container-id-6 div.sk-parallel-item {\n",
              "  display: flex;\n",
              "  flex-direction: column;\n",
              "}\n",
              "\n",
              "#sk-container-id-6 div.sk-parallel-item:first-child::after {\n",
              "  align-self: flex-end;\n",
              "  width: 50%;\n",
              "}\n",
              "\n",
              "#sk-container-id-6 div.sk-parallel-item:last-child::after {\n",
              "  align-self: flex-start;\n",
              "  width: 50%;\n",
              "}\n",
              "\n",
              "#sk-container-id-6 div.sk-parallel-item:only-child::after {\n",
              "  width: 0;\n",
              "}\n",
              "\n",
              "/* Serial-specific style estimator block */\n",
              "\n",
              "#sk-container-id-6 div.sk-serial {\n",
              "  display: flex;\n",
              "  flex-direction: column;\n",
              "  align-items: center;\n",
              "  background-color: var(--sklearn-color-background);\n",
              "  padding-right: 1em;\n",
              "  padding-left: 1em;\n",
              "}\n",
              "\n",
              "\n",
              "/* Toggleable style: style used for estimator/Pipeline/ColumnTransformer box that is\n",
              "clickable and can be expanded/collapsed.\n",
              "- Pipeline and ColumnTransformer use this feature and define the default style\n",
              "- Estimators will overwrite some part of the style using the `sk-estimator` class\n",
              "*/\n",
              "\n",
              "/* Pipeline and ColumnTransformer style (default) */\n",
              "\n",
              "#sk-container-id-6 div.sk-toggleable {\n",
              "  /* Default theme specific background. It is overwritten whether we have a\n",
              "  specific estimator or a Pipeline/ColumnTransformer */\n",
              "  background-color: var(--sklearn-color-background);\n",
              "}\n",
              "\n",
              "/* Toggleable label */\n",
              "#sk-container-id-6 label.sk-toggleable__label {\n",
              "  cursor: pointer;\n",
              "  display: block;\n",
              "  width: 100%;\n",
              "  margin-bottom: 0;\n",
              "  padding: 0.5em;\n",
              "  box-sizing: border-box;\n",
              "  text-align: center;\n",
              "}\n",
              "\n",
              "#sk-container-id-6 label.sk-toggleable__label-arrow:before {\n",
              "  /* Arrow on the left of the label */\n",
              "  content: \"▸\";\n",
              "  float: left;\n",
              "  margin-right: 0.25em;\n",
              "  color: var(--sklearn-color-icon);\n",
              "}\n",
              "\n",
              "#sk-container-id-6 label.sk-toggleable__label-arrow:hover:before {\n",
              "  color: var(--sklearn-color-text);\n",
              "}\n",
              "\n",
              "/* Toggleable content - dropdown */\n",
              "\n",
              "#sk-container-id-6 div.sk-toggleable__content {\n",
              "  max-height: 0;\n",
              "  max-width: 0;\n",
              "  overflow: hidden;\n",
              "  text-align: left;\n",
              "  /* unfitted */\n",
              "  background-color: var(--sklearn-color-unfitted-level-0);\n",
              "}\n",
              "\n",
              "#sk-container-id-6 div.sk-toggleable__content.fitted {\n",
              "  /* fitted */\n",
              "  background-color: var(--sklearn-color-fitted-level-0);\n",
              "}\n",
              "\n",
              "#sk-container-id-6 div.sk-toggleable__content pre {\n",
              "  margin: 0.2em;\n",
              "  border-radius: 0.25em;\n",
              "  color: var(--sklearn-color-text);\n",
              "  /* unfitted */\n",
              "  background-color: var(--sklearn-color-unfitted-level-0);\n",
              "}\n",
              "\n",
              "#sk-container-id-6 div.sk-toggleable__content.fitted pre {\n",
              "  /* unfitted */\n",
              "  background-color: var(--sklearn-color-fitted-level-0);\n",
              "}\n",
              "\n",
              "#sk-container-id-6 input.sk-toggleable__control:checked~div.sk-toggleable__content {\n",
              "  /* Expand drop-down */\n",
              "  max-height: 200px;\n",
              "  max-width: 100%;\n",
              "  overflow: auto;\n",
              "}\n",
              "\n",
              "#sk-container-id-6 input.sk-toggleable__control:checked~label.sk-toggleable__label-arrow:before {\n",
              "  content: \"▾\";\n",
              "}\n",
              "\n",
              "/* Pipeline/ColumnTransformer-specific style */\n",
              "\n",
              "#sk-container-id-6 div.sk-label input.sk-toggleable__control:checked~label.sk-toggleable__label {\n",
              "  color: var(--sklearn-color-text);\n",
              "  background-color: var(--sklearn-color-unfitted-level-2);\n",
              "}\n",
              "\n",
              "#sk-container-id-6 div.sk-label.fitted input.sk-toggleable__control:checked~label.sk-toggleable__label {\n",
              "  background-color: var(--sklearn-color-fitted-level-2);\n",
              "}\n",
              "\n",
              "/* Estimator-specific style */\n",
              "\n",
              "/* Colorize estimator box */\n",
              "#sk-container-id-6 div.sk-estimator input.sk-toggleable__control:checked~label.sk-toggleable__label {\n",
              "  /* unfitted */\n",
              "  background-color: var(--sklearn-color-unfitted-level-2);\n",
              "}\n",
              "\n",
              "#sk-container-id-6 div.sk-estimator.fitted input.sk-toggleable__control:checked~label.sk-toggleable__label {\n",
              "  /* fitted */\n",
              "  background-color: var(--sklearn-color-fitted-level-2);\n",
              "}\n",
              "\n",
              "#sk-container-id-6 div.sk-label label.sk-toggleable__label,\n",
              "#sk-container-id-6 div.sk-label label {\n",
              "  /* The background is the default theme color */\n",
              "  color: var(--sklearn-color-text-on-default-background);\n",
              "}\n",
              "\n",
              "/* On hover, darken the color of the background */\n",
              "#sk-container-id-6 div.sk-label:hover label.sk-toggleable__label {\n",
              "  color: var(--sklearn-color-text);\n",
              "  background-color: var(--sklearn-color-unfitted-level-2);\n",
              "}\n",
              "\n",
              "/* Label box, darken color on hover, fitted */\n",
              "#sk-container-id-6 div.sk-label.fitted:hover label.sk-toggleable__label.fitted {\n",
              "  color: var(--sklearn-color-text);\n",
              "  background-color: var(--sklearn-color-fitted-level-2);\n",
              "}\n",
              "\n",
              "/* Estimator label */\n",
              "\n",
              "#sk-container-id-6 div.sk-label label {\n",
              "  font-family: monospace;\n",
              "  font-weight: bold;\n",
              "  display: inline-block;\n",
              "  line-height: 1.2em;\n",
              "}\n",
              "\n",
              "#sk-container-id-6 div.sk-label-container {\n",
              "  text-align: center;\n",
              "}\n",
              "\n",
              "/* Estimator-specific */\n",
              "#sk-container-id-6 div.sk-estimator {\n",
              "  font-family: monospace;\n",
              "  border: 1px dotted var(--sklearn-color-border-box);\n",
              "  border-radius: 0.25em;\n",
              "  box-sizing: border-box;\n",
              "  margin-bottom: 0.5em;\n",
              "  /* unfitted */\n",
              "  background-color: var(--sklearn-color-unfitted-level-0);\n",
              "}\n",
              "\n",
              "#sk-container-id-6 div.sk-estimator.fitted {\n",
              "  /* fitted */\n",
              "  background-color: var(--sklearn-color-fitted-level-0);\n",
              "}\n",
              "\n",
              "/* on hover */\n",
              "#sk-container-id-6 div.sk-estimator:hover {\n",
              "  /* unfitted */\n",
              "  background-color: var(--sklearn-color-unfitted-level-2);\n",
              "}\n",
              "\n",
              "#sk-container-id-6 div.sk-estimator.fitted:hover {\n",
              "  /* fitted */\n",
              "  background-color: var(--sklearn-color-fitted-level-2);\n",
              "}\n",
              "\n",
              "/* Specification for estimator info (e.g. \"i\" and \"?\") */\n",
              "\n",
              "/* Common style for \"i\" and \"?\" */\n",
              "\n",
              ".sk-estimator-doc-link,\n",
              "a:link.sk-estimator-doc-link,\n",
              "a:visited.sk-estimator-doc-link {\n",
              "  float: right;\n",
              "  font-size: smaller;\n",
              "  line-height: 1em;\n",
              "  font-family: monospace;\n",
              "  background-color: var(--sklearn-color-background);\n",
              "  border-radius: 1em;\n",
              "  height: 1em;\n",
              "  width: 1em;\n",
              "  text-decoration: none !important;\n",
              "  margin-left: 1ex;\n",
              "  /* unfitted */\n",
              "  border: var(--sklearn-color-unfitted-level-1) 1pt solid;\n",
              "  color: var(--sklearn-color-unfitted-level-1);\n",
              "}\n",
              "\n",
              ".sk-estimator-doc-link.fitted,\n",
              "a:link.sk-estimator-doc-link.fitted,\n",
              "a:visited.sk-estimator-doc-link.fitted {\n",
              "  /* fitted */\n",
              "  border: var(--sklearn-color-fitted-level-1) 1pt solid;\n",
              "  color: var(--sklearn-color-fitted-level-1);\n",
              "}\n",
              "\n",
              "/* On hover */\n",
              "div.sk-estimator:hover .sk-estimator-doc-link:hover,\n",
              ".sk-estimator-doc-link:hover,\n",
              "div.sk-label-container:hover .sk-estimator-doc-link:hover,\n",
              ".sk-estimator-doc-link:hover {\n",
              "  /* unfitted */\n",
              "  background-color: var(--sklearn-color-unfitted-level-3);\n",
              "  color: var(--sklearn-color-background);\n",
              "  text-decoration: none;\n",
              "}\n",
              "\n",
              "div.sk-estimator.fitted:hover .sk-estimator-doc-link.fitted:hover,\n",
              ".sk-estimator-doc-link.fitted:hover,\n",
              "div.sk-label-container:hover .sk-estimator-doc-link.fitted:hover,\n",
              ".sk-estimator-doc-link.fitted:hover {\n",
              "  /* fitted */\n",
              "  background-color: var(--sklearn-color-fitted-level-3);\n",
              "  color: var(--sklearn-color-background);\n",
              "  text-decoration: none;\n",
              "}\n",
              "\n",
              "/* Span, style for the box shown on hovering the info icon */\n",
              ".sk-estimator-doc-link span {\n",
              "  display: none;\n",
              "  z-index: 9999;\n",
              "  position: relative;\n",
              "  font-weight: normal;\n",
              "  right: .2ex;\n",
              "  padding: .5ex;\n",
              "  margin: .5ex;\n",
              "  width: min-content;\n",
              "  min-width: 20ex;\n",
              "  max-width: 50ex;\n",
              "  color: var(--sklearn-color-text);\n",
              "  box-shadow: 2pt 2pt 4pt #999;\n",
              "  /* unfitted */\n",
              "  background: var(--sklearn-color-unfitted-level-0);\n",
              "  border: .5pt solid var(--sklearn-color-unfitted-level-3);\n",
              "}\n",
              "\n",
              ".sk-estimator-doc-link.fitted span {\n",
              "  /* fitted */\n",
              "  background: var(--sklearn-color-fitted-level-0);\n",
              "  border: var(--sklearn-color-fitted-level-3);\n",
              "}\n",
              "\n",
              ".sk-estimator-doc-link:hover span {\n",
              "  display: block;\n",
              "}\n",
              "\n",
              "/* \"?\"-specific style due to the `<a>` HTML tag */\n",
              "\n",
              "#sk-container-id-6 a.estimator_doc_link {\n",
              "  float: right;\n",
              "  font-size: 1rem;\n",
              "  line-height: 1em;\n",
              "  font-family: monospace;\n",
              "  background-color: var(--sklearn-color-background);\n",
              "  border-radius: 1rem;\n",
              "  height: 1rem;\n",
              "  width: 1rem;\n",
              "  text-decoration: none;\n",
              "  /* unfitted */\n",
              "  color: var(--sklearn-color-unfitted-level-1);\n",
              "  border: var(--sklearn-color-unfitted-level-1) 1pt solid;\n",
              "}\n",
              "\n",
              "#sk-container-id-6 a.estimator_doc_link.fitted {\n",
              "  /* fitted */\n",
              "  border: var(--sklearn-color-fitted-level-1) 1pt solid;\n",
              "  color: var(--sklearn-color-fitted-level-1);\n",
              "}\n",
              "\n",
              "/* On hover */\n",
              "#sk-container-id-6 a.estimator_doc_link:hover {\n",
              "  /* unfitted */\n",
              "  background-color: var(--sklearn-color-unfitted-level-3);\n",
              "  color: var(--sklearn-color-background);\n",
              "  text-decoration: none;\n",
              "}\n",
              "\n",
              "#sk-container-id-6 a.estimator_doc_link.fitted:hover {\n",
              "  /* fitted */\n",
              "  background-color: var(--sklearn-color-fitted-level-3);\n",
              "}\n",
              "</style><div id=\"sk-container-id-6\" class=\"sk-top-container\"><div class=\"sk-text-repr-fallback\"><pre>Pipeline(steps=[(&#x27;poly_features&#x27;, PolynomialFeatures(degree=9)),\n",
              "                (&#x27;regressor&#x27;,\n",
              "                 Lasso(alpha=0.005, fit_intercept=False, max_iter=500000))])</pre><b>In a Jupyter environment, please rerun this cell to show the HTML representation or trust the notebook. <br />On GitHub, the HTML representation is unable to render, please try loading this page with nbviewer.org.</b></div><div class=\"sk-container\" hidden><div class=\"sk-item sk-dashed-wrapped\"><div class=\"sk-label-container\"><div class=\"sk-label fitted sk-toggleable\"><input class=\"sk-toggleable__control sk-hidden--visually\" id=\"sk-estimator-id-13\" type=\"checkbox\" ><label for=\"sk-estimator-id-13\" class=\"sk-toggleable__label fitted sk-toggleable__label-arrow fitted\">&nbsp;&nbsp;Pipeline<a class=\"sk-estimator-doc-link fitted\" rel=\"noreferrer\" target=\"_blank\" href=\"https://scikit-learn.org/1.5/modules/generated/sklearn.pipeline.Pipeline.html\">?<span>Documentation for Pipeline</span></a><span class=\"sk-estimator-doc-link fitted\">i<span>Fitted</span></span></label><div class=\"sk-toggleable__content fitted\"><pre>Pipeline(steps=[(&#x27;poly_features&#x27;, PolynomialFeatures(degree=9)),\n",
              "                (&#x27;regressor&#x27;,\n",
              "                 Lasso(alpha=0.005, fit_intercept=False, max_iter=500000))])</pre></div> </div></div><div class=\"sk-serial\"><div class=\"sk-item\"><div class=\"sk-estimator fitted sk-toggleable\"><input class=\"sk-toggleable__control sk-hidden--visually\" id=\"sk-estimator-id-14\" type=\"checkbox\" ><label for=\"sk-estimator-id-14\" class=\"sk-toggleable__label fitted sk-toggleable__label-arrow fitted\">&nbsp;PolynomialFeatures<a class=\"sk-estimator-doc-link fitted\" rel=\"noreferrer\" target=\"_blank\" href=\"https://scikit-learn.org/1.5/modules/generated/sklearn.preprocessing.PolynomialFeatures.html\">?<span>Documentation for PolynomialFeatures</span></a></label><div class=\"sk-toggleable__content fitted\"><pre>PolynomialFeatures(degree=9)</pre></div> </div></div><div class=\"sk-item\"><div class=\"sk-estimator fitted sk-toggleable\"><input class=\"sk-toggleable__control sk-hidden--visually\" id=\"sk-estimator-id-15\" type=\"checkbox\" ><label for=\"sk-estimator-id-15\" class=\"sk-toggleable__label fitted sk-toggleable__label-arrow fitted\">&nbsp;Lasso<a class=\"sk-estimator-doc-link fitted\" rel=\"noreferrer\" target=\"_blank\" href=\"https://scikit-learn.org/1.5/modules/generated/sklearn.linear_model.Lasso.html\">?<span>Documentation for Lasso</span></a></label><div class=\"sk-toggleable__content fitted\"><pre>Lasso(alpha=0.005, fit_intercept=False, max_iter=500000)</pre></div> </div></div></div></div></div></div>"
            ],
            "text/plain": [
              "Pipeline(steps=[('poly_features', PolynomialFeatures(degree=9)),\n",
              "                ('regressor',\n",
              "                 Lasso(alpha=0.005, fit_intercept=False, max_iter=500000))])"
            ]
          },
          "execution_count": 65,
          "metadata": {},
          "output_type": "execute_result"
        }
      ],
      "source": [
        "lasso_pipe = lasso(9, 0.01)\n",
        "lasso_pipe.fit(x_train, et_train)"
      ]
    },
    {
      "cell_type": "markdown",
      "metadata": {
        "id": "Ywq4jVIJdUiJ"
      },
      "source": [
        "Grafiquen los resultados con la ayuda del código de abajo."
      ]
    },
    {
      "cell_type": "code",
      "execution_count": null,
      "metadata": {
        "colab": {
          "base_uri": "https://localhost:8080/",
          "height": 725
        },
        "id": "PPNOc2E8dUiK",
        "outputId": "5df4c2be-a717-4de0-c939-29de8e4a886d"
      },
      "outputs": [
        {
          "data": {
            "text/plain": [
              "<matplotlib.legend.Legend at 0x1e92320bfd0>"
            ]
          },
          "execution_count": 67,
          "metadata": {},
          "output_type": "execute_result"
        },
        {
          "data": {
            "image/png": "[encoded data removed]",
            "text/plain": [
              "<Figure size 800x800 with 1 Axes>"
            ]
          },
          "metadata": {},
          "output_type": "display_data"
        }
      ],
      "source": [
        "fig = plt.figure(figsize=(8, 8))\n",
        "ax = fig.add_subplot(111)\n",
        "ax.plot(x_train, et_train, 'o', ms=10, mfc='None', label='Entrenamiento')\n",
        "ax.plot(x_, lasso_pipe.predict(x_), 'r-', lw=3, alpha=0.8, label='Curva predicha')\n",
        "ax.plot(x_, ground_truth(x_), 'k-', lw=3, alpha=0.5, label='Modelo real')\n",
        "    #\n",
        "ax.set_title('Grado: {}; $\\lambda$: {:.2e}'.format(lasso_pipe['poly_features'].degree,\n",
        "                                                    lasso_pipe['regressor'].alpha *2), fontsize=16)\n",
        "    #\n",
        "ax.set_ylim(0, 3.9)\n",
        "ax.legend(loc=0, fontsize=15)"
      ]
    },
    {
      "cell_type": "markdown",
      "metadata": {
        "id": "Tipv4t4PdUiK"
      },
      "source": [
        "A primera vista, parece que ambos regresores producen los mismos resultados. Pero en realidad hay una _gran diferencia_ entre ambos métodos.\n",
        "\n",
        "**Compare los coeficientes encontrados con cada método**. Puede acceder a ellos"
      ]
    },
    {
      "cell_type": "code",
      "execution_count": null,
      "metadata": {
        "colab": {
          "base_uri": "https://localhost:8080/"
        },
        "id": "MbVpnlkFdUiK",
        "outputId": "4504494c-8998-4634-c32a-b9ef784649af"
      },
      "outputs": [
        {
          "data": {
            "text/plain": [
              "array([[ 2.29382243,  0.29428628, -0.45457811, -0.4682996 , -0.28786284,\n",
              "        -0.0911954 ,  0.07551098,  0.20627284,  0.30598265,  0.38135832]])"
            ]
          },
          "execution_count": 68,
          "metadata": {},
          "output_type": "execute_result"
        }
      ],
      "source": [
        "ridge_pipe['regressor'].coef_"
      ]
    },
    {
      "cell_type": "code",
      "execution_count": null,
      "metadata": {
        "colab": {
          "base_uri": "https://localhost:8080/"
        },
        "id": "GBbnVQx2dUiK",
        "outputId": "6649ceef-1057-4dbf-c03b-a029884765fa"
      },
      "outputs": [
        {
          "data": {
            "text/plain": [
              "array([  1.68118099,   6.8356093 , -10.33062965,  -0.        ,\n",
              "        -0.        ,   0.        ,   0.        ,   0.        ,\n",
              "         4.42068089,   0.        ])"
            ]
          },
          "execution_count": 69,
          "metadata": {},
          "output_type": "execute_result"
        }
      ],
      "source": [
        "lasso_pipe['regressor'].coef_"
      ]
    },
    {
      "cell_type": "markdown",
      "metadata": {
        "id": "HZ7DjLtqdUiL"
      },
      "source": [
        "**Pregunta**. ¿Ven alguna diferencia?"
      ]
    },
    {
      "cell_type": "markdown",
      "metadata": {
        "id": "4LaLWiXSVtWJ"
      },
      "source": [
        "# ¿Cómo elegir los hiperparámetros? Idea:\n",
        "Hasta este punto se ha tomado un polinomio de cierto grado, pero ¿como sabemos si es óptimo?\n",
        "\n",
        "Podemos usar el conjunto de prueba (_test set_) para saber cual es el grado óptimo *M* y el parámetro de regularización $\\lambda$.\n",
        "\n",
        "* Elegir algún método de regularización.\n",
        "* Hacer un bucle sobre todos los hiperparámetros y evaluar performance en _test set_.\n",
        "* Reportar la mejor métrica (MSE).\n",
        "\n",
        "**Pregunta importante**: Creen que este valor será representativo para estimar la performance en datos no vistos?"
      ]
    },
    {
      "cell_type": "markdown",
      "metadata": {
        "id": "bvaGmMAHV_Dm"
      },
      "source": [
        "Comencemos con la usual separación entre conjuntos de entrenamiento y testeo:"
      ]
    },
    {
      "cell_type": "code",
      "execution_count": null,
      "metadata": {
        "id": "8usR6i4YXpUG"
      },
      "outputs": [],
      "source": [
        "# Limpiado\n",
        "df_casas = df_filtro[(df_filtro.moneda=='USD') & (df_filtro['tipo_operac'] == 'Venta')]\n",
        "\n",
        "# Elijo columnas que voy a conservar:\n",
        "# 'habitaciones', 'dormitorios', 'baños', 'sup_total', 'sup_cubierta', 'precio'\n",
        "df_casas = df_casas.dropna(subset=['habitaciones', 'precio', 'sup_total','sup_cubierta'])\n",
        "\n",
        "# filtro valores irreales, outliers, etc.\n",
        "df_casas = df_casas[(df_casas['sup_total'] < 500) & (df_casas['habitaciones'] < 8) &\n",
        "                    (df_casas['sup_cubierta'] < 400)]"
      ]
    },
    {
      "cell_type": "code",
      "execution_count": null,
      "metadata": {
        "id": "gw6n0yKDWFRj"
      },
      "outputs": [],
      "source": [
        "# Separa Train y Test\n",
        "from sklearn.model_selection import train_test_split\n",
        "\n",
        "x_train, x_test, et_train, et_test = train_test_split(df_casas[['sup_total','sup_cubierta','habitaciones']], df_casas['precio'], random_state=42)"
      ]
    },
    {
      "cell_type": "markdown",
      "metadata": {
        "id": "RmICz76QWwxV"
      },
      "source": [
        "## Implementación\n",
        "Definamos una función para construir la regresión de _Ridge_. En este caso va a ser recomendable usar el StandardScaler para estandarizar nuestros datos, pues tienen unidades distintas no comparables."
      ]
    },
    {
      "cell_type": "code",
      "execution_count": null,
      "metadata": {
        "id": "AzB4eQiZWzn0"
      },
      "outputs": [],
      "source": [
        "from sklearn.pipeline import Pipeline\n",
        "from sklearn.preprocessing import PolynomialFeatures,StandardScaler\n",
        "from sklearn.linear_model import Ridge\n",
        "\n",
        "def ridge(m, ll):\n",
        "    \"\"\"\n",
        "    Construye un pipeline para la regresión contraída (ridge regression)\n",
        "    usamos un StandardScaler\n",
        "\n",
        "    :param int m: grado del polinomio de las características\n",
        "    :param float ll: coeficiente de regularización lambda\n",
        "\n",
        "    Atención: la función ridge toma como argumento alpha = lambda/2\n",
        "    \"\"\"\n",
        "    return Pipeline([('scaler', StandardScaler()),\n",
        "                     ('poly_features', PolynomialFeatures(degree=m)),\n",
        "                     ('regressor', Ridge(alpha=ll/2))])"
      ]
    },
    {
      "cell_type": "markdown",
      "metadata": {
        "id": "oQ4MQynjW5o5"
      },
      "source": [
        "Ahora pasemos sobre todos los $M$ (grados) y $\\lambda$ (valor del regularizador), y evaluemos en el conjunto:"
      ]
    },
    {
      "cell_type": "code",
      "execution_count": null,
      "metadata": {
        "id": "YxISq08bW4WY"
      },
      "outputs": [],
      "source": [
        "from sklearn.metrics import mean_squared_error\n",
        "\n",
        "# El espacio de búsqueda de lambdas tiene forma logarítmica\n",
        "lambdas = [0.1, 1, 10, 100, 1000]\n",
        "\n",
        "# Espacio de búsqueda de grados va de 1 a 6.\n",
        "grados = [1, 2, 3, 4, 5, 6]\n",
        "\n",
        "# En esta lista voy a ir guardando los MSE en el conjunto de test\n",
        "errores_test = []\n",
        "\n",
        "# Iteramos sobre todos los valores y los guardamos todos\n",
        "# Esto es principalmente porque nos interesa en esta etapa entender el espacio de hiperparámetros\n",
        "# En algunos casos, por tema de memoria y/o performance, es interesante solo mantener los mejores-k\n",
        "for ll in lambdas:\n",
        "    for m in grados:\n",
        "        # Creo modelo\n",
        "        rr = ridge(m, ll)\n",
        "        # Lo ajusto al conjunto de entrenamiento\n",
        "        rr.fit(x_train, et_train)\n",
        "\n",
        "        # Calculamos el MSE en test y lo agregamos a la lista de errores\n",
        "        errores = mean_squared_error(et_test, rr.predict(x_test))\n",
        "        errores_test.append(errores)\n",
        "\n",
        "# Redimensiono los errores en una matriz (para después visualizarlos)\n",
        "errores_test = np.array(errores_test).reshape((len(lambdas), len(grados)))\n",
        "errores_test"
      ]
    },
    {
      "cell_type": "markdown",
      "metadata": {
        "id": "3SZ2T9GlX9iJ"
      },
      "source": [
        "Hagamos una breve exploración de los datos:"
      ]
    },
    {
      "cell_type": "code",
      "execution_count": null,
      "metadata": {
        "id": "vm_ne-cFX785"
      },
      "outputs": [],
      "source": [
        "df_casas.head()"
      ]
    },
    {
      "cell_type": "code",
      "execution_count": null,
      "metadata": {
        "id": "ZgotmxavYG7P"
      },
      "outputs": [],
      "source": [
        "pd.plotting.scatter_matrix(df_casas[['habitaciones', 'precio', 'sup_total','sup_cubierta']], figsize=(12, 12), alpha=0.5)"
      ]
    },
    {
      "cell_type": "markdown",
      "metadata": {
        "id": "bN2VJtult2xO"
      },
      "source": [
        "Los MSE están en las unidades (al cuadrado) de los precios de las viviendas (miles de dólares), así que para visualizarlos nos conviene tomarles la raíz cuadrada, y dividir por 1000:"
      ]
    },
    {
      "cell_type": "code",
      "execution_count": null,
      "metadata": {
        "id": "2mzFBLazuSSL"
      },
      "outputs": [],
      "source": [
        "# Tomo raiz cuadrada del MSE y divido por 1000 para expresar el error en miles de dólares\n",
        "errores_test_milusd = np.sqrt(errores_test)/1000\n",
        "errores_test_milusd"
      ]
    },
    {
      "cell_type": "markdown",
      "metadata": {
        "id": "subtle-treasurer"
      },
      "source": [
        "Hagamos una gráfica del MSE como función de $M$ y $\\lambda$ como una imagen. Aquí usamos la función `plt.pcolor`."
      ]
    },
    {
      "cell_type": "code",
      "execution_count": null,
      "metadata": {
        "id": "speaking-cleveland",
        "tags": []
      },
      "outputs": [],
      "source": [
        "# Valores de los ejes\n",
        "Xp, Yp = np.meshgrid(grados, lambdas)\n",
        "Zp = errores_test_milusd\n",
        "\n",
        "fig = plt.figure(figsize=(15, 6))\n",
        "ax = fig.add_subplot(111)\n",
        "# Grafico\n",
        "pcol = plt.pcolor(Xp, Yp, Zp, cmap='jet')\n",
        "\n",
        "# Usamos escala logarítmica para lambda\n",
        "ax.set_yscale('log')\n",
        "ax.set_ylim(0.05,1500)\n",
        "\n",
        "# Define las marcas del eje x en números enteros\n",
        "ax.xaxis.set_major_locator(plt.MultipleLocator(2))\n",
        "ax.xaxis.set_minor_locator(plt.MultipleLocator(1))\n",
        "\n",
        "# Barra de colores y rótulos\n",
        "plt.colorbar(pcol, label='sqrt(MSE)/1000 en el conjunto de prueba')\n",
        "ax.set_xlabel('Grados ($M$)', fontsize=18)\n",
        "ax.set_ylabel('Regularizador ($\\lambda$)', fontsize=18)"
      ]
    },
    {
      "cell_type": "markdown",
      "metadata": {
        "id": "invisible-actress"
      },
      "source": [
        "Veamos cual es la posición del mínimo"
      ]
    },
    {
      "cell_type": "code",
      "execution_count": null,
      "metadata": {
        "id": "sustainable-bidding",
        "tags": []
      },
      "outputs": [],
      "source": [
        "position = np.argmin(Zp)\n",
        "\n",
        "mejor_grado = Xp.flatten()[position]\n",
        "mejor_lambda = Yp.flatten()[position]\n",
        "mejor_MSE = errores_test.flatten()[position]\n",
        "\n",
        "print(\"M = {}\".format(mejor_grado))\n",
        "print(\"Lambda = {:.2e}\".format(mejor_lambda))\n",
        "print(\"MSE = {}\".format(mejor_MSE))"
      ]
    },
    {
      "cell_type": "markdown",
      "metadata": {
        "id": "touched-happiness"
      },
      "source": [
        "¡Hemos encontrado la _mejor_ combinación de $M$ y $\\lambda$! ¿O hicimos algo mal?\n",
        "\n",
        "Consideremos algunas **preguntas**:\n",
        "\n",
        "* ¿Qué MSE esperamos en **datos nunca vistos**? ¿No estaremos en cierta manera sobreajustando a los datos de testeo?\n",
        "* ¿Cambiará nuestro resultado si alteramos el corte de train/test?\n",
        "* ¿Cuántos hiperparámetros distintos probamos?\n",
        "***"
      ]
    },
    {
      "cell_type": "markdown",
      "metadata": {
        "id": "1G708CTVZPe1"
      },
      "source": [
        "# Validación\n",
        "## Dataset apartado de validación\n",
        "Para poder objetivamente asegurarnos la performance de nuestro modelo (sobre todo en el caso en que no conocemos la distribución real) en  **datos nuevos nunca vistos** debemos limitarnos y no mirar el conjunto de test. De otra manera sobreajustaremos al conjunto de test y no nos servirá como estimador de la performance real.\n",
        "Por otro lado, para buscar mejores hiperparámetros (parámetros que generalicen mejor a datos _no-vistos_) debemos hacerlo sobre puntos fuera del entrenamiento. Una solución sería mantener un conjunto para _entrenar_ otro para _validar_ hiperparámetros. Y otro más para tener un valor no sesgado de la performance de nuestro modelo.\n",
        "\n",
        "A veces el conjunto de *entrenamiento* + *validación* se denomina conjunto de *desarrollo*.\n",
        "\n",
        "El corte final sería así\n",
        "\n",
        "<img src=\"https://upload.wikimedia.org/wikipedia/commons/b/bb/ML_dataset_training_validation_test_sets.png\" width=600/>\n",
        "\n",
        "\n",
        "* Conjunto de Entrenamiento/Train: donde ajustamos el modelo.\n",
        "* Conjunto de Validación: Donde evaluamos el modelo y lo usamos para escoger mejores hiperparámetros/características etc.\n",
        "* Conjunto de Prueba/Test: Lo usamos solamente **al final** del desarrollo para establecer la performance esperada del modelo en datos nuevos."
      ]
    },
    {
      "cell_type": "code",
      "execution_count": null,
      "metadata": {
        "id": "Ai22boz4ZOEK"
      },
      "outputs": [],
      "source": [
        "#Corte de train test y validación\n",
        "\n",
        "# Primero separamos el train y test\n",
        "from sklearn.model_selection import train_test_split\n",
        "x_train_full, x_test, e_train_full, e_test = train_test_split(df_casas[['sup_total','sup_cubierta','habitaciones']], df_casas['precio'], random_state=42)\n",
        "\n",
        "# Segundo, separamos nuevamente en entrenamiento pero también en conjunto de validación, los train_full\n",
        "x_train, x_val, e_train, e_val = train_test_split(x_train_full, e_train_full, random_state=42)"
      ]
    },
    {
      "cell_type": "markdown",
      "metadata": {
        "id": "H53vUwNeZsNU"
      },
      "source": [
        "Corremos las mismas rondas que antes pero ahora evaluando en validación."
      ]
    },
    {
      "cell_type": "code",
      "execution_count": null,
      "metadata": {
        "id": "JDBNan4KZusF"
      },
      "outputs": [],
      "source": [
        "# El espacio de búsqueda de lambdas tiene forma logarítmica\n",
        "lambdas = [0.1, 1, 10, 100, 1000]\n",
        "\n",
        "# Espacio de búsqueda de grados va de 1 a 6.\n",
        "grados = [1, 2, 3, 4, 5, 6]\n",
        "\n",
        "# En esta lista voy a ir guardando los MSE\n",
        "errores_validacion = []\n",
        "\n",
        "for ll in lambdas:\n",
        "    for m in grados:\n",
        "        # Creo modelo\n",
        "        rr = ridge(m, ll)\n",
        "        # Lo ajusto al conjunto de entrenamiento\n",
        "        rr.fit(x_train, e_train)\n",
        "\n",
        "        # Calculamos el MSE en validacion y lo agregamos a la lista de errores\n",
        "        errores = mean_squared_error(e_val, rr.predict(x_val))\n",
        "        errores_validacion.append(errores)\n",
        "\n",
        "# Redimensiono los errores en una matriz (para después visualizarlos), reshape: lo convierte en una matriz de tamaño len(lambdas) x len(grados)\n",
        "errores_validacion = np.array(errores_validacion).reshape((len(lambdas), len(grados)))\n",
        "errores_validacion"
      ]
    },
    {
      "cell_type": "markdown",
      "metadata": {
        "id": "Di6DzmZMZx9T"
      },
      "source": [
        "Ahora podemos elegir los mejores hipérparametros usando la performance en set de validación."
      ]
    },
    {
      "cell_type": "code",
      "execution_count": null,
      "metadata": {
        "id": "xp1cvnrnZ0Wv"
      },
      "outputs": [],
      "source": [
        "position = np.argmin(errores_validacion)\n",
        "\n",
        "mejor_grado_val = grados[position%len(grados)]\n",
        "mejor_lambda_val = lambdas[position//len(lambdas)]\n",
        "mejor_MES_val = errores_validacion.flatten()[position]\n",
        "\n",
        "print(\"Grado (M) = {}\".format(mejor_grado_val))\n",
        "print(\"Lambda = {:.2e}\".format(mejor_lambda_val))\n",
        "print(\"MSE = {:.2f}\".format(mejor_MES_val))"
      ]
    },
    {
      "cell_type": "markdown",
      "metadata": {
        "id": "p-kgcMLIZ20y"
      },
      "source": [
        "Y ahora usamos el dataset de test para ver la generalización a datos nuevos. Vamos a usar los hiperparámetros que acabamos de determinar con la validación:"
      ]
    },
    {
      "cell_type": "code",
      "execution_count": null,
      "metadata": {
        "colab": {
          "base_uri": "https://localhost:8080/",
          "height": 181
        },
        "id": "qbAdyG7kZ5R7",
        "outputId": "ab47d197-04b9-49f2-d5e3-1683be6a69fe"
      },
      "outputs": [
        {
          "data": {
            "text/html": [
              "<style>#sk-container-id-7 {\n",
              "  /* Definition of color scheme common for light and dark mode */\n",
              "  --sklearn-color-text: black;\n",
              "  --sklearn-color-line: gray;\n",
              "  /* Definition of color scheme for unfitted estimators */\n",
              "  --sklearn-color-unfitted-level-0: #fff5e6;\n",
              "  --sklearn-color-unfitted-level-1: #f6e4d2;\n",
              "  --sklearn-color-unfitted-level-2: #ffe0b3;\n",
              "  --sklearn-color-unfitted-level-3: chocolate;\n",
              "  /* Definition of color scheme for fitted estimators */\n",
              "  --sklearn-color-fitted-level-0: #f0f8ff;\n",
              "  --sklearn-color-fitted-level-1: #d4ebff;\n",
              "  --sklearn-color-fitted-level-2: #b3dbfd;\n",
              "  --sklearn-color-fitted-level-3: cornflowerblue;\n",
              "\n",
              "  /* Specific color for light theme */\n",
              "  --sklearn-color-text-on-default-background: var(--sg-text-color, var(--theme-code-foreground, var(--jp-content-font-color1, black)));\n",
              "  --sklearn-color-background: var(--sg-background-color, var(--theme-background, var(--jp-layout-color0, white)));\n",
              "  --sklearn-color-border-box: var(--sg-text-color, var(--theme-code-foreground, var(--jp-content-font-color1, black)));\n",
              "  --sklearn-color-icon: #696969;\n",
              "\n",
              "  @media (prefers-color-scheme: dark) {\n",
              "    /* Redefinition of color scheme for dark theme */\n",
              "    --sklearn-color-text-on-default-background: var(--sg-text-color, var(--theme-code-foreground, var(--jp-content-font-color1, white)));\n",
              "    --sklearn-color-background: var(--sg-background-color, var(--theme-background, var(--jp-layout-color0, #111)));\n",
              "    --sklearn-color-border-box: var(--sg-text-color, var(--theme-code-foreground, var(--jp-content-font-color1, white)));\n",
              "    --sklearn-color-icon: #878787;\n",
              "  }\n",
              "}\n",
              "\n",
              "#sk-container-id-7 {\n",
              "  color: var(--sklearn-color-text);\n",
              "}\n",
              "\n",
              "#sk-container-id-7 pre {\n",
              "  padding: 0;\n",
              "}\n",
              "\n",
              "#sk-container-id-7 input.sk-hidden--visually {\n",
              "  border: 0;\n",
              "  clip: rect(1px 1px 1px 1px);\n",
              "  clip: rect(1px, 1px, 1px, 1px);\n",
              "  height: 1px;\n",
              "  margin: -1px;\n",
              "  overflow: hidden;\n",
              "  padding: 0;\n",
              "  position: absolute;\n",
              "  width: 1px;\n",
              "}\n",
              "\n",
              "#sk-container-id-7 div.sk-dashed-wrapped {\n",
              "  border: 1px dashed var(--sklearn-color-line);\n",
              "  margin: 0 0.4em 0.5em 0.4em;\n",
              "  box-sizing: border-box;\n",
              "  padding-bottom: 0.4em;\n",
              "  background-color: var(--sklearn-color-background);\n",
              "}\n",
              "\n",
              "#sk-container-id-7 div.sk-container {\n",
              "  /* jupyter's `normalize.less` sets `[hidden] { display: none; }`\n",
              "     but bootstrap.min.css set `[hidden] { display: none !important; }`\n",
              "     so we also need the `!important` here to be able to override the\n",
              "     default hidden behavior on the sphinx rendered scikit-learn.org.\n",
              "     See: https://github.com/scikit-learn/scikit-learn/issues/21755 */\n",
              "  display: inline-block !important;\n",
              "  position: relative;\n",
              "}\n",
              "\n",
              "#sk-container-id-7 div.sk-text-repr-fallback {\n",
              "  display: none;\n",
              "}\n",
              "\n",
              "div.sk-parallel-item,\n",
              "div.sk-serial,\n",
              "div.sk-item {\n",
              "  /* draw centered vertical line to link estimators */\n",
              "  background-image: linear-gradient(var(--sklearn-color-text-on-default-background), var(--sklearn-color-text-on-default-background));\n",
              "  background-size: 2px 100%;\n",
              "  background-repeat: no-repeat;\n",
              "  background-position: center center;\n",
              "}\n",
              "\n",
              "/* Parallel-specific style estimator block */\n",
              "\n",
              "#sk-container-id-7 div.sk-parallel-item::after {\n",
              "  content: \"\";\n",
              "  width: 100%;\n",
              "  border-bottom: 2px solid var(--sklearn-color-text-on-default-background);\n",
              "  flex-grow: 1;\n",
              "}\n",
              "\n",
              "#sk-container-id-7 div.sk-parallel {\n",
              "  display: flex;\n",
              "  align-items: stretch;\n",
              "  justify-content: center;\n",
              "  background-color: var(--sklearn-color-background);\n",
              "  position: relative;\n",
              "}\n",
              "\n",
              "#sk-container-id-7 div.sk-parallel-item {\n",
              "  display: flex;\n",
              "  flex-direction: column;\n",
              "}\n",
              "\n",
              "#sk-container-id-7 div.sk-parallel-item:first-child::after {\n",
              "  align-self: flex-end;\n",
              "  width: 50%;\n",
              "}\n",
              "\n",
              "#sk-container-id-7 div.sk-parallel-item:last-child::after {\n",
              "  align-self: flex-start;\n",
              "  width: 50%;\n",
              "}\n",
              "\n",
              "#sk-container-id-7 div.sk-parallel-item:only-child::after {\n",
              "  width: 0;\n",
              "}\n",
              "\n",
              "/* Serial-specific style estimator block */\n",
              "\n",
              "#sk-container-id-7 div.sk-serial {\n",
              "  display: flex;\n",
              "  flex-direction: column;\n",
              "  align-items: center;\n",
              "  background-color: var(--sklearn-color-background);\n",
              "  padding-right: 1em;\n",
              "  padding-left: 1em;\n",
              "}\n",
              "\n",
              "\n",
              "/* Toggleable style: style used for estimator/Pipeline/ColumnTransformer box that is\n",
              "clickable and can be expanded/collapsed.\n",
              "- Pipeline and ColumnTransformer use this feature and define the default style\n",
              "- Estimators will overwrite some part of the style using the `sk-estimator` class\n",
              "*/\n",
              "\n",
              "/* Pipeline and ColumnTransformer style (default) */\n",
              "\n",
              "#sk-container-id-7 div.sk-toggleable {\n",
              "  /* Default theme specific background. It is overwritten whether we have a\n",
              "  specific estimator or a Pipeline/ColumnTransformer */\n",
              "  background-color: var(--sklearn-color-background);\n",
              "}\n",
              "\n",
              "/* Toggleable label */\n",
              "#sk-container-id-7 label.sk-toggleable__label {\n",
              "  cursor: pointer;\n",
              "  display: block;\n",
              "  width: 100%;\n",
              "  margin-bottom: 0;\n",
              "  padding: 0.5em;\n",
              "  box-sizing: border-box;\n",
              "  text-align: center;\n",
              "}\n",
              "\n",
              "#sk-container-id-7 label.sk-toggleable__label-arrow:before {\n",
              "  /* Arrow on the left of the label */\n",
              "  content: \"▸\";\n",
              "  float: left;\n",
              "  margin-right: 0.25em;\n",
              "  color: var(--sklearn-color-icon);\n",
              "}\n",
              "\n",
              "#sk-container-id-7 label.sk-toggleable__label-arrow:hover:before {\n",
              "  color: var(--sklearn-color-text);\n",
              "}\n",
              "\n",
              "/* Toggleable content - dropdown */\n",
              "\n",
              "#sk-container-id-7 div.sk-toggleable__content {\n",
              "  max-height: 0;\n",
              "  max-width: 0;\n",
              "  overflow: hidden;\n",
              "  text-align: left;\n",
              "  /* unfitted */\n",
              "  background-color: var(--sklearn-color-unfitted-level-0);\n",
              "}\n",
              "\n",
              "#sk-container-id-7 div.sk-toggleable__content.fitted {\n",
              "  /* fitted */\n",
              "  background-color: var(--sklearn-color-fitted-level-0);\n",
              "}\n",
              "\n",
              "#sk-container-id-7 div.sk-toggleable__content pre {\n",
              "  margin: 0.2em;\n",
              "  border-radius: 0.25em;\n",
              "  color: var(--sklearn-color-text);\n",
              "  /* unfitted */\n",
              "  background-color: var(--sklearn-color-unfitted-level-0);\n",
              "}\n",
              "\n",
              "#sk-container-id-7 div.sk-toggleable__content.fitted pre {\n",
              "  /* unfitted */\n",
              "  background-color: var(--sklearn-color-fitted-level-0);\n",
              "}\n",
              "\n",
              "#sk-container-id-7 input.sk-toggleable__control:checked~div.sk-toggleable__content {\n",
              "  /* Expand drop-down */\n",
              "  max-height: 200px;\n",
              "  max-width: 100%;\n",
              "  overflow: auto;\n",
              "}\n",
              "\n",
              "#sk-container-id-7 input.sk-toggleable__control:checked~label.sk-toggleable__label-arrow:before {\n",
              "  content: \"▾\";\n",
              "}\n",
              "\n",
              "/* Pipeline/ColumnTransformer-specific style */\n",
              "\n",
              "#sk-container-id-7 div.sk-label input.sk-toggleable__control:checked~label.sk-toggleable__label {\n",
              "  color: var(--sklearn-color-text);\n",
              "  background-color: var(--sklearn-color-unfitted-level-2);\n",
              "}\n",
              "\n",
              "#sk-container-id-7 div.sk-label.fitted input.sk-toggleable__control:checked~label.sk-toggleable__label {\n",
              "  background-color: var(--sklearn-color-fitted-level-2);\n",
              "}\n",
              "\n",
              "/* Estimator-specific style */\n",
              "\n",
              "/* Colorize estimator box */\n",
              "#sk-container-id-7 div.sk-estimator input.sk-toggleable__control:checked~label.sk-toggleable__label {\n",
              "  /* unfitted */\n",
              "  background-color: var(--sklearn-color-unfitted-level-2);\n",
              "}\n",
              "\n",
              "#sk-container-id-7 div.sk-estimator.fitted input.sk-toggleable__control:checked~label.sk-toggleable__label {\n",
              "  /* fitted */\n",
              "  background-color: var(--sklearn-color-fitted-level-2);\n",
              "}\n",
              "\n",
              "#sk-container-id-7 div.sk-label label.sk-toggleable__label,\n",
              "#sk-container-id-7 div.sk-label label {\n",
              "  /* The background is the default theme color */\n",
              "  color: var(--sklearn-color-text-on-default-background);\n",
              "}\n",
              "\n",
              "/* On hover, darken the color of the background */\n",
              "#sk-container-id-7 div.sk-label:hover label.sk-toggleable__label {\n",
              "  color: var(--sklearn-color-text);\n",
              "  background-color: var(--sklearn-color-unfitted-level-2);\n",
              "}\n",
              "\n",
              "/* Label box, darken color on hover, fitted */\n",
              "#sk-container-id-7 div.sk-label.fitted:hover label.sk-toggleable__label.fitted {\n",
              "  color: var(--sklearn-color-text);\n",
              "  background-color: var(--sklearn-color-fitted-level-2);\n",
              "}\n",
              "\n",
              "/* Estimator label */\n",
              "\n",
              "#sk-container-id-7 div.sk-label label {\n",
              "  font-family: monospace;\n",
              "  font-weight: bold;\n",
              "  display: inline-block;\n",
              "  line-height: 1.2em;\n",
              "}\n",
              "\n",
              "#sk-container-id-7 div.sk-label-container {\n",
              "  text-align: center;\n",
              "}\n",
              "\n",
              "/* Estimator-specific */\n",
              "#sk-container-id-7 div.sk-estimator {\n",
              "  font-family: monospace;\n",
              "  border: 1px dotted var(--sklearn-color-border-box);\n",
              "  border-radius: 0.25em;\n",
              "  box-sizing: border-box;\n",
              "  margin-bottom: 0.5em;\n",
              "  /* unfitted */\n",
              "  background-color: var(--sklearn-color-unfitted-level-0);\n",
              "}\n",
              "\n",
              "#sk-container-id-7 div.sk-estimator.fitted {\n",
              "  /* fitted */\n",
              "  background-color: var(--sklearn-color-fitted-level-0);\n",
              "}\n",
              "\n",
              "/* on hover */\n",
              "#sk-container-id-7 div.sk-estimator:hover {\n",
              "  /* unfitted */\n",
              "  background-color: var(--sklearn-color-unfitted-level-2);\n",
              "}\n",
              "\n",
              "#sk-container-id-7 div.sk-estimator.fitted:hover {\n",
              "  /* fitted */\n",
              "  background-color: var(--sklearn-color-fitted-level-2);\n",
              "}\n",
              "\n",
              "/* Specification for estimator info (e.g. \"i\" and \"?\") */\n",
              "\n",
              "/* Common style for \"i\" and \"?\" */\n",
              "\n",
              ".sk-estimator-doc-link,\n",
              "a:link.sk-estimator-doc-link,\n",
              "a:visited.sk-estimator-doc-link {\n",
              "  float: right;\n",
              "  font-size: smaller;\n",
              "  line-height: 1em;\n",
              "  font-family: monospace;\n",
              "  background-color: var(--sklearn-color-background);\n",
              "  border-radius: 1em;\n",
              "  height: 1em;\n",
              "  width: 1em;\n",
              "  text-decoration: none !important;\n",
              "  margin-left: 1ex;\n",
              "  /* unfitted */\n",
              "  border: var(--sklearn-color-unfitted-level-1) 1pt solid;\n",
              "  color: var(--sklearn-color-unfitted-level-1);\n",
              "}\n",
              "\n",
              ".sk-estimator-doc-link.fitted,\n",
              "a:link.sk-estimator-doc-link.fitted,\n",
              "a:visited.sk-estimator-doc-link.fitted {\n",
              "  /* fitted */\n",
              "  border: var(--sklearn-color-fitted-level-1) 1pt solid;\n",
              "  color: var(--sklearn-color-fitted-level-1);\n",
              "}\n",
              "\n",
              "/* On hover */\n",
              "div.sk-estimator:hover .sk-estimator-doc-link:hover,\n",
              ".sk-estimator-doc-link:hover,\n",
              "div.sk-label-container:hover .sk-estimator-doc-link:hover,\n",
              ".sk-estimator-doc-link:hover {\n",
              "  /* unfitted */\n",
              "  background-color: var(--sklearn-color-unfitted-level-3);\n",
              "  color: var(--sklearn-color-background);\n",
              "  text-decoration: none;\n",
              "}\n",
              "\n",
              "div.sk-estimator.fitted:hover .sk-estimator-doc-link.fitted:hover,\n",
              ".sk-estimator-doc-link.fitted:hover,\n",
              "div.sk-label-container:hover .sk-estimator-doc-link.fitted:hover,\n",
              ".sk-estimator-doc-link.fitted:hover {\n",
              "  /* fitted */\n",
              "  background-color: var(--sklearn-color-fitted-level-3);\n",
              "  color: var(--sklearn-color-background);\n",
              "  text-decoration: none;\n",
              "}\n",
              "\n",
              "/* Span, style for the box shown on hovering the info icon */\n",
              ".sk-estimator-doc-link span {\n",
              "  display: none;\n",
              "  z-index: 9999;\n",
              "  position: relative;\n",
              "  font-weight: normal;\n",
              "  right: .2ex;\n",
              "  padding: .5ex;\n",
              "  margin: .5ex;\n",
              "  width: min-content;\n",
              "  min-width: 20ex;\n",
              "  max-width: 50ex;\n",
              "  color: var(--sklearn-color-text);\n",
              "  box-shadow: 2pt 2pt 4pt #999;\n",
              "  /* unfitted */\n",
              "  background: var(--sklearn-color-unfitted-level-0);\n",
              "  border: .5pt solid var(--sklearn-color-unfitted-level-3);\n",
              "}\n",
              "\n",
              ".sk-estimator-doc-link.fitted span {\n",
              "  /* fitted */\n",
              "  background: var(--sklearn-color-fitted-level-0);\n",
              "  border: var(--sklearn-color-fitted-level-3);\n",
              "}\n",
              "\n",
              ".sk-estimator-doc-link:hover span {\n",
              "  display: block;\n",
              "}\n",
              "\n",
              "/* \"?\"-specific style due to the `<a>` HTML tag */\n",
              "\n",
              "#sk-container-id-7 a.estimator_doc_link {\n",
              "  float: right;\n",
              "  font-size: 1rem;\n",
              "  line-height: 1em;\n",
              "  font-family: monospace;\n",
              "  background-color: var(--sklearn-color-background);\n",
              "  border-radius: 1rem;\n",
              "  height: 1rem;\n",
              "  width: 1rem;\n",
              "  text-decoration: none;\n",
              "  /* unfitted */\n",
              "  color: var(--sklearn-color-unfitted-level-1);\n",
              "  border: var(--sklearn-color-unfitted-level-1) 1pt solid;\n",
              "}\n",
              "\n",
              "#sk-container-id-7 a.estimator_doc_link.fitted {\n",
              "  /* fitted */\n",
              "  border: var(--sklearn-color-fitted-level-1) 1pt solid;\n",
              "  color: var(--sklearn-color-fitted-level-1);\n",
              "}\n",
              "\n",
              "/* On hover */\n",
              "#sk-container-id-7 a.estimator_doc_link:hover {\n",
              "  /* unfitted */\n",
              "  background-color: var(--sklearn-color-unfitted-level-3);\n",
              "  color: var(--sklearn-color-background);\n",
              "  text-decoration: none;\n",
              "}\n",
              "\n",
              "#sk-container-id-7 a.estimator_doc_link.fitted:hover {\n",
              "  /* fitted */\n",
              "  background-color: var(--sklearn-color-fitted-level-3);\n",
              "}\n",
              "</style><div id=\"sk-container-id-7\" class=\"sk-top-container\"><div class=\"sk-text-repr-fallback\"><pre>Pipeline(steps=[(&#x27;scaler&#x27;, StandardScaler()),\n",
              "                (&#x27;poly_features&#x27;, PolynomialFeatures()),\n",
              "                (&#x27;regressor&#x27;, Ridge(alpha=0.05))])</pre><b>In a Jupyter environment, please rerun this cell to show the HTML representation or trust the notebook. <br />On GitHub, the HTML representation is unable to render, please try loading this page with nbviewer.org.</b></div><div class=\"sk-container\" hidden><div class=\"sk-item sk-dashed-wrapped\"><div class=\"sk-label-container\"><div class=\"sk-label fitted sk-toggleable\"><input class=\"sk-toggleable__control sk-hidden--visually\" id=\"sk-estimator-id-16\" type=\"checkbox\" ><label for=\"sk-estimator-id-16\" class=\"sk-toggleable__label fitted sk-toggleable__label-arrow fitted\">&nbsp;&nbsp;Pipeline<a class=\"sk-estimator-doc-link fitted\" rel=\"noreferrer\" target=\"_blank\" href=\"https://scikit-learn.org/1.5/modules/generated/sklearn.pipeline.Pipeline.html\">?<span>Documentation for Pipeline</span></a><span class=\"sk-estimator-doc-link fitted\">i<span>Fitted</span></span></label><div class=\"sk-toggleable__content fitted\"><pre>Pipeline(steps=[(&#x27;scaler&#x27;, StandardScaler()),\n",
              "                (&#x27;poly_features&#x27;, PolynomialFeatures()),\n",
              "                (&#x27;regressor&#x27;, Ridge(alpha=0.05))])</pre></div> </div></div><div class=\"sk-serial\"><div class=\"sk-item\"><div class=\"sk-estimator fitted sk-toggleable\"><input class=\"sk-toggleable__control sk-hidden--visually\" id=\"sk-estimator-id-17\" type=\"checkbox\" ><label for=\"sk-estimator-id-17\" class=\"sk-toggleable__label fitted sk-toggleable__label-arrow fitted\">&nbsp;StandardScaler<a class=\"sk-estimator-doc-link fitted\" rel=\"noreferrer\" target=\"_blank\" href=\"https://scikit-learn.org/1.5/modules/generated/sklearn.preprocessing.StandardScaler.html\">?<span>Documentation for StandardScaler</span></a></label><div class=\"sk-toggleable__content fitted\"><pre>StandardScaler()</pre></div> </div></div><div class=\"sk-item\"><div class=\"sk-estimator fitted sk-toggleable\"><input class=\"sk-toggleable__control sk-hidden--visually\" id=\"sk-estimator-id-18\" type=\"checkbox\" ><label for=\"sk-estimator-id-18\" class=\"sk-toggleable__label fitted sk-toggleable__label-arrow fitted\">&nbsp;PolynomialFeatures<a class=\"sk-estimator-doc-link fitted\" rel=\"noreferrer\" target=\"_blank\" href=\"https://scikit-learn.org/1.5/modules/generated/sklearn.preprocessing.PolynomialFeatures.html\">?<span>Documentation for PolynomialFeatures</span></a></label><div class=\"sk-toggleable__content fitted\"><pre>PolynomialFeatures()</pre></div> </div></div><div class=\"sk-item\"><div class=\"sk-estimator fitted sk-toggleable\"><input class=\"sk-toggleable__control sk-hidden--visually\" id=\"sk-estimator-id-19\" type=\"checkbox\" ><label for=\"sk-estimator-id-19\" class=\"sk-toggleable__label fitted sk-toggleable__label-arrow fitted\">&nbsp;Ridge<a class=\"sk-estimator-doc-link fitted\" rel=\"noreferrer\" target=\"_blank\" href=\"https://scikit-learn.org/1.5/modules/generated/sklearn.linear_model.Ridge.html\">?<span>Documentation for Ridge</span></a></label><div class=\"sk-toggleable__content fitted\"><pre>Ridge(alpha=0.05)</pre></div> </div></div></div></div></div></div>"
            ],
            "text/plain": [
              "Pipeline(steps=[('scaler', StandardScaler()),\n",
              "                ('poly_features', PolynomialFeatures()),\n",
              "                ('regressor', Ridge(alpha=0.05))])"
            ]
          },
          "execution_count": 89,
          "metadata": {},
          "output_type": "execute_result"
        }
      ],
      "source": [
        "# Primero instanciamos el modelo\n",
        "mejor_ridge_val = ridge(mejor_grado_val, mejor_lambda_val)\n",
        "\n",
        "# Luego entrenamos\n",
        "mejor_ridge_val.fit(x_train, e_train)"
      ]
    },
    {
      "cell_type": "markdown",
      "metadata": {
        "id": "rND3rWeeZ7_w"
      },
      "source": [
        "Y evaluamos el MSE en el conjunto de testeo"
      ]
    },
    {
      "cell_type": "code",
      "execution_count": null,
      "metadata": {
        "id": "s8c3YqNIZ-OK"
      },
      "outputs": [],
      "source": [
        "y_test = mejor_ridge_val.predict(x_test)\n",
        "print('Error de TEST final: {:.2f}'.format(mean_squared_error(e_test, y_test)))#corregido antes decía y_test por eso daba cero"
      ]
    },
    {
      "cell_type": "markdown",
      "metadata": {
        "id": "hn722hEPaB7h"
      },
      "source": [
        "Después de haber encontrado los _mejores_ hiperparámetros, se puede hacer un modelo final entrenando con toda la data."
      ]
    },
    {
      "cell_type": "code",
      "execution_count": null,
      "metadata": {
        "id": "2Syr3J3KaBKW"
      },
      "outputs": [],
      "source": [
        "mejor_ridge_val = ridge(mejor_grado_val, mejor_lambda_val)\n",
        "mejor_ridge_val.fit(x_train_full, e_train_full)\n",
        "\n",
        "y_test = mejor_ridge_val.predict(x_test)\n",
        "MSE_mejor_val = mean_squared_error(e_test, y_test)\n",
        "\n",
        "print('Error de TEST final: {:.2f}'.format(MSE_mejor_val))"
      ]
    },
    {
      "cell_type": "markdown",
      "metadata": {
        "id": "6FepFSuUaHSZ"
      },
      "source": [
        "**Preguntas y ejercicios**\n",
        "\n",
        "* ¿Qué percances hay en este procedimiento?\n",
        "\n",
        "* ¿Cómo funcionaría mejor este método? ¿Con datasets grandes o chicos?\n",
        "\n",
        "* Otra posibilidad sería tomar los k-mejores hiperparámetros, ya que hay varios hiperparámetros cerca del mínimo. Pero lamentablemente no sabemos cuánto score podemos estar perdiendo hasta ahora al hacer esto.\n",
        "\n",
        "* Esto no nos sirve para identificar fluctuaciones aleatorias en la métrica. Es decir cuando ciertos hipérpametros tienen la suerte de ser mejores en validación pero no en el caso general. ¿Qué podemos hacer para estimar esto?"
      ]
    },
    {
      "cell_type": "markdown",
      "metadata": {
        "id": "7X-G5Y1daKFy"
      },
      "source": [
        "## Validación cruzada con K-Folding\n",
        "Para resolver el problema anterior usamos _Validación Cruzada_. Consiste en entrenar sobre distintos cortes de entrenamiento y validación. De esta manera conseguimos una muestra de la distribución de performance de los hiperparámetros de distintos datasets. Entonces, podemos computar la varianza y la media de la performance, y elegir así el mejor hiperparámetro\n",
        "\n",
        "¡Importante! La validación cruzada debe cumplir:\n",
        "* Cada modelo debe ser entrenado en un corte particular de entrenamiento/validación (Lo llamaremos un _Fold_), para que sean lo más independiente posibles.\n",
        "* Los datasets de validación deben tener intersección nula. Es decir no tener datos en común. De esta forma evitamos la posibilidad de tener correlaciones espurias entre las métricas y sobreajustar a un conjunto particular de puntos."
      ]
    },
    {
      "cell_type": "markdown",
      "metadata": {
        "id": "m42CSjM2aP1T"
      },
      "source": [
        "La forma más utilizada de hacer esto es _K-Fold Cross-Validation_, o validación cruzada con k cortes. Consiste en dividir el conjunto de desarrollo en K conjuntos e iterativamente usar K-1 para entrenar y el restante para validar. Luego de haber iterado sobre todos los cortes tendremos k mediciones distintas de la performance. Al elegir conjuntos con intersección nula (sin elementos en común) nos aseguramos que cada medición está descorrelacionada.\n",
        "\n",
        "\n",
        "<img src=\"data:image/png;base64,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\"\n",
        "width=500/>"
      ]
    },
    {
      "cell_type": "markdown",
      "metadata": {
        "id": "dO1B8WsOaVDk"
      },
      "source": [
        "Esta técnica ya está implementada en `sklearn`. Definimos el número de Folds (cortes)  $K$ con el argumento `cv=`, y el score a usar con  `scoring=`.\n",
        "\n",
        "**NOTA:**  mientras que *error* es un valor para el cual  *menos es mejor* el *score* tiene el comportamiento opuesto: *cuanto más, mejor*. Por esto definimos `neg_mean_squared_error` que corresponde al valor negativo del error."
      ]
    },
    {
      "cell_type": "markdown",
      "metadata": {
        "id": "dxLxqHjbaY7y"
      },
      "source": [
        "**Pensemos:**\n",
        "* Revisemos mejor `cross_val_score` .\n",
        "* ¿Cuál es la forma de los `scores`?\n",
        "* ¿Cómo estimamos el MSE a partir de los `scores`?\n",
        "* Compare  con los resultados anteriores de validación y test. Además, observe los valores individuales se `scores`. ¿Qué ve?\n",
        "\n",
        "* Pista: ¿Qué dataset hay que pasar a `cross_val_score`. (`x,e`)`_train`? o (`x,e`)`_train_full`?"
      ]
    },
    {
      "cell_type": "code",
      "execution_count": null,
      "metadata": {
        "id": "J1Lgn3k1adEK",
        "outputId": "48f40850-1c04-4b35-aa00-a349477b74fc"
      },
      "outputs": [
        {
          "data": {
            "text/plain": [
              "\u001b[1;31mSignature:\u001b[0m\n",
              "\u001b[0mcross_val_score\u001b[0m\u001b[1;33m(\u001b[0m\u001b[1;33m\n",
              "\u001b[0m    \u001b[0mestimator\u001b[0m\u001b[1;33m,\u001b[0m\u001b[1;33m\n",
              "\u001b[0m    \u001b[0mX\u001b[0m\u001b[1;33m,\u001b[0m\u001b[1;33m\n",
              "\u001b[0m    \u001b[0my\u001b[0m\u001b[1;33m=\u001b[0m\u001b[1;32mNone\u001b[0m\u001b[1;33m,\u001b[0m\u001b[1;33m\n",
              "\u001b[0m    \u001b[1;33m*\u001b[0m\u001b[1;33m,\u001b[0m\u001b[1;33m\n",
              "\u001b[0m    \u001b[0mgroups\u001b[0m\u001b[1;33m=\u001b[0m\u001b[1;32mNone\u001b[0m\u001b[1;33m,\u001b[0m\u001b[1;33m\n",
              "\u001b[0m    \u001b[0mscoring\u001b[0m\u001b[1;33m=\u001b[0m\u001b[1;32mNone\u001b[0m\u001b[1;33m,\u001b[0m\u001b[1;33m\n",
              "\u001b[0m    \u001b[0mcv\u001b[0m\u001b[1;33m=\u001b[0m\u001b[1;32mNone\u001b[0m\u001b[1;33m,\u001b[0m\u001b[1;33m\n",
              "\u001b[0m    \u001b[0mn_jobs\u001b[0m\u001b[1;33m=\u001b[0m\u001b[1;32mNone\u001b[0m\u001b[1;33m,\u001b[0m\u001b[1;33m\n",
              "\u001b[0m    \u001b[0mverbose\u001b[0m\u001b[1;33m=\u001b[0m\u001b[1;36m0\u001b[0m\u001b[1;33m,\u001b[0m\u001b[1;33m\n",
              "\u001b[0m    \u001b[0mfit_params\u001b[0m\u001b[1;33m=\u001b[0m\u001b[1;32mNone\u001b[0m\u001b[1;33m,\u001b[0m\u001b[1;33m\n",
              "\u001b[0m    \u001b[0mparams\u001b[0m\u001b[1;33m=\u001b[0m\u001b[1;32mNone\u001b[0m\u001b[1;33m,\u001b[0m\u001b[1;33m\n",
              "\u001b[0m    \u001b[0mpre_dispatch\u001b[0m\u001b[1;33m=\u001b[0m\u001b[1;34m'2*n_jobs'\u001b[0m\u001b[1;33m,\u001b[0m\u001b[1;33m\n",
              "\u001b[0m    \u001b[0merror_score\u001b[0m\u001b[1;33m=\u001b[0m\u001b[0mnan\u001b[0m\u001b[1;33m,\u001b[0m\u001b[1;33m\n",
              "\u001b[0m\u001b[1;33m)\u001b[0m\u001b[1;33m\u001b[0m\u001b[1;33m\u001b[0m\u001b[0m\n",
              "\u001b[1;31mDocstring:\u001b[0m\n",
              "Evaluate a score by cross-validation.\n",
              "\n",
              "Read more in the :ref:`User Guide <cross_validation>`.\n",
              "\n",
              "Parameters\n",
              "----------\n",
              "estimator : estimator object implementing 'fit'\n",
              "    The object to use to fit the data.\n",
              "\n",
              "X : {array-like, sparse matrix} of shape (n_samples, n_features)\n",
              "    The data to fit. Can be for example a list, or an array.\n",
              "\n",
              "y : array-like of shape (n_samples,) or (n_samples, n_outputs),             default=None\n",
              "    The target variable to try to predict in the case of\n",
              "    supervised learning.\n",
              "\n",
              "groups : array-like of shape (n_samples,), default=None\n",
              "    Group labels for the samples used while splitting the dataset into\n",
              "    train/test set. Only used in conjunction with a \"Group\" :term:`cv`\n",
              "    instance (e.g., :class:`GroupKFold`).\n",
              "\n",
              "    .. versionchanged:: 1.4\n",
              "        ``groups`` can only be passed if metadata routing is not enabled\n",
              "        via ``sklearn.set_config(enable_metadata_routing=True)``. When routing\n",
              "        is enabled, pass ``groups`` alongside other metadata via the ``params``\n",
              "        argument instead. E.g.:\n",
              "        ``cross_val_score(..., params={'groups': groups})``.\n",
              "\n",
              "scoring : str or callable, default=None\n",
              "    A str (see model evaluation documentation) or\n",
              "    a scorer callable object / function with signature\n",
              "    ``scorer(estimator, X, y)`` which should return only\n",
              "    a single value.\n",
              "\n",
              "    Similar to :func:`cross_validate`\n",
              "    but only a single metric is permitted.\n",
              "\n",
              "    If `None`, the estimator's default scorer (if available) is used.\n",
              "\n",
              "cv : int, cross-validation generator or an iterable, default=None\n",
              "    Determines the cross-validation splitting strategy.\n",
              "    Possible inputs for cv are:\n",
              "\n",
              "    - `None`, to use the default 5-fold cross validation,\n",
              "    - int, to specify the number of folds in a `(Stratified)KFold`,\n",
              "    - :term:`CV splitter`,\n",
              "    - An iterable that generates (train, test) splits as arrays of indices.\n",
              "\n",
              "    For `int`/`None` inputs, if the estimator is a classifier and `y` is\n",
              "    either binary or multiclass, :class:`StratifiedKFold` is used. In all\n",
              "    other cases, :class:`KFold` is used. These splitters are instantiated\n",
              "    with `shuffle=False` so the splits will be the same across calls.\n",
              "\n",
              "    Refer :ref:`User Guide <cross_validation>` for the various\n",
              "    cross-validation strategies that can be used here.\n",
              "\n",
              "    .. versionchanged:: 0.22\n",
              "        `cv` default value if `None` changed from 3-fold to 5-fold.\n",
              "\n",
              "n_jobs : int, default=None\n",
              "    Number of jobs to run in parallel. Training the estimator and computing\n",
              "    the score are parallelized over the cross-validation splits.\n",
              "    ``None`` means 1 unless in a :obj:`joblib.parallel_backend` context.\n",
              "    ``-1`` means using all processors. See :term:`Glossary <n_jobs>`\n",
              "    for more details.\n",
              "\n",
              "verbose : int, default=0\n",
              "    The verbosity level.\n",
              "\n",
              "fit_params : dict, default=None\n",
              "    Parameters to pass to the fit method of the estimator.\n",
              "\n",
              "    .. deprecated:: 1.4\n",
              "        This parameter is deprecated and will be removed in version 1.6. Use\n",
              "        ``params`` instead.\n",
              "\n",
              "params : dict, default=None\n",
              "    Parameters to pass to the underlying estimator's ``fit``, the scorer,\n",
              "    and the CV splitter.\n",
              "\n",
              "    .. versionadded:: 1.4\n",
              "\n",
              "pre_dispatch : int or str, default='2*n_jobs'\n",
              "    Controls the number of jobs that get dispatched during parallel\n",
              "    execution. Reducing this number can be useful to avoid an\n",
              "    explosion of memory consumption when more jobs get dispatched\n",
              "    than CPUs can process. This parameter can be:\n",
              "\n",
              "        - ``None``, in which case all the jobs are immediately\n",
              "          created and spawned. Use this for lightweight and\n",
              "          fast-running jobs, to avoid delays due to on-demand\n",
              "          spawning of the jobs\n",
              "\n",
              "        - An int, giving the exact number of total jobs that are\n",
              "          spawned\n",
              "\n",
              "        - A str, giving an expression as a function of n_jobs,\n",
              "          as in '2*n_jobs'\n",
              "\n",
              "error_score : 'raise' or numeric, default=np.nan\n",
              "    Value to assign to the score if an error occurs in estimator fitting.\n",
              "    If set to 'raise', the error is raised.\n",
              "    If a numeric value is given, FitFailedWarning is raised.\n",
              "\n",
              "    .. versionadded:: 0.20\n",
              "\n",
              "Returns\n",
              "-------\n",
              "scores : ndarray of float of shape=(len(list(cv)),)\n",
              "    Array of scores of the estimator for each run of the cross validation.\n",
              "\n",
              "See Also\n",
              "--------\n",
              "cross_validate : To run cross-validation on multiple metrics and also to\n",
              "    return train scores, fit times and score times.\n",
              "\n",
              "cross_val_predict : Get predictions from each split of cross-validation for\n",
              "    diagnostic purposes.\n",
              "\n",
              "sklearn.metrics.make_scorer : Make a scorer from a performance metric or\n",
              "    loss function.\n",
              "\n",
              "Examples\n",
              "--------\n",
              ">>> from sklearn import datasets, linear_model\n",
              ">>> from sklearn.model_selection import cross_val_score\n",
              ">>> diabetes = datasets.load_diabetes()\n",
              ">>> X = diabetes.data[:150]\n",
              ">>> y = diabetes.target[:150]\n",
              ">>> lasso = linear_model.Lasso()\n",
              ">>> print(cross_val_score(lasso, X, y, cv=3))\n",
              "[0.3315057  0.08022103 0.03531816]\n",
              "\u001b[1;31mFile:\u001b[0m      c:\\users\\user\\.conda\\envs\\virenv\\lib\\site-packages\\sklearn\\model_selection\\_validation.py\n",
              "\u001b[1;31mType:\u001b[0m      function"
            ]
          },
          "metadata": {},
          "output_type": "display_data"
        }
      ],
      "source": [
        "from sklearn.model_selection import cross_val_score\n",
        "cross_val_score?"
      ]
    },
    {
      "cell_type": "code",
      "execution_count": null,
      "metadata": {
        "id": "SePsMmpKaiWD"
      },
      "outputs": [],
      "source": [
        "model = ridge(mejor_grado_val, mejor_lambda_val)\n",
        "\n",
        "scores = cross_val_score(model, x_train_full, e_train_full, cv=5, scoring='neg_mean_squared_error')\n",
        "-scores"
      ]
    },
    {
      "cell_type": "code",
      "execution_count": null,
      "metadata": {
        "id": "J28GSGPTamNZ"
      },
      "outputs": [],
      "source": [
        "print(-scores.mean())\n",
        "print(scores.std())"
      ]
    },
    {
      "cell_type": "markdown",
      "metadata": {
        "id": "vywra3TcarKW"
      },
      "source": [
        "Veamos ahora qué ocurre cuando hacemos una búsqueda en todo el espacio."
      ]
    },
    {
      "cell_type": "code",
      "execution_count": null,
      "metadata": {
        "id": "qHUTkToraryS"
      },
      "outputs": [],
      "source": [
        "# El espacio de búsqueda de lambdas tiene forma logarítmica\n",
        "lambdas = [0.1, 1, 10, 100, 1000]\n",
        "\n",
        "# Espacio de búsqueda de grados va de 1 a 6.\n",
        "grados = [1, 2, 3, 4, 5, 6]\n",
        "\n",
        "cv_errors = []\n",
        "cv_std = []\n",
        "\n",
        "for ll in lambdas:\n",
        "    for m in grados:\n",
        "        # Crea el modelo\n",
        "\n",
        "        rr = ridge(m, ll)\n",
        "\n",
        "        scores = cross_val_score(rr, x_train_full, e_train_full, cv=5, scoring='neg_mean_squared_error')\n",
        "\n",
        "        cv_errors.append(-scores.mean())\n",
        "        cv_std.append(scores.std())\n",
        "\n",
        "cv_errors = np.array(cv_errors).reshape((len(lambdas), len(grados)))\n",
        "cv_std = np.array(cv_std).reshape((len(lambdas), len(grados)))"
      ]
    },
    {
      "cell_type": "code",
      "execution_count": null,
      "metadata": {
        "id": "0s_RYzVbbGZ0"
      },
      "outputs": [],
      "source": [
        "# Valores de los ejes\n",
        "Xp, Yp = np.meshgrid(grados, lambdas)\n",
        "errores_cv_milusd = np.sqrt(cv_errors)/1000 # Expreso el errores en miles de usd\n",
        "Zp = errores_cv_milusd\n",
        "\n",
        "fig = plt.figure(figsize=(12, 6))\n",
        "ax = fig.add_subplot(111)\n",
        "# Grafico\n",
        "pcol = plt.pcolor(Xp, Yp, Zp, cmap='jet')\n",
        "\n",
        "# Usamos escala logarítmica para lambda\n",
        "ax.set_yscale('log')\n",
        "ax.set_ylim(0.05,1500)\n",
        "\n",
        "# Define las marcas del eje x en números enteros\n",
        "ax.xaxis.set_major_locator(plt.MultipleLocator(2))\n",
        "ax.xaxis.set_minor_locator(plt.MultipleLocator(1))\n",
        "\n",
        "# Barra de colores y rótulos\n",
        "plt.colorbar(pcol, label='sqrt(MSE)/1000 en el conjunto de prueba')\n",
        "ax.set_xlabel('Grados ($M$)', fontsize=18)\n",
        "ax.set_ylabel('Regularizador ($\\lambda$)', fontsize=18)"
      ]
    },
    {
      "cell_type": "code",
      "execution_count": null,
      "metadata": {
        "colab": {
          "base_uri": "https://localhost:8080/"
        },
        "id": "nrdOMn0qbHho",
        "outputId": "60e439f0-f7cf-4676-f3fa-49fa1d53a647"
      },
      "outputs": [
        {
          "name": "stdout",
          "output_type": "stream",
          "text": [
            "Grado (M) = 1\n",
            "Lambda = 1.00e+00\n",
            "MSE = 8969402902.15\n",
            "Std(MSE) = 3523369239.41\n"
          ]
        }
      ],
      "source": [
        "position = np.argmin(cv_errors)\n",
        "\n",
        "mejor_grado_cv = grados[position%len(grados)]\n",
        "mejor_lambda_cv = lambdas[position//len(lambdas)]\n",
        "MES_cv = cv_errors.flatten()[position]\n",
        "\n",
        "print(\"Grado (M) = {}\".format(mejor_grado_cv))\n",
        "print(\"Lambda = {:.2e}\".format(mejor_lambda_cv))\n",
        "print(\"MSE = {:.2f}\".format(MES_cv))\n",
        "print(\"Std(MSE) = {:.2f}\".format(cv_std.flatten()[position]))"
      ]
    },
    {
      "cell_type": "code",
      "execution_count": null,
      "metadata": {
        "colab": {
          "base_uri": "https://localhost:8080/"
        },
        "id": "PsyZBNcIbJv7",
        "outputId": "f27ce7b7-7dfd-4361-a248-88eac9f7b8b2"
      },
      "outputs": [
        {
          "name": "stdout",
          "output_type": "stream",
          "text": [
            "Error final TEST: 4111643669.71\n"
          ]
        }
      ],
      "source": [
        "mejor_ridge_cv = ridge(mejor_grado_cv, mejor_lambda_cv)\n",
        "mejor_ridge_cv.fit(x_train_full, e_train_full)\n",
        "\n",
        "y_test = mejor_ridge_cv.predict(x_test)\n",
        "MSE_mejor_cv = mean_squared_error(y_test, e_test)\n",
        "print('Error final TEST: {:.2f}'.format(MSE_mejor_cv))"
      ]
    },
    {
      "cell_type": "markdown",
      "metadata": {
        "id": "xJBSoguzbONb"
      },
      "source": [
        "# Exploración automática del espacio de búsqueda\n",
        "Elegir los mejores hiperparámetros es una etapa corriente en el desarrollo de un modelo. En general para esto se usan modelos de \"caja-negra\" pero existen meta-modelos que también se pueden usar aunque implican cierto trabajo de adaptación a cada modelo. Las formas básicas de hacer esto usando sklearn son:\n",
        "* `GridSearchCV`: El espacio de búsqueda se define con un diccionario de {hiper-parametro : valores}. Automáticamente genera una grilla con esos valores y pasa por todas las combinaciones.\n",
        "* `RandomizedSearchCV:` Esta función recibe los mismos inputs que el caso anterior. Pero selecciona que combinaciones probar de manera aleatoria. No barre una por una. Tiene un parámetro `n_iter` que debemos fijar para que el modelo sepa cuándo debe dejar de probar puntos.\n",
        "\n",
        "Veamos:\n",
        "\n",
        "**Nota:** para acceder a los parámetros de cada paso o  _step_ en un pipeline, pueden acceder de la manera siguiente: `NombreDelPaso__NombreDelParametro` ( notar el doble `_` entre nombres). Si queremos ver el grado de PolynomialFeatures en el paso `poly_features`, debe escribir `poly_features__degree` en el diccionario de configuración.\n"
      ]
    },
    {
      "cell_type": "markdown",
      "metadata": {
        "id": "OMl9x9a9bV0m"
      },
      "source": [
        "## GridSearchCV"
      ]
    },
    {
      "cell_type": "code",
      "execution_count": null,
      "metadata": {
        "id": "dGHGQsxhbMOB"
      },
      "outputs": [],
      "source": [
        "from sklearn.model_selection import GridSearchCV\n",
        "\n",
        "from sklearn.pipeline import Pipeline\n",
        "from sklearn.preprocessing import PolynomialFeatures,StandardScaler\n",
        "from sklearn.linear_model import LinearRegression, Ridge\n",
        "\n",
        "model = Pipeline([('scaler', StandardScaler()),\n",
        "    ('polynomial', PolynomialFeatures()),\n",
        "    ('regressor', Ridge(fit_intercept=False) )\n",
        "])\n",
        "\n",
        "# Definimos los parámetros para cada parte del pipeline. Separamos parámetro de nombre con  ‘__’:\n",
        "parameters = {'polynomial__degree' : range(1, 10),\n",
        "              'regressor__alpha': np.logspace(-2, 4, 100)}\n",
        "\n",
        "grid_search = GridSearchCV(model, parameters, scoring='neg_mean_squared_error', cv=5, n_jobs=-1)"
      ]
    },
    {
      "cell_type": "markdown",
      "metadata": {
        "id": "i1KKsdiDbZFO"
      },
      "source": [
        "Ahora corremos `fit` para saber cuáles son los mejore hiperparámetros."
      ]
    },
    {
      "cell_type": "code",
      "execution_count": null,
      "metadata": {
        "colab": {
          "base_uri": "https://localhost:8080/",
          "height": 248
        },
        "id": "LhMgTyLhbbb4",
        "outputId": "83a68c10-1968-451d-ff9d-855ef6a68555"
      },
      "outputs": [
        {
          "data": {
            "text/html": [
              "<style>#sk-container-id-8 {\n",
              "  /* Definition of color scheme common for light and dark mode */\n",
              "  --sklearn-color-text: black;\n",
              "  --sklearn-color-line: gray;\n",
              "  /* Definition of color scheme for unfitted estimators */\n",
              "  --sklearn-color-unfitted-level-0: #fff5e6;\n",
              "  --sklearn-color-unfitted-level-1: #f6e4d2;\n",
              "  --sklearn-color-unfitted-level-2: #ffe0b3;\n",
              "  --sklearn-color-unfitted-level-3: chocolate;\n",
              "  /* Definition of color scheme for fitted estimators */\n",
              "  --sklearn-color-fitted-level-0: #f0f8ff;\n",
              "  --sklearn-color-fitted-level-1: #d4ebff;\n",
              "  --sklearn-color-fitted-level-2: #b3dbfd;\n",
              "  --sklearn-color-fitted-level-3: cornflowerblue;\n",
              "\n",
              "  /* Specific color for light theme */\n",
              "  --sklearn-color-text-on-default-background: var(--sg-text-color, var(--theme-code-foreground, var(--jp-content-font-color1, black)));\n",
              "  --sklearn-color-background: var(--sg-background-color, var(--theme-background, var(--jp-layout-color0, white)));\n",
              "  --sklearn-color-border-box: var(--sg-text-color, var(--theme-code-foreground, var(--jp-content-font-color1, black)));\n",
              "  --sklearn-color-icon: #696969;\n",
              "\n",
              "  @media (prefers-color-scheme: dark) {\n",
              "    /* Redefinition of color scheme for dark theme */\n",
              "    --sklearn-color-text-on-default-background: var(--sg-text-color, var(--theme-code-foreground, var(--jp-content-font-color1, white)));\n",
              "    --sklearn-color-background: var(--sg-background-color, var(--theme-background, var(--jp-layout-color0, #111)));\n",
              "    --sklearn-color-border-box: var(--sg-text-color, var(--theme-code-foreground, var(--jp-content-font-color1, white)));\n",
              "    --sklearn-color-icon: #878787;\n",
              "  }\n",
              "}\n",
              "\n",
              "#sk-container-id-8 {\n",
              "  color: var(--sklearn-color-text);\n",
              "}\n",
              "\n",
              "#sk-container-id-8 pre {\n",
              "  padding: 0;\n",
              "}\n",
              "\n",
              "#sk-container-id-8 input.sk-hidden--visually {\n",
              "  border: 0;\n",
              "  clip: rect(1px 1px 1px 1px);\n",
              "  clip: rect(1px, 1px, 1px, 1px);\n",
              "  height: 1px;\n",
              "  margin: -1px;\n",
              "  overflow: hidden;\n",
              "  padding: 0;\n",
              "  position: absolute;\n",
              "  width: 1px;\n",
              "}\n",
              "\n",
              "#sk-container-id-8 div.sk-dashed-wrapped {\n",
              "  border: 1px dashed var(--sklearn-color-line);\n",
              "  margin: 0 0.4em 0.5em 0.4em;\n",
              "  box-sizing: border-box;\n",
              "  padding-bottom: 0.4em;\n",
              "  background-color: var(--sklearn-color-background);\n",
              "}\n",
              "\n",
              "#sk-container-id-8 div.sk-container {\n",
              "  /* jupyter's `normalize.less` sets `[hidden] { display: none; }`\n",
              "     but bootstrap.min.css set `[hidden] { display: none !important; }`\n",
              "     so we also need the `!important` here to be able to override the\n",
              "     default hidden behavior on the sphinx rendered scikit-learn.org.\n",
              "     See: https://github.com/scikit-learn/scikit-learn/issues/21755 */\n",
              "  display: inline-block !important;\n",
              "  position: relative;\n",
              "}\n",
              "\n",
              "#sk-container-id-8 div.sk-text-repr-fallback {\n",
              "  display: none;\n",
              "}\n",
              "\n",
              "div.sk-parallel-item,\n",
              "div.sk-serial,\n",
              "div.sk-item {\n",
              "  /* draw centered vertical line to link estimators */\n",
              "  background-image: linear-gradient(var(--sklearn-color-text-on-default-background), var(--sklearn-color-text-on-default-background));\n",
              "  background-size: 2px 100%;\n",
              "  background-repeat: no-repeat;\n",
              "  background-position: center center;\n",
              "}\n",
              "\n",
              "/* Parallel-specific style estimator block */\n",
              "\n",
              "#sk-container-id-8 div.sk-parallel-item::after {\n",
              "  content: \"\";\n",
              "  width: 100%;\n",
              "  border-bottom: 2px solid var(--sklearn-color-text-on-default-background);\n",
              "  flex-grow: 1;\n",
              "}\n",
              "\n",
              "#sk-container-id-8 div.sk-parallel {\n",
              "  display: flex;\n",
              "  align-items: stretch;\n",
              "  justify-content: center;\n",
              "  background-color: var(--sklearn-color-background);\n",
              "  position: relative;\n",
              "}\n",
              "\n",
              "#sk-container-id-8 div.sk-parallel-item {\n",
              "  display: flex;\n",
              "  flex-direction: column;\n",
              "}\n",
              "\n",
              "#sk-container-id-8 div.sk-parallel-item:first-child::after {\n",
              "  align-self: flex-end;\n",
              "  width: 50%;\n",
              "}\n",
              "\n",
              "#sk-container-id-8 div.sk-parallel-item:last-child::after {\n",
              "  align-self: flex-start;\n",
              "  width: 50%;\n",
              "}\n",
              "\n",
              "#sk-container-id-8 div.sk-parallel-item:only-child::after {\n",
              "  width: 0;\n",
              "}\n",
              "\n",
              "/* Serial-specific style estimator block */\n",
              "\n",
              "#sk-container-id-8 div.sk-serial {\n",
              "  display: flex;\n",
              "  flex-direction: column;\n",
              "  align-items: center;\n",
              "  background-color: var(--sklearn-color-background);\n",
              "  padding-right: 1em;\n",
              "  padding-left: 1em;\n",
              "}\n",
              "\n",
              "\n",
              "/* Toggleable style: style used for estimator/Pipeline/ColumnTransformer box that is\n",
              "clickable and can be expanded/collapsed.\n",
              "- Pipeline and ColumnTransformer use this feature and define the default style\n",
              "- Estimators will overwrite some part of the style using the `sk-estimator` class\n",
              "*/\n",
              "\n",
              "/* Pipeline and ColumnTransformer style (default) */\n",
              "\n",
              "#sk-container-id-8 div.sk-toggleable {\n",
              "  /* Default theme specific background. It is overwritten whether we have a\n",
              "  specific estimator or a Pipeline/ColumnTransformer */\n",
              "  background-color: var(--sklearn-color-background);\n",
              "}\n",
              "\n",
              "/* Toggleable label */\n",
              "#sk-container-id-8 label.sk-toggleable__label {\n",
              "  cursor: pointer;\n",
              "  display: block;\n",
              "  width: 100%;\n",
              "  margin-bottom: 0;\n",
              "  padding: 0.5em;\n",
              "  box-sizing: border-box;\n",
              "  text-align: center;\n",
              "}\n",
              "\n",
              "#sk-container-id-8 label.sk-toggleable__label-arrow:before {\n",
              "  /* Arrow on the left of the label */\n",
              "  content: \"▸\";\n",
              "  float: left;\n",
              "  margin-right: 0.25em;\n",
              "  color: var(--sklearn-color-icon);\n",
              "}\n",
              "\n",
              "#sk-container-id-8 label.sk-toggleable__label-arrow:hover:before {\n",
              "  color: var(--sklearn-color-text);\n",
              "}\n",
              "\n",
              "/* Toggleable content - dropdown */\n",
              "\n",
              "#sk-container-id-8 div.sk-toggleable__content {\n",
              "  max-height: 0;\n",
              "  max-width: 0;\n",
              "  overflow: hidden;\n",
              "  text-align: left;\n",
              "  /* unfitted */\n",
              "  background-color: var(--sklearn-color-unfitted-level-0);\n",
              "}\n",
              "\n",
              "#sk-container-id-8 div.sk-toggleable__content.fitted {\n",
              "  /* fitted */\n",
              "  background-color: var(--sklearn-color-fitted-level-0);\n",
              "}\n",
              "\n",
              "#sk-container-id-8 div.sk-toggleable__content pre {\n",
              "  margin: 0.2em;\n",
              "  border-radius: 0.25em;\n",
              "  color: var(--sklearn-color-text);\n",
              "  /* unfitted */\n",
              "  background-color: var(--sklearn-color-unfitted-level-0);\n",
              "}\n",
              "\n",
              "#sk-container-id-8 div.sk-toggleable__content.fitted pre {\n",
              "  /* unfitted */\n",
              "  background-color: var(--sklearn-color-fitted-level-0);\n",
              "}\n",
              "\n",
              "#sk-container-id-8 input.sk-toggleable__control:checked~div.sk-toggleable__content {\n",
              "  /* Expand drop-down */\n",
              "  max-height: 200px;\n",
              "  max-width: 100%;\n",
              "  overflow: auto;\n",
              "}\n",
              "\n",
              "#sk-container-id-8 input.sk-toggleable__control:checked~label.sk-toggleable__label-arrow:before {\n",
              "  content: \"▾\";\n",
              "}\n",
              "\n",
              "/* Pipeline/ColumnTransformer-specific style */\n",
              "\n",
              "#sk-container-id-8 div.sk-label input.sk-toggleable__control:checked~label.sk-toggleable__label {\n",
              "  color: var(--sklearn-color-text);\n",
              "  background-color: var(--sklearn-color-unfitted-level-2);\n",
              "}\n",
              "\n",
              "#sk-container-id-8 div.sk-label.fitted input.sk-toggleable__control:checked~label.sk-toggleable__label {\n",
              "  background-color: var(--sklearn-color-fitted-level-2);\n",
              "}\n",
              "\n",
              "/* Estimator-specific style */\n",
              "\n",
              "/* Colorize estimator box */\n",
              "#sk-container-id-8 div.sk-estimator input.sk-toggleable__control:checked~label.sk-toggleable__label {\n",
              "  /* unfitted */\n",
              "  background-color: var(--sklearn-color-unfitted-level-2);\n",
              "}\n",
              "\n",
              "#sk-container-id-8 div.sk-estimator.fitted input.sk-toggleable__control:checked~label.sk-toggleable__label {\n",
              "  /* fitted */\n",
              "  background-color: var(--sklearn-color-fitted-level-2);\n",
              "}\n",
              "\n",
              "#sk-container-id-8 div.sk-label label.sk-toggleable__label,\n",
              "#sk-container-id-8 div.sk-label label {\n",
              "  /* The background is the default theme color */\n",
              "  color: var(--sklearn-color-text-on-default-background);\n",
              "}\n",
              "\n",
              "/* On hover, darken the color of the background */\n",
              "#sk-container-id-8 div.sk-label:hover label.sk-toggleable__label {\n",
              "  color: var(--sklearn-color-text);\n",
              "  background-color: var(--sklearn-color-unfitted-level-2);\n",
              "}\n",
              "\n",
              "/* Label box, darken color on hover, fitted */\n",
              "#sk-container-id-8 div.sk-label.fitted:hover label.sk-toggleable__label.fitted {\n",
              "  color: var(--sklearn-color-text);\n",
              "  background-color: var(--sklearn-color-fitted-level-2);\n",
              "}\n",
              "\n",
              "/* Estimator label */\n",
              "\n",
              "#sk-container-id-8 div.sk-label label {\n",
              "  font-family: monospace;\n",
              "  font-weight: bold;\n",
              "  display: inline-block;\n",
              "  line-height: 1.2em;\n",
              "}\n",
              "\n",
              "#sk-container-id-8 div.sk-label-container {\n",
              "  text-align: center;\n",
              "}\n",
              "\n",
              "/* Estimator-specific */\n",
              "#sk-container-id-8 div.sk-estimator {\n",
              "  font-family: monospace;\n",
              "  border: 1px dotted var(--sklearn-color-border-box);\n",
              "  border-radius: 0.25em;\n",
              "  box-sizing: border-box;\n",
              "  margin-bottom: 0.5em;\n",
              "  /* unfitted */\n",
              "  background-color: var(--sklearn-color-unfitted-level-0);\n",
              "}\n",
              "\n",
              "#sk-container-id-8 div.sk-estimator.fitted {\n",
              "  /* fitted */\n",
              "  background-color: var(--sklearn-color-fitted-level-0);\n",
              "}\n",
              "\n",
              "/* on hover */\n",
              "#sk-container-id-8 div.sk-estimator:hover {\n",
              "  /* unfitted */\n",
              "  background-color: var(--sklearn-color-unfitted-level-2);\n",
              "}\n",
              "\n",
              "#sk-container-id-8 div.sk-estimator.fitted:hover {\n",
              "  /* fitted */\n",
              "  background-color: var(--sklearn-color-fitted-level-2);\n",
              "}\n",
              "\n",
              "/* Specification for estimator info (e.g. \"i\" and \"?\") */\n",
              "\n",
              "/* Common style for \"i\" and \"?\" */\n",
              "\n",
              ".sk-estimator-doc-link,\n",
              "a:link.sk-estimator-doc-link,\n",
              "a:visited.sk-estimator-doc-link {\n",
              "  float: right;\n",
              "  font-size: smaller;\n",
              "  line-height: 1em;\n",
              "  font-family: monospace;\n",
              "  background-color: var(--sklearn-color-background);\n",
              "  border-radius: 1em;\n",
              "  height: 1em;\n",
              "  width: 1em;\n",
              "  text-decoration: none !important;\n",
              "  margin-left: 1ex;\n",
              "  /* unfitted */\n",
              "  border: var(--sklearn-color-unfitted-level-1) 1pt solid;\n",
              "  color: var(--sklearn-color-unfitted-level-1);\n",
              "}\n",
              "\n",
              ".sk-estimator-doc-link.fitted,\n",
              "a:link.sk-estimator-doc-link.fitted,\n",
              "a:visited.sk-estimator-doc-link.fitted {\n",
              "  /* fitted */\n",
              "  border: var(--sklearn-color-fitted-level-1) 1pt solid;\n",
              "  color: var(--sklearn-color-fitted-level-1);\n",
              "}\n",
              "\n",
              "/* On hover */\n",
              "div.sk-estimator:hover .sk-estimator-doc-link:hover,\n",
              ".sk-estimator-doc-link:hover,\n",
              "div.sk-label-container:hover .sk-estimator-doc-link:hover,\n",
              ".sk-estimator-doc-link:hover {\n",
              "  /* unfitted */\n",
              "  background-color: var(--sklearn-color-unfitted-level-3);\n",
              "  color: var(--sklearn-color-background);\n",
              "  text-decoration: none;\n",
              "}\n",
              "\n",
              "div.sk-estimator.fitted:hover .sk-estimator-doc-link.fitted:hover,\n",
              ".sk-estimator-doc-link.fitted:hover,\n",
              "div.sk-label-container:hover .sk-estimator-doc-link.fitted:hover,\n",
              ".sk-estimator-doc-link.fitted:hover {\n",
              "  /* fitted */\n",
              "  background-color: var(--sklearn-color-fitted-level-3);\n",
              "  color: var(--sklearn-color-background);\n",
              "  text-decoration: none;\n",
              "}\n",
              "\n",
              "/* Span, style for the box shown on hovering the info icon */\n",
              ".sk-estimator-doc-link span {\n",
              "  display: none;\n",
              "  z-index: 9999;\n",
              "  position: relative;\n",
              "  font-weight: normal;\n",
              "  right: .2ex;\n",
              "  padding: .5ex;\n",
              "  margin: .5ex;\n",
              "  width: min-content;\n",
              "  min-width: 20ex;\n",
              "  max-width: 50ex;\n",
              "  color: var(--sklearn-color-text);\n",
              "  box-shadow: 2pt 2pt 4pt #999;\n",
              "  /* unfitted */\n",
              "  background: var(--sklearn-color-unfitted-level-0);\n",
              "  border: .5pt solid var(--sklearn-color-unfitted-level-3);\n",
              "}\n",
              "\n",
              ".sk-estimator-doc-link.fitted span {\n",
              "  /* fitted */\n",
              "  background: var(--sklearn-color-fitted-level-0);\n",
              "  border: var(--sklearn-color-fitted-level-3);\n",
              "}\n",
              "\n",
              ".sk-estimator-doc-link:hover span {\n",
              "  display: block;\n",
              "}\n",
              "\n",
              "/* \"?\"-specific style due to the `<a>` HTML tag */\n",
              "\n",
              "#sk-container-id-8 a.estimator_doc_link {\n",
              "  float: right;\n",
              "  font-size: 1rem;\n",
              "  line-height: 1em;\n",
              "  font-family: monospace;\n",
              "  background-color: var(--sklearn-color-background);\n",
              "  border-radius: 1rem;\n",
              "  height: 1rem;\n",
              "  width: 1rem;\n",
              "  text-decoration: none;\n",
              "  /* unfitted */\n",
              "  color: var(--sklearn-color-unfitted-level-1);\n",
              "  border: var(--sklearn-color-unfitted-level-1) 1pt solid;\n",
              "}\n",
              "\n",
              "#sk-container-id-8 a.estimator_doc_link.fitted {\n",
              "  /* fitted */\n",
              "  border: var(--sklearn-color-fitted-level-1) 1pt solid;\n",
              "  color: var(--sklearn-color-fitted-level-1);\n",
              "}\n",
              "\n",
              "/* On hover */\n",
              "#sk-container-id-8 a.estimator_doc_link:hover {\n",
              "  /* unfitted */\n",
              "  background-color: var(--sklearn-color-unfitted-level-3);\n",
              "  color: var(--sklearn-color-background);\n",
              "  text-decoration: none;\n",
              "}\n",
              "\n",
              "#sk-container-id-8 a.estimator_doc_link.fitted:hover {\n",
              "  /* fitted */\n",
              "  background-color: var(--sklearn-color-fitted-level-3);\n",
              "}\n",
              "</style><div id=\"sk-container-id-8\" class=\"sk-top-container\"><div class=\"sk-text-repr-fallback\"><pre>GridSearchCV(cv=5,\n",
              "             estimator=Pipeline(steps=[(&#x27;scaler&#x27;, StandardScaler()),\n",
              "                                       (&#x27;polynomial&#x27;, PolynomialFeatures()),\n",
              "                                       (&#x27;regressor&#x27;,\n",
              "                                        Ridge(fit_intercept=False))]),\n",
              "             n_jobs=-1,\n",
              "             param_grid={&#x27;polynomial__degree&#x27;: range(1, 10),\n",
              "                         &#x27;regressor__alpha&#x27;: array([1.00000000e-02, 1.14975700e-02, 1.32194115e-02, 1.51991108e-02,\n",
              "       1.74752840e-02, 2.00923300e-02, 2.31012970e-02, 2.65608778e-0...\n",
              "       4.03701726e+02, 4.64158883e+02, 5.33669923e+02, 6.13590727e+02,\n",
              "       7.05480231e+02, 8.11130831e+02, 9.32603347e+02, 1.07226722e+03,\n",
              "       1.23284674e+03, 1.41747416e+03, 1.62975083e+03, 1.87381742e+03,\n",
              "       2.15443469e+03, 2.47707636e+03, 2.84803587e+03, 3.27454916e+03,\n",
              "       3.76493581e+03, 4.32876128e+03, 4.97702356e+03, 5.72236766e+03,\n",
              "       6.57933225e+03, 7.56463328e+03, 8.69749003e+03, 1.00000000e+04])},\n",
              "             scoring=&#x27;neg_mean_squared_error&#x27;)</pre><b>In a Jupyter environment, please rerun this cell to show the HTML representation or trust the notebook. <br />On GitHub, the HTML representation is unable to render, please try loading this page with nbviewer.org.</b></div><div class=\"sk-container\" hidden><div class=\"sk-item sk-dashed-wrapped\"><div class=\"sk-label-container\"><div class=\"sk-label fitted sk-toggleable\"><input class=\"sk-toggleable__control sk-hidden--visually\" id=\"sk-estimator-id-20\" type=\"checkbox\" ><label for=\"sk-estimator-id-20\" class=\"sk-toggleable__label fitted sk-toggleable__label-arrow fitted\">&nbsp;&nbsp;GridSearchCV<a class=\"sk-estimator-doc-link fitted\" rel=\"noreferrer\" target=\"_blank\" href=\"https://scikit-learn.org/1.5/modules/generated/sklearn.model_selection.GridSearchCV.html\">?<span>Documentation for GridSearchCV</span></a><span class=\"sk-estimator-doc-link fitted\">i<span>Fitted</span></span></label><div class=\"sk-toggleable__content fitted\"><pre>GridSearchCV(cv=5,\n",
              "             estimator=Pipeline(steps=[(&#x27;scaler&#x27;, StandardScaler()),\n",
              "                                       (&#x27;polynomial&#x27;, PolynomialFeatures()),\n",
              "                                       (&#x27;regressor&#x27;,\n",
              "                                        Ridge(fit_intercept=False))]),\n",
              "             n_jobs=-1,\n",
              "             param_grid={&#x27;polynomial__degree&#x27;: range(1, 10),\n",
              "                         &#x27;regressor__alpha&#x27;: array([1.00000000e-02, 1.14975700e-02, 1.32194115e-02, 1.51991108e-02,\n",
              "       1.74752840e-02, 2.00923300e-02, 2.31012970e-02, 2.65608778e-0...\n",
              "       4.03701726e+02, 4.64158883e+02, 5.33669923e+02, 6.13590727e+02,\n",
              "       7.05480231e+02, 8.11130831e+02, 9.32603347e+02, 1.07226722e+03,\n",
              "       1.23284674e+03, 1.41747416e+03, 1.62975083e+03, 1.87381742e+03,\n",
              "       2.15443469e+03, 2.47707636e+03, 2.84803587e+03, 3.27454916e+03,\n",
              "       3.76493581e+03, 4.32876128e+03, 4.97702356e+03, 5.72236766e+03,\n",
              "       6.57933225e+03, 7.56463328e+03, 8.69749003e+03, 1.00000000e+04])},\n",
              "             scoring=&#x27;neg_mean_squared_error&#x27;)</pre></div> </div></div><div class=\"sk-parallel\"><div class=\"sk-parallel-item\"><div class=\"sk-item\"><div class=\"sk-label-container\"><div class=\"sk-label fitted sk-toggleable\"><input class=\"sk-toggleable__control sk-hidden--visually\" id=\"sk-estimator-id-21\" type=\"checkbox\" ><label for=\"sk-estimator-id-21\" class=\"sk-toggleable__label fitted sk-toggleable__label-arrow fitted\">best_estimator_: Pipeline</label><div class=\"sk-toggleable__content fitted\"><pre>Pipeline(steps=[(&#x27;scaler&#x27;, StandardScaler()),\n",
              "                (&#x27;polynomial&#x27;, PolynomialFeatures(degree=1)),\n",
              "                (&#x27;regressor&#x27;,\n",
              "                 Ridge(alpha=0.6579332246575682, fit_intercept=False))])</pre></div> </div></div><div class=\"sk-serial\"><div class=\"sk-item\"><div class=\"sk-serial\"><div class=\"sk-item\"><div class=\"sk-estimator fitted sk-toggleable\"><input class=\"sk-toggleable__control sk-hidden--visually\" id=\"sk-estimator-id-22\" type=\"checkbox\" ><label for=\"sk-estimator-id-22\" class=\"sk-toggleable__label fitted sk-toggleable__label-arrow fitted\">&nbsp;StandardScaler<a class=\"sk-estimator-doc-link fitted\" rel=\"noreferrer\" target=\"_blank\" href=\"https://scikit-learn.org/1.5/modules/generated/sklearn.preprocessing.StandardScaler.html\">?<span>Documentation for StandardScaler</span></a></label><div class=\"sk-toggleable__content fitted\"><pre>StandardScaler()</pre></div> </div></div><div class=\"sk-item\"><div class=\"sk-estimator fitted sk-toggleable\"><input class=\"sk-toggleable__control sk-hidden--visually\" id=\"sk-estimator-id-23\" type=\"checkbox\" ><label for=\"sk-estimator-id-23\" class=\"sk-toggleable__label fitted sk-toggleable__label-arrow fitted\">&nbsp;PolynomialFeatures<a class=\"sk-estimator-doc-link fitted\" rel=\"noreferrer\" target=\"_blank\" href=\"https://scikit-learn.org/1.5/modules/generated/sklearn.preprocessing.PolynomialFeatures.html\">?<span>Documentation for PolynomialFeatures</span></a></label><div class=\"sk-toggleable__content fitted\"><pre>PolynomialFeatures(degree=1)</pre></div> </div></div><div class=\"sk-item\"><div class=\"sk-estimator fitted sk-toggleable\"><input class=\"sk-toggleable__control sk-hidden--visually\" id=\"sk-estimator-id-24\" type=\"checkbox\" ><label for=\"sk-estimator-id-24\" class=\"sk-toggleable__label fitted sk-toggleable__label-arrow fitted\">&nbsp;Ridge<a class=\"sk-estimator-doc-link fitted\" rel=\"noreferrer\" target=\"_blank\" href=\"https://scikit-learn.org/1.5/modules/generated/sklearn.linear_model.Ridge.html\">?<span>Documentation for Ridge</span></a></label><div class=\"sk-toggleable__content fitted\"><pre>Ridge(alpha=0.6579332246575682, fit_intercept=False)</pre></div> </div></div></div></div></div></div></div></div></div></div></div>"
            ],
            "text/plain": [
              "GridSearchCV(cv=5,\n",
              "             estimator=Pipeline(steps=[('scaler', StandardScaler()),\n",
              "                                       ('polynomial', PolynomialFeatures()),\n",
              "                                       ('regressor',\n",
              "                                        Ridge(fit_intercept=False))]),\n",
              "             n_jobs=-1,\n",
              "             param_grid={'polynomial__degree': range(1, 10),\n",
              "                         'regressor__alpha': array([1.00000000e-02, 1.14975700e-02, 1.32194115e-02, 1.51991108e-02,\n",
              "       1.74752840e-02, 2.00923300e-02, 2.31012970e-02, 2.65608778e-0...\n",
              "       4.03701726e+02, 4.64158883e+02, 5.33669923e+02, 6.13590727e+02,\n",
              "       7.05480231e+02, 8.11130831e+02, 9.32603347e+02, 1.07226722e+03,\n",
              "       1.23284674e+03, 1.41747416e+03, 1.62975083e+03, 1.87381742e+03,\n",
              "       2.15443469e+03, 2.47707636e+03, 2.84803587e+03, 3.27454916e+03,\n",
              "       3.76493581e+03, 4.32876128e+03, 4.97702356e+03, 5.72236766e+03,\n",
              "       6.57933225e+03, 7.56463328e+03, 8.69749003e+03, 1.00000000e+04])},\n",
              "             scoring='neg_mean_squared_error')"
            ]
          },
          "execution_count": 105,
          "metadata": {},
          "output_type": "execute_result"
        }
      ],
      "source": [
        "grid_search.fit(x_train_full, e_train_full)"
      ]
    },
    {
      "cell_type": "markdown",
      "metadata": {
        "id": "aszTXpnybuSH"
      },
      "source": [
        "Los mejores hiperparámetros son:"
      ]
    },
    {
      "cell_type": "code",
      "execution_count": null,
      "metadata": {
        "colab": {
          "base_uri": "https://localhost:8080/"
        },
        "id": "iT88MBXKbyCK",
        "outputId": "6abf1572-1e09-4fde-a013-41e00d6dd82b"
      },
      "outputs": [
        {
          "data": {
            "text/plain": [
              "{'polynomial__degree': 1, 'regressor__alpha': 0.6579332246575682}"
            ]
          },
          "execution_count": 106,
          "metadata": {},
          "output_type": "execute_result"
        }
      ],
      "source": [
        "grid_search.best_params_"
      ]
    },
    {
      "cell_type": "markdown",
      "metadata": {
        "id": "_kEyQDxKb1Tw"
      },
      "source": [
        "El score (-MSE) es"
      ]
    },
    {
      "cell_type": "code",
      "execution_count": null,
      "metadata": {
        "colab": {
          "base_uri": "https://localhost:8080/"
        },
        "id": "ybu02ThAb3l3",
        "outputId": "d8db9f77-ba67-42b0-e2c7-6a4c4d9ebb36"
      },
      "outputs": [
        {
          "data": {
            "text/plain": [
              "-8966480867.395115"
            ]
          },
          "execution_count": 107,
          "metadata": {},
          "output_type": "execute_result"
        }
      ],
      "source": [
        "grid_search.best_score_"
      ]
    },
    {
      "cell_type": "markdown",
      "metadata": {
        "id": "O_NfGUdsb7VK"
      },
      "source": [
        "Si queremos podemos recuperar toda la información de la optimización"
      ]
    },
    {
      "cell_type": "code",
      "execution_count": null,
      "metadata": {
        "id": "BhPItDtmb-UZ",
        "scrolled": true
      },
      "outputs": [],
      "source": [
        "grid_search.cv_results_"
      ]
    },
    {
      "cell_type": "markdown",
      "metadata": {
        "id": "grfoZ8b1cCH6"
      },
      "source": [
        "Si queremos, por ejemplo podemos guardar los resultados del GridSearch en un DataFrame usando los diccionario que entrega el `grid_search.cv_results_`"
      ]
    },
    {
      "cell_type": "code",
      "execution_count": null,
      "metadata": {
        "id": "gldskSlLcFG8"
      },
      "outputs": [],
      "source": [
        "cv_results = grid_search.cv_results_"
      ]
    },
    {
      "cell_type": "code",
      "execution_count": null,
      "metadata": {
        "id": "xRYzpT8wcJIL"
      },
      "outputs": [],
      "source": [
        "# Armo el dataframe\n",
        "results_df = pd.DataFrame(cv_results)\n",
        "\n",
        "# Selecciono solo las columnas que me interesan\n",
        "columnas = ['param_polynomial__degree', 'param_regressor__alpha',\n",
        "            'mean_test_score', 'std_test_score']\n",
        "results_df = results_df[columnas]"
      ]
    },
    {
      "cell_type": "code",
      "execution_count": null,
      "metadata": {
        "colab": {
          "base_uri": "https://localhost:8080/",
          "height": 206
        },
        "id": "SdVAqd7KcNN1",
        "outputId": "67ff4b92-5605-4a5d-cbc1-e706387c7431"
      },
      "outputs": [
        {
          "data": {
            "text/html": [
              "<div>\n",
              "<style scoped>\n",
              "    .dataframe tbody tr th:only-of-type {\n",
              "        vertical-align: middle;\n",
              "    }\n",
              "\n",
              "    .dataframe tbody tr th {\n",
              "        vertical-align: top;\n",
              "    }\n",
              "\n",
              "    .dataframe thead th {\n",
              "        text-align: right;\n",
              "    }\n",
              "</style>\n",
              "<table border=\"1\" class=\"dataframe\">\n",
              "  <thead>\n",
              "    <tr style=\"text-align: right;\">\n",
              "      <th></th>\n",
              "      <th>param_polynomial__degree</th>\n",
              "      <th>param_regressor__alpha</th>\n",
              "      <th>mean_test_score</th>\n",
              "      <th>std_test_score</th>\n",
              "    </tr>\n",
              "  </thead>\n",
              "  <tbody>\n",
              "    <tr>\n",
              "      <th>0</th>\n",
              "      <td>1</td>\n",
              "      <td>0.010000</td>\n",
              "      <td>-8.972670e+09</td>\n",
              "      <td>3.545171e+09</td>\n",
              "    </tr>\n",
              "    <tr>\n",
              "      <th>1</th>\n",
              "      <td>1</td>\n",
              "      <td>0.011498</td>\n",
              "      <td>-8.972642e+09</td>\n",
              "      <td>3.545240e+09</td>\n",
              "    </tr>\n",
              "    <tr>\n",
              "      <th>2</th>\n",
              "      <td>1</td>\n",
              "      <td>0.013219</td>\n",
              "      <td>-8.972609e+09</td>\n",
              "      <td>3.545319e+09</td>\n",
              "    </tr>\n",
              "    <tr>\n",
              "      <th>3</th>\n",
              "      <td>1</td>\n",
              "      <td>0.015199</td>\n",
              "      <td>-8.972572e+09</td>\n",
              "      <td>3.545411e+09</td>\n",
              "    </tr>\n",
              "    <tr>\n",
              "      <th>4</th>\n",
              "      <td>1</td>\n",
              "      <td>0.017475</td>\n",
              "      <td>-8.972530e+09</td>\n",
              "      <td>3.545516e+09</td>\n",
              "    </tr>\n",
              "  </tbody>\n",
              "</table>\n",
              "</div>"
            ],
            "text/plain": [
              "   param_polynomial__degree  param_regressor__alpha  mean_test_score  \\\n",
              "0                         1                0.010000    -8.972670e+09   \n",
              "1                         1                0.011498    -8.972642e+09   \n",
              "2                         1                0.013219    -8.972609e+09   \n",
              "3                         1                0.015199    -8.972572e+09   \n",
              "4                         1                0.017475    -8.972530e+09   \n",
              "\n",
              "   std_test_score  \n",
              "0    3.545171e+09  \n",
              "1    3.545240e+09  \n",
              "2    3.545319e+09  \n",
              "3    3.545411e+09  \n",
              "4    3.545516e+09  "
            ]
          },
          "execution_count": 111,
          "metadata": {},
          "output_type": "execute_result"
        }
      ],
      "source": [
        "results_df.head()"
      ]
    },
    {
      "cell_type": "markdown",
      "metadata": {
        "id": "JJMElV2ZcQne"
      },
      "source": [
        "EL mejor estimador se puede recuperar directamente aquí"
      ]
    },
    {
      "cell_type": "code",
      "execution_count": null,
      "metadata": {
        "colab": {
          "base_uri": "https://localhost:8080/",
          "height": 181
        },
        "id": "swjuaYtMcO4f",
        "outputId": "30138e74-5710-4e96-bafd-45af2a373afd"
      },
      "outputs": [
        {
          "data": {
            "text/html": [
              "<style>#sk-container-id-9 {\n",
              "  /* Definition of color scheme common for light and dark mode */\n",
              "  --sklearn-color-text: black;\n",
              "  --sklearn-color-line: gray;\n",
              "  /* Definition of color scheme for unfitted estimators */\n",
              "  --sklearn-color-unfitted-level-0: #fff5e6;\n",
              "  --sklearn-color-unfitted-level-1: #f6e4d2;\n",
              "  --sklearn-color-unfitted-level-2: #ffe0b3;\n",
              "  --sklearn-color-unfitted-level-3: chocolate;\n",
              "  /* Definition of color scheme for fitted estimators */\n",
              "  --sklearn-color-fitted-level-0: #f0f8ff;\n",
              "  --sklearn-color-fitted-level-1: #d4ebff;\n",
              "  --sklearn-color-fitted-level-2: #b3dbfd;\n",
              "  --sklearn-color-fitted-level-3: cornflowerblue;\n",
              "\n",
              "  /* Specific color for light theme */\n",
              "  --sklearn-color-text-on-default-background: var(--sg-text-color, var(--theme-code-foreground, var(--jp-content-font-color1, black)));\n",
              "  --sklearn-color-background: var(--sg-background-color, var(--theme-background, var(--jp-layout-color0, white)));\n",
              "  --sklearn-color-border-box: var(--sg-text-color, var(--theme-code-foreground, var(--jp-content-font-color1, black)));\n",
              "  --sklearn-color-icon: #696969;\n",
              "\n",
              "  @media (prefers-color-scheme: dark) {\n",
              "    /* Redefinition of color scheme for dark theme */\n",
              "    --sklearn-color-text-on-default-background: var(--sg-text-color, var(--theme-code-foreground, var(--jp-content-font-color1, white)));\n",
              "    --sklearn-color-background: var(--sg-background-color, var(--theme-background, var(--jp-layout-color0, #111)));\n",
              "    --sklearn-color-border-box: var(--sg-text-color, var(--theme-code-foreground, var(--jp-content-font-color1, white)));\n",
              "    --sklearn-color-icon: #878787;\n",
              "  }\n",
              "}\n",
              "\n",
              "#sk-container-id-9 {\n",
              "  color: var(--sklearn-color-text);\n",
              "}\n",
              "\n",
              "#sk-container-id-9 pre {\n",
              "  padding: 0;\n",
              "}\n",
              "\n",
              "#sk-container-id-9 input.sk-hidden--visually {\n",
              "  border: 0;\n",
              "  clip: rect(1px 1px 1px 1px);\n",
              "  clip: rect(1px, 1px, 1px, 1px);\n",
              "  height: 1px;\n",
              "  margin: -1px;\n",
              "  overflow: hidden;\n",
              "  padding: 0;\n",
              "  position: absolute;\n",
              "  width: 1px;\n",
              "}\n",
              "\n",
              "#sk-container-id-9 div.sk-dashed-wrapped {\n",
              "  border: 1px dashed var(--sklearn-color-line);\n",
              "  margin: 0 0.4em 0.5em 0.4em;\n",
              "  box-sizing: border-box;\n",
              "  padding-bottom: 0.4em;\n",
              "  background-color: var(--sklearn-color-background);\n",
              "}\n",
              "\n",
              "#sk-container-id-9 div.sk-container {\n",
              "  /* jupyter's `normalize.less` sets `[hidden] { display: none; }`\n",
              "     but bootstrap.min.css set `[hidden] { display: none !important; }`\n",
              "     so we also need the `!important` here to be able to override the\n",
              "     default hidden behavior on the sphinx rendered scikit-learn.org.\n",
              "     See: https://github.com/scikit-learn/scikit-learn/issues/21755 */\n",
              "  display: inline-block !important;\n",
              "  position: relative;\n",
              "}\n",
              "\n",
              "#sk-container-id-9 div.sk-text-repr-fallback {\n",
              "  display: none;\n",
              "}\n",
              "\n",
              "div.sk-parallel-item,\n",
              "div.sk-serial,\n",
              "div.sk-item {\n",
              "  /* draw centered vertical line to link estimators */\n",
              "  background-image: linear-gradient(var(--sklearn-color-text-on-default-background), var(--sklearn-color-text-on-default-background));\n",
              "  background-size: 2px 100%;\n",
              "  background-repeat: no-repeat;\n",
              "  background-position: center center;\n",
              "}\n",
              "\n",
              "/* Parallel-specific style estimator block */\n",
              "\n",
              "#sk-container-id-9 div.sk-parallel-item::after {\n",
              "  content: \"\";\n",
              "  width: 100%;\n",
              "  border-bottom: 2px solid var(--sklearn-color-text-on-default-background);\n",
              "  flex-grow: 1;\n",
              "}\n",
              "\n",
              "#sk-container-id-9 div.sk-parallel {\n",
              "  display: flex;\n",
              "  align-items: stretch;\n",
              "  justify-content: center;\n",
              "  background-color: var(--sklearn-color-background);\n",
              "  position: relative;\n",
              "}\n",
              "\n",
              "#sk-container-id-9 div.sk-parallel-item {\n",
              "  display: flex;\n",
              "  flex-direction: column;\n",
              "}\n",
              "\n",
              "#sk-container-id-9 div.sk-parallel-item:first-child::after {\n",
              "  align-self: flex-end;\n",
              "  width: 50%;\n",
              "}\n",
              "\n",
              "#sk-container-id-9 div.sk-parallel-item:last-child::after {\n",
              "  align-self: flex-start;\n",
              "  width: 50%;\n",
              "}\n",
              "\n",
              "#sk-container-id-9 div.sk-parallel-item:only-child::after {\n",
              "  width: 0;\n",
              "}\n",
              "\n",
              "/* Serial-specific style estimator block */\n",
              "\n",
              "#sk-container-id-9 div.sk-serial {\n",
              "  display: flex;\n",
              "  flex-direction: column;\n",
              "  align-items: center;\n",
              "  background-color: var(--sklearn-color-background);\n",
              "  padding-right: 1em;\n",
              "  padding-left: 1em;\n",
              "}\n",
              "\n",
              "\n",
              "/* Toggleable style: style used for estimator/Pipeline/ColumnTransformer box that is\n",
              "clickable and can be expanded/collapsed.\n",
              "- Pipeline and ColumnTransformer use this feature and define the default style\n",
              "- Estimators will overwrite some part of the style using the `sk-estimator` class\n",
              "*/\n",
              "\n",
              "/* Pipeline and ColumnTransformer style (default) */\n",
              "\n",
              "#sk-container-id-9 div.sk-toggleable {\n",
              "  /* Default theme specific background. It is overwritten whether we have a\n",
              "  specific estimator or a Pipeline/ColumnTransformer */\n",
              "  background-color: var(--sklearn-color-background);\n",
              "}\n",
              "\n",
              "/* Toggleable label */\n",
              "#sk-container-id-9 label.sk-toggleable__label {\n",
              "  cursor: pointer;\n",
              "  display: block;\n",
              "  width: 100%;\n",
              "  margin-bottom: 0;\n",
              "  padding: 0.5em;\n",
              "  box-sizing: border-box;\n",
              "  text-align: center;\n",
              "}\n",
              "\n",
              "#sk-container-id-9 label.sk-toggleable__label-arrow:before {\n",
              "  /* Arrow on the left of the label */\n",
              "  content: \"▸\";\n",
              "  float: left;\n",
              "  margin-right: 0.25em;\n",
              "  color: var(--sklearn-color-icon);\n",
              "}\n",
              "\n",
              "#sk-container-id-9 label.sk-toggleable__label-arrow:hover:before {\n",
              "  color: var(--sklearn-color-text);\n",
              "}\n",
              "\n",
              "/* Toggleable content - dropdown */\n",
              "\n",
              "#sk-container-id-9 div.sk-toggleable__content {\n",
              "  max-height: 0;\n",
              "  max-width: 0;\n",
              "  overflow: hidden;\n",
              "  text-align: left;\n",
              "  /* unfitted */\n",
              "  background-color: var(--sklearn-color-unfitted-level-0);\n",
              "}\n",
              "\n",
              "#sk-container-id-9 div.sk-toggleable__content.fitted {\n",
              "  /* fitted */\n",
              "  background-color: var(--sklearn-color-fitted-level-0);\n",
              "}\n",
              "\n",
              "#sk-container-id-9 div.sk-toggleable__content pre {\n",
              "  margin: 0.2em;\n",
              "  border-radius: 0.25em;\n",
              "  color: var(--sklearn-color-text);\n",
              "  /* unfitted */\n",
              "  background-color: var(--sklearn-color-unfitted-level-0);\n",
              "}\n",
              "\n",
              "#sk-container-id-9 div.sk-toggleable__content.fitted pre {\n",
              "  /* unfitted */\n",
              "  background-color: var(--sklearn-color-fitted-level-0);\n",
              "}\n",
              "\n",
              "#sk-container-id-9 input.sk-toggleable__control:checked~div.sk-toggleable__content {\n",
              "  /* Expand drop-down */\n",
              "  max-height: 200px;\n",
              "  max-width: 100%;\n",
              "  overflow: auto;\n",
              "}\n",
              "\n",
              "#sk-container-id-9 input.sk-toggleable__control:checked~label.sk-toggleable__label-arrow:before {\n",
              "  content: \"▾\";\n",
              "}\n",
              "\n",
              "/* Pipeline/ColumnTransformer-specific style */\n",
              "\n",
              "#sk-container-id-9 div.sk-label input.sk-toggleable__control:checked~label.sk-toggleable__label {\n",
              "  color: var(--sklearn-color-text);\n",
              "  background-color: var(--sklearn-color-unfitted-level-2);\n",
              "}\n",
              "\n",
              "#sk-container-id-9 div.sk-label.fitted input.sk-toggleable__control:checked~label.sk-toggleable__label {\n",
              "  background-color: var(--sklearn-color-fitted-level-2);\n",
              "}\n",
              "\n",
              "/* Estimator-specific style */\n",
              "\n",
              "/* Colorize estimator box */\n",
              "#sk-container-id-9 div.sk-estimator input.sk-toggleable__control:checked~label.sk-toggleable__label {\n",
              "  /* unfitted */\n",
              "  background-color: var(--sklearn-color-unfitted-level-2);\n",
              "}\n",
              "\n",
              "#sk-container-id-9 div.sk-estimator.fitted input.sk-toggleable__control:checked~label.sk-toggleable__label {\n",
              "  /* fitted */\n",
              "  background-color: var(--sklearn-color-fitted-level-2);\n",
              "}\n",
              "\n",
              "#sk-container-id-9 div.sk-label label.sk-toggleable__label,\n",
              "#sk-container-id-9 div.sk-label label {\n",
              "  /* The background is the default theme color */\n",
              "  color: var(--sklearn-color-text-on-default-background);\n",
              "}\n",
              "\n",
              "/* On hover, darken the color of the background */\n",
              "#sk-container-id-9 div.sk-label:hover label.sk-toggleable__label {\n",
              "  color: var(--sklearn-color-text);\n",
              "  background-color: var(--sklearn-color-unfitted-level-2);\n",
              "}\n",
              "\n",
              "/* Label box, darken color on hover, fitted */\n",
              "#sk-container-id-9 div.sk-label.fitted:hover label.sk-toggleable__label.fitted {\n",
              "  color: var(--sklearn-color-text);\n",
              "  background-color: var(--sklearn-color-fitted-level-2);\n",
              "}\n",
              "\n",
              "/* Estimator label */\n",
              "\n",
              "#sk-container-id-9 div.sk-label label {\n",
              "  font-family: monospace;\n",
              "  font-weight: bold;\n",
              "  display: inline-block;\n",
              "  line-height: 1.2em;\n",
              "}\n",
              "\n",
              "#sk-container-id-9 div.sk-label-container {\n",
              "  text-align: center;\n",
              "}\n",
              "\n",
              "/* Estimator-specific */\n",
              "#sk-container-id-9 div.sk-estimator {\n",
              "  font-family: monospace;\n",
              "  border: 1px dotted var(--sklearn-color-border-box);\n",
              "  border-radius: 0.25em;\n",
              "  box-sizing: border-box;\n",
              "  margin-bottom: 0.5em;\n",
              "  /* unfitted */\n",
              "  background-color: var(--sklearn-color-unfitted-level-0);\n",
              "}\n",
              "\n",
              "#sk-container-id-9 div.sk-estimator.fitted {\n",
              "  /* fitted */\n",
              "  background-color: var(--sklearn-color-fitted-level-0);\n",
              "}\n",
              "\n",
              "/* on hover */\n",
              "#sk-container-id-9 div.sk-estimator:hover {\n",
              "  /* unfitted */\n",
              "  background-color: var(--sklearn-color-unfitted-level-2);\n",
              "}\n",
              "\n",
              "#sk-container-id-9 div.sk-estimator.fitted:hover {\n",
              "  /* fitted */\n",
              "  background-color: var(--sklearn-color-fitted-level-2);\n",
              "}\n",
              "\n",
              "/* Specification for estimator info (e.g. \"i\" and \"?\") */\n",
              "\n",
              "/* Common style for \"i\" and \"?\" */\n",
              "\n",
              ".sk-estimator-doc-link,\n",
              "a:link.sk-estimator-doc-link,\n",
              "a:visited.sk-estimator-doc-link {\n",
              "  float: right;\n",
              "  font-size: smaller;\n",
              "  line-height: 1em;\n",
              "  font-family: monospace;\n",
              "  background-color: var(--sklearn-color-background);\n",
              "  border-radius: 1em;\n",
              "  height: 1em;\n",
              "  width: 1em;\n",
              "  text-decoration: none !important;\n",
              "  margin-left: 1ex;\n",
              "  /* unfitted */\n",
              "  border: var(--sklearn-color-unfitted-level-1) 1pt solid;\n",
              "  color: var(--sklearn-color-unfitted-level-1);\n",
              "}\n",
              "\n",
              ".sk-estimator-doc-link.fitted,\n",
              "a:link.sk-estimator-doc-link.fitted,\n",
              "a:visited.sk-estimator-doc-link.fitted {\n",
              "  /* fitted */\n",
              "  border: var(--sklearn-color-fitted-level-1) 1pt solid;\n",
              "  color: var(--sklearn-color-fitted-level-1);\n",
              "}\n",
              "\n",
              "/* On hover */\n",
              "div.sk-estimator:hover .sk-estimator-doc-link:hover,\n",
              ".sk-estimator-doc-link:hover,\n",
              "div.sk-label-container:hover .sk-estimator-doc-link:hover,\n",
              ".sk-estimator-doc-link:hover {\n",
              "  /* unfitted */\n",
              "  background-color: var(--sklearn-color-unfitted-level-3);\n",
              "  color: var(--sklearn-color-background);\n",
              "  text-decoration: none;\n",
              "}\n",
              "\n",
              "div.sk-estimator.fitted:hover .sk-estimator-doc-link.fitted:hover,\n",
              ".sk-estimator-doc-link.fitted:hover,\n",
              "div.sk-label-container:hover .sk-estimator-doc-link.fitted:hover,\n",
              ".sk-estimator-doc-link.fitted:hover {\n",
              "  /* fitted */\n",
              "  background-color: var(--sklearn-color-fitted-level-3);\n",
              "  color: var(--sklearn-color-background);\n",
              "  text-decoration: none;\n",
              "}\n",
              "\n",
              "/* Span, style for the box shown on hovering the info icon */\n",
              ".sk-estimator-doc-link span {\n",
              "  display: none;\n",
              "  z-index: 9999;\n",
              "  position: relative;\n",
              "  font-weight: normal;\n",
              "  right: .2ex;\n",
              "  padding: .5ex;\n",
              "  margin: .5ex;\n",
              "  width: min-content;\n",
              "  min-width: 20ex;\n",
              "  max-width: 50ex;\n",
              "  color: var(--sklearn-color-text);\n",
              "  box-shadow: 2pt 2pt 4pt #999;\n",
              "  /* unfitted */\n",
              "  background: var(--sklearn-color-unfitted-level-0);\n",
              "  border: .5pt solid var(--sklearn-color-unfitted-level-3);\n",
              "}\n",
              "\n",
              ".sk-estimator-doc-link.fitted span {\n",
              "  /* fitted */\n",
              "  background: var(--sklearn-color-fitted-level-0);\n",
              "  border: var(--sklearn-color-fitted-level-3);\n",
              "}\n",
              "\n",
              ".sk-estimator-doc-link:hover span {\n",
              "  display: block;\n",
              "}\n",
              "\n",
              "/* \"?\"-specific style due to the `<a>` HTML tag */\n",
              "\n",
              "#sk-container-id-9 a.estimator_doc_link {\n",
              "  float: right;\n",
              "  font-size: 1rem;\n",
              "  line-height: 1em;\n",
              "  font-family: monospace;\n",
              "  background-color: var(--sklearn-color-background);\n",
              "  border-radius: 1rem;\n",
              "  height: 1rem;\n",
              "  width: 1rem;\n",
              "  text-decoration: none;\n",
              "  /* unfitted */\n",
              "  color: var(--sklearn-color-unfitted-level-1);\n",
              "  border: var(--sklearn-color-unfitted-level-1) 1pt solid;\n",
              "}\n",
              "\n",
              "#sk-container-id-9 a.estimator_doc_link.fitted {\n",
              "  /* fitted */\n",
              "  border: var(--sklearn-color-fitted-level-1) 1pt solid;\n",
              "  color: var(--sklearn-color-fitted-level-1);\n",
              "}\n",
              "\n",
              "/* On hover */\n",
              "#sk-container-id-9 a.estimator_doc_link:hover {\n",
              "  /* unfitted */\n",
              "  background-color: var(--sklearn-color-unfitted-level-3);\n",
              "  color: var(--sklearn-color-background);\n",
              "  text-decoration: none;\n",
              "}\n",
              "\n",
              "#sk-container-id-9 a.estimator_doc_link.fitted:hover {\n",
              "  /* fitted */\n",
              "  background-color: var(--sklearn-color-fitted-level-3);\n",
              "}\n",
              "</style><div id=\"sk-container-id-9\" class=\"sk-top-container\"><div class=\"sk-text-repr-fallback\"><pre>Pipeline(steps=[(&#x27;scaler&#x27;, StandardScaler()),\n",
              "                (&#x27;polynomial&#x27;, PolynomialFeatures(degree=1)),\n",
              "                (&#x27;regressor&#x27;,\n",
              "                 Ridge(alpha=0.6579332246575682, fit_intercept=False))])</pre><b>In a Jupyter environment, please rerun this cell to show the HTML representation or trust the notebook. <br />On GitHub, the HTML representation is unable to render, please try loading this page with nbviewer.org.</b></div><div class=\"sk-container\" hidden><div class=\"sk-item sk-dashed-wrapped\"><div class=\"sk-label-container\"><div class=\"sk-label fitted sk-toggleable\"><input class=\"sk-toggleable__control sk-hidden--visually\" id=\"sk-estimator-id-25\" type=\"checkbox\" ><label for=\"sk-estimator-id-25\" class=\"sk-toggleable__label fitted sk-toggleable__label-arrow fitted\">&nbsp;&nbsp;Pipeline<a class=\"sk-estimator-doc-link fitted\" rel=\"noreferrer\" target=\"_blank\" href=\"https://scikit-learn.org/1.5/modules/generated/sklearn.pipeline.Pipeline.html\">?<span>Documentation for Pipeline</span></a><span class=\"sk-estimator-doc-link fitted\">i<span>Fitted</span></span></label><div class=\"sk-toggleable__content fitted\"><pre>Pipeline(steps=[(&#x27;scaler&#x27;, StandardScaler()),\n",
              "                (&#x27;polynomial&#x27;, PolynomialFeatures(degree=1)),\n",
              "                (&#x27;regressor&#x27;,\n",
              "                 Ridge(alpha=0.6579332246575682, fit_intercept=False))])</pre></div> </div></div><div class=\"sk-serial\"><div class=\"sk-item\"><div class=\"sk-estimator fitted sk-toggleable\"><input class=\"sk-toggleable__control sk-hidden--visually\" id=\"sk-estimator-id-26\" type=\"checkbox\" ><label for=\"sk-estimator-id-26\" class=\"sk-toggleable__label fitted sk-toggleable__label-arrow fitted\">&nbsp;StandardScaler<a class=\"sk-estimator-doc-link fitted\" rel=\"noreferrer\" target=\"_blank\" href=\"https://scikit-learn.org/1.5/modules/generated/sklearn.preprocessing.StandardScaler.html\">?<span>Documentation for StandardScaler</span></a></label><div class=\"sk-toggleable__content fitted\"><pre>StandardScaler()</pre></div> </div></div><div class=\"sk-item\"><div class=\"sk-estimator fitted sk-toggleable\"><input class=\"sk-toggleable__control sk-hidden--visually\" id=\"sk-estimator-id-27\" type=\"checkbox\" ><label for=\"sk-estimator-id-27\" class=\"sk-toggleable__label fitted sk-toggleable__label-arrow fitted\">&nbsp;PolynomialFeatures<a class=\"sk-estimator-doc-link fitted\" rel=\"noreferrer\" target=\"_blank\" href=\"https://scikit-learn.org/1.5/modules/generated/sklearn.preprocessing.PolynomialFeatures.html\">?<span>Documentation for PolynomialFeatures</span></a></label><div class=\"sk-toggleable__content fitted\"><pre>PolynomialFeatures(degree=1)</pre></div> </div></div><div class=\"sk-item\"><div class=\"sk-estimator fitted sk-toggleable\"><input class=\"sk-toggleable__control sk-hidden--visually\" id=\"sk-estimator-id-28\" type=\"checkbox\" ><label for=\"sk-estimator-id-28\" class=\"sk-toggleable__label fitted sk-toggleable__label-arrow fitted\">&nbsp;Ridge<a class=\"sk-estimator-doc-link fitted\" rel=\"noreferrer\" target=\"_blank\" href=\"https://scikit-learn.org/1.5/modules/generated/sklearn.linear_model.Ridge.html\">?<span>Documentation for Ridge</span></a></label><div class=\"sk-toggleable__content fitted\"><pre>Ridge(alpha=0.6579332246575682, fit_intercept=False)</pre></div> </div></div></div></div></div></div>"
            ],
            "text/plain": [
              "Pipeline(steps=[('scaler', StandardScaler()),\n",
              "                ('polynomial', PolynomialFeatures(degree=1)),\n",
              "                ('regressor',\n",
              "                 Ridge(alpha=0.6579332246575682, fit_intercept=False))])"
            ]
          },
          "execution_count": 112,
          "metadata": {},
          "output_type": "execute_result"
        }
      ],
      "source": [
        "best_pr = grid_search.best_estimator_\n",
        "best_pr"
      ]
    },
    {
      "cell_type": "markdown",
      "metadata": {
        "id": "zNw94XW6cYuj"
      },
      "source": [
        "## RandomizedSearchCV\n",
        "Cuando el espacio de búsqueda es muy grande es mejor recorrer sólo algunos puntos del espacio. `RandomizedSearchCV` nos permite hacer esto pasando el valores en todo el rango de nuestros parámetros. Automáticamente tomara puntos de prueba aleatorios en cada paso. También podemos pasarles distribuciones de los parámetros. Como siempre, ¡exploren la documentación!"
      ]
    },
    {
      "cell_type": "code",
      "execution_count": null,
      "metadata": {
        "id": "IKlNzrEgcX3e"
      },
      "outputs": [],
      "source": [
        "from sklearn.model_selection import RandomizedSearchCV\n",
        "\n",
        "from sklearn.pipeline import Pipeline\n",
        "from sklearn.preprocessing import PolynomialFeatures,StandardScaler\n",
        "from sklearn.linear_model import LinearRegression\n",
        "\n",
        "polinomial_model = Pipeline([('scaler', StandardScaler()),\n",
        "    ('poly_features', PolynomialFeatures()),\n",
        "    ('regressor', Ridge(fit_intercept=False) )\n",
        "])\n",
        "\n",
        "# los parámetros se setean por nombre y parametro con ‘__’ :\n",
        "parameters = {'poly_features__degree' : np.arange(1,20),\n",
        "              # observé que usamos funciones de scipy para definir el espacio de búsqueda\n",
        "              'regressor__alpha' : np.logspace(-2, 8, 100)}\n",
        "\n",
        "random_search = RandomizedSearchCV(polinomial_model, parameters, n_iter=40, random_state=42, scoring='neg_mean_squared_error', cv=5)"
      ]
    },
    {
      "cell_type": "code",
      "execution_count": null,
      "metadata": {
        "colab": {
          "base_uri": "https://localhost:8080/"
        },
        "id": "p3FZMvSBci8a",
        "outputId": "475e96e0-1012-4139-dfba-33c985e00738"
      },
      "outputs": [
        {
          "name": "stderr",
          "output_type": "stream",
          "text": [
            "C:\\Users\\user\\.conda\\envs\\virEnv\\lib\\site-packages\\sklearn\\linear_model\\_ridge.py:253: LinAlgWarning: Ill-conditioned matrix (rcond=4.01509e-17): result may not be accurate.\n",
            "  dual_coef = linalg.solve(K, y, assume_a=\"pos\", overwrite_a=False)\n",
            "C:\\Users\\user\\.conda\\envs\\virEnv\\lib\\site-packages\\sklearn\\linear_model\\_ridge.py:253: LinAlgWarning: Ill-conditioned matrix (rcond=3.64047e-17): result may not be accurate.\n",
            "  dual_coef = linalg.solve(K, y, assume_a=\"pos\", overwrite_a=False)\n",
            "C:\\Users\\user\\.conda\\envs\\virEnv\\lib\\site-packages\\sklearn\\linear_model\\_ridge.py:253: LinAlgWarning: Ill-conditioned matrix (rcond=6.75604e-17): result may not be accurate.\n",
            "  dual_coef = linalg.solve(K, y, assume_a=\"pos\", overwrite_a=False)\n",
            "C:\\Users\\user\\.conda\\envs\\virEnv\\lib\\site-packages\\sklearn\\linear_model\\_ridge.py:255: UserWarning: Singular matrix in solving dual problem. Using least-squares solution instead.\n",
            "  warnings.warn(\n",
            "C:\\Users\\user\\.conda\\envs\\virEnv\\lib\\site-packages\\sklearn\\linear_model\\_ridge.py:253: LinAlgWarning: Ill-conditioned matrix (rcond=8.1424e-17): result may not be accurate.\n",
            "  dual_coef = linalg.solve(K, y, assume_a=\"pos\", overwrite_a=False)\n",
            "C:\\Users\\user\\.conda\\envs\\virEnv\\lib\\site-packages\\sklearn\\linear_model\\_ridge.py:253: LinAlgWarning: Ill-conditioned matrix (rcond=1.00813e-16): result may not be accurate.\n",
            "  dual_coef = linalg.solve(K, y, assume_a=\"pos\", overwrite_a=False)\n",
            "C:\\Users\\user\\.conda\\envs\\virEnv\\lib\\site-packages\\sklearn\\linear_model\\_ridge.py:253: LinAlgWarning: Ill-conditioned matrix (rcond=4.00993e-17): result may not be accurate.\n",
            "  dual_coef = linalg.solve(K, y, assume_a=\"pos\", overwrite_a=False)\n",
            "C:\\Users\\user\\.conda\\envs\\virEnv\\lib\\site-packages\\sklearn\\linear_model\\_ridge.py:255: UserWarning: Singular matrix in solving dual problem. Using least-squares solution instead.\n",
            "  warnings.warn(\n",
            "C:\\Users\\user\\.conda\\envs\\virEnv\\lib\\site-packages\\sklearn\\linear_model\\_ridge.py:255: UserWarning: Singular matrix in solving dual problem. Using least-squares solution instead.\n",
            "  warnings.warn(\n",
            "C:\\Users\\user\\.conda\\envs\\virEnv\\lib\\site-packages\\sklearn\\linear_model\\_ridge.py:255: UserWarning: Singular matrix in solving dual problem. Using least-squares solution instead.\n",
            "  warnings.warn(\n",
            "C:\\Users\\user\\.conda\\envs\\virEnv\\lib\\site-packages\\sklearn\\linear_model\\_ridge.py:255: UserWarning: Singular matrix in solving dual problem. Using least-squares solution instead.\n",
            "  warnings.warn(\n",
            "C:\\Users\\user\\.conda\\envs\\virEnv\\lib\\site-packages\\sklearn\\linear_model\\_ridge.py:253: LinAlgWarning: Ill-conditioned matrix (rcond=1.80336e-19): result may not be accurate.\n",
            "  dual_coef = linalg.solve(K, y, assume_a=\"pos\", overwrite_a=False)\n",
            "C:\\Users\\user\\.conda\\envs\\virEnv\\lib\\site-packages\\sklearn\\linear_model\\_ridge.py:255: UserWarning: Singular matrix in solving dual problem. Using least-squares solution instead.\n",
            "  warnings.warn(\n",
            "C:\\Users\\user\\.conda\\envs\\virEnv\\lib\\site-packages\\sklearn\\linear_model\\_ridge.py:255: UserWarning: Singular matrix in solving dual problem. Using least-squares solution instead.\n",
            "  warnings.warn(\n",
            "C:\\Users\\user\\.conda\\envs\\virEnv\\lib\\site-packages\\sklearn\\linear_model\\_ridge.py:255: UserWarning: Singular matrix in solving dual problem. Using least-squares solution instead.\n",
            "  warnings.warn(\n",
            "C:\\Users\\user\\.conda\\envs\\virEnv\\lib\\site-packages\\sklearn\\linear_model\\_ridge.py:255: UserWarning: Singular matrix in solving dual problem. Using least-squares solution instead.\n",
            "  warnings.warn(\n",
            "C:\\Users\\user\\.conda\\envs\\virEnv\\lib\\site-packages\\sklearn\\linear_model\\_ridge.py:255: UserWarning: Singular matrix in solving dual problem. Using least-squares solution instead.\n",
            "  warnings.warn(\n",
            "C:\\Users\\user\\.conda\\envs\\virEnv\\lib\\site-packages\\sklearn\\linear_model\\_ridge.py:255: UserWarning: Singular matrix in solving dual problem. Using least-squares solution instead.\n",
            "  warnings.warn(\n",
            "C:\\Users\\user\\.conda\\envs\\virEnv\\lib\\site-packages\\sklearn\\linear_model\\_ridge.py:253: LinAlgWarning: Ill-conditioned matrix (rcond=1.10622e-17): result may not be accurate.\n",
            "  dual_coef = linalg.solve(K, y, assume_a=\"pos\", overwrite_a=False)\n",
            "C:\\Users\\user\\.conda\\envs\\virEnv\\lib\\site-packages\\sklearn\\linear_model\\_ridge.py:253: LinAlgWarning: Ill-conditioned matrix (rcond=4.75539e-17): result may not be accurate.\n",
            "  dual_coef = linalg.solve(K, y, assume_a=\"pos\", overwrite_a=False)\n",
            "C:\\Users\\user\\.conda\\envs\\virEnv\\lib\\site-packages\\sklearn\\linear_model\\_ridge.py:253: LinAlgWarning: Ill-conditioned matrix (rcond=2.16909e-17): result may not be accurate.\n",
            "  dual_coef = linalg.solve(K, y, assume_a=\"pos\", overwrite_a=False)\n",
            "C:\\Users\\user\\.conda\\envs\\virEnv\\lib\\site-packages\\sklearn\\linear_model\\_ridge.py:255: UserWarning: Singular matrix in solving dual problem. Using least-squares solution instead.\n",
            "  warnings.warn(\n",
            "C:\\Users\\user\\.conda\\envs\\virEnv\\lib\\site-packages\\sklearn\\linear_model\\_ridge.py:253: LinAlgWarning: Ill-conditioned matrix (rcond=1.06464e-18): result may not be accurate.\n",
            "  dual_coef = linalg.solve(K, y, assume_a=\"pos\", overwrite_a=False)\n",
            "C:\\Users\\user\\.conda\\envs\\virEnv\\lib\\site-packages\\sklearn\\linear_model\\_ridge.py:255: UserWarning: Singular matrix in solving dual problem. Using least-squares solution instead.\n",
            "  warnings.warn(\n",
            "C:\\Users\\user\\.conda\\envs\\virEnv\\lib\\site-packages\\sklearn\\linear_model\\_ridge.py:255: UserWarning: Singular matrix in solving dual problem. Using least-squares solution instead.\n",
            "  warnings.warn(\n",
            "C:\\Users\\user\\.conda\\envs\\virEnv\\lib\\site-packages\\sklearn\\linear_model\\_ridge.py:255: UserWarning: Singular matrix in solving dual problem. Using least-squares solution instead.\n",
            "  warnings.warn(\n",
            "C:\\Users\\user\\.conda\\envs\\virEnv\\lib\\site-packages\\sklearn\\linear_model\\_ridge.py:255: UserWarning: Singular matrix in solving dual problem. Using least-squares solution instead.\n",
            "  warnings.warn(\n",
            "C:\\Users\\user\\.conda\\envs\\virEnv\\lib\\site-packages\\sklearn\\linear_model\\_ridge.py:255: UserWarning: Singular matrix in solving dual problem. Using least-squares solution instead.\n",
            "  warnings.warn(\n",
            "C:\\Users\\user\\.conda\\envs\\virEnv\\lib\\site-packages\\sklearn\\linear_model\\_ridge.py:255: UserWarning: Singular matrix in solving dual problem. Using least-squares solution instead.\n",
            "  warnings.warn(\n",
            "C:\\Users\\user\\.conda\\envs\\virEnv\\lib\\site-packages\\sklearn\\linear_model\\_ridge.py:255: UserWarning: Singular matrix in solving dual problem. Using least-squares solution instead.\n",
            "  warnings.warn(\n",
            "C:\\Users\\user\\.conda\\envs\\virEnv\\lib\\site-packages\\sklearn\\linear_model\\_ridge.py:255: UserWarning: Singular matrix in solving dual problem. Using least-squares solution instead.\n",
            "  warnings.warn(\n",
            "C:\\Users\\user\\.conda\\envs\\virEnv\\lib\\site-packages\\sklearn\\linear_model\\_ridge.py:255: UserWarning: Singular matrix in solving dual problem. Using least-squares solution instead.\n",
            "  warnings.warn(\n"
          ]
        },
        {
          "data": {
            "text/plain": [
              "({'regressor__alpha': 0.1291549665014884, 'poly_features__degree': 2},\n",
              " 9378266862.46941)"
            ]
          },
          "execution_count": 115,
          "metadata": {},
          "output_type": "execute_result"
        }
      ],
      "source": [
        "random_search.fit(x_train_full, e_train_full)\n",
        "random_search.best_params_, -random_search.best_score_"
      ]
    },
    {
      "cell_type": "code",
      "execution_count": null,
      "metadata": {
        "id": "tKR3JxwBVY0w"
      },
      "outputs": [],
      "source": []
    }
  ],
  "metadata": {
    "colab": {
      "provenance": []
    },
    "kernelspec": {
      "display_name": "Python 3 (ipykernel)",
      "language": "python",
      "name": "python3"
    },
    "language_info": {
      "codemirror_mode": {
        "name": "ipython",
        "version": 3
      },
      "file_extension": ".py",
      "mimetype": "text/x-python",
      "name": "python",
      "nbconvert_exporter": "python",
      "pygments_lexer": "ipython3",
      "version": "3.12.1"
    }
  },
  "nbformat": 4,
  "nbformat_minor": 0
}